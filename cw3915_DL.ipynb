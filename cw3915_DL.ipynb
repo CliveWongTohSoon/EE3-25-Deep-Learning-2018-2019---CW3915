{
 "cells": [
  {
   "cell_type": "markdown",
   "metadata": {},
   "source": [
    "<a href=\"https://colab.research.google.com/github/CliveWongTohSoon/EE3-25-Deep-Learning-2018-2019-CW3915/blob/master/cw3915_DL.ipynb\" target=\"_blank\"> <img src=\"https://colab.research.google.com/assets/colab-badge.svg\"/> </a>"
   ]
  },
  {
   "cell_type": "markdown",
   "metadata": {
    "colab_type": "text",
    "id": "6bbOTTCes-A4"
   },
   "source": [
    "# 1. Initialisation"
   ]
  },
  {
   "cell_type": "markdown",
   "metadata": {
    "colab_type": "text",
    "id": "lEs4kGy3tEQc"
   },
   "source": [
    "Setting up google drive to persist data there"
   ]
  },
  {
   "cell_type": "code",
   "execution_count": 1,
   "metadata": {
    "colab": {
     "base_uri": "https://localhost:8080/",
     "height": 122
    },
    "colab_type": "code",
    "id": "dBBEESgffGMr",
    "outputId": "10ea99de-1506-4c99-a3d5-49511d1b8956"
   },
   "outputs": [
    {
     "name": "stdout",
     "output_type": "stream",
     "text": [
      "Go to this URL in a browser: https://accounts.google.com/o/oauth2/auth?client_id=947318989803-6bn6qk8qdgf4n4g3pfee6491hc0brc4i.apps.googleusercontent.com&redirect_uri=urn%3Aietf%3Awg%3Aoauth%3A2.0%3Aoob&scope=email%20https%3A%2F%2Fwww.googleapis.com%2Fauth%2Fdocs.test%20https%3A%2F%2Fwww.googleapis.com%2Fauth%2Fdrive%20https%3A%2F%2Fwww.googleapis.com%2Fauth%2Fdrive.photos.readonly%20https%3A%2F%2Fwww.googleapis.com%2Fauth%2Fpeopleapi.readonly&response_type=code\n",
      "\n",
      "Enter your authorization code:\n",
      "··········\n",
      "Mounted at /content/gdrive\n"
     ]
    }
   ],
   "source": [
    "from google.colab import drive\n",
    "drive.mount('/content/gdrive')"
   ]
  },
  {
   "cell_type": "markdown",
   "metadata": {
    "colab_type": "text",
    "id": "hROwFkbftHzD"
   },
   "source": [
    "Temporary fix for broken Batch Normalisation layer in Keras"
   ]
  },
  {
   "cell_type": "code",
   "execution_count": 2,
   "metadata": {
    "colab": {
     "base_uri": "https://localhost:8080/",
     "height": 459
    },
    "colab_type": "code",
    "id": "FqSEBNcBgdRQ",
    "outputId": "931a8e5b-e0ab-407e-cdba-a984c33e1f8f"
   },
   "outputs": [
    {
     "name": "stdout",
     "output_type": "stream",
     "text": [
      "Collecting git+https://github.com/datumbox/keras@fork/keras2.2.4\n",
      "  Cloning https://github.com/datumbox/keras (to revision fork/keras2.2.4) to /tmp/pip-req-build-sfjgbu5g\n",
      "Branch 'fork/keras2.2.4' set up to track remote branch 'fork/keras2.2.4' from 'origin'.\n",
      "Switched to a new branch 'fork/keras2.2.4'\n",
      "Building wheels for collected packages: Keras\n",
      "  Building wheel for Keras (setup.py) ... \u001b[?25ldone\n",
      "\u001b[?25h  Stored in directory: /tmp/pip-ephem-wheel-cache-upxq493b/wheels/a4/55/2c/4455b1e40b1f881fd5f544b8a166a4e63ce7691453c1d4ac0c\n",
      "Successfully built Keras\n",
      "Installing collected packages: Keras\n",
      "  Found existing installation: Keras 2.2.4\n",
      "    Uninstalling Keras-2.2.4:\n",
      "      Successfully uninstalled Keras-2.2.4\n",
      "Successfully installed Keras-2.2.4\n",
      "Collecting git+https://github.com/datumbox/keras@bugfix/trainable_bn\n",
      "  Cloning https://github.com/datumbox/keras (to revision bugfix/trainable_bn) to /tmp/pip-req-build-jjpjvkgg\n",
      "Branch 'bugfix/trainable_bn' set up to track remote branch 'bugfix/trainable_bn' from 'origin'.\n",
      "Switched to a new branch 'bugfix/trainable_bn'\n",
      "Building wheels for collected packages: Keras\n",
      "  Building wheel for Keras (setup.py) ... \u001b[?25ldone\n",
      "\u001b[?25h  Stored in directory: /tmp/pip-ephem-wheel-cache-haic5zny/wheels/36/5d/50/99c268bf64c1394c4f5b743164e4e515ab30290a523595ac47\n",
      "Successfully built Keras\n",
      "Installing collected packages: Keras\n",
      "  Found existing installation: Keras 2.2.4\n",
      "    Uninstalling Keras-2.2.4:\n",
      "      Successfully uninstalled Keras-2.2.4\n",
      "Successfully installed Keras-2.2.4\n"
     ]
    }
   ],
   "source": [
    "!cd /content/gdrive/My\\ Drive;\n",
    "# Attempt to fix Batch Normalisation\n",
    "!pip install -U --force-reinstall --no-dependencies git+https://github.com/datumbox/keras@fork/keras2.2.4\n",
    "!pip install -U --force-reinstall --no-dependencies git+https://github.com/datumbox/keras@bugfix/trainable_bn"
   ]
  },
  {
   "cell_type": "markdown",
   "metadata": {
    "colab_type": "text",
    "id": "4YnoBOYI_Pbn"
   },
   "source": [
    "Loading data from github"
   ]
  },
  {
   "cell_type": "code",
   "execution_count": 0,
   "metadata": {
    "colab": {},
    "colab_type": "code",
    "id": "nz1wxdFb_Tfe"
   },
   "outputs": [],
   "source": [
    "# Clone repo\n",
    "!cd /content/gdrive/My\\ Drive; git clone https://github.com/MatchLab-Imperial/keras_triplet_descriptor\n",
    "# change directory\n",
    "%cd /content/gdrive/My\\ Drive/keras_triplet_descriptor \n",
    "# Initial set up\n",
    "!wget -O hpatches_data.zip https://imperialcollegelondon.box.com/shared/static/ah40eq7cxpwq4a6l4f62efzdyt8rm3ha.zip\n",
    "# Extract data\n",
    "!unzip -q ./hpatches_data.zip\n",
    "!rm ./hpatches_data.zip"
   ]
  },
  {
   "cell_type": "markdown",
   "metadata": {
    "colab_type": "text",
    "id": "GN7hn6fx2Hdw"
   },
   "source": [
    "Ignore warning and configure matplotlib"
   ]
  },
  {
   "cell_type": "code",
   "execution_count": 0,
   "metadata": {
    "colab": {},
    "colab_type": "code",
    "id": "H6IHevDk2Gio"
   },
   "outputs": [],
   "source": [
    "import warnings\n",
    "import matplotlib.pyplot as plt\n",
    "\n",
    "warnings.filterwarnings('ignore')\n",
    "%matplotlib inline"
   ]
  },
  {
   "cell_type": "markdown",
   "metadata": {
    "colab_type": "text",
    "id": "lOHxSvCB_tYD"
   },
   "source": [
    "## Import modules"
   ]
  },
  {
   "cell_type": "code",
   "execution_count": 3,
   "metadata": {
    "colab": {
     "base_uri": "https://localhost:8080/",
     "height": 51
    },
    "colab_type": "code",
    "id": "pZJtglXC_O0W",
    "outputId": "8226f327-8daf-44f7-b1f9-d4a8ebb19791"
   },
   "outputs": [
    {
     "name": "stdout",
     "output_type": "stream",
     "text": [
      "/content/gdrive/My Drive/keras_triplet_descriptor\n"
     ]
    },
    {
     "name": "stderr",
     "output_type": "stream",
     "text": [
      "Using TensorFlow backend.\n"
     ]
    }
   ],
   "source": [
    "%cd /content/gdrive/My\\ Drive/keras_triplet_descriptor \n",
    "\n",
    "import sys\n",
    "import json\n",
    "import os\n",
    "import glob\n",
    "import keras\n",
    "from keras import backend as K\n",
    "from keras.models import Sequential, Model\n",
    "from keras.layers import Dense, Dropout, Activation, Flatten, Input, Lambda, Reshape\n",
    "from keras.layers import Conv2D, MaxPooling2D, BatchNormalization \n",
    "from keras.layers import Input, UpSampling2D, concatenate\n",
    "import time\n",
    "import tensorflow as tf\n",
    "import numpy as np\n",
    "import cv2\n",
    "import random\n",
    "from read_data import HPatches, DataGeneratorDesc, hpatches_sequence_folder, DenoiseHPatches, tps\n",
    "from utils import generate_desc_csv, plot_denoise, plot_triplet"
   ]
  },
  {
   "cell_type": "markdown",
   "metadata": {
    "colab_type": "text",
    "id": "cSW3d-_v_yDy"
   },
   "source": [
    "## For reproducibility"
   ]
  },
  {
   "cell_type": "code",
   "execution_count": 0,
   "metadata": {
    "colab": {},
    "colab_type": "code",
    "id": "BZDDOGXS_IZo"
   },
   "outputs": [],
   "source": [
    "random.seed(1234)\n",
    "np.random.seed(1234)\n",
    "tf.set_random_seed(1234)"
   ]
  },
  {
   "cell_type": "markdown",
   "metadata": {
    "colab_type": "text",
    "id": "_5NvUpLC_5Gk"
   },
   "source": [
    "## Split Data"
   ]
  },
  {
   "cell_type": "code",
   "execution_count": 0,
   "metadata": {
    "colab": {},
    "colab_type": "code",
    "id": "IxTmQz3K_6Z6"
   },
   "outputs": [],
   "source": [
    "hpatches_dir = './hpatches'\n",
    "splits_path = './splits.json'\n",
    "\n",
    "splits_json = json.load(open(splits_path, 'rb'))\n",
    "split = splits_json['a']\n",
    "\n",
    "train_fnames = split['train']\n",
    "test_fnames = split['test']\n",
    "\n",
    "seqs = glob.glob(hpatches_dir+'/*')\n",
    "seqs = [os.path.abspath(p) for p in seqs]\n",
    "seqs_train = list(filter(lambda x: x.split('/')[-1] in train_fnames, seqs)) \n",
    "seqs_test = list(filter(lambda x: x.split('/')[-1] in split['test'], seqs)) "
   ]
  },
  {
   "cell_type": "markdown",
   "metadata": {
    "colab_type": "text",
    "id": "w1u5REFqAAxc"
   },
   "source": [
    "Check the split"
   ]
  },
  {
   "cell_type": "code",
   "execution_count": 0,
   "metadata": {
    "colab": {
     "base_uri": "https://localhost:8080/",
     "height": 51
    },
    "colab_type": "code",
    "id": "LvagiVR0A68F",
    "outputId": "1845c2ec-726e-4cf4-9afe-3d4278372860"
   },
   "outputs": [
    {
     "name": "stdout",
     "output_type": "stream",
     "text": [
      "Train size:  76\n",
      "Test size:  40\n"
     ]
    }
   ],
   "source": [
    "print('Train size: ', len(seqs_train))\n",
    "print('Test size: ', len(seqs_test))"
   ]
  },
  {
   "cell_type": "markdown",
   "metadata": {
    "colab_type": "text",
    "id": "ge2iTwUotkxr"
   },
   "source": [
    "# 2. General Functions"
   ]
  },
  {
   "cell_type": "code",
   "execution_count": 0,
   "metadata": {
    "colab": {},
    "colab_type": "code",
    "id": "EDSn2a7duYPu"
   },
   "outputs": [],
   "source": [
    "def plot_compare_denoise(denoise_model, denoise_model2, denoised_title='Denoised', denoised_title2='Denoised 2', selector=None):\n",
    "    \"\"\"Plots a noisy patch, denoised patch and clean patch.\n",
    "    Args:\n",
    "        denoise_model: keras model to predict clean patch\n",
    "    \"\"\"\n",
    "    import matplotlib.pyplot as plt\n",
    "    generator = DenoiseHPatches(['./hpatches/v_there'])\n",
    "    imgs, imgs_clean = next(iter(generator))\n",
    "    if selector is not None:\n",
    "        index = selector\n",
    "    else:\n",
    "        index = np.random.randint(0, imgs.shape[0])\n",
    "    imgs_den = denoise_model.predict(imgs)\n",
    "    imgs_den2 = denoise_model2.predict(imgs)\n",
    "    \n",
    "    plt.subplot(141)\n",
    "    plt.imshow(imgs[index,:,:,0], cmap='gray') \n",
    "    plt.title('Noisy', fontsize=20)\n",
    "    plt.gca().set_xticks([])\n",
    "    plt.gca().set_yticks([])\n",
    "    plt.subplot(142)\n",
    "    plt.imshow(imgs_den[index,:,:,0], cmap='gray') \n",
    "    plt.title(denoised_title, fontsize=20)\n",
    "    plt.gca().set_xticks([])\n",
    "    plt.gca().set_yticks([])\n",
    "    plt.subplot(143)\n",
    "    plt.imshow(imgs_den2[index,:,:,0], cmap='gray') \n",
    "    plt.title(denoised_title2, fontsize=20)\n",
    "    plt.gca().set_xticks([])\n",
    "    plt.gca().set_yticks([])\n",
    "    plt.subplot(144)\n",
    "    plt.imshow(imgs_clean[index,:,:,0], cmap='gray')\n",
    "    plt.title('Clean', fontsize=20)\n",
    "    plt.gca().set_xticks([])\n",
    "    plt.gca().set_yticks([])\n",
    "    plt.show()\n",
    "\n",
    "\n",
    "def triplet_loss(x):\n",
    "  \n",
    "  output_dim = 128\n",
    "  a, p, n = x\n",
    "  _alpha = 1.0\n",
    "  positive_distance = K.mean(K.square(a - p), axis=-1)\n",
    "  negative_distance = K.mean(K.square(a - n), axis=-1)\n",
    "  \n",
    "  return K.expand_dims(K.maximum(0.0, positive_distance - negative_distance + _alpha), axis = 1)\n",
    "\n",
    "def load_descriptor_model(model, pretrained_model: str = None, optimizer='adam', shape=(32, 32, 1)):\n",
    "  from keras.layers import Lambda\n",
    "  xa = Input(shape=shape, name='a')\n",
    "  xp = Input(shape=shape, name='p')\n",
    "  xn = Input(shape=shape, name='n')\n",
    "  descriptor_model = model(shape)\n",
    "  ea = descriptor_model(xa)\n",
    "  ep = descriptor_model(xp)\n",
    "  en = descriptor_model(xn)\n",
    "  \n",
    "  # Show summary of the model\n",
    "  descriptor_model.summary()\n",
    "  \n",
    "  loss = Lambda(triplet_loss)([ea, ep, en])\n",
    "  \n",
    "  descriptor_model_trip = Model(inputs=[xa, xp, xn], outputs=loss)\n",
    "  descriptor_model_trip.compile(loss='mean_absolute_error', optimizer=optimizer)\n",
    "   \n",
    "  if pretrained_model is not None:\n",
    "    descriptor_model_trip.set_weights(keras.models.load_model(pretrained_model).get_weights())\n",
    "    descriptor_model_trip.optimizer = keras.models.load_model(pretrained_model).optimizer\n",
    "\n",
    "  return descriptor_model_trip, descriptor_model\n",
    "\n",
    "def run_command(cmd):\n",
    "  import subprocess\n",
    "  proc = subprocess.Popen(cmd, stdout=subprocess.PIPE, stderr=subprocess.PIPE, shell=True)\n",
    "\n",
    "  o, e = proc.communicate()\n",
    "\n",
    "  print('Output: \\n' + o.decode('ascii'))\n",
    "  print('='*40)\n",
    "#   print('Error: \\n'  + e.decode('ascii'))\n",
    "#   print('='*40)\n",
    "#   print('code: \\n' + str(proc.returncode))\n",
    "#   print('='*40)\n",
    "\n",
    "def run_vmr(path_dir, descriptor_model, denoise_model):\n",
    "  generate_desc_csv(descriptor_model, seqs_test, denoise_model=denoise_model, use_clean=False, curr_desc_name=path_dir)\n",
    "  tasks = ['verification', 'matching', 'retrieval']\n",
    "  for t in tasks:\n",
    "    command1 = f'python ./hpatches-benchmark/hpatches_eval.py --descr-name={path_dir} --descr-dir=/content/gdrive/My\\ Drive/keras_triplet_descriptor/out/ --task={t} --delimiter=\";\"'\n",
    "    command2 = f'python ./hpatches-benchmark/hpatches_results.py --descr={path_dir} --results-dir=/content/gdrive/My\\ Drive/keras_triplet_descriptor/hpatches-benchmark/results/ --task={t}'\n",
    "    command = command1 + '; ' + command2\n",
    "    run_command(command)\n",
    "    \n",
    "def plot_epoch_losses(loss: list, val_loss: list, loss_title='Loss', val_loss_title='Validation Loss'):\n",
    "  # Plot graph\n",
    "  import matplotlib.pyplot as plt\n",
    "  plt.rcParams['figure.figsize'] = [16, 6]\n",
    "  plt.rcParams['figure.dpi'] = 70\n",
    "  # denoise_history.history\n",
    "  fig, axes = plt.subplots(1,2)\n",
    "#   loss = [6.4420, 6.0813, 5.9642, 5.8896, 5.8392, 5.7935, 5.7559, 5.7249, 5.6963, 5.6723]\n",
    "#   val_loss = [6.0359, 5.8375, 5.7608, 5.7746, 5.7418, 5.7256, 5.7442, 5.6179, 5.6108, 5.5580]\n",
    "  axes[0].plot(loss)\n",
    "  axes[0].set_title(loss_title)\n",
    "  axes[0].set_ylabel('Mean Absolute Error')\n",
    "  axes[0].set_xlabel('Epoch')\n",
    "\n",
    "  fig.subplots_adjust(hspace=0.5)\n",
    "\n",
    "  axes[1].plot(val_loss, 'g')\n",
    "  axes[1].set_title(val_loss_title)\n",
    "  axes[1].set_ylabel('Val Mean Absolute Error')\n",
    "  axes[1].set_xlabel('Epoch')\n",
    "\n",
    "  \n",
    "def visualise_model(model, file_name, show_shapes=True, show_layer_names=True, rankdir='TB'):\n",
    "  from keras.utils import plot_model\n",
    "  from IPython.display import SVG\n",
    "  from keras.utils.vis_utils import model_to_dot\n",
    "  \n",
    "  plot_model(model, to_file=f'{file_name}.png', show_shapes=show_shapes, show_layer_names=show_layer_names, rankdir=rankdir)\n",
    "  \n",
    "  return SVG(model_to_dot(model).create(prog='dot', format='svg'))"
   ]
  },
  {
   "cell_type": "markdown",
   "metadata": {
    "colab_type": "text",
    "id": "Yy8G7207two9"
   },
   "source": []
  },
  {
   "cell_type": "markdown",
   "metadata": {
    "colab_type": "text",
    "id": "scNagscbttM5"
   },
   "source": [
    "# 3. Baseline models"
   ]
  },
  {
   "cell_type": "code",
   "execution_count": 0,
   "metadata": {
    "colab": {},
    "colab_type": "code",
    "id": "HW2kBT1pAAIE"
   },
   "outputs": [],
   "source": [
    "def get_denoise_model(shape):\n",
    "  inputs = Input(shape)\n",
    "  \n",
    "  ## Encoder starts\n",
    "  conv1 = Conv2D(16, 3, activation = 'relu', padding = 'same', kernel_initializer = 'he_normal')(inputs)\n",
    "  pool1 = MaxPooling2D(pool_size=(2, 2))(conv1)\n",
    "  \n",
    "  ## Bottleneck\n",
    "  conv2 = Conv2D(32, 3, activation = 'relu', padding = 'same', kernel_initializer = 'he_normal')(pool1)\n",
    "\n",
    "  \n",
    "  ## Now the decoder starts\n",
    "  up3 = Conv2D(64, 2, activation = 'relu', padding = 'same', kernel_initializer = 'he_normal')(UpSampling2D(size = (2,2))(conv2))\n",
    "  merge3 = concatenate([conv1,up3], axis = -1)\n",
    "  conv3 = Conv2D(64, 3, activation = 'relu', padding = 'same', kernel_initializer = 'he_normal')(merge3)\n",
    "    \n",
    "  conv4 = Conv2D(1, 3,  padding = 'same')(conv3)\n",
    "\n",
    "  shallow_net = Model(inputs = inputs, outputs = conv4)\n",
    "  \n",
    "  return shallow_net\n",
    " \n",
    "\n",
    "def get_baseline_descriptor_model(shape):\n",
    "  \n",
    "  '''Architecture copies HardNet architecture'''\n",
    "  \n",
    "  init_weights = keras.initializers.he_normal()\n",
    "  \n",
    "  descriptor_model = Sequential()\n",
    "  descriptor_model.add(Conv2D(32, 3, padding='same', input_shape=shape, use_bias = True, kernel_initializer=init_weights))\n",
    "  descriptor_model.add(BatchNormalization(axis = -1))\n",
    "  descriptor_model.add(Activation('relu'))\n",
    "\n",
    "  descriptor_model.add(Conv2D(32, 3, padding='same', use_bias = True, kernel_initializer=init_weights))\n",
    "  descriptor_model.add(BatchNormalization(axis = -1))\n",
    "  descriptor_model.add(Activation('relu'))\n",
    "\n",
    "  descriptor_model.add(Conv2D(64, 3, padding='same', strides=2, use_bias = True, kernel_initializer=init_weights))\n",
    "  descriptor_model.add(BatchNormalization(axis = -1))\n",
    "  descriptor_model.add(Activation('relu'))\n",
    "\n",
    "  descriptor_model.add(Conv2D(64, 3, padding='same', use_bias = True, kernel_initializer=init_weights))\n",
    "  descriptor_model.add(BatchNormalization(axis = -1))\n",
    "  descriptor_model.add(Activation('relu'))\n",
    "\n",
    "  descriptor_model.add(Conv2D(128, 3, padding='same', strides=2,  use_bias = True, kernel_initializer=init_weights))\n",
    "  descriptor_model.add(BatchNormalization(axis = -1))\n",
    "  descriptor_model.add(Activation('relu'))\n",
    "\n",
    "  descriptor_model.add(Conv2D(128, 3, padding='same', use_bias = True, kernel_initializer=init_weights))\n",
    "  descriptor_model.add(BatchNormalization(axis = -1))\n",
    "  descriptor_model.add(Activation('relu'))\n",
    "  descriptor_model.add(Dropout(0.3))\n",
    "\n",
    "  descriptor_model.add(Conv2D(128, 8, padding='valid', use_bias = True, kernel_initializer=init_weights))\n",
    "  \n",
    "  # Final descriptor reshape\n",
    "  descriptor_model.add(Reshape((128,)))\n",
    "  \n",
    "  return descriptor_model"
   ]
  },
  {
   "cell_type": "markdown",
   "metadata": {
    "colab_type": "text",
    "id": "XZhx_tsv6LWT"
   },
   "source": [
    "## 3.1 Denoising  Image Patches"
   ]
  },
  {
   "cell_type": "code",
   "execution_count": 0,
   "metadata": {
    "colab": {},
    "colab_type": "code",
    "id": "5IDSdaOq_7bS"
   },
   "outputs": [],
   "source": [
    "denoise_generator = DenoiseHPatches(seqs_train, batch_size=50)\n",
    "denoise_generator_val = DenoiseHPatches(seqs_test, batch_size=50)"
   ]
  },
  {
   "cell_type": "code",
   "execution_count": 0,
   "metadata": {
    "colab": {
     "base_uri": "https://localhost:8080/",
     "height": 51
    },
    "colab_type": "code",
    "id": "AzjKZvMAMqQH",
    "outputId": "ec659b80-7151-4948-99a3-650d19e989c1"
   },
   "outputs": [
    {
     "name": "stdout",
     "output_type": "stream",
     "text": [
      "1558960\n",
      "952512\n"
     ]
    }
   ],
   "source": [
    "print(len(denoise_generator.sequences))\n",
    "print(len(denoise_generator_val.sequences))"
   ]
  },
  {
   "cell_type": "markdown",
   "metadata": {
    "colab_type": "text",
    "id": "EQWWN6yn0-Lj"
   },
   "source": [
    "### 3.1.1 Train the denoise model"
   ]
  },
  {
   "cell_type": "code",
   "execution_count": 0,
   "metadata": {
    "colab": {
     "base_uri": "https://localhost:8080/",
     "height": 88
    },
    "colab_type": "code",
    "id": "ztZUopA56kuc",
    "outputId": "805d96c2-a59e-4fe1-dd9a-4dd11c155472"
   },
   "outputs": [
    {
     "name": "stdout",
     "output_type": "stream",
     "text": [
      "WARNING:tensorflow:From /usr/local/lib/python3.6/dist-packages/tensorflow/python/framework/op_def_library.py:263: colocate_with (from tensorflow.python.framework.ops) is deprecated and will be removed in a future version.\n",
      "Instructions for updating:\n",
      "Colocations handled automatically by placer.\n"
     ]
    }
   ],
   "source": [
    "shape = (32, 32, 1)\n",
    "denoise_model = get_denoise_model(shape)"
   ]
  },
  {
   "cell_type": "markdown",
   "metadata": {
    "colab_type": "text",
    "id": "ycfSG337DLnG"
   },
   "source": [
    "### Visual Model"
   ]
  },
  {
   "cell_type": "code",
   "execution_count": 0,
   "metadata": {
    "colab": {
     "base_uri": "https://localhost:8080/",
     "height": 860
    },
    "colab_type": "code",
    "id": "se_lvZBPDLQm",
    "outputId": "1f981752-f03f-4308-b338-034bebcffbe3"
   },
   "outputs": [
    {
     "data": {
      "image/svg+xml": [
       "<svg height=\"629pt\" viewBox=\"0.00 0.00 275.00 629.00\" width=\"275pt\" xmlns=\"http://www.w3.org/2000/svg\" xmlns:xlink=\"http://www.w3.org/1999/xlink\">\n",
       "<g class=\"graph\" id=\"graph0\" transform=\"scale(1 1) rotate(0) translate(4 625)\">\n",
       "<title>G</title>\n",
       "<polygon fill=\"#ffffff\" points=\"-4,4 -4,-625 271,-625 271,4 -4,4\" stroke=\"transparent\"/>\n",
       "<!-- 139806019692024 -->\n",
       "<g class=\"node\" id=\"node1\">\n",
       "<title>139806019692024</title>\n",
       "<polygon fill=\"none\" points=\"113,-584.5 113,-620.5 246,-620.5 246,-584.5 113,-584.5\" stroke=\"#000000\"/>\n",
       "<text fill=\"#000000\" font-family=\"Times,serif\" font-size=\"14.00\" text-anchor=\"middle\" x=\"179.5\" y=\"-598.8\">input_1: InputLayer</text>\n",
       "</g>\n",
       "<!-- 139806019691520 -->\n",
       "<g class=\"node\" id=\"node2\">\n",
       "<title>139806019691520</title>\n",
       "<polygon fill=\"none\" points=\"113,-511.5 113,-547.5 246,-547.5 246,-511.5 113,-511.5\" stroke=\"#000000\"/>\n",
       "<text fill=\"#000000\" font-family=\"Times,serif\" font-size=\"14.00\" text-anchor=\"middle\" x=\"179.5\" y=\"-525.8\">conv2d_1: Conv2D</text>\n",
       "</g>\n",
       "<!-- 139806019692024&#45;&gt;139806019691520 -->\n",
       "<g class=\"edge\" id=\"edge1\">\n",
       "<title>139806019692024-&gt;139806019691520</title>\n",
       "<path d=\"M179.5,-584.4551C179.5,-576.3828 179.5,-566.6764 179.5,-557.6817\" fill=\"none\" stroke=\"#000000\"/>\n",
       "<polygon fill=\"#000000\" points=\"183.0001,-557.5903 179.5,-547.5904 176.0001,-557.5904 183.0001,-557.5903\" stroke=\"#000000\"/>\n",
       "</g>\n",
       "<!-- 139806019694040 -->\n",
       "<g class=\"node\" id=\"node3\">\n",
       "<title>139806019694040</title>\n",
       "<polygon fill=\"none\" points=\"0,-438.5 0,-474.5 221,-474.5 221,-438.5 0,-438.5\" stroke=\"#000000\"/>\n",
       "<text fill=\"#000000\" font-family=\"Times,serif\" font-size=\"14.00\" text-anchor=\"middle\" x=\"110.5\" y=\"-452.8\">max_pooling2d_1: MaxPooling2D</text>\n",
       "</g>\n",
       "<!-- 139806019691520&#45;&gt;139806019694040 -->\n",
       "<g class=\"edge\" id=\"edge2\">\n",
       "<title>139806019691520-&gt;139806019694040</title>\n",
       "<path d=\"M162.4438,-511.4551C154.0675,-502.5932 143.8295,-491.7616 134.6638,-482.0646\" fill=\"none\" stroke=\"#000000\"/>\n",
       "<polygon fill=\"#000000\" points=\"137.0119,-479.4535 127.5991,-474.5904 131.9247,-484.262 137.0119,-479.4535\" stroke=\"#000000\"/>\n",
       "</g>\n",
       "<!-- 139805706905808 -->\n",
       "<g class=\"node\" id=\"node7\">\n",
       "<title>139805706905808</title>\n",
       "<polygon fill=\"none\" points=\"92,-146.5 92,-182.5 267,-182.5 267,-146.5 92,-146.5\" stroke=\"#000000\"/>\n",
       "<text fill=\"#000000\" font-family=\"Times,serif\" font-size=\"14.00\" text-anchor=\"middle\" x=\"179.5\" y=\"-160.8\">concatenate_1: Concatenate</text>\n",
       "</g>\n",
       "<!-- 139806019691520&#45;&gt;139805706905808 -->\n",
       "<g class=\"edge\" id=\"edge6\">\n",
       "<title>139806019691520-&gt;139805706905808</title>\n",
       "<path d=\"M200.8304,-511.2778C210.9713,-501.5059 222.4013,-488.676 229.5,-475 248.6773,-438.0538 249.5,-425.1268 249.5,-383.5 249.5,-383.5 249.5,-383.5 249.5,-310.5 249.5,-264.9003 221.3926,-218.4667 200.7993,-190.5659\" fill=\"none\" stroke=\"#000000\"/>\n",
       "<polygon fill=\"#000000\" points=\"203.5255,-188.3686 194.689,-182.5234 197.9517,-192.6034 203.5255,-188.3686\" stroke=\"#000000\"/>\n",
       "</g>\n",
       "<!-- 139806019694376 -->\n",
       "<g class=\"node\" id=\"node4\">\n",
       "<title>139806019694376</title>\n",
       "<polygon fill=\"none\" points=\"44,-365.5 44,-401.5 177,-401.5 177,-365.5 44,-365.5\" stroke=\"#000000\"/>\n",
       "<text fill=\"#000000\" font-family=\"Times,serif\" font-size=\"14.00\" text-anchor=\"middle\" x=\"110.5\" y=\"-379.8\">conv2d_2: Conv2D</text>\n",
       "</g>\n",
       "<!-- 139806019694040&#45;&gt;139806019694376 -->\n",
       "<g class=\"edge\" id=\"edge3\">\n",
       "<title>139806019694040-&gt;139806019694376</title>\n",
       "<path d=\"M110.5,-438.4551C110.5,-430.3828 110.5,-420.6764 110.5,-411.6817\" fill=\"none\" stroke=\"#000000\"/>\n",
       "<polygon fill=\"#000000\" points=\"114.0001,-411.5903 110.5,-401.5904 107.0001,-411.5904 114.0001,-411.5903\" stroke=\"#000000\"/>\n",
       "</g>\n",
       "<!-- 139805706904800 -->\n",
       "<g class=\"node\" id=\"node5\">\n",
       "<title>139805706904800</title>\n",
       "<polygon fill=\"none\" points=\"0,-292.5 0,-328.5 221,-328.5 221,-292.5 0,-292.5\" stroke=\"#000000\"/>\n",
       "<text fill=\"#000000\" font-family=\"Times,serif\" font-size=\"14.00\" text-anchor=\"middle\" x=\"110.5\" y=\"-306.8\">up_sampling2d_1: UpSampling2D</text>\n",
       "</g>\n",
       "<!-- 139806019694376&#45;&gt;139805706904800 -->\n",
       "<g class=\"edge\" id=\"edge4\">\n",
       "<title>139806019694376-&gt;139805706904800</title>\n",
       "<path d=\"M110.5,-365.4551C110.5,-357.3828 110.5,-347.6764 110.5,-338.6817\" fill=\"none\" stroke=\"#000000\"/>\n",
       "<polygon fill=\"#000000\" points=\"114.0001,-338.5903 110.5,-328.5904 107.0001,-338.5904 114.0001,-338.5903\" stroke=\"#000000\"/>\n",
       "</g>\n",
       "<!-- 139805706905360 -->\n",
       "<g class=\"node\" id=\"node6\">\n",
       "<title>139805706905360</title>\n",
       "<polygon fill=\"none\" points=\"66,-219.5 66,-255.5 199,-255.5 199,-219.5 66,-219.5\" stroke=\"#000000\"/>\n",
       "<text fill=\"#000000\" font-family=\"Times,serif\" font-size=\"14.00\" text-anchor=\"middle\" x=\"132.5\" y=\"-233.8\">conv2d_3: Conv2D</text>\n",
       "</g>\n",
       "<!-- 139805706904800&#45;&gt;139805706905360 -->\n",
       "<g class=\"edge\" id=\"edge5\">\n",
       "<title>139805706904800-&gt;139805706905360</title>\n",
       "<path d=\"M115.9382,-292.4551C118.3974,-284.2951 121.3598,-274.4652 124.0952,-265.3887\" fill=\"none\" stroke=\"#000000\"/>\n",
       "<polygon fill=\"#000000\" points=\"127.5137,-266.175 127.0481,-255.5904 120.8114,-264.1551 127.5137,-266.175\" stroke=\"#000000\"/>\n",
       "</g>\n",
       "<!-- 139805706905360&#45;&gt;139805706905808 -->\n",
       "<g class=\"edge\" id=\"edge7\">\n",
       "<title>139805706905360-&gt;139805706905808</title>\n",
       "<path d=\"M144.118,-219.4551C149.5976,-210.9441 156.2469,-200.6165 162.2955,-191.2219\" fill=\"none\" stroke=\"#000000\"/>\n",
       "<polygon fill=\"#000000\" points=\"165.3822,-192.8931 167.8528,-182.5904 159.4965,-189.1037 165.3822,-192.8931\" stroke=\"#000000\"/>\n",
       "</g>\n",
       "<!-- 139805706905080 -->\n",
       "<g class=\"node\" id=\"node8\">\n",
       "<title>139805706905080</title>\n",
       "<polygon fill=\"none\" points=\"113,-73.5 113,-109.5 246,-109.5 246,-73.5 113,-73.5\" stroke=\"#000000\"/>\n",
       "<text fill=\"#000000\" font-family=\"Times,serif\" font-size=\"14.00\" text-anchor=\"middle\" x=\"179.5\" y=\"-87.8\">conv2d_4: Conv2D</text>\n",
       "</g>\n",
       "<!-- 139805706905808&#45;&gt;139805706905080 -->\n",
       "<g class=\"edge\" id=\"edge8\">\n",
       "<title>139805706905808-&gt;139805706905080</title>\n",
       "<path d=\"M179.5,-146.4551C179.5,-138.3828 179.5,-128.6764 179.5,-119.6817\" fill=\"none\" stroke=\"#000000\"/>\n",
       "<polygon fill=\"#000000\" points=\"183.0001,-119.5903 179.5,-109.5904 176.0001,-119.5904 183.0001,-119.5903\" stroke=\"#000000\"/>\n",
       "</g>\n",
       "<!-- 139805706906088 -->\n",
       "<g class=\"node\" id=\"node9\">\n",
       "<title>139805706906088</title>\n",
       "<polygon fill=\"none\" points=\"113,-.5 113,-36.5 246,-36.5 246,-.5 113,-.5\" stroke=\"#000000\"/>\n",
       "<text fill=\"#000000\" font-family=\"Times,serif\" font-size=\"14.00\" text-anchor=\"middle\" x=\"179.5\" y=\"-14.8\">conv2d_5: Conv2D</text>\n",
       "</g>\n",
       "<!-- 139805706905080&#45;&gt;139805706906088 -->\n",
       "<g class=\"edge\" id=\"edge9\">\n",
       "<title>139805706905080-&gt;139805706906088</title>\n",
       "<path d=\"M179.5,-73.4551C179.5,-65.3828 179.5,-55.6764 179.5,-46.6817\" fill=\"none\" stroke=\"#000000\"/>\n",
       "<polygon fill=\"#000000\" points=\"183.0001,-46.5903 179.5,-36.5904 176.0001,-46.5904 183.0001,-46.5903\" stroke=\"#000000\"/>\n",
       "</g>\n",
       "</g>\n",
       "</svg>"
      ],
      "text/plain": [
       "<IPython.core.display.SVG object>"
      ]
     },
     "execution_count": 126,
     "metadata": {
      "tags": []
     },
     "output_type": "execute_result"
    }
   ],
   "source": [
    "visualise_model(denoise_model, 'shallow_unet', rankdir='LR')"
   ]
  },
  {
   "cell_type": "code",
   "execution_count": 0,
   "metadata": {
    "colab": {
     "base_uri": "https://localhost:8080/",
     "height": 768
    },
    "colab_type": "code",
    "id": "mrzj-hAw64u2",
    "outputId": "92ed934a-1560-4599-8700-91273859e4bb"
   },
   "outputs": [
    {
     "name": "stdout",
     "output_type": "stream",
     "text": [
      "WARNING:tensorflow:From /usr/local/lib/python3.6/dist-packages/tensorflow/python/ops/math_ops.py:3066: to_int32 (from tensorflow.python.ops.math_ops) is deprecated and will be removed in a future version.\n",
      "Instructions for updating:\n",
      "Use tf.cast instead.\n",
      "Epoch 1/1\n",
      "31179/31179 [==============================] - 868s 28ms/step - loss: 6.6784 - mean_absolute_error: 6.6784 - val_loss: 5.9819 - val_mean_absolute_error: 5.9819\n",
      "Epoch 1/1\n",
      "31179/31179 [==============================] - 862s 28ms/step - loss: 6.1062 - mean_absolute_error: 6.1062 - val_loss: 5.8555 - val_mean_absolute_error: 5.8555\n",
      "Epoch 1/1\n",
      "31179/31179 [==============================] - 857s 28ms/step - loss: 5.9789 - mean_absolute_error: 5.9789 - val_loss: 5.7691 - val_mean_absolute_error: 5.7691\n",
      "Epoch 1/1\n",
      "31179/31179 [==============================] - 852s 27ms/step - loss: 5.9021 - mean_absolute_error: 5.9021 - val_loss: 5.7179 - val_mean_absolute_error: 5.7179\n",
      "Epoch 1/1\n",
      "31179/31179 [==============================] - 846s 27ms/step - loss: 5.8461 - mean_absolute_error: 5.8461 - val_loss: 5.7530 - val_mean_absolute_error: 5.7530\n",
      "Epoch 1/1\n",
      "31179/31179 [==============================] - 838s 27ms/step - loss: 5.7986 - mean_absolute_error: 5.7986 - val_loss: 5.6399 - val_mean_absolute_error: 5.6399\n",
      "Epoch 1/1\n",
      "31179/31179 [==============================] - 836s 27ms/step - loss: 5.7611 - mean_absolute_error: 5.7611 - val_loss: 5.6622 - val_mean_absolute_error: 5.6622\n",
      "Epoch 1/1\n",
      "31179/31179 [==============================] - 847s 27ms/step - loss: 5.7262 - mean_absolute_error: 5.7262 - val_loss: 5.7135 - val_mean_absolute_error: 5.7135\n",
      "Epoch 1/1\n",
      "31179/31179 [==============================] - 853s 27ms/step - loss: 5.6987 - mean_absolute_error: 5.6987 - val_loss: 5.6870 - val_mean_absolute_error: 5.6870\n",
      "Epoch 1/1\n",
      "31179/31179 [==============================] - 852s 27ms/step - loss: 5.6728 - mean_absolute_error: 5.6728 - val_loss: 5.5495 - val_mean_absolute_error: 5.5495\n",
      "Epoch 1/1\n",
      "31179/31179 [==============================] - 852s 27ms/step - loss: 5.6522 - mean_absolute_error: 5.6522 - val_loss: 5.5364 - val_mean_absolute_error: 5.5364\n",
      "Epoch 1/1\n",
      "31179/31179 [==============================] - 854s 27ms/step - loss: 5.6339 - mean_absolute_error: 5.6339 - val_loss: 5.5204 - val_mean_absolute_error: 5.5204\n",
      "Epoch 1/1\n",
      "31179/31179 [==============================] - 853s 27ms/step - loss: 5.6167 - mean_absolute_error: 5.6167 - val_loss: 5.5087 - val_mean_absolute_error: 5.5087\n",
      "Epoch 1/1\n",
      "31179/31179 [==============================] - 853s 27ms/step - loss: 5.6030 - mean_absolute_error: 5.6030 - val_loss: 5.5719 - val_mean_absolute_error: 5.5719\n",
      "Epoch 1/1\n",
      "31179/31179 [==============================] - 854s 27ms/step - loss: 5.5884 - mean_absolute_error: 5.5884 - val_loss: 5.4861 - val_mean_absolute_error: 5.4861\n",
      "Epoch 1/1\n",
      "31179/31179 [==============================] - 854s 27ms/step - loss: 5.5755 - mean_absolute_error: 5.5755 - val_loss: 5.5347 - val_mean_absolute_error: 5.5347\n",
      "Epoch 1/1\n",
      "31179/31179 [==============================] - 835s 27ms/step - loss: 5.5642 - mean_absolute_error: 5.5642 - val_loss: 5.5278 - val_mean_absolute_error: 5.5278\n",
      "Epoch 1/1\n",
      "31179/31179 [==============================] - 826s 26ms/step - loss: 5.5539 - mean_absolute_error: 5.5539 - val_loss: 5.4646 - val_mean_absolute_error: 5.4646\n",
      "Epoch 1/1\n",
      "31179/31179 [==============================] - 826s 26ms/step - loss: 5.5441 - mean_absolute_error: 5.5441 - val_loss: 5.5504 - val_mean_absolute_error: 5.5504\n",
      "Epoch 1/1\n",
      "31179/31179 [==============================] - 823s 26ms/step - loss: 5.5355 - mean_absolute_error: 5.5355 - val_loss: 5.6960 - val_mean_absolute_error: 5.6960\n"
     ]
    }
   ],
   "source": [
    "sgd = keras.optimizers.SGD(lr=0.00001, momentum=0.9, nesterov=True)\n",
    "denoise_model.compile(loss='mean_absolute_error', optimizer=sgd, metrics=['mae'])\n",
    "\n",
    "epochs = 20\n",
    "minimum = float('inf')\n",
    "val_loss_list = []\n",
    "loss_list = []\n",
    "for e in range(epochs):\n",
    "  denoise_history = denoise_model.fit_generator(generator=denoise_generator, \n",
    "                                                verbose=1,\n",
    "                                                epochs=1,\n",
    "                                                validation_data=denoise_generator_val,\n",
    "                                               )\n",
    "  # Save best weights\n",
    "  loss = denoise_history.history['loss'][0]\n",
    "  val_loss = denoise_history.history['val_loss'][0]\n",
    "  if val_loss < minimum:\n",
    "    minimum = min(minimum, val_loss)\n",
    "    denoise_model.save(f'shallow_denoise_opt.h5')\n",
    "  \n",
    "  # Append to list\n",
    "  loss_list.append(loss)\n",
    "  val_loss_list.append(val_loss)"
   ]
  },
  {
   "cell_type": "markdown",
   "metadata": {
    "colab_type": "text",
    "id": "i-LJExEb4urg"
   },
   "source": [
    "### 3.1.2 Load the optimal denoise model"
   ]
  },
  {
   "cell_type": "code",
   "execution_count": 0,
   "metadata": {
    "colab": {},
    "colab_type": "code",
    "id": "ZH8xTBJ64siJ"
   },
   "outputs": [],
   "source": [
    "denoise_model = keras.models.load_model('./shallow_denoise_opt.h5') # initialise with optimal weights"
   ]
  },
  {
   "cell_type": "markdown",
   "metadata": {
    "colab_type": "text",
    "id": "5sP69J8DF1Vj"
   },
   "source": [
    "### 3.1.3 Visualisation of denoised images"
   ]
  },
  {
   "cell_type": "code",
   "execution_count": 0,
   "metadata": {
    "colab": {
     "base_uri": "https://localhost:8080/",
     "height": 167
    },
    "colab_type": "code",
    "id": "vPnKD_TTFwyw",
    "outputId": "dbd1a5bc-c977-4132-f723-47f6e6deb5de"
   },
   "outputs": [
    {
     "name": "stderr",
     "output_type": "stream",
     "text": [
      "100%|██████████| 1/1 [00:00<00:00,  1.50it/s]\n"
     ]
    },
    {
     "data": {
      "image/png": "[encoded data removed]",
      "text/plain": [
       "<Figure size 432x288 with 3 Axes>"
      ]
     },
     "metadata": {
      "tags": []
     },
     "output_type": "display_data"
    }
   ],
   "source": [
    "plot_denoise(denoise_model, selector=1)"
   ]
  },
  {
   "cell_type": "markdown",
   "metadata": {
    "colab_type": "text",
    "id": "2jcrEpUeF5GH"
   },
   "source": [
    "## 3.2 Training a Descriptor Network"
   ]
  },
  {
   "cell_type": "markdown",
   "metadata": {
    "colab_type": "text",
    "id": "jRqmevUd7S12"
   },
   "source": [
    "Initialise model"
   ]
  },
  {
   "cell_type": "code",
   "execution_count": 0,
   "metadata": {
    "colab": {
     "base_uri": "https://localhost:8080/",
     "height": 921
    },
    "colab_type": "code",
    "id": "r7IB24UZFv8o",
    "outputId": "31d31ede-8cce-4538-dc16-efec0f6cecc3"
   },
   "outputs": [
    {
     "name": "stdout",
     "output_type": "stream",
     "text": [
      "WARNING:tensorflow:From /usr/local/lib/python3.6/dist-packages/keras/backend/tensorflow_backend.py:3445: calling dropout (from tensorflow.python.ops.nn_ops) with keep_prob is deprecated and will be removed in a future version.\n",
      "Instructions for updating:\n",
      "Please use `rate` instead of `keep_prob`. Rate should be set to `rate = 1 - keep_prob`.\n",
      "_________________________________________________________________\n",
      "Layer (type)                 Output Shape              Param #   \n",
      "=================================================================\n",
      "conv2d_6 (Conv2D)            (None, 32, 32, 32)        320       \n",
      "_________________________________________________________________\n",
      "batch_normalization_1 (Batch (None, 32, 32, 32)        128       \n",
      "_________________________________________________________________\n",
      "activation_1 (Activation)    (None, 32, 32, 32)        0         \n",
      "_________________________________________________________________\n",
      "conv2d_7 (Conv2D)            (None, 32, 32, 32)        9248      \n",
      "_________________________________________________________________\n",
      "batch_normalization_2 (Batch (None, 32, 32, 32)        128       \n",
      "_________________________________________________________________\n",
      "activation_2 (Activation)    (None, 32, 32, 32)        0         \n",
      "_________________________________________________________________\n",
      "conv2d_8 (Conv2D)            (None, 16, 16, 64)        18496     \n",
      "_________________________________________________________________\n",
      "batch_normalization_3 (Batch (None, 16, 16, 64)        256       \n",
      "_________________________________________________________________\n",
      "activation_3 (Activation)    (None, 16, 16, 64)        0         \n",
      "_________________________________________________________________\n",
      "conv2d_9 (Conv2D)            (None, 16, 16, 64)        36928     \n",
      "_________________________________________________________________\n",
      "batch_normalization_4 (Batch (None, 16, 16, 64)        256       \n",
      "_________________________________________________________________\n",
      "activation_4 (Activation)    (None, 16, 16, 64)        0         \n",
      "_________________________________________________________________\n",
      "conv2d_10 (Conv2D)           (None, 8, 8, 128)         73856     \n",
      "_________________________________________________________________\n",
      "batch_normalization_5 (Batch (None, 8, 8, 128)         512       \n",
      "_________________________________________________________________\n",
      "activation_5 (Activation)    (None, 8, 8, 128)         0         \n",
      "_________________________________________________________________\n",
      "conv2d_11 (Conv2D)           (None, 8, 8, 128)         147584    \n",
      "_________________________________________________________________\n",
      "batch_normalization_6 (Batch (None, 8, 8, 128)         512       \n",
      "_________________________________________________________________\n",
      "activation_6 (Activation)    (None, 8, 8, 128)         0         \n",
      "_________________________________________________________________\n",
      "dropout_1 (Dropout)          (None, 8, 8, 128)         0         \n",
      "_________________________________________________________________\n",
      "conv2d_12 (Conv2D)           (None, 1, 1, 128)         1048704   \n",
      "_________________________________________________________________\n",
      "reshape_1 (Reshape)          (None, 128)               0         \n",
      "=================================================================\n",
      "Total params: 1,336,928\n",
      "Trainable params: 1,336,032\n",
      "Non-trainable params: 896\n",
      "_________________________________________________________________\n"
     ]
    }
   ],
   "source": [
    "baseline_descriptor_model_trip, baseline_descriptor_model = load_descriptor_model(get_baseline_descriptor_model, optimizer=keras.optimizers.SGD(lr=0.1))"
   ]
  },
  {
   "cell_type": "code",
   "execution_count": 0,
   "metadata": {
    "colab": {
     "base_uri": "https://localhost:8080/",
     "height": 2125
    },
    "colab_type": "code",
    "id": "IKMBpsFBcxK9",
    "outputId": "174c594b-30f5-4493-9757-5661a38ee2f2"
   },
   "outputs": [
    {
     "data": {
      "image/svg+xml": [
       "<svg height=\"1578pt\" viewBox=\"0.00 0.00 279.00 1578.00\" width=\"279pt\" xmlns=\"http://www.w3.org/2000/svg\" xmlns:xlink=\"http://www.w3.org/1999/xlink\">\n",
       "<g class=\"graph\" id=\"graph0\" transform=\"scale(1 1) rotate(0) translate(4 1574)\">\n",
       "<title>G</title>\n",
       "<polygon fill=\"#ffffff\" points=\"-4,4 -4,-1574 275,-1574 275,4 -4,4\" stroke=\"transparent\"/>\n",
       "<!-- 139806170936824 -->\n",
       "<g class=\"node\" id=\"node1\">\n",
       "<title>139806170936824</title>\n",
       "<polygon fill=\"none\" points=\"69,-1460.5 69,-1496.5 202,-1496.5 202,-1460.5 69,-1460.5\" stroke=\"#000000\"/>\n",
       "<text fill=\"#000000\" font-family=\"Times,serif\" font-size=\"14.00\" text-anchor=\"middle\" x=\"135.5\" y=\"-1474.8\">conv2d_6: Conv2D</text>\n",
       "</g>\n",
       "<!-- 139806175931696 -->\n",
       "<g class=\"node\" id=\"node2\">\n",
       "<title>139806175931696</title>\n",
       "<polygon fill=\"none\" points=\"0,-1387.5 0,-1423.5 271,-1423.5 271,-1387.5 0,-1387.5\" stroke=\"#000000\"/>\n",
       "<text fill=\"#000000\" font-family=\"Times,serif\" font-size=\"14.00\" text-anchor=\"middle\" x=\"135.5\" y=\"-1401.8\">batch_normalization_1: BatchNormalization</text>\n",
       "</g>\n",
       "<!-- 139806170936824&#45;&gt;139806175931696 -->\n",
       "<g class=\"edge\" id=\"edge2\">\n",
       "<title>139806170936824-&gt;139806175931696</title>\n",
       "<path d=\"M135.5,-1460.4551C135.5,-1452.3828 135.5,-1442.6764 135.5,-1433.6817\" fill=\"none\" stroke=\"#000000\"/>\n",
       "<polygon fill=\"#000000\" points=\"139.0001,-1433.5903 135.5,-1423.5904 132.0001,-1433.5904 139.0001,-1433.5903\" stroke=\"#000000\"/>\n",
       "</g>\n",
       "<!-- 139806175929624 -->\n",
       "<g class=\"node\" id=\"node3\">\n",
       "<title>139806175929624</title>\n",
       "<polygon fill=\"none\" points=\"58.5,-1314.5 58.5,-1350.5 212.5,-1350.5 212.5,-1314.5 58.5,-1314.5\" stroke=\"#000000\"/>\n",
       "<text fill=\"#000000\" font-family=\"Times,serif\" font-size=\"14.00\" text-anchor=\"middle\" x=\"135.5\" y=\"-1328.8\">activation_1: Activation</text>\n",
       "</g>\n",
       "<!-- 139806175931696&#45;&gt;139806175929624 -->\n",
       "<g class=\"edge\" id=\"edge3\">\n",
       "<title>139806175931696-&gt;139806175929624</title>\n",
       "<path d=\"M135.5,-1387.4551C135.5,-1379.3828 135.5,-1369.6764 135.5,-1360.6817\" fill=\"none\" stroke=\"#000000\"/>\n",
       "<polygon fill=\"#000000\" points=\"139.0001,-1360.5903 135.5,-1350.5904 132.0001,-1360.5904 139.0001,-1360.5903\" stroke=\"#000000\"/>\n",
       "</g>\n",
       "<!-- 139806175929400 -->\n",
       "<g class=\"node\" id=\"node4\">\n",
       "<title>139806175929400</title>\n",
       "<polygon fill=\"none\" points=\"69,-1241.5 69,-1277.5 202,-1277.5 202,-1241.5 69,-1241.5\" stroke=\"#000000\"/>\n",
       "<text fill=\"#000000\" font-family=\"Times,serif\" font-size=\"14.00\" text-anchor=\"middle\" x=\"135.5\" y=\"-1255.8\">conv2d_7: Conv2D</text>\n",
       "</g>\n",
       "<!-- 139806175929624&#45;&gt;139806175929400 -->\n",
       "<g class=\"edge\" id=\"edge4\">\n",
       "<title>139806175929624-&gt;139806175929400</title>\n",
       "<path d=\"M135.5,-1314.4551C135.5,-1306.3828 135.5,-1296.6764 135.5,-1287.6817\" fill=\"none\" stroke=\"#000000\"/>\n",
       "<polygon fill=\"#000000\" points=\"139.0001,-1287.5903 135.5,-1277.5904 132.0001,-1287.5904 139.0001,-1287.5903\" stroke=\"#000000\"/>\n",
       "</g>\n",
       "<!-- 139806175449496 -->\n",
       "<g class=\"node\" id=\"node5\">\n",
       "<title>139806175449496</title>\n",
       "<polygon fill=\"none\" points=\"0,-1168.5 0,-1204.5 271,-1204.5 271,-1168.5 0,-1168.5\" stroke=\"#000000\"/>\n",
       "<text fill=\"#000000\" font-family=\"Times,serif\" font-size=\"14.00\" text-anchor=\"middle\" x=\"135.5\" y=\"-1182.8\">batch_normalization_2: BatchNormalization</text>\n",
       "</g>\n",
       "<!-- 139806175929400&#45;&gt;139806175449496 -->\n",
       "<g class=\"edge\" id=\"edge5\">\n",
       "<title>139806175929400-&gt;139806175449496</title>\n",
       "<path d=\"M135.5,-1241.4551C135.5,-1233.3828 135.5,-1223.6764 135.5,-1214.6817\" fill=\"none\" stroke=\"#000000\"/>\n",
       "<polygon fill=\"#000000\" points=\"139.0001,-1214.5903 135.5,-1204.5904 132.0001,-1214.5904 139.0001,-1214.5903\" stroke=\"#000000\"/>\n",
       "</g>\n",
       "<!-- 139806175671968 -->\n",
       "<g class=\"node\" id=\"node6\">\n",
       "<title>139806175671968</title>\n",
       "<polygon fill=\"none\" points=\"58.5,-1095.5 58.5,-1131.5 212.5,-1131.5 212.5,-1095.5 58.5,-1095.5\" stroke=\"#000000\"/>\n",
       "<text fill=\"#000000\" font-family=\"Times,serif\" font-size=\"14.00\" text-anchor=\"middle\" x=\"135.5\" y=\"-1109.8\">activation_2: Activation</text>\n",
       "</g>\n",
       "<!-- 139806175449496&#45;&gt;139806175671968 -->\n",
       "<g class=\"edge\" id=\"edge6\">\n",
       "<title>139806175449496-&gt;139806175671968</title>\n",
       "<path d=\"M135.5,-1168.4551C135.5,-1160.3828 135.5,-1150.6764 135.5,-1141.6817\" fill=\"none\" stroke=\"#000000\"/>\n",
       "<polygon fill=\"#000000\" points=\"139.0001,-1141.5903 135.5,-1131.5904 132.0001,-1141.5904 139.0001,-1141.5903\" stroke=\"#000000\"/>\n",
       "</g>\n",
       "<!-- 139806174835712 -->\n",
       "<g class=\"node\" id=\"node7\">\n",
       "<title>139806174835712</title>\n",
       "<polygon fill=\"none\" points=\"69,-1022.5 69,-1058.5 202,-1058.5 202,-1022.5 69,-1022.5\" stroke=\"#000000\"/>\n",
       "<text fill=\"#000000\" font-family=\"Times,serif\" font-size=\"14.00\" text-anchor=\"middle\" x=\"135.5\" y=\"-1036.8\">conv2d_8: Conv2D</text>\n",
       "</g>\n",
       "<!-- 139806175671968&#45;&gt;139806174835712 -->\n",
       "<g class=\"edge\" id=\"edge7\">\n",
       "<title>139806175671968-&gt;139806174835712</title>\n",
       "<path d=\"M135.5,-1095.4551C135.5,-1087.3828 135.5,-1077.6764 135.5,-1068.6817\" fill=\"none\" stroke=\"#000000\"/>\n",
       "<polygon fill=\"#000000\" points=\"139.0001,-1068.5903 135.5,-1058.5904 132.0001,-1068.5904 139.0001,-1068.5903\" stroke=\"#000000\"/>\n",
       "</g>\n",
       "<!-- 139806174500120 -->\n",
       "<g class=\"node\" id=\"node8\">\n",
       "<title>139806174500120</title>\n",
       "<polygon fill=\"none\" points=\"0,-949.5 0,-985.5 271,-985.5 271,-949.5 0,-949.5\" stroke=\"#000000\"/>\n",
       "<text fill=\"#000000\" font-family=\"Times,serif\" font-size=\"14.00\" text-anchor=\"middle\" x=\"135.5\" y=\"-963.8\">batch_normalization_3: BatchNormalization</text>\n",
       "</g>\n",
       "<!-- 139806174835712&#45;&gt;139806174500120 -->\n",
       "<g class=\"edge\" id=\"edge8\">\n",
       "<title>139806174835712-&gt;139806174500120</title>\n",
       "<path d=\"M135.5,-1022.4551C135.5,-1014.3828 135.5,-1004.6764 135.5,-995.6817\" fill=\"none\" stroke=\"#000000\"/>\n",
       "<polygon fill=\"#000000\" points=\"139.0001,-995.5903 135.5,-985.5904 132.0001,-995.5904 139.0001,-995.5903\" stroke=\"#000000\"/>\n",
       "</g>\n",
       "<!-- 139806174242016 -->\n",
       "<g class=\"node\" id=\"node9\">\n",
       "<title>139806174242016</title>\n",
       "<polygon fill=\"none\" points=\"58.5,-876.5 58.5,-912.5 212.5,-912.5 212.5,-876.5 58.5,-876.5\" stroke=\"#000000\"/>\n",
       "<text fill=\"#000000\" font-family=\"Times,serif\" font-size=\"14.00\" text-anchor=\"middle\" x=\"135.5\" y=\"-890.8\">activation_3: Activation</text>\n",
       "</g>\n",
       "<!-- 139806174500120&#45;&gt;139806174242016 -->\n",
       "<g class=\"edge\" id=\"edge9\">\n",
       "<title>139806174500120-&gt;139806174242016</title>\n",
       "<path d=\"M135.5,-949.4551C135.5,-941.3828 135.5,-931.6764 135.5,-922.6817\" fill=\"none\" stroke=\"#000000\"/>\n",
       "<polygon fill=\"#000000\" points=\"139.0001,-922.5903 135.5,-912.5904 132.0001,-922.5904 139.0001,-922.5903\" stroke=\"#000000\"/>\n",
       "</g>\n",
       "<!-- 139806173579080 -->\n",
       "<g class=\"node\" id=\"node10\">\n",
       "<title>139806173579080</title>\n",
       "<polygon fill=\"none\" points=\"69,-803.5 69,-839.5 202,-839.5 202,-803.5 69,-803.5\" stroke=\"#000000\"/>\n",
       "<text fill=\"#000000\" font-family=\"Times,serif\" font-size=\"14.00\" text-anchor=\"middle\" x=\"135.5\" y=\"-817.8\">conv2d_9: Conv2D</text>\n",
       "</g>\n",
       "<!-- 139806174242016&#45;&gt;139806173579080 -->\n",
       "<g class=\"edge\" id=\"edge10\">\n",
       "<title>139806174242016-&gt;139806173579080</title>\n",
       "<path d=\"M135.5,-876.4551C135.5,-868.3828 135.5,-858.6764 135.5,-849.6817\" fill=\"none\" stroke=\"#000000\"/>\n",
       "<polygon fill=\"#000000\" points=\"139.0001,-849.5903 135.5,-839.5904 132.0001,-849.5904 139.0001,-849.5903\" stroke=\"#000000\"/>\n",
       "</g>\n",
       "<!-- 139806173382360 -->\n",
       "<g class=\"node\" id=\"node11\">\n",
       "<title>139806173382360</title>\n",
       "<polygon fill=\"none\" points=\"0,-730.5 0,-766.5 271,-766.5 271,-730.5 0,-730.5\" stroke=\"#000000\"/>\n",
       "<text fill=\"#000000\" font-family=\"Times,serif\" font-size=\"14.00\" text-anchor=\"middle\" x=\"135.5\" y=\"-744.8\">batch_normalization_4: BatchNormalization</text>\n",
       "</g>\n",
       "<!-- 139806173579080&#45;&gt;139806173382360 -->\n",
       "<g class=\"edge\" id=\"edge11\">\n",
       "<title>139806173579080-&gt;139806173382360</title>\n",
       "<path d=\"M135.5,-803.4551C135.5,-795.3828 135.5,-785.6764 135.5,-776.6817\" fill=\"none\" stroke=\"#000000\"/>\n",
       "<polygon fill=\"#000000\" points=\"139.0001,-776.5903 135.5,-766.5904 132.0001,-776.5904 139.0001,-776.5903\" stroke=\"#000000\"/>\n",
       "</g>\n",
       "<!-- 139806173297240 -->\n",
       "<g class=\"node\" id=\"node12\">\n",
       "<title>139806173297240</title>\n",
       "<polygon fill=\"none\" points=\"58.5,-657.5 58.5,-693.5 212.5,-693.5 212.5,-657.5 58.5,-657.5\" stroke=\"#000000\"/>\n",
       "<text fill=\"#000000\" font-family=\"Times,serif\" font-size=\"14.00\" text-anchor=\"middle\" x=\"135.5\" y=\"-671.8\">activation_4: Activation</text>\n",
       "</g>\n",
       "<!-- 139806173382360&#45;&gt;139806173297240 -->\n",
       "<g class=\"edge\" id=\"edge12\">\n",
       "<title>139806173382360-&gt;139806173297240</title>\n",
       "<path d=\"M135.5,-730.4551C135.5,-722.3828 135.5,-712.6764 135.5,-703.6817\" fill=\"none\" stroke=\"#000000\"/>\n",
       "<polygon fill=\"#000000\" points=\"139.0001,-703.5903 135.5,-693.5904 132.0001,-703.5904 139.0001,-703.5903\" stroke=\"#000000\"/>\n",
       "</g>\n",
       "<!-- 139806170280400 -->\n",
       "<g class=\"node\" id=\"node13\">\n",
       "<title>139806170280400</title>\n",
       "<polygon fill=\"none\" points=\"65.5,-584.5 65.5,-620.5 205.5,-620.5 205.5,-584.5 65.5,-584.5\" stroke=\"#000000\"/>\n",
       "<text fill=\"#000000\" font-family=\"Times,serif\" font-size=\"14.00\" text-anchor=\"middle\" x=\"135.5\" y=\"-598.8\">conv2d_10: Conv2D</text>\n",
       "</g>\n",
       "<!-- 139806173297240&#45;&gt;139806170280400 -->\n",
       "<g class=\"edge\" id=\"edge13\">\n",
       "<title>139806173297240-&gt;139806170280400</title>\n",
       "<path d=\"M135.5,-657.4551C135.5,-649.3828 135.5,-639.6764 135.5,-630.6817\" fill=\"none\" stroke=\"#000000\"/>\n",
       "<polygon fill=\"#000000\" points=\"139.0001,-630.5903 135.5,-620.5904 132.0001,-630.5904 139.0001,-630.5903\" stroke=\"#000000\"/>\n",
       "</g>\n",
       "<!-- 139806172466088 -->\n",
       "<g class=\"node\" id=\"node14\">\n",
       "<title>139806172466088</title>\n",
       "<polygon fill=\"none\" points=\"0,-511.5 0,-547.5 271,-547.5 271,-511.5 0,-511.5\" stroke=\"#000000\"/>\n",
       "<text fill=\"#000000\" font-family=\"Times,serif\" font-size=\"14.00\" text-anchor=\"middle\" x=\"135.5\" y=\"-525.8\">batch_normalization_5: BatchNormalization</text>\n",
       "</g>\n",
       "<!-- 139806170280400&#45;&gt;139806172466088 -->\n",
       "<g class=\"edge\" id=\"edge14\">\n",
       "<title>139806170280400-&gt;139806172466088</title>\n",
       "<path d=\"M135.5,-584.4551C135.5,-576.3828 135.5,-566.6764 135.5,-557.6817\" fill=\"none\" stroke=\"#000000\"/>\n",
       "<polygon fill=\"#000000\" points=\"139.0001,-557.5903 135.5,-547.5904 132.0001,-557.5904 139.0001,-557.5903\" stroke=\"#000000\"/>\n",
       "</g>\n",
       "<!-- 139806170012808 -->\n",
       "<g class=\"node\" id=\"node15\">\n",
       "<title>139806170012808</title>\n",
       "<polygon fill=\"none\" points=\"58.5,-438.5 58.5,-474.5 212.5,-474.5 212.5,-438.5 58.5,-438.5\" stroke=\"#000000\"/>\n",
       "<text fill=\"#000000\" font-family=\"Times,serif\" font-size=\"14.00\" text-anchor=\"middle\" x=\"135.5\" y=\"-452.8\">activation_5: Activation</text>\n",
       "</g>\n",
       "<!-- 139806172466088&#45;&gt;139806170012808 -->\n",
       "<g class=\"edge\" id=\"edge15\">\n",
       "<title>139806172466088-&gt;139806170012808</title>\n",
       "<path d=\"M135.5,-511.4551C135.5,-503.3828 135.5,-493.6764 135.5,-484.6817\" fill=\"none\" stroke=\"#000000\"/>\n",
       "<polygon fill=\"#000000\" points=\"139.0001,-484.5903 135.5,-474.5904 132.0001,-484.5904 139.0001,-484.5903\" stroke=\"#000000\"/>\n",
       "</g>\n",
       "<!-- 139806169358288 -->\n",
       "<g class=\"node\" id=\"node16\">\n",
       "<title>139806169358288</title>\n",
       "<polygon fill=\"none\" points=\"65.5,-365.5 65.5,-401.5 205.5,-401.5 205.5,-365.5 65.5,-365.5\" stroke=\"#000000\"/>\n",
       "<text fill=\"#000000\" font-family=\"Times,serif\" font-size=\"14.00\" text-anchor=\"middle\" x=\"135.5\" y=\"-379.8\">conv2d_11: Conv2D</text>\n",
       "</g>\n",
       "<!-- 139806170012808&#45;&gt;139806169358288 -->\n",
       "<g class=\"edge\" id=\"edge16\">\n",
       "<title>139806170012808-&gt;139806169358288</title>\n",
       "<path d=\"M135.5,-438.4551C135.5,-430.3828 135.5,-420.6764 135.5,-411.6817\" fill=\"none\" stroke=\"#000000\"/>\n",
       "<polygon fill=\"#000000\" points=\"139.0001,-411.5903 135.5,-401.5904 132.0001,-411.5904 139.0001,-411.5903\" stroke=\"#000000\"/>\n",
       "</g>\n",
       "<!-- 139806169152984 -->\n",
       "<g class=\"node\" id=\"node17\">\n",
       "<title>139806169152984</title>\n",
       "<polygon fill=\"none\" points=\"0,-292.5 0,-328.5 271,-328.5 271,-292.5 0,-292.5\" stroke=\"#000000\"/>\n",
       "<text fill=\"#000000\" font-family=\"Times,serif\" font-size=\"14.00\" text-anchor=\"middle\" x=\"135.5\" y=\"-306.8\">batch_normalization_6: BatchNormalization</text>\n",
       "</g>\n",
       "<!-- 139806169358288&#45;&gt;139806169152984 -->\n",
       "<g class=\"edge\" id=\"edge17\">\n",
       "<title>139806169358288-&gt;139806169152984</title>\n",
       "<path d=\"M135.5,-365.4551C135.5,-357.3828 135.5,-347.6764 135.5,-338.6817\" fill=\"none\" stroke=\"#000000\"/>\n",
       "<polygon fill=\"#000000\" points=\"139.0001,-338.5903 135.5,-328.5904 132.0001,-338.5904 139.0001,-338.5903\" stroke=\"#000000\"/>\n",
       "</g>\n",
       "<!-- 139806169071344 -->\n",
       "<g class=\"node\" id=\"node18\">\n",
       "<title>139806169071344</title>\n",
       "<polygon fill=\"none\" points=\"58.5,-219.5 58.5,-255.5 212.5,-255.5 212.5,-219.5 58.5,-219.5\" stroke=\"#000000\"/>\n",
       "<text fill=\"#000000\" font-family=\"Times,serif\" font-size=\"14.00\" text-anchor=\"middle\" x=\"135.5\" y=\"-233.8\">activation_6: Activation</text>\n",
       "</g>\n",
       "<!-- 139806169152984&#45;&gt;139806169071344 -->\n",
       "<g class=\"edge\" id=\"edge18\">\n",
       "<title>139806169152984-&gt;139806169071344</title>\n",
       "<path d=\"M135.5,-292.4551C135.5,-284.3828 135.5,-274.6764 135.5,-265.6817\" fill=\"none\" stroke=\"#000000\"/>\n",
       "<polygon fill=\"#000000\" points=\"139.0001,-265.5903 135.5,-255.5904 132.0001,-265.5904 139.0001,-265.5903\" stroke=\"#000000\"/>\n",
       "</g>\n",
       "<!-- 139806168012112 -->\n",
       "<g class=\"node\" id=\"node19\">\n",
       "<title>139806168012112</title>\n",
       "<polygon fill=\"none\" points=\"68.5,-146.5 68.5,-182.5 202.5,-182.5 202.5,-146.5 68.5,-146.5\" stroke=\"#000000\"/>\n",
       "<text fill=\"#000000\" font-family=\"Times,serif\" font-size=\"14.00\" text-anchor=\"middle\" x=\"135.5\" y=\"-160.8\">dropout_1: Dropout</text>\n",
       "</g>\n",
       "<!-- 139806169071344&#45;&gt;139806168012112 -->\n",
       "<g class=\"edge\" id=\"edge19\">\n",
       "<title>139806169071344-&gt;139806168012112</title>\n",
       "<path d=\"M135.5,-219.4551C135.5,-211.3828 135.5,-201.6764 135.5,-192.6817\" fill=\"none\" stroke=\"#000000\"/>\n",
       "<polygon fill=\"#000000\" points=\"139.0001,-192.5903 135.5,-182.5904 132.0001,-192.5904 139.0001,-192.5903\" stroke=\"#000000\"/>\n",
       "</g>\n",
       "<!-- 139806168012168 -->\n",
       "<g class=\"node\" id=\"node20\">\n",
       "<title>139806168012168</title>\n",
       "<polygon fill=\"none\" points=\"65.5,-73.5 65.5,-109.5 205.5,-109.5 205.5,-73.5 65.5,-73.5\" stroke=\"#000000\"/>\n",
       "<text fill=\"#000000\" font-family=\"Times,serif\" font-size=\"14.00\" text-anchor=\"middle\" x=\"135.5\" y=\"-87.8\">conv2d_12: Conv2D</text>\n",
       "</g>\n",
       "<!-- 139806168012112&#45;&gt;139806168012168 -->\n",
       "<g class=\"edge\" id=\"edge20\">\n",
       "<title>139806168012112-&gt;139806168012168</title>\n",
       "<path d=\"M135.5,-146.4551C135.5,-138.3828 135.5,-128.6764 135.5,-119.6817\" fill=\"none\" stroke=\"#000000\"/>\n",
       "<polygon fill=\"#000000\" points=\"139.0001,-119.5903 135.5,-109.5904 132.0001,-119.5904 139.0001,-119.5903\" stroke=\"#000000\"/>\n",
       "</g>\n",
       "<!-- 139806167624280 -->\n",
       "<g class=\"node\" id=\"node21\">\n",
       "<title>139806167624280</title>\n",
       "<polygon fill=\"none\" points=\"70.5,-.5 70.5,-36.5 200.5,-36.5 200.5,-.5 70.5,-.5\" stroke=\"#000000\"/>\n",
       "<text fill=\"#000000\" font-family=\"Times,serif\" font-size=\"14.00\" text-anchor=\"middle\" x=\"135.5\" y=\"-14.8\">reshape_1: Reshape</text>\n",
       "</g>\n",
       "<!-- 139806168012168&#45;&gt;139806167624280 -->\n",
       "<g class=\"edge\" id=\"edge21\">\n",
       "<title>139806168012168-&gt;139806167624280</title>\n",
       "<path d=\"M135.5,-73.4551C135.5,-65.3828 135.5,-55.6764 135.5,-46.6817\" fill=\"none\" stroke=\"#000000\"/>\n",
       "<polygon fill=\"#000000\" points=\"139.0001,-46.5903 135.5,-36.5904 132.0001,-46.5904 139.0001,-46.5903\" stroke=\"#000000\"/>\n",
       "</g>\n",
       "<!-- 139806170889408 -->\n",
       "<g class=\"node\" id=\"node22\">\n",
       "<title>139806170889408</title>\n",
       "<polygon fill=\"none\" points=\"71,-1533.5 71,-1569.5 200,-1569.5 200,-1533.5 71,-1533.5\" stroke=\"#000000\"/>\n",
       "<text fill=\"#000000\" font-family=\"Times,serif\" font-size=\"14.00\" text-anchor=\"middle\" x=\"135.5\" y=\"-1547.8\">139806170889408</text>\n",
       "</g>\n",
       "<!-- 139806170889408&#45;&gt;139806170936824 -->\n",
       "<g class=\"edge\" id=\"edge1\">\n",
       "<title>139806170889408-&gt;139806170936824</title>\n",
       "<path d=\"M135.5,-1533.4551C135.5,-1525.3828 135.5,-1515.6764 135.5,-1506.6817\" fill=\"none\" stroke=\"#000000\"/>\n",
       "<polygon fill=\"#000000\" points=\"139.0001,-1506.5903 135.5,-1496.5904 132.0001,-1506.5904 139.0001,-1506.5903\" stroke=\"#000000\"/>\n",
       "</g>\n",
       "</g>\n",
       "</svg>"
      ],
      "text/plain": [
       "<IPython.core.display.SVG object>"
      ]
     },
     "execution_count": 122,
     "metadata": {
      "tags": []
     },
     "output_type": "execute_result"
    }
   ],
   "source": [
    "visualise_model(baseline_descriptor_model, 'hardnet')"
   ]
  },
  {
   "cell_type": "markdown",
   "metadata": {
    "colab_type": "text",
    "id": "toV30GfO7E_n"
   },
   "source": [
    "### 3.2.1 Generating training and validation set "
   ]
  },
  {
   "cell_type": "code",
   "execution_count": 0,
   "metadata": {
    "colab": {
     "base_uri": "https://localhost:8080/",
     "height": 187
    },
    "colab_type": "code",
    "id": "UpiYx0W6GBIZ",
    "outputId": "da885ffa-d621-44a6-a2bb-844c88933fe3"
   },
   "outputs": [
    {
     "name": "stdout",
     "output_type": "stream",
     "text": [
      "Using denoised patches\n",
      "100%|██████████| 116/116 [00:38<00:00,  2.47it/s]\n",
      "Denoising patches...\n",
      "100%|██████████| 15589/15589 [04:08<00:00, 62.72it/s]\n"
     ]
    },
    {
     "name": "stderr",
     "output_type": "stream",
     "text": [
      "100%|██████████| 100000/100000 [00:01<00:00, 88729.17it/s]\n"
     ]
    },
    {
     "name": "stdout",
     "output_type": "stream",
     "text": [
      "Using denoised patches\n",
      "100%|██████████| 116/116 [00:23<00:00,  5.03it/s]\n",
      "Denoising patches...\n",
      "100%|██████████| 9525/9525 [02:30<00:00, 63.87it/s]\n"
     ]
    },
    {
     "name": "stderr",
     "output_type": "stream",
     "text": [
      "100%|██████████| 10000/10000 [00:00<00:00, 89795.52it/s]\n"
     ]
    }
   ],
   "source": [
    "### Descriptor loading and training\n",
    "# Loading images\n",
    "hPatches = HPatches(train_fnames=train_fnames, test_fnames=test_fnames,\n",
    "                    denoise_model=denoise_model, use_clean=False)\n",
    "# Creating training generator\n",
    "training_generator = DataGeneratorDesc(*hPatches.read_image_file(hpatches_dir, train=1), num_triplets=100000)\n",
    "# Creating validation generator\n",
    "val_generator = DataGeneratorDesc(*hPatches.read_image_file(hpatches_dir, train=0), num_triplets=10000)"
   ]
  },
  {
   "cell_type": "markdown",
   "metadata": {
    "colab_type": "text",
    "id": "GYP8eqAtGOJ1"
   },
   "source": [
    "### 3.2.1 Visualisation of Inputs for Descriptor Model"
   ]
  },
  {
   "cell_type": "code",
   "execution_count": 0,
   "metadata": {
    "colab": {
     "base_uri": "https://localhost:8080/",
     "height": 183
    },
    "colab_type": "code",
    "id": "uAx1xYSVGNJX",
    "outputId": "4b0e20a8-47b6-4922-a07a-5b9482686d0a"
   },
   "outputs": [
    {
     "data": {
      "image/png": "[encoded data removed]",
      "text/plain": [
       "<Figure size 576x396 with 3 Axes>"
      ]
     },
     "metadata": {
      "tags": []
     },
     "output_type": "display_data"
    }
   ],
   "source": [
    "plot_triplet(training_generator)"
   ]
  },
  {
   "cell_type": "markdown",
   "metadata": {
    "colab_type": "text",
    "id": "-QahVXN9XCyh"
   },
   "source": [
    "### 3.2.2 Train the descriptor model"
   ]
  },
  {
   "cell_type": "code",
   "execution_count": 0,
   "metadata": {
    "colab": {
     "base_uri": "https://localhost:8080/",
     "height": 1207
    },
    "colab_type": "code",
    "id": "NrVMBPIGW-n_",
    "outputId": "1fb1078c-821c-4d8c-f0f5-524998f47c96"
   },
   "outputs": [
    {
     "name": "stdout",
     "output_type": "stream",
     "text": [
      "Epoch 1/1\n",
      "1999/2000 [============================>.] - ETA: 0s - loss: 0.2190"
     ]
    },
    {
     "name": "stderr",
     "output_type": "stream",
     "text": [
      "100%|██████████| 100000/100000 [00:02<00:00, 43834.83it/s]\n"
     ]
    },
    {
     "name": "stdout",
     "output_type": "stream",
     "text": [
      "\b\b\b\b\b\b\b\b\b\b\b\b\b\b\b\b\b\b\b\b\b\b\b\b\b\b\b\b\b\b\b\b\b\b\b\b\b\b\b\b\b\b\b\b\b\b\b\b\b\b\b\b\b\b\b\b\b\b\b\b\b\b\b\b\b\b\b\r",
      "2000/2000 [==============================] - 164s 82ms/step - loss: 0.2190 - val_loss: 0.2959\n"
     ]
    },
    {
     "name": "stderr",
     "output_type": "stream",
     "text": [
      "100%|██████████| 10000/10000 [00:00<00:00, 73238.39it/s]\n"
     ]
    },
    {
     "name": "stdout",
     "output_type": "stream",
     "text": [
      "Epoch 1/1\n",
      "1999/2000 [============================>.] - ETA: 0s - loss: 0.1609"
     ]
    },
    {
     "name": "stderr",
     "output_type": "stream",
     "text": [
      "100%|██████████| 100000/100000 [00:02<00:00, 43988.22it/s]\n"
     ]
    },
    {
     "name": "stdout",
     "output_type": "stream",
     "text": [
      "\b\b\b\b\b\b\b\b\b\b\b\b\b\b\b\b\b\b\b\b\b\b\b\b\b\b\b\b\b\b\b\b\b\b\b\b\b\b\b\b\b\b\b\b\b\b\b\b\b\b\b\b\b\b\b\b\b\b\b\b\b\b\b\b\b\b\b\r",
      "2000/2000 [==============================] - 161s 81ms/step - loss: 0.1609 - val_loss: 0.3699\n"
     ]
    },
    {
     "name": "stderr",
     "output_type": "stream",
     "text": [
      "100%|██████████| 10000/10000 [00:00<00:00, 75770.32it/s]\n"
     ]
    },
    {
     "name": "stdout",
     "output_type": "stream",
     "text": [
      "Epoch 1/1\n",
      "1999/2000 [============================>.] - ETA: 0s - loss: 0.1442"
     ]
    },
    {
     "name": "stderr",
     "output_type": "stream",
     "text": [
      "100%|██████████| 100000/100000 [00:01<00:00, 59016.52it/s]\n"
     ]
    },
    {
     "name": "stdout",
     "output_type": "stream",
     "text": [
      "\b\b\b\b\b\b\b\b\b\b\b\b\b\b\b\b\b\b\b\b\b\b\b\b\b\b\b\b\b\b\b\b\b\b\b\b\b\b\b\b\b\b\b\b\b\b\b\b\b\b\b\b\b\b\b\b\b\b\b\b\b\b\b\b\b\b\b\r",
      "2000/2000 [==============================] - 161s 80ms/step - loss: 0.1442 - val_loss: 0.2502\n"
     ]
    },
    {
     "name": "stderr",
     "output_type": "stream",
     "text": [
      "100%|██████████| 10000/10000 [00:00<00:00, 88577.12it/s]\n"
     ]
    },
    {
     "name": "stdout",
     "output_type": "stream",
     "text": [
      "Epoch 1/1\n",
      "1999/2000 [============================>.] - ETA: 0s - loss: 0.1363"
     ]
    },
    {
     "name": "stderr",
     "output_type": "stream",
     "text": [
      "100%|██████████| 100000/100000 [00:02<00:00, 46290.58it/s]\n"
     ]
    },
    {
     "name": "stdout",
     "output_type": "stream",
     "text": [
      "\b\b\b\b\b\b\b\b\b\b\b\b\b\b\b\b\b\b\b\b\b\b\b\b\b\b\b\b\b\b\b\b\b\b\b\b\b\b\b\b\b\b\b\b\b\b\b\b\b\b\b\b\b\b\b\b\b\b\b\b\b\b\b\b\b\b\b\r",
      "2000/2000 [==============================] - 160s 80ms/step - loss: 0.1362 - val_loss: 0.1577\n"
     ]
    },
    {
     "name": "stderr",
     "output_type": "stream",
     "text": [
      "100%|██████████| 10000/10000 [00:00<00:00, 88508.90it/s]\n"
     ]
    },
    {
     "name": "stdout",
     "output_type": "stream",
     "text": [
      "Epoch 1/1\n",
      "1999/2000 [============================>.] - ETA: 0s - loss: 0.1254"
     ]
    },
    {
     "name": "stderr",
     "output_type": "stream",
     "text": [
      "100%|██████████| 100000/100000 [00:01<00:00, 59261.34it/s]\n"
     ]
    },
    {
     "name": "stdout",
     "output_type": "stream",
     "text": [
      "\b\b\b\b\b\b\b\b\b\b\b\b\b\b\b\b\b\b\b\b\b\b\b\b\b\b\b\b\b\b\b\b\b\b\b\b\b\b\b\b\b\b\b\b\b\b\b\b\b\b\b\b\b\b\b\b\b\b\b\b\b\b\b\b\b\b\b\r",
      "2000/2000 [==============================] - 160s 80ms/step - loss: 0.1255 - val_loss: 0.1737\n"
     ]
    },
    {
     "name": "stderr",
     "output_type": "stream",
     "text": [
      "100%|██████████| 10000/10000 [00:00<00:00, 81914.88it/s]\n"
     ]
    },
    {
     "name": "stdout",
     "output_type": "stream",
     "text": [
      "Epoch 1/1\n",
      "1999/2000 [============================>.] - ETA: 0s - loss: 0.1212"
     ]
    },
    {
     "name": "stderr",
     "output_type": "stream",
     "text": [
      "100%|██████████| 100000/100000 [00:01<00:00, 58334.70it/s]\n"
     ]
    },
    {
     "name": "stdout",
     "output_type": "stream",
     "text": [
      "2000/2000 [==============================] - 160s 80ms/step - loss: 0.1211 - val_loss: 0.1392\n",
      "Epoch 1/1\n",
      "1999/2000 [============================>.] - ETA: 0s - loss: 0.1179"
     ]
    },
    {
     "name": "stderr",
     "output_type": "stream",
     "text": [
      "100%|██████████| 100000/100000 [00:02<00:00, 46273.28it/s]\n"
     ]
    },
    {
     "name": "stdout",
     "output_type": "stream",
     "text": [
      "2000/2000 [==============================] - 160s 80ms/step - loss: 0.1179 - val_loss: 0.1964\n",
      "Epoch 1/1\n",
      "1999/2000 [============================>.] - ETA: 0s - loss: 0.1166"
     ]
    },
    {
     "name": "stderr",
     "output_type": "stream",
     "text": [
      "100%|██████████| 100000/100000 [00:02<00:00, 46051.97it/s]\n"
     ]
    },
    {
     "name": "stdout",
     "output_type": "stream",
     "text": [
      "\b\b\b\b\b\b\b\b\b\b\b\b\b\b\b\b\b\b\b\b\b\b\b\b\b\b\b\b\b\b\b\b\b\b\b\b\b\b\b\b\b\b\b\b\b\b\b\b\b\b\b\b\b\b\b\b\b\b\b\b\b\b\b\b\b\b\b\r",
      "2000/2000 [==============================] - 160s 80ms/step - loss: 0.1167 - val_loss: 0.1414\n",
      "Epoch 1/1\n",
      "1999/2000 [============================>.] - ETA: 0s - loss: 0.1081"
     ]
    },
    {
     "name": "stderr",
     "output_type": "stream",
     "text": [
      "100%|██████████| 100000/100000 [00:02<00:00, 47253.81it/s]\n"
     ]
    },
    {
     "name": "stdout",
     "output_type": "stream",
     "text": [
      "\b\b\b\b\b\b\b\b\b\b\b\b\b\b\b\b\b\b\b\b\b\b\b\b\b\b\b\b\b\b\b\b\b\b\b\b\b\b\b\b\b\b\b\b\b\b\b\b\b\b\b\b\b\b\b\b\b\b\b\b\b\b\b\b\b\b\b\r",
      "2000/2000 [==============================] - 159s 80ms/step - loss: 0.1081 - val_loss: 0.1529\n",
      "Epoch 1/1\n",
      "1999/2000 [============================>.] - ETA: 0s - loss: 0.1061"
     ]
    },
    {
     "name": "stderr",
     "output_type": "stream",
     "text": [
      "100%|██████████| 100000/100000 [00:02<00:00, 45782.80it/s]\n"
     ]
    },
    {
     "name": "stdout",
     "output_type": "stream",
     "text": [
      "\b\b\b\b\b\b\b\b\b\b\b\b\b\b\b\b\b\b\b\b\b\b\b\b\b\b\b\b\b\b\b\b\b\b\b\b\b\b\b\b\b\b\b\b\b\b\b\b\b\b\b\b\b\b\b\b\b\b\b\b\b\b\b\b\b\b\b\r",
      "2000/2000 [==============================] - 160s 80ms/step - loss: 0.1061 - val_loss: 0.1648\n"
     ]
    },
    {
     "name": "stderr",
     "output_type": "stream",
     "text": [
      "100%|██████████| 10000/10000 [00:00<00:00, 83085.47it/s]\n"
     ]
    },
    {
     "name": "stdout",
     "output_type": "stream",
     "text": [
      "Epoch 1/1\n",
      "1999/2000 [============================>.] - ETA: 0s - loss: 0.1036"
     ]
    },
    {
     "name": "stderr",
     "output_type": "stream",
     "text": [
      "100%|██████████| 100000/100000 [00:01<00:00, 57454.56it/s]\n"
     ]
    },
    {
     "name": "stdout",
     "output_type": "stream",
     "text": [
      "\b\b\b\b\b\b\b\b\b\b\b\b\b\b\b\b\b\b\b\b\b\b\b\b\b\b\b\b\b\b\b\b\b\b\b\b\b\b\b\b\b\b\b\b\b\b\b\b\b\b\b\b\b\b\b\b\b\b\b\b\b\b\b\b\b\b\b\r",
      "2000/2000 [==============================] - 160s 80ms/step - loss: 0.1037 - val_loss: 0.1548\n"
     ]
    },
    {
     "name": "stderr",
     "output_type": "stream",
     "text": [
      "100%|██████████| 10000/10000 [00:00<00:00, 86052.01it/s]\n"
     ]
    },
    {
     "name": "stdout",
     "output_type": "stream",
     "text": [
      "Epoch 1/1\n",
      "1999/2000 [============================>.] - ETA: 0s - loss: 0.1028"
     ]
    },
    {
     "name": "stderr",
     "output_type": "stream",
     "text": [
      "100%|██████████| 100000/100000 [00:01<00:00, 59101.04it/s]\n"
     ]
    },
    {
     "name": "stdout",
     "output_type": "stream",
     "text": [
      "\b\b\b\b\b\b\b\b\b\b\b\b\b\b\b\b\b\b\b\b\b\b\b\b\b\b\b\b\b\b\b\b\b\b\b\b\b\b\b\b\b\b\b\b\b\b\b\b\b\b\b\b\b\b\b\b\b\b\b\b\b\b\b\b\b\b\b\r",
      "2000/2000 [==============================] - 159s 80ms/step - loss: 0.1028 - val_loss: 0.1465\n",
      "Epoch 1/1\n",
      "1999/2000 [============================>.] - ETA: 0s - loss: 0.1014"
     ]
    },
    {
     "name": "stderr",
     "output_type": "stream",
     "text": [
      "100%|██████████| 100000/100000 [00:01<00:00, 58030.73it/s]\n"
     ]
    },
    {
     "name": "stdout",
     "output_type": "stream",
     "text": [
      "2000/2000 [==============================] - 159s 79ms/step - loss: 0.1014 - val_loss: 0.1802\n",
      "Epoch 1/1\n",
      "1999/2000 [============================>.] - ETA: 0s - loss: 0.0983"
     ]
    },
    {
     "name": "stderr",
     "output_type": "stream",
     "text": [
      "100%|██████████| 100000/100000 [00:02<00:00, 48360.27it/s]\n"
     ]
    },
    {
     "name": "stdout",
     "output_type": "stream",
     "text": [
      "\b\b\b\b\b\b\b\b\b\b\b\b\b\b\b\b\b\b\b\b\b\b\b\b\b\b\b\b\b\b\b\b\b\b\b\b\b\b\b\b\b\b\b\b\b\b\b\b\b\b\b\b\b\b\b\b\b\b\b\b\b\b\b\b\b\b\b\r",
      "2000/2000 [==============================] - 160s 80ms/step - loss: 0.0984 - val_loss: 0.1455\n"
     ]
    },
    {
     "name": "stderr",
     "output_type": "stream",
     "text": [
      "100%|██████████| 10000/10000 [00:00<00:00, 81764.77it/s]\n"
     ]
    },
    {
     "name": "stdout",
     "output_type": "stream",
     "text": [
      "Epoch 1/1\n",
      "1999/2000 [============================>.] - ETA: 0s - loss: 0.0977"
     ]
    },
    {
     "name": "stderr",
     "output_type": "stream",
     "text": [
      "100%|██████████| 100000/100000 [00:01<00:00, 56189.61it/s]\n"
     ]
    },
    {
     "name": "stdout",
     "output_type": "stream",
     "text": [
      "2000/2000 [==============================] - 159s 80ms/step - loss: 0.0977 - val_loss: 0.1351\n",
      "Epoch 1/1\n",
      "1999/2000 [============================>.] - ETA: 0s - loss: 0.0946"
     ]
    },
    {
     "name": "stderr",
     "output_type": "stream",
     "text": [
      "100%|██████████| 100000/100000 [00:02<00:00, 47536.38it/s]\n"
     ]
    },
    {
     "name": "stdout",
     "output_type": "stream",
     "text": [
      "\b\b\b\b\b\b\b\b\b\b\b\b\b\b\b\b\b\b\b\b\b\b\b\b\b\b\b\b\b\b\b\b\b\b\b\b\b\b\b\b\b\b\b\b\b\b\b\b\b\b\b\b\b\b\b\b\b\b\b\b\b\b\b\b\b\b\b\r",
      "2000/2000 [==============================] - 160s 80ms/step - loss: 0.0947 - val_loss: 0.1418\n"
     ]
    },
    {
     "name": "stderr",
     "output_type": "stream",
     "text": [
      "100%|██████████| 10000/10000 [00:00<00:00, 79778.60it/s]\n"
     ]
    },
    {
     "name": "stdout",
     "output_type": "stream",
     "text": [
      "Epoch 1/1\n",
      "1999/2000 [============================>.] - ETA: 0s - loss: 0.0892"
     ]
    },
    {
     "name": "stderr",
     "output_type": "stream",
     "text": [
      "100%|██████████| 100000/100000 [00:02<00:00, 44839.84it/s]\n"
     ]
    },
    {
     "name": "stdout",
     "output_type": "stream",
     "text": [
      "2000/2000 [==============================] - 158s 79ms/step - loss: 0.0893 - val_loss: 0.1242\n",
      "Epoch 1/1\n",
      "1999/2000 [============================>.] - ETA: 0s - loss: 0.0879"
     ]
    },
    {
     "name": "stderr",
     "output_type": "stream",
     "text": [
      "100%|██████████| 100000/100000 [00:01<00:00, 60963.15it/s]\n"
     ]
    },
    {
     "name": "stdout",
     "output_type": "stream",
     "text": [
      "2000/2000 [==============================] - 157s 79ms/step - loss: 0.0879 - val_loss: 0.1352\n",
      "Epoch 1/1\n",
      "1999/2000 [============================>.] - ETA: 0s - loss: 0.0833"
     ]
    },
    {
     "name": "stderr",
     "output_type": "stream",
     "text": [
      "100%|██████████| 100000/100000 [00:02<00:00, 36874.43it/s]\n"
     ]
    },
    {
     "name": "stdout",
     "output_type": "stream",
     "text": [
      "\b\b\b\b\b\b\b\b\b\b\b\b\b\b\b\b\b\b\b\b\b\b\b\b\b\b\b\b\b\b\b\b\b\b\b\b\b\b\b\b\b\b\b\b\b\b\b\b\b\b\b\b\b\b\b\b\b\b\b\b\b\b\b\b\b\b\b\r",
      "2000/2000 [==============================] - 158s 79ms/step - loss: 0.0833 - val_loss: 0.1465\n",
      "Epoch 1/1\n",
      "1999/2000 [============================>.] - ETA: 0s - loss: 0.0787"
     ]
    },
    {
     "name": "stderr",
     "output_type": "stream",
     "text": [
      "100%|██████████| 100000/100000 [00:02<00:00, 49470.69it/s]\n"
     ]
    },
    {
     "name": "stdout",
     "output_type": "stream",
     "text": [
      "\b\b\b\b\b\b\b\b\b\b\b\b\b\b\b\b\b\b\b\b\b\b\b\b\b\b\b\b\b\b\b\b\b\b\b\b\b\b\b\b\b\b\b\b\b\b\b\b\b\b\b\b\b\b\b\b\b\b\b\b\b\b\b\b\b\b\b\r",
      "2000/2000 [==============================] - 157s 79ms/step - loss: 0.0787 - val_loss: 0.1323\n"
     ]
    },
    {
     "name": "stderr",
     "output_type": "stream",
     "text": [
      "100%|██████████| 10000/10000 [00:00<00:00, 89417.44it/s]\n"
     ]
    }
   ],
   "source": [
    "epochs = 20\n",
    "\n",
    "\n",
    "minimum = float('inf')\n",
    "for e in range(epochs):\n",
    "  descriptor_history = baseline_descriptor_model_trip.fit_generator(generator=training_generator, epochs=1, verbose=1, validation_data=val_generator)\n",
    "  ### Saves optimizer and weights\n",
    "  \n",
    "  val_loss = descriptor_history.history['val_loss'][0]\n",
    "  if val_loss < minimum:\n",
    "    minimum = min(minimum, val_loss)\n",
    "    baseline_descriptor_model_trip.save(f'baseline_hardnet_opt.h5')\n",
    "#   baseline_descriptor_model_trip.save(f'baseline_descriptor_{e+1}.h5')"
   ]
  },
  {
   "cell_type": "markdown",
   "metadata": {
    "colab_type": "text",
    "id": "g4bpaPtzDikI"
   },
   "source": [
    "### 3.2.3 Plot a graph of loss and validation loss"
   ]
  },
  {
   "cell_type": "markdown",
   "metadata": {
    "colab_type": "text",
    "id": "8pxugCjjGz_n"
   },
   "source": [
    "# 3.3 Verification, Matching and Retrieval Tasks\n",
    "### 3.3.1 Verification\n",
    "Patch verification measures the ability of a descriptor to classify whether two patches are extracted from the same measurement. \n",
    "### 3.3.2 Matching\n",
    "Image matching, tests to what extent a descriptor can correctly identify correspondences in two images.\n",
    "### 3.3.3 Retrieval \n",
    "Retrieval tests how well a descriptor can match a query patch to a pool of patches extracted from many images."
   ]
  },
  {
   "cell_type": "code",
   "execution_count": 0,
   "metadata": {
    "colab": {
     "base_uri": "https://localhost:8080/",
     "height": 34
    },
    "colab_type": "code",
    "id": "dwm-9sxyGzaQ",
    "outputId": "a57beaca-bd61-48d2-8f73-3c7b198c6fbf"
   },
   "outputs": [
    {
     "name": "stderr",
     "output_type": "stream",
     "text": [
      "100%|██████████| 40/40 [06:30<00:00,  9.86s/it]\n"
     ]
    }
   ],
   "source": [
    "run_vmr('baseline', baseline_descriptor_model, denoise_model)"
   ]
  },
  {
   "cell_type": "markdown",
   "metadata": {
    "colab_type": "text",
    "id": "bOvw2rnTUVoX"
   },
   "source": [
    "# 3 Optimise Denoise Model"
   ]
  },
  {
   "cell_type": "markdown",
   "metadata": {
    "colab_type": "text",
    "id": "oE_V92fCBqg3"
   },
   "source": [
    "## 3.1 Full Unet model"
   ]
  },
  {
   "cell_type": "code",
   "execution_count": 0,
   "metadata": {
    "colab": {},
    "colab_type": "code",
    "id": "Y6UAUuHNUVaq"
   },
   "outputs": [],
   "source": [
    "# autoencoder with skipping\n",
    "def get_unet_denoise_model(shape):\n",
    "  inputs = Input(shape)\n",
    "  \n",
    "  conv1 = Conv2D(64, 3, activation = 'relu', padding = 'same', kernel_initializer = 'he_normal')(inputs)\n",
    "  \n",
    "  pool1 = MaxPooling2D(pool_size=(2, 2))(conv1)\n",
    "  conv2 = Conv2D(128, 3, activation = 'relu', padding = 'same', kernel_initializer = 'he_normal')(pool1)\n",
    "  pool2 = MaxPooling2D(pool_size=(2, 2))(conv2)\n",
    "  conv3 = Conv2D(256, 3, activation = 'relu', padding = 'same', kernel_initializer = 'he_normal')(pool2)\n",
    "  pool3 = MaxPooling2D(pool_size=(2, 2))(conv3)\n",
    "  conv4 = Conv2D(512, 3, activation = 'relu', padding = 'same', kernel_initializer = 'he_normal')(pool3)\n",
    "  drop4 = Dropout(0.5)(conv4)\n",
    "  pool4 = MaxPooling2D(pool_size=(2, 2))(drop4)\n",
    "\n",
    "  conv5 = Conv2D(1024, 3, activation = 'relu', padding = 'same', kernel_initializer = 'he_normal')(pool4)\n",
    "  drop5 = Dropout(0.5)(conv5)\n",
    "\n",
    "  ## Now the decoder starts\n",
    "\n",
    "  up6 = Conv2D(512, 2, activation = 'relu', padding = 'same', kernel_initializer = 'he_normal')(UpSampling2D(size = (2,2))(drop5))\n",
    "  merge6 = concatenate([drop4,up6], axis = 3)\n",
    "  conv6 = Conv2D(512, 3, activation = 'relu', padding = 'same', kernel_initializer = 'he_normal')(merge6)\n",
    "\n",
    "  up7 = Conv2D(256, 2, activation = 'relu', padding = 'same', kernel_initializer = 'he_normal')(UpSampling2D(size = (2,2))(conv6))\n",
    "  merge7 = concatenate([conv3,up7], axis = 3)\n",
    "  conv7 = Conv2D(256, 3, activation = 'relu', padding = 'same', kernel_initializer = 'he_normal')(merge7)\n",
    "\n",
    "  up8 = Conv2D(128, 2, activation = 'relu', padding = 'same', kernel_initializer = 'he_normal')(UpSampling2D(size = (2,2))(conv7))\n",
    "  merge8 = concatenate([conv2,up8], axis = 3)\n",
    "  conv8 = Conv2D(128, 3, activation = 'relu', padding = 'same', kernel_initializer = 'he_normal')(merge8)\n",
    "\n",
    "  up9 = Conv2D(64, 2, activation = 'relu', padding = 'same', kernel_initializer = 'he_normal')(UpSampling2D(size = (2,2))(conv8))\n",
    "  merge9 = concatenate([conv1,up9], axis = 3)\n",
    "  conv9 = Conv2D(64, 3, activation = 'relu', padding = 'same', kernel_initializer = 'he_normal')(merge9)\n",
    "  conv10 = Conv2D(1, 3,  padding = 'same')(conv9)\n",
    "\n",
    "  unet = Model(inputs = inputs, outputs = conv10)\n",
    "  \n",
    "  return unet"
   ]
  },
  {
   "cell_type": "code",
   "execution_count": 10,
   "metadata": {
    "colab": {
     "base_uri": "https://localhost:8080/",
     "height": 139
    },
    "colab_type": "code",
    "id": "-dIgJXpuUvSR",
    "outputId": "cfce7582-df2e-429a-ae23-ea81aa68920d"
   },
   "outputs": [
    {
     "name": "stdout",
     "output_type": "stream",
     "text": [
      "WARNING:tensorflow:From /usr/local/lib/python3.6/dist-packages/tensorflow/python/framework/op_def_library.py:263: colocate_with (from tensorflow.python.framework.ops) is deprecated and will be removed in a future version.\n",
      "Instructions for updating:\n",
      "Colocations handled automatically by placer.\n",
      "WARNING:tensorflow:From /usr/local/lib/python3.6/dist-packages/keras/backend/tensorflow_backend.py:3445: calling dropout (from tensorflow.python.ops.nn_ops) with keep_prob is deprecated and will be removed in a future version.\n",
      "Instructions for updating:\n",
      "Please use `rate` instead of `keep_prob`. Rate should be set to `rate = 1 - keep_prob`.\n"
     ]
    }
   ],
   "source": [
    "shape = (32, 32, 1)\n",
    "denoise_unet_model = get_unet_denoise_model(shape)"
   ]
  },
  {
   "cell_type": "markdown",
   "metadata": {
    "colab_type": "text",
    "id": "TRK_cA_5Bz0w"
   },
   "source": [
    "### Visualise model"
   ]
  },
  {
   "cell_type": "code",
   "execution_count": 0,
   "metadata": {
    "colab": {
     "base_uri": "https://localhost:8080/",
     "height": 2806
    },
    "colab_type": "code",
    "id": "v2Jl1iDhBzXe",
    "outputId": "54499f88-d458-493c-e1aa-1e9054f4733f"
   },
   "outputs": [
    {
     "data": {
      "image/svg+xml": [
       "<svg height=\"2089pt\" viewBox=\"0.00 0.00 452.00 2089.00\" width=\"452pt\" xmlns=\"http://www.w3.org/2000/svg\" xmlns:xlink=\"http://www.w3.org/1999/xlink\">\n",
       "<g class=\"graph\" id=\"graph0\" transform=\"scale(1 1) rotate(0) translate(4 2085)\">\n",
       "<title>G</title>\n",
       "<polygon fill=\"#ffffff\" points=\"-4,4 -4,-2085 448,-2085 448,4 -4,4\" stroke=\"transparent\"/>\n",
       "<!-- 139805630798368 -->\n",
       "<g class=\"node\" id=\"node1\">\n",
       "<title>139805630798368</title>\n",
       "<polygon fill=\"none\" points=\"289,-2044.5 289,-2080.5 422,-2080.5 422,-2044.5 289,-2044.5\" stroke=\"#000000\"/>\n",
       "<text fill=\"#000000\" font-family=\"Times,serif\" font-size=\"14.00\" text-anchor=\"middle\" x=\"355.5\" y=\"-2058.8\">input_2: InputLayer</text>\n",
       "</g>\n",
       "<!-- 139805630797864 -->\n",
       "<g class=\"node\" id=\"node2\">\n",
       "<title>139805630797864</title>\n",
       "<polygon fill=\"none\" points=\"285.5,-1971.5 285.5,-2007.5 425.5,-2007.5 425.5,-1971.5 285.5,-1971.5\" stroke=\"#000000\"/>\n",
       "<text fill=\"#000000\" font-family=\"Times,serif\" font-size=\"14.00\" text-anchor=\"middle\" x=\"355.5\" y=\"-1985.8\">conv2d_13: Conv2D</text>\n",
       "</g>\n",
       "<!-- 139805630798368&#45;&gt;139805630797864 -->\n",
       "<g class=\"edge\" id=\"edge1\">\n",
       "<title>139805630798368-&gt;139805630797864</title>\n",
       "<path d=\"M355.5,-2044.4551C355.5,-2036.3828 355.5,-2026.6764 355.5,-2017.6817\" fill=\"none\" stroke=\"#000000\"/>\n",
       "<polygon fill=\"#000000\" points=\"359.0001,-2017.5903 355.5,-2007.5904 352.0001,-2017.5904 359.0001,-2017.5903\" stroke=\"#000000\"/>\n",
       "</g>\n",
       "<!-- 139805630796240 -->\n",
       "<g class=\"node\" id=\"node3\">\n",
       "<title>139805630796240</title>\n",
       "<polygon fill=\"none\" points=\"176,-1898.5 176,-1934.5 397,-1934.5 397,-1898.5 176,-1898.5\" stroke=\"#000000\"/>\n",
       "<text fill=\"#000000\" font-family=\"Times,serif\" font-size=\"14.00\" text-anchor=\"middle\" x=\"286.5\" y=\"-1912.8\">max_pooling2d_2: MaxPooling2D</text>\n",
       "</g>\n",
       "<!-- 139805630797864&#45;&gt;139805630796240 -->\n",
       "<g class=\"edge\" id=\"edge2\">\n",
       "<title>139805630797864-&gt;139805630796240</title>\n",
       "<path d=\"M338.4438,-1971.4551C330.0675,-1962.5932 319.8295,-1951.7616 310.6638,-1942.0646\" fill=\"none\" stroke=\"#000000\"/>\n",
       "<polygon fill=\"#000000\" points=\"313.0119,-1939.4535 303.5991,-1934.5904 307.9247,-1944.262 313.0119,-1939.4535\" stroke=\"#000000\"/>\n",
       "</g>\n",
       "<!-- 139805603741424 -->\n",
       "<g class=\"node\" id=\"node27\">\n",
       "<title>139805603741424</title>\n",
       "<polygon fill=\"none\" points=\"269,-146.5 269,-182.5 444,-182.5 444,-146.5 269,-146.5\" stroke=\"#000000\"/>\n",
       "<text fill=\"#000000\" font-family=\"Times,serif\" font-size=\"14.00\" text-anchor=\"middle\" x=\"356.5\" y=\"-160.8\">concatenate_5: Concatenate</text>\n",
       "</g>\n",
       "<!-- 139805630797864&#45;&gt;139805603741424 -->\n",
       "<g class=\"edge\" id=\"edge29\">\n",
       "<title>139805630797864-&gt;139805603741424</title>\n",
       "<path d=\"M377.3254,-1971.386C387.6866,-1961.6416 399.3401,-1948.8038 406.5,-1935 425.6239,-1898.1305 425.5,-1885.0342 425.5,-1843.5 425.5,-1843.5 425.5,-1843.5 425.5,-310.5 425.5,-265.0214 397.7942,-218.5554 377.495,-190.6146\" fill=\"none\" stroke=\"#000000\"/>\n",
       "<polygon fill=\"#000000\" points=\"380.2635,-188.4724 371.472,-182.5597 374.6574,-192.6643 380.2635,-188.4724\" stroke=\"#000000\"/>\n",
       "</g>\n",
       "<!-- 139805630798536 -->\n",
       "<g class=\"node\" id=\"node4\">\n",
       "<title>139805630798536</title>\n",
       "<polygon fill=\"none\" points=\"216.5,-1825.5 216.5,-1861.5 356.5,-1861.5 356.5,-1825.5 216.5,-1825.5\" stroke=\"#000000\"/>\n",
       "<text fill=\"#000000\" font-family=\"Times,serif\" font-size=\"14.00\" text-anchor=\"middle\" x=\"286.5\" y=\"-1839.8\">conv2d_14: Conv2D</text>\n",
       "</g>\n",
       "<!-- 139805630796240&#45;&gt;139805630798536 -->\n",
       "<g class=\"edge\" id=\"edge3\">\n",
       "<title>139805630796240-&gt;139805630798536</title>\n",
       "<path d=\"M286.5,-1898.4551C286.5,-1890.3828 286.5,-1880.6764 286.5,-1871.6817\" fill=\"none\" stroke=\"#000000\"/>\n",
       "<polygon fill=\"#000000\" points=\"290.0001,-1871.5903 286.5,-1861.5904 283.0001,-1871.5904 290.0001,-1871.5903\" stroke=\"#000000\"/>\n",
       "</g>\n",
       "<!-- 139806140522960 -->\n",
       "<g class=\"node\" id=\"node5\">\n",
       "<title>139806140522960</title>\n",
       "<polygon fill=\"none\" points=\"127,-1752.5 127,-1788.5 348,-1788.5 348,-1752.5 127,-1752.5\" stroke=\"#000000\"/>\n",
       "<text fill=\"#000000\" font-family=\"Times,serif\" font-size=\"14.00\" text-anchor=\"middle\" x=\"237.5\" y=\"-1766.8\">max_pooling2d_3: MaxPooling2D</text>\n",
       "</g>\n",
       "<!-- 139805630798536&#45;&gt;139806140522960 -->\n",
       "<g class=\"edge\" id=\"edge4\">\n",
       "<title>139805630798536-&gt;139806140522960</title>\n",
       "<path d=\"M274.3876,-1825.4551C268.6159,-1816.8564 261.5995,-1806.4034 255.2418,-1796.9316\" fill=\"none\" stroke=\"#000000\"/>\n",
       "<polygon fill=\"#000000\" points=\"258.1222,-1794.9427 249.6428,-1788.5904 252.3101,-1798.844 258.1222,-1794.9427\" stroke=\"#000000\"/>\n",
       "</g>\n",
       "<!-- 139805575568576 -->\n",
       "<g class=\"node\" id=\"node23\">\n",
       "<title>139805575568576</title>\n",
       "<polygon fill=\"none\" points=\"199,-438.5 199,-474.5 374,-474.5 374,-438.5 199,-438.5\" stroke=\"#000000\"/>\n",
       "<text fill=\"#000000\" font-family=\"Times,serif\" font-size=\"14.00\" text-anchor=\"middle\" x=\"286.5\" y=\"-452.8\">concatenate_4: Concatenate</text>\n",
       "</g>\n",
       "<!-- 139805630798536&#45;&gt;139805575568576 -->\n",
       "<g class=\"edge\" id=\"edge24\">\n",
       "<title>139805630798536-&gt;139805575568576</title>\n",
       "<path d=\"M318.9396,-1825.2657C332.4964,-1816.0694 347.2224,-1803.725 356.5,-1789 378.6901,-1753.7808 376.5,-1739.1268 376.5,-1697.5 376.5,-1697.5 376.5,-1697.5 376.5,-602.5 376.5,-559.7033 369.7783,-546.9121 346.5,-511 339.3127,-499.9119 329.3257,-489.6256 319.5598,-481.0447\" fill=\"none\" stroke=\"#000000\"/>\n",
       "<polygon fill=\"#000000\" points=\"321.7388,-478.3041 311.8329,-474.5459 317.2331,-483.6612 321.7388,-478.3041\" stroke=\"#000000\"/>\n",
       "</g>\n",
       "<!-- 139805576050448 -->\n",
       "<g class=\"node\" id=\"node6\">\n",
       "<title>139805576050448</title>\n",
       "<polygon fill=\"none\" points=\"167.5,-1679.5 167.5,-1715.5 307.5,-1715.5 307.5,-1679.5 167.5,-1679.5\" stroke=\"#000000\"/>\n",
       "<text fill=\"#000000\" font-family=\"Times,serif\" font-size=\"14.00\" text-anchor=\"middle\" x=\"237.5\" y=\"-1693.8\">conv2d_15: Conv2D</text>\n",
       "</g>\n",
       "<!-- 139806140522960&#45;&gt;139805576050448 -->\n",
       "<g class=\"edge\" id=\"edge5\">\n",
       "<title>139806140522960-&gt;139805576050448</title>\n",
       "<path d=\"M237.5,-1752.4551C237.5,-1744.3828 237.5,-1734.6764 237.5,-1725.6817\" fill=\"none\" stroke=\"#000000\"/>\n",
       "<polygon fill=\"#000000\" points=\"241.0001,-1725.5903 237.5,-1715.5904 234.0001,-1725.5904 241.0001,-1725.5903\" stroke=\"#000000\"/>\n",
       "</g>\n",
       "<!-- 139805581712688 -->\n",
       "<g class=\"node\" id=\"node7\">\n",
       "<title>139805581712688</title>\n",
       "<polygon fill=\"none\" points=\"88,-1606.5 88,-1642.5 309,-1642.5 309,-1606.5 88,-1606.5\" stroke=\"#000000\"/>\n",
       "<text fill=\"#000000\" font-family=\"Times,serif\" font-size=\"14.00\" text-anchor=\"middle\" x=\"198.5\" y=\"-1620.8\">max_pooling2d_4: MaxPooling2D</text>\n",
       "</g>\n",
       "<!-- 139805576050448&#45;&gt;139805581712688 -->\n",
       "<g class=\"edge\" id=\"edge6\">\n",
       "<title>139805576050448-&gt;139805581712688</title>\n",
       "<path d=\"M227.8595,-1679.4551C223.3595,-1671.0319 217.9088,-1660.8292 212.9315,-1651.5128\" fill=\"none\" stroke=\"#000000\"/>\n",
       "<polygon fill=\"#000000\" points=\"215.964,-1649.7613 208.1647,-1642.5904 209.7898,-1653.0598 215.964,-1649.7613\" stroke=\"#000000\"/>\n",
       "</g>\n",
       "<!-- 139805622672352 -->\n",
       "<g class=\"node\" id=\"node19\">\n",
       "<title>139805622672352</title>\n",
       "<polygon fill=\"none\" points=\"150,-730.5 150,-766.5 325,-766.5 325,-730.5 150,-730.5\" stroke=\"#000000\"/>\n",
       "<text fill=\"#000000\" font-family=\"Times,serif\" font-size=\"14.00\" text-anchor=\"middle\" x=\"237.5\" y=\"-744.8\">concatenate_3: Concatenate</text>\n",
       "</g>\n",
       "<!-- 139805576050448&#45;&gt;139805622672352 -->\n",
       "<g class=\"edge\" id=\"edge19\">\n",
       "<title>139805576050448-&gt;139805622672352</title>\n",
       "<path d=\"M275.7866,-1679.4884C290.9286,-1670.5366 307.154,-1658.3198 317.5,-1643 340.797,-1608.5031 337.5,-1593.1268 337.5,-1551.5 337.5,-1551.5 337.5,-1551.5 337.5,-894.5 337.5,-850.1173 323.3875,-839.0508 297.5,-803 289.7279,-792.1766 279.4968,-781.9039 269.6891,-773.2551\" fill=\"none\" stroke=\"#000000\"/>\n",
       "<polygon fill=\"#000000\" points=\"271.8538,-770.5016 261.9692,-766.6877 267.318,-775.8332 271.8538,-770.5016\" stroke=\"#000000\"/>\n",
       "</g>\n",
       "<!-- 139805581712800 -->\n",
       "<g class=\"node\" id=\"node8\">\n",
       "<title>139805581712800</title>\n",
       "<polygon fill=\"none\" points=\"128.5,-1533.5 128.5,-1569.5 268.5,-1569.5 268.5,-1533.5 128.5,-1533.5\" stroke=\"#000000\"/>\n",
       "<text fill=\"#000000\" font-family=\"Times,serif\" font-size=\"14.00\" text-anchor=\"middle\" x=\"198.5\" y=\"-1547.8\">conv2d_16: Conv2D</text>\n",
       "</g>\n",
       "<!-- 139805581712688&#45;&gt;139805581712800 -->\n",
       "<g class=\"edge\" id=\"edge7\">\n",
       "<title>139805581712688-&gt;139805581712800</title>\n",
       "<path d=\"M198.5,-1606.4551C198.5,-1598.3828 198.5,-1588.6764 198.5,-1579.6817\" fill=\"none\" stroke=\"#000000\"/>\n",
       "<polygon fill=\"#000000\" points=\"202.0001,-1579.5903 198.5,-1569.5904 195.0001,-1579.5904 202.0001,-1579.5903\" stroke=\"#000000\"/>\n",
       "</g>\n",
       "<!-- 139805581685144 -->\n",
       "<g class=\"node\" id=\"node9\">\n",
       "<title>139805581685144</title>\n",
       "<polygon fill=\"none\" points=\"131.5,-1460.5 131.5,-1496.5 265.5,-1496.5 265.5,-1460.5 131.5,-1460.5\" stroke=\"#000000\"/>\n",
       "<text fill=\"#000000\" font-family=\"Times,serif\" font-size=\"14.00\" text-anchor=\"middle\" x=\"198.5\" y=\"-1474.8\">dropout_2: Dropout</text>\n",
       "</g>\n",
       "<!-- 139805581712800&#45;&gt;139805581685144 -->\n",
       "<g class=\"edge\" id=\"edge8\">\n",
       "<title>139805581712800-&gt;139805581685144</title>\n",
       "<path d=\"M198.5,-1533.4551C198.5,-1525.3828 198.5,-1515.6764 198.5,-1506.6817\" fill=\"none\" stroke=\"#000000\"/>\n",
       "<polygon fill=\"#000000\" points=\"202.0001,-1506.5903 198.5,-1496.5904 195.0001,-1506.5904 202.0001,-1506.5903\" stroke=\"#000000\"/>\n",
       "</g>\n",
       "<!-- 139805581685536 -->\n",
       "<g class=\"node\" id=\"node10\">\n",
       "<title>139805581685536</title>\n",
       "<polygon fill=\"none\" points=\"0,-1387.5 0,-1423.5 221,-1423.5 221,-1387.5 0,-1387.5\" stroke=\"#000000\"/>\n",
       "<text fill=\"#000000\" font-family=\"Times,serif\" font-size=\"14.00\" text-anchor=\"middle\" x=\"110.5\" y=\"-1401.8\">max_pooling2d_5: MaxPooling2D</text>\n",
       "</g>\n",
       "<!-- 139805581685144&#45;&gt;139805581685536 -->\n",
       "<g class=\"edge\" id=\"edge9\">\n",
       "<title>139805581685144-&gt;139805581685536</title>\n",
       "<path d=\"M176.7472,-1460.4551C165.747,-1451.3299 152.2294,-1440.1165 140.2797,-1430.2036\" fill=\"none\" stroke=\"#000000\"/>\n",
       "<polygon fill=\"#000000\" points=\"142.2387,-1427.2812 132.3076,-1423.5904 137.7695,-1432.6688 142.2387,-1427.2812\" stroke=\"#000000\"/>\n",
       "</g>\n",
       "<!-- 139805581775368 -->\n",
       "<g class=\"node\" id=\"node15\">\n",
       "<title>139805581775368</title>\n",
       "<polygon fill=\"none\" points=\"111,-1022.5 111,-1058.5 286,-1058.5 286,-1022.5 111,-1022.5\" stroke=\"#000000\"/>\n",
       "<text fill=\"#000000\" font-family=\"Times,serif\" font-size=\"14.00\" text-anchor=\"middle\" x=\"198.5\" y=\"-1036.8\">concatenate_2: Concatenate</text>\n",
       "</g>\n",
       "<!-- 139805581685144&#45;&gt;139805581775368 -->\n",
       "<g class=\"edge\" id=\"edge14\">\n",
       "<title>139805581685144-&gt;139805581775368</title>\n",
       "<path d=\"M210.8715,-1460.0253C217.2428,-1449.7835 224.6671,-1436.603 229.5,-1424 244.4046,-1385.133 249.5,-1374.1268 249.5,-1332.5 249.5,-1332.5 249.5,-1332.5 249.5,-1186.5 249.5,-1143.0799 229.1478,-1096.2548 214.157,-1067.6541\" fill=\"none\" stroke=\"#000000\"/>\n",
       "<polygon fill=\"#000000\" points=\"217.1456,-1065.8222 209.3158,-1058.6846 210.9855,-1069.147 217.1456,-1065.8222\" stroke=\"#000000\"/>\n",
       "</g>\n",
       "<!-- 139805581687440 -->\n",
       "<g class=\"node\" id=\"node11\">\n",
       "<title>139805581687440</title>\n",
       "<polygon fill=\"none\" points=\"40.5,-1314.5 40.5,-1350.5 180.5,-1350.5 180.5,-1314.5 40.5,-1314.5\" stroke=\"#000000\"/>\n",
       "<text fill=\"#000000\" font-family=\"Times,serif\" font-size=\"14.00\" text-anchor=\"middle\" x=\"110.5\" y=\"-1328.8\">conv2d_17: Conv2D</text>\n",
       "</g>\n",
       "<!-- 139805581685536&#45;&gt;139805581687440 -->\n",
       "<g class=\"edge\" id=\"edge10\">\n",
       "<title>139805581685536-&gt;139805581687440</title>\n",
       "<path d=\"M110.5,-1387.4551C110.5,-1379.3828 110.5,-1369.6764 110.5,-1360.6817\" fill=\"none\" stroke=\"#000000\"/>\n",
       "<polygon fill=\"#000000\" points=\"114.0001,-1360.5903 110.5,-1350.5904 107.0001,-1360.5904 114.0001,-1360.5903\" stroke=\"#000000\"/>\n",
       "</g>\n",
       "<!-- 139805581713592 -->\n",
       "<g class=\"node\" id=\"node12\">\n",
       "<title>139805581713592</title>\n",
       "<polygon fill=\"none\" points=\"43.5,-1241.5 43.5,-1277.5 177.5,-1277.5 177.5,-1241.5 43.5,-1241.5\" stroke=\"#000000\"/>\n",
       "<text fill=\"#000000\" font-family=\"Times,serif\" font-size=\"14.00\" text-anchor=\"middle\" x=\"110.5\" y=\"-1255.8\">dropout_3: Dropout</text>\n",
       "</g>\n",
       "<!-- 139805581687440&#45;&gt;139805581713592 -->\n",
       "<g class=\"edge\" id=\"edge11\">\n",
       "<title>139805581687440-&gt;139805581713592</title>\n",
       "<path d=\"M110.5,-1314.4551C110.5,-1306.3828 110.5,-1296.6764 110.5,-1287.6817\" fill=\"none\" stroke=\"#000000\"/>\n",
       "<polygon fill=\"#000000\" points=\"114.0001,-1287.5903 110.5,-1277.5904 107.0001,-1287.5904 114.0001,-1287.5903\" stroke=\"#000000\"/>\n",
       "</g>\n",
       "<!-- 139805581775088 -->\n",
       "<g class=\"node\" id=\"node13\">\n",
       "<title>139805581775088</title>\n",
       "<polygon fill=\"none\" points=\"0,-1168.5 0,-1204.5 221,-1204.5 221,-1168.5 0,-1168.5\" stroke=\"#000000\"/>\n",
       "<text fill=\"#000000\" font-family=\"Times,serif\" font-size=\"14.00\" text-anchor=\"middle\" x=\"110.5\" y=\"-1182.8\">up_sampling2d_2: UpSampling2D</text>\n",
       "</g>\n",
       "<!-- 139805581713592&#45;&gt;139805581775088 -->\n",
       "<g class=\"edge\" id=\"edge12\">\n",
       "<title>139805581713592-&gt;139805581775088</title>\n",
       "<path d=\"M110.5,-1241.4551C110.5,-1233.3828 110.5,-1223.6764 110.5,-1214.6817\" fill=\"none\" stroke=\"#000000\"/>\n",
       "<polygon fill=\"#000000\" points=\"114.0001,-1214.5903 110.5,-1204.5904 107.0001,-1214.5904 114.0001,-1214.5903\" stroke=\"#000000\"/>\n",
       "</g>\n",
       "<!-- 139805581716784 -->\n",
       "<g class=\"node\" id=\"node14\">\n",
       "<title>139805581716784</title>\n",
       "<polygon fill=\"none\" points=\"59.5,-1095.5 59.5,-1131.5 199.5,-1131.5 199.5,-1095.5 59.5,-1095.5\" stroke=\"#000000\"/>\n",
       "<text fill=\"#000000\" font-family=\"Times,serif\" font-size=\"14.00\" text-anchor=\"middle\" x=\"129.5\" y=\"-1109.8\">conv2d_18: Conv2D</text>\n",
       "</g>\n",
       "<!-- 139805581775088&#45;&gt;139805581716784 -->\n",
       "<g class=\"edge\" id=\"edge13\">\n",
       "<title>139805581775088-&gt;139805581716784</title>\n",
       "<path d=\"M115.1966,-1168.4551C117.3205,-1160.2951 119.8789,-1150.4652 122.2413,-1141.3887\" fill=\"none\" stroke=\"#000000\"/>\n",
       "<polygon fill=\"#000000\" points=\"125.6598,-1142.1496 124.7916,-1131.5904 118.8855,-1140.3863 125.6598,-1142.1496\" stroke=\"#000000\"/>\n",
       "</g>\n",
       "<!-- 139805581716784&#45;&gt;139805581775368 -->\n",
       "<g class=\"edge\" id=\"edge15\">\n",
       "<title>139805581716784-&gt;139805581775368</title>\n",
       "<path d=\"M146.5562,-1095.4551C154.9325,-1086.5932 165.1705,-1075.7616 174.3362,-1066.0646\" fill=\"none\" stroke=\"#000000\"/>\n",
       "<polygon fill=\"#000000\" points=\"177.0753,-1068.262 181.4009,-1058.5904 171.9881,-1063.4535 177.0753,-1068.262\" stroke=\"#000000\"/>\n",
       "</g>\n",
       "<!-- 139805636823808 -->\n",
       "<g class=\"node\" id=\"node16\">\n",
       "<title>139805636823808</title>\n",
       "<polygon fill=\"none\" points=\"128.5,-949.5 128.5,-985.5 268.5,-985.5 268.5,-949.5 128.5,-949.5\" stroke=\"#000000\"/>\n",
       "<text fill=\"#000000\" font-family=\"Times,serif\" font-size=\"14.00\" text-anchor=\"middle\" x=\"198.5\" y=\"-963.8\">conv2d_19: Conv2D</text>\n",
       "</g>\n",
       "<!-- 139805581775368&#45;&gt;139805636823808 -->\n",
       "<g class=\"edge\" id=\"edge16\">\n",
       "<title>139805581775368-&gt;139805636823808</title>\n",
       "<path d=\"M198.5,-1022.4551C198.5,-1014.3828 198.5,-1004.6764 198.5,-995.6817\" fill=\"none\" stroke=\"#000000\"/>\n",
       "<polygon fill=\"#000000\" points=\"202.0001,-995.5903 198.5,-985.5904 195.0001,-995.5904 202.0001,-995.5903\" stroke=\"#000000\"/>\n",
       "</g>\n",
       "<!-- 139805622671568 -->\n",
       "<g class=\"node\" id=\"node17\">\n",
       "<title>139805622671568</title>\n",
       "<polygon fill=\"none\" points=\"88,-876.5 88,-912.5 309,-912.5 309,-876.5 88,-876.5\" stroke=\"#000000\"/>\n",
       "<text fill=\"#000000\" font-family=\"Times,serif\" font-size=\"14.00\" text-anchor=\"middle\" x=\"198.5\" y=\"-890.8\">up_sampling2d_3: UpSampling2D</text>\n",
       "</g>\n",
       "<!-- 139805636823808&#45;&gt;139805622671568 -->\n",
       "<g class=\"edge\" id=\"edge17\">\n",
       "<title>139805636823808-&gt;139805622671568</title>\n",
       "<path d=\"M198.5,-949.4551C198.5,-941.3828 198.5,-931.6764 198.5,-922.6817\" fill=\"none\" stroke=\"#000000\"/>\n",
       "<polygon fill=\"#000000\" points=\"202.0001,-922.5903 198.5,-912.5904 195.0001,-922.5904 202.0001,-922.5903\" stroke=\"#000000\"/>\n",
       "</g>\n",
       "<!-- 139806106481216 -->\n",
       "<g class=\"node\" id=\"node18\">\n",
       "<title>139806106481216</title>\n",
       "<polygon fill=\"none\" points=\"148.5,-803.5 148.5,-839.5 288.5,-839.5 288.5,-803.5 148.5,-803.5\" stroke=\"#000000\"/>\n",
       "<text fill=\"#000000\" font-family=\"Times,serif\" font-size=\"14.00\" text-anchor=\"middle\" x=\"218.5\" y=\"-817.8\">conv2d_20: Conv2D</text>\n",
       "</g>\n",
       "<!-- 139805622671568&#45;&gt;139806106481216 -->\n",
       "<g class=\"edge\" id=\"edge18\">\n",
       "<title>139805622671568-&gt;139806106481216</title>\n",
       "<path d=\"M203.4438,-876.4551C205.6794,-868.2951 208.3726,-858.4652 210.8593,-849.3887\" fill=\"none\" stroke=\"#000000\"/>\n",
       "<polygon fill=\"#000000\" points=\"214.2769,-850.1598 213.5437,-839.5904 207.5257,-848.3101 214.2769,-850.1598\" stroke=\"#000000\"/>\n",
       "</g>\n",
       "<!-- 139806106481216&#45;&gt;139805622672352 -->\n",
       "<g class=\"edge\" id=\"edge20\">\n",
       "<title>139806106481216-&gt;139805622672352</title>\n",
       "<path d=\"M223.1966,-803.4551C225.3205,-795.2951 227.8789,-785.4652 230.2413,-776.3887\" fill=\"none\" stroke=\"#000000\"/>\n",
       "<polygon fill=\"#000000\" points=\"233.6598,-777.1496 232.7916,-766.5904 226.8855,-775.3863 233.6598,-777.1496\" stroke=\"#000000\"/>\n",
       "</g>\n",
       "<!-- 139805622671960 -->\n",
       "<g class=\"node\" id=\"node20\">\n",
       "<title>139805622671960</title>\n",
       "<polygon fill=\"none\" points=\"167.5,-657.5 167.5,-693.5 307.5,-693.5 307.5,-657.5 167.5,-657.5\" stroke=\"#000000\"/>\n",
       "<text fill=\"#000000\" font-family=\"Times,serif\" font-size=\"14.00\" text-anchor=\"middle\" x=\"237.5\" y=\"-671.8\">conv2d_21: Conv2D</text>\n",
       "</g>\n",
       "<!-- 139805622672352&#45;&gt;139805622671960 -->\n",
       "<g class=\"edge\" id=\"edge21\">\n",
       "<title>139805622672352-&gt;139805622671960</title>\n",
       "<path d=\"M237.5,-730.4551C237.5,-722.3828 237.5,-712.6764 237.5,-703.6817\" fill=\"none\" stroke=\"#000000\"/>\n",
       "<polygon fill=\"#000000\" points=\"241.0001,-703.5903 237.5,-693.5904 234.0001,-703.5904 241.0001,-703.5903\" stroke=\"#000000\"/>\n",
       "</g>\n",
       "<!-- 139805575567792 -->\n",
       "<g class=\"node\" id=\"node21\">\n",
       "<title>139805575567792</title>\n",
       "<polygon fill=\"none\" points=\"127,-584.5 127,-620.5 348,-620.5 348,-584.5 127,-584.5\" stroke=\"#000000\"/>\n",
       "<text fill=\"#000000\" font-family=\"Times,serif\" font-size=\"14.00\" text-anchor=\"middle\" x=\"237.5\" y=\"-598.8\">up_sampling2d_4: UpSampling2D</text>\n",
       "</g>\n",
       "<!-- 139805622671960&#45;&gt;139805575567792 -->\n",
       "<g class=\"edge\" id=\"edge22\">\n",
       "<title>139805622671960-&gt;139805575567792</title>\n",
       "<path d=\"M237.5,-657.4551C237.5,-649.3828 237.5,-639.6764 237.5,-630.6817\" fill=\"none\" stroke=\"#000000\"/>\n",
       "<polygon fill=\"#000000\" points=\"241.0001,-630.5903 237.5,-620.5904 234.0001,-630.5904 241.0001,-630.5903\" stroke=\"#000000\"/>\n",
       "</g>\n",
       "<!-- 139805641383888 -->\n",
       "<g class=\"node\" id=\"node22\">\n",
       "<title>139805641383888</title>\n",
       "<polygon fill=\"none\" points=\"197.5,-511.5 197.5,-547.5 337.5,-547.5 337.5,-511.5 197.5,-511.5\" stroke=\"#000000\"/>\n",
       "<text fill=\"#000000\" font-family=\"Times,serif\" font-size=\"14.00\" text-anchor=\"middle\" x=\"267.5\" y=\"-525.8\">conv2d_22: Conv2D</text>\n",
       "</g>\n",
       "<!-- 139805575567792&#45;&gt;139805641383888 -->\n",
       "<g class=\"edge\" id=\"edge23\">\n",
       "<title>139805575567792-&gt;139805641383888</title>\n",
       "<path d=\"M244.9157,-584.4551C248.3052,-576.2074 252.3958,-566.2536 256.1591,-557.0962\" fill=\"none\" stroke=\"#000000\"/>\n",
       "<polygon fill=\"#000000\" points=\"259.5017,-558.1702 260.0656,-547.5904 253.0271,-555.5094 259.5017,-558.1702\" stroke=\"#000000\"/>\n",
       "</g>\n",
       "<!-- 139805641383888&#45;&gt;139805575568576 -->\n",
       "<g class=\"edge\" id=\"edge25\">\n",
       "<title>139805641383888-&gt;139805575568576</title>\n",
       "<path d=\"M272.1966,-511.4551C274.3205,-503.2951 276.8789,-493.4652 279.2413,-484.3887\" fill=\"none\" stroke=\"#000000\"/>\n",
       "<polygon fill=\"#000000\" points=\"282.6598,-485.1496 281.7916,-474.5904 275.8855,-483.3863 282.6598,-485.1496\" stroke=\"#000000\"/>\n",
       "</g>\n",
       "<!-- 139805636824928 -->\n",
       "<g class=\"node\" id=\"node24\">\n",
       "<title>139805636824928</title>\n",
       "<polygon fill=\"none\" points=\"216.5,-365.5 216.5,-401.5 356.5,-401.5 356.5,-365.5 216.5,-365.5\" stroke=\"#000000\"/>\n",
       "<text fill=\"#000000\" font-family=\"Times,serif\" font-size=\"14.00\" text-anchor=\"middle\" x=\"286.5\" y=\"-379.8\">conv2d_23: Conv2D</text>\n",
       "</g>\n",
       "<!-- 139805575568576&#45;&gt;139805636824928 -->\n",
       "<g class=\"edge\" id=\"edge26\">\n",
       "<title>139805575568576-&gt;139805636824928</title>\n",
       "<path d=\"M286.5,-438.4551C286.5,-430.3828 286.5,-420.6764 286.5,-411.6817\" fill=\"none\" stroke=\"#000000\"/>\n",
       "<polygon fill=\"#000000\" points=\"290.0001,-411.5903 286.5,-401.5904 283.0001,-411.5904 290.0001,-411.5903\" stroke=\"#000000\"/>\n",
       "</g>\n",
       "<!-- 139805603740976 -->\n",
       "<g class=\"node\" id=\"node25\">\n",
       "<title>139805603740976</title>\n",
       "<polygon fill=\"none\" points=\"176,-292.5 176,-328.5 397,-328.5 397,-292.5 176,-292.5\" stroke=\"#000000\"/>\n",
       "<text fill=\"#000000\" font-family=\"Times,serif\" font-size=\"14.00\" text-anchor=\"middle\" x=\"286.5\" y=\"-306.8\">up_sampling2d_5: UpSampling2D</text>\n",
       "</g>\n",
       "<!-- 139805636824928&#45;&gt;139805603740976 -->\n",
       "<g class=\"edge\" id=\"edge27\">\n",
       "<title>139805636824928-&gt;139805603740976</title>\n",
       "<path d=\"M286.5,-365.4551C286.5,-357.3828 286.5,-347.6764 286.5,-338.6817\" fill=\"none\" stroke=\"#000000\"/>\n",
       "<polygon fill=\"#000000\" points=\"290.0001,-338.5903 286.5,-328.5904 283.0001,-338.5904 290.0001,-338.5903\" stroke=\"#000000\"/>\n",
       "</g>\n",
       "<!-- 139806108144080 -->\n",
       "<g class=\"node\" id=\"node26\">\n",
       "<title>139806108144080</title>\n",
       "<polygon fill=\"none\" points=\"237.5,-219.5 237.5,-255.5 377.5,-255.5 377.5,-219.5 237.5,-219.5\" stroke=\"#000000\"/>\n",
       "<text fill=\"#000000\" font-family=\"Times,serif\" font-size=\"14.00\" text-anchor=\"middle\" x=\"307.5\" y=\"-233.8\">conv2d_24: Conv2D</text>\n",
       "</g>\n",
       "<!-- 139805603740976&#45;&gt;139806108144080 -->\n",
       "<g class=\"edge\" id=\"edge28\">\n",
       "<title>139805603740976-&gt;139806108144080</title>\n",
       "<path d=\"M291.691,-292.4551C294.0384,-284.2951 296.8662,-274.4652 299.4772,-265.3887\" fill=\"none\" stroke=\"#000000\"/>\n",
       "<polygon fill=\"#000000\" points=\"302.8948,-266.1683 302.2959,-255.5904 296.1677,-264.233 302.8948,-266.1683\" stroke=\"#000000\"/>\n",
       "</g>\n",
       "<!-- 139806108144080&#45;&gt;139805603741424 -->\n",
       "<g class=\"edge\" id=\"edge30\">\n",
       "<title>139806108144080-&gt;139805603741424</title>\n",
       "<path d=\"M319.6124,-219.4551C325.3841,-210.8564 332.4005,-200.4034 338.7582,-190.9316\" fill=\"none\" stroke=\"#000000\"/>\n",
       "<polygon fill=\"#000000\" points=\"341.6899,-192.844 344.3572,-182.5904 335.8778,-188.9427 341.6899,-192.844\" stroke=\"#000000\"/>\n",
       "</g>\n",
       "<!-- 139805603741256 -->\n",
       "<g class=\"node\" id=\"node28\">\n",
       "<title>139805603741256</title>\n",
       "<polygon fill=\"none\" points=\"286.5,-73.5 286.5,-109.5 426.5,-109.5 426.5,-73.5 286.5,-73.5\" stroke=\"#000000\"/>\n",
       "<text fill=\"#000000\" font-family=\"Times,serif\" font-size=\"14.00\" text-anchor=\"middle\" x=\"356.5\" y=\"-87.8\">conv2d_25: Conv2D</text>\n",
       "</g>\n",
       "<!-- 139805603741424&#45;&gt;139805603741256 -->\n",
       "<g class=\"edge\" id=\"edge31\">\n",
       "<title>139805603741424-&gt;139805603741256</title>\n",
       "<path d=\"M356.5,-146.4551C356.5,-138.3828 356.5,-128.6764 356.5,-119.6817\" fill=\"none\" stroke=\"#000000\"/>\n",
       "<polygon fill=\"#000000\" points=\"360.0001,-119.5903 356.5,-109.5904 353.0001,-119.5904 360.0001,-119.5903\" stroke=\"#000000\"/>\n",
       "</g>\n",
       "<!-- 139805666467344 -->\n",
       "<g class=\"node\" id=\"node29\">\n",
       "<title>139805666467344</title>\n",
       "<polygon fill=\"none\" points=\"286.5,-.5 286.5,-36.5 426.5,-36.5 426.5,-.5 286.5,-.5\" stroke=\"#000000\"/>\n",
       "<text fill=\"#000000\" font-family=\"Times,serif\" font-size=\"14.00\" text-anchor=\"middle\" x=\"356.5\" y=\"-14.8\">conv2d_26: Conv2D</text>\n",
       "</g>\n",
       "<!-- 139805603741256&#45;&gt;139805666467344 -->\n",
       "<g class=\"edge\" id=\"edge32\">\n",
       "<title>139805603741256-&gt;139805666467344</title>\n",
       "<path d=\"M356.5,-73.4551C356.5,-65.3828 356.5,-55.6764 356.5,-46.6817\" fill=\"none\" stroke=\"#000000\"/>\n",
       "<polygon fill=\"#000000\" points=\"360.0001,-46.5903 356.5,-36.5904 353.0001,-46.5904 360.0001,-46.5903\" stroke=\"#000000\"/>\n",
       "</g>\n",
       "</g>\n",
       "</svg>"
      ],
      "text/plain": [
       "<IPython.core.display.SVG object>"
      ]
     },
     "execution_count": 131,
     "metadata": {
      "tags": []
     },
     "output_type": "execute_result"
    }
   ],
   "source": [
    "visualise_model(denoise_unet_model, 'full_unet_denoise')"
   ]
  },
  {
   "cell_type": "markdown",
   "metadata": {
    "colab_type": "text",
    "id": "21uGUegwAlVe"
   },
   "source": [
    "## 3.1 Training Unet"
   ]
  },
  {
   "cell_type": "code",
   "execution_count": 0,
   "metadata": {
    "colab": {},
    "colab_type": "code",
    "id": "G-YUWzaQUzO6"
   },
   "outputs": [],
   "source": [
    "denoise_unet_model.compile(loss='mean_absolute_error', optimizer='adam', metrics=['mae'])\n",
    "\n",
    "\n",
    "epochs = 13\n",
    "minimum = float('inf')\n",
    "\n",
    "for e in range(epochs):\n",
    "  denoise_unet_history = denoise_unet_model.fit_generator(generator=denoise_generator, \n",
    "                                                epochs=1, verbose=1, \n",
    "                                                validation_data=denoise_generator_val)\n",
    "  val_loss = denoise_unet_model.history['val_loss'][0]\n",
    "  if val_loss < minimum:\n",
    "    minimum = min(minimum, val_loss)\n",
    "    denoise_unet_model.save(f'full_unet_opt.h5')\n",
    "#   denoise_unet_model.save(f'unet_denoise_{e+1}.h5')"
   ]
  },
  {
   "cell_type": "markdown",
   "metadata": {
    "colab_type": "text",
    "id": "XOzXIAWkAx1F"
   },
   "source": [
    "Loading pretrained model"
   ]
  },
  {
   "cell_type": "code",
   "execution_count": 11,
   "metadata": {
    "colab": {
     "base_uri": "https://localhost:8080/",
     "height": 88
    },
    "colab_type": "code",
    "id": "8rkmPpy0Ak1-",
    "outputId": "1f0466d8-bbc4-4df5-873f-b8825f68c406"
   },
   "outputs": [
    {
     "name": "stdout",
     "output_type": "stream",
     "text": [
      "WARNING:tensorflow:From /usr/local/lib/python3.6/dist-packages/tensorflow/python/ops/math_ops.py:3066: to_int32 (from tensorflow.python.ops.math_ops) is deprecated and will be removed in a future version.\n",
      "Instructions for updating:\n",
      "Use tf.cast instead.\n"
     ]
    }
   ],
   "source": [
    "denoise_unet_model = keras.models.load_model('./unet_denoise_7.h5') #initialise with epoch 7"
   ]
  },
  {
   "cell_type": "markdown",
   "metadata": {
    "colab_type": "text",
    "id": "hlJ8fdG0A6iy"
   },
   "source": [
    "### 3.1.1 Visualisation"
   ]
  },
  {
   "cell_type": "code",
   "execution_count": 0,
   "metadata": {
    "colab": {
     "base_uri": "https://localhost:8080/",
     "height": 167
    },
    "colab_type": "code",
    "id": "S88C0m-Vq7Q_",
    "outputId": "e293d2b9-245d-4f6f-8313-5be6c7aa2f1a"
   },
   "outputs": [
    {
     "name": "stderr",
     "output_type": "stream",
     "text": [
      "100%|██████████| 1/1 [00:00<00:00,  1.46it/s]\n"
     ]
    },
    {
     "data": {
      "image/png": "[encoded data removed]",
      "text/plain": [
       "<Figure size 432x288 with 3 Axes>"
      ]
     },
     "metadata": {
      "tags": []
     },
     "output_type": "display_data"
    }
   ],
   "source": [
    "plot_denoise(denoise_unet_model, 1)"
   ]
  },
  {
   "cell_type": "markdown",
   "metadata": {
    "colab_type": "text",
    "id": "ge5sZPPy254v"
   },
   "source": [
    "### 3.1.2 Comparison with Shallow U-Net"
   ]
  },
  {
   "cell_type": "code",
   "execution_count": 0,
   "metadata": {
    "colab": {
     "base_uri": "https://localhost:8080/",
     "height": 142
    },
    "colab_type": "code",
    "id": "GparpmYC25j3",
    "outputId": "5352dfdd-c13c-43cd-bb1c-bd9461f2cc99"
   },
   "outputs": [
    {
     "name": "stderr",
     "output_type": "stream",
     "text": [
      "100%|██████████| 1/1 [00:00<00:00,  1.52it/s]\n"
     ]
    },
    {
     "data": {
      "image/png": "[encoded data removed]",
      "text/plain": [
       "<Figure size 432x288 with 4 Axes>"
      ]
     },
     "metadata": {
      "tags": []
     },
     "output_type": "display_data"
    }
   ],
   "source": [
    "plot_compare_denoise(denoise_model, denoise_unet_model, denoised_title='Shallow', denoised_title2='Full')"
   ]
  },
  {
   "cell_type": "markdown",
   "metadata": {
    "colab_type": "text",
    "id": "B-m48ofhBOkC"
   },
   "source": [
    "# 4. Generate Training Set and Validation Set with Full Denoise Unet Model"
   ]
  },
  {
   "cell_type": "code",
   "execution_count": 12,
   "metadata": {
    "colab": {
     "base_uri": "https://localhost:8080/",
     "height": 187
    },
    "colab_type": "code",
    "id": "SzM88QL6UO-D",
    "outputId": "5d61c119-37a6-4eb6-97a7-819fb1ae655f"
   },
   "outputs": [
    {
     "name": "stdout",
     "output_type": "stream",
     "text": [
      "Using denoised patches\n",
      "100%|██████████| 116/116 [14:31<00:00,  8.52s/it]\n",
      "Denoising patches...\n",
      "100%|██████████| 15589/15589 [22:55<00:00, 11.28it/s]\n"
     ]
    },
    {
     "name": "stderr",
     "output_type": "stream",
     "text": [
      "100%|██████████| 100000/100000 [00:01<00:00, 69518.99it/s]\n"
     ]
    },
    {
     "name": "stdout",
     "output_type": "stream",
     "text": [
      "Using denoised patches\n",
      "100%|██████████| 116/116 [07:28<00:00,  3.87s/it]\n",
      "Denoising patches...\n",
      "100%|██████████| 9525/9525 [13:57<00:00, 11.41it/s]\n"
     ]
    },
    {
     "name": "stderr",
     "output_type": "stream",
     "text": [
      "100%|██████████| 10000/10000 [00:00<00:00, 76340.86it/s]\n"
     ]
    }
   ],
   "source": [
    "### Descriptor loading and training\n",
    "# Loading images\n",
    "hPatches = HPatches(train_fnames=train_fnames, test_fnames=test_fnames,\n",
    "                    denoise_model=denoise_unet_model, use_clean=False)\n",
    "# Creating training generator\n",
    "training_generator = DataGeneratorDesc(*hPatches.read_image_file(hpatches_dir, train=1), num_triplets=100000)\n",
    "# Creating validation generator\n",
    "val_generator = DataGeneratorDesc(*hPatches.read_image_file(hpatches_dir, train=0), num_triplets=10000)"
   ]
  },
  {
   "cell_type": "code",
   "execution_count": 0,
   "metadata": {
    "colab": {
     "base_uri": "https://localhost:8080/",
     "height": 183
    },
    "colab_type": "code",
    "id": "DttLpIfYnvoy",
    "outputId": "a667c94f-33c4-4506-d1aa-a2563c4b36bb"
   },
   "outputs": [
    {
     "data": {
      "image/png": "[encoded data removed]",
      "text/plain": [
       "<Figure size 576x396 with 3 Axes>"
      ]
     },
     "metadata": {
      "tags": []
     },
     "output_type": "display_data"
    }
   ],
   "source": [
    "plot_triplet(training_generator)"
   ]
  },
  {
   "cell_type": "markdown",
   "metadata": {
    "colab_type": "text",
    "id": "ZgFt6h4H0uuB"
   },
   "source": [
    "## 4.1 Train HardNet with Full U-Net"
   ]
  },
  {
   "cell_type": "code",
   "execution_count": 14,
   "metadata": {
    "colab": {
     "base_uri": "https://localhost:8080/",
     "height": 850
    },
    "colab_type": "code",
    "id": "HDjDO6nI0uFJ",
    "outputId": "2483a384-7a63-40ac-d4cd-75200d6e585f"
   },
   "outputs": [
    {
     "name": "stdout",
     "output_type": "stream",
     "text": [
      "_________________________________________________________________\n",
      "Layer (type)                 Output Shape              Param #   \n",
      "=================================================================\n",
      "conv2d_15 (Conv2D)           (None, 32, 32, 32)        320       \n",
      "_________________________________________________________________\n",
      "batch_normalization_1 (Batch (None, 32, 32, 32)        128       \n",
      "_________________________________________________________________\n",
      "activation_1 (Activation)    (None, 32, 32, 32)        0         \n",
      "_________________________________________________________________\n",
      "conv2d_16 (Conv2D)           (None, 32, 32, 32)        9248      \n",
      "_________________________________________________________________\n",
      "batch_normalization_2 (Batch (None, 32, 32, 32)        128       \n",
      "_________________________________________________________________\n",
      "activation_2 (Activation)    (None, 32, 32, 32)        0         \n",
      "_________________________________________________________________\n",
      "conv2d_17 (Conv2D)           (None, 16, 16, 64)        18496     \n",
      "_________________________________________________________________\n",
      "batch_normalization_3 (Batch (None, 16, 16, 64)        256       \n",
      "_________________________________________________________________\n",
      "activation_3 (Activation)    (None, 16, 16, 64)        0         \n",
      "_________________________________________________________________\n",
      "conv2d_18 (Conv2D)           (None, 16, 16, 64)        36928     \n",
      "_________________________________________________________________\n",
      "batch_normalization_4 (Batch (None, 16, 16, 64)        256       \n",
      "_________________________________________________________________\n",
      "activation_4 (Activation)    (None, 16, 16, 64)        0         \n",
      "_________________________________________________________________\n",
      "conv2d_19 (Conv2D)           (None, 8, 8, 128)         73856     \n",
      "_________________________________________________________________\n",
      "batch_normalization_5 (Batch (None, 8, 8, 128)         512       \n",
      "_________________________________________________________________\n",
      "activation_5 (Activation)    (None, 8, 8, 128)         0         \n",
      "_________________________________________________________________\n",
      "conv2d_20 (Conv2D)           (None, 8, 8, 128)         147584    \n",
      "_________________________________________________________________\n",
      "batch_normalization_6 (Batch (None, 8, 8, 128)         512       \n",
      "_________________________________________________________________\n",
      "activation_6 (Activation)    (None, 8, 8, 128)         0         \n",
      "_________________________________________________________________\n",
      "dropout_3 (Dropout)          (None, 8, 8, 128)         0         \n",
      "_________________________________________________________________\n",
      "conv2d_21 (Conv2D)           (None, 1, 1, 128)         1048704   \n",
      "_________________________________________________________________\n",
      "reshape_1 (Reshape)          (None, 128)               0         \n",
      "=================================================================\n",
      "Total params: 1,336,928\n",
      "Trainable params: 1,336,032\n",
      "Non-trainable params: 896\n",
      "_________________________________________________________________\n"
     ]
    }
   ],
   "source": [
    "unet_baseline_descriptor_model_trip, unet_baseline_descriptor_model = load_descriptor_model(get_baseline_descriptor_model, optimizer=keras.optimizers.SGD(lr=0.1))"
   ]
  },
  {
   "cell_type": "code",
   "execution_count": 15,
   "metadata": {
    "colab": {
     "base_uri": "https://localhost:8080/",
     "height": 1275
    },
    "colab_type": "code",
    "id": "9ScI1ipx0-bY",
    "outputId": "683b3547-d0bc-456a-b35c-445bae45ca0e"
   },
   "outputs": [
    {
     "name": "stdout",
     "output_type": "stream",
     "text": [
      "Epoch 1/1\n",
      "1999/2000 [============================>.] - ETA: 0s - loss: 0.2053"
     ]
    },
    {
     "name": "stderr",
     "output_type": "stream",
     "text": [
      "100%|██████████| 100000/100000 [00:02<00:00, 43428.03it/s]\n"
     ]
    },
    {
     "name": "stdout",
     "output_type": "stream",
     "text": [
      "\b\b\b\b\b\b\b\b\b\b\b\b\b\b\b\b\b\b\b\b\b\b\b\b\b\b\b\b\b\b\b\b\b\b\b\b\b\b\b\b\b\b\b\b\b\b\b\b\b\b\b\b\b\b\b\b\b\b\b\b\b\b\b\b\b\b\b\r",
      "2000/2000 [==============================] - 165s 82ms/step - loss: 0.2054 - val_loss: 0.3800\n"
     ]
    },
    {
     "name": "stderr",
     "output_type": "stream",
     "text": [
      "100%|██████████| 10000/10000 [00:00<00:00, 77878.10it/s]\n"
     ]
    },
    {
     "name": "stdout",
     "output_type": "stream",
     "text": [
      "Epoch 1/1\n",
      "1999/2000 [============================>.] - ETA: 0s - loss: 0.1514"
     ]
    },
    {
     "name": "stderr",
     "output_type": "stream",
     "text": [
      "100%|██████████| 100000/100000 [00:02<00:00, 42827.09it/s]\n"
     ]
    },
    {
     "name": "stdout",
     "output_type": "stream",
     "text": [
      "\b\b\b\b\b\b\b\b\b\b\b\b\b\b\b\b\b\b\b\b\b\b\b\b\b\b\b\b\b\b\b\b\b\b\b\b\b\b\b\b\b\b\b\b\b\b\b\b\b\b\b\b\b\b\b\b\b\b\b\b\b\b\b\b\b\b\b\r",
      "2000/2000 [==============================] - 164s 82ms/step - loss: 0.1514 - val_loss: 0.1787\n"
     ]
    },
    {
     "name": "stderr",
     "output_type": "stream",
     "text": [
      "100%|██████████| 10000/10000 [00:00<00:00, 76284.35it/s]\n"
     ]
    },
    {
     "name": "stdout",
     "output_type": "stream",
     "text": [
      "Epoch 1/1\n",
      "1999/2000 [============================>.] - ETA: 0s - loss: 0.1356"
     ]
    },
    {
     "name": "stderr",
     "output_type": "stream",
     "text": [
      "100%|██████████| 100000/100000 [00:02<00:00, 45357.17it/s]\n"
     ]
    },
    {
     "name": "stdout",
     "output_type": "stream",
     "text": [
      "\b\b\b\b\b\b\b\b\b\b\b\b\b\b\b\b\b\b\b\b\b\b\b\b\b\b\b\b\b\b\b\b\b\b\b\b\b\b\b\b\b\b\b\b\b\b\b\b\b\b\b\b\b\b\b\b\b\b\b\b\b\b\b\b\b\b\b\r",
      "2000/2000 [==============================] - 164s 82ms/step - loss: 0.1356 - val_loss: 0.1791\n"
     ]
    },
    {
     "name": "stderr",
     "output_type": "stream",
     "text": [
      "100%|██████████| 10000/10000 [00:00<00:00, 68474.86it/s]\n"
     ]
    },
    {
     "name": "stdout",
     "output_type": "stream",
     "text": [
      "Epoch 1/1\n",
      "1999/2000 [============================>.] - ETA: 0s - loss: 0.1301"
     ]
    },
    {
     "name": "stderr",
     "output_type": "stream",
     "text": [
      "100%|██████████| 100000/100000 [00:02<00:00, 36225.02it/s]\n"
     ]
    },
    {
     "name": "stdout",
     "output_type": "stream",
     "text": [
      "\b\b\b\b\b\b\b\b\b\b\b\b\b\b\b\b\b\b\b\b\b\b\b\b\b\b\b\b\b\b\b\b\b\b\b\b\b\b\b\b\b\b\b\b\b\b\b\b\b\b\b\b\b\b\b\b\b\b\b\b\b\b\b\b\b\b\b\r",
      "2000/2000 [==============================] - 164s 82ms/step - loss: 0.1300 - val_loss: 0.1600\n"
     ]
    },
    {
     "name": "stderr",
     "output_type": "stream",
     "text": [
      "100%|██████████| 10000/10000 [00:00<00:00, 65390.61it/s]\n"
     ]
    },
    {
     "name": "stdout",
     "output_type": "stream",
     "text": [
      "Epoch 1/1\n",
      "1999/2000 [============================>.] - ETA: 0s - loss: 0.1191"
     ]
    },
    {
     "name": "stderr",
     "output_type": "stream",
     "text": [
      "100%|██████████| 100000/100000 [00:02<00:00, 45733.33it/s]\n"
     ]
    },
    {
     "name": "stdout",
     "output_type": "stream",
     "text": [
      "2000/2000 [==============================] - 166s 83ms/step - loss: 0.1191 - val_loss: 0.1680\n",
      "Epoch 1/1\n",
      "1999/2000 [============================>.] - ETA: 0s - loss: 0.1143"
     ]
    },
    {
     "name": "stderr",
     "output_type": "stream",
     "text": [
      "100%|██████████| 100000/100000 [00:02<00:00, 43809.22it/s]\n"
     ]
    },
    {
     "name": "stdout",
     "output_type": "stream",
     "text": [
      "2000/2000 [==============================] - 167s 83ms/step - loss: 0.1143 - val_loss: 0.1515\n",
      "Epoch 1/1\n",
      "1999/2000 [============================>.] - ETA: 0s - loss: 0.1117"
     ]
    },
    {
     "name": "stderr",
     "output_type": "stream",
     "text": [
      "100%|██████████| 100000/100000 [00:02<00:00, 39686.04it/s]\n"
     ]
    },
    {
     "name": "stdout",
     "output_type": "stream",
     "text": [
      "\b\b\b\b\b\b\b\b\b\b\b\b\b\b\b\b\b\b\b\b\b\b\b\b\b\b\b\b\b\b\b\b\b\b\b\b\b\b\b\b\b\b\b\b\b\b\b\b\b\b\b\b\b\b\b\b\b\b\b\b\b\b\b\b\b\b\b\r",
      "2000/2000 [==============================] - 166s 83ms/step - loss: 0.1117 - val_loss: 0.1391\n"
     ]
    },
    {
     "name": "stderr",
     "output_type": "stream",
     "text": [
      "100%|██████████| 10000/10000 [00:00<00:00, 69891.20it/s]\n"
     ]
    },
    {
     "name": "stdout",
     "output_type": "stream",
     "text": [
      "Epoch 1/1\n",
      "1999/2000 [============================>.] - ETA: 0s - loss: 0.1108"
     ]
    },
    {
     "name": "stderr",
     "output_type": "stream",
     "text": [
      "100%|██████████| 100000/100000 [00:02<00:00, 42289.61it/s]\n"
     ]
    },
    {
     "name": "stdout",
     "output_type": "stream",
     "text": [
      "\b\b\b\b\b\b\b\b\b\b\b\b\b\b\b\b\b\b\b\b\b\b\b\b\b\b\b\b\b\b\b\b\b\b\b\b\b\b\b\b\b\b\b\b\b\b\b\b\b\b\b\b\b\b\b\b\b\b\b\b\b\b\b\b\b\b\b\r",
      "2000/2000 [==============================] - 163s 82ms/step - loss: 0.1109 - val_loss: 0.1587\n"
     ]
    },
    {
     "name": "stderr",
     "output_type": "stream",
     "text": [
      "100%|██████████| 10000/10000 [00:00<00:00, 76510.61it/s]\n"
     ]
    },
    {
     "name": "stdout",
     "output_type": "stream",
     "text": [
      "Epoch 1/1\n",
      "1999/2000 [============================>.] - ETA: 0s - loss: 0.1040"
     ]
    },
    {
     "name": "stderr",
     "output_type": "stream",
     "text": [
      "100%|██████████| 100000/100000 [00:02<00:00, 47974.70it/s]\n"
     ]
    },
    {
     "name": "stdout",
     "output_type": "stream",
     "text": [
      "\b\b\b\b\b\b\b\b\b\b\b\b\b\b\b\b\b\b\b\b\b\b\b\b\b\b\b\b\b\b\b\b\b\b\b\b\b\b\b\b\b\b\b\b\b\b\b\b\b\b\b\b\b\b\b\b\b\b\b\b\b\b\b\b\b\b\b\r",
      "2000/2000 [==============================] - 164s 82ms/step - loss: 0.1040 - val_loss: 0.1545\n"
     ]
    },
    {
     "name": "stderr",
     "output_type": "stream",
     "text": [
      "100%|██████████| 10000/10000 [00:00<00:00, 72509.36it/s]\n"
     ]
    },
    {
     "name": "stdout",
     "output_type": "stream",
     "text": [
      "Epoch 1/1\n",
      "1999/2000 [============================>.] - ETA: 0s - loss: 0.1011"
     ]
    },
    {
     "name": "stderr",
     "output_type": "stream",
     "text": [
      "100%|██████████| 100000/100000 [00:02<00:00, 42032.35it/s]\n"
     ]
    },
    {
     "name": "stdout",
     "output_type": "stream",
     "text": [
      "\b\b\b\b\b\b\b\b\b\b\b\b\b\b\b\b\b\b\b\b\b\b\b\b\b\b\b\b\b\b\b\b\b\b\b\b\b\b\b\b\b\b\b\b\b\b\b\b\b\b\b\b\b\b\b\b\b\b\b\b\b\b\b\b\b\b\b\r",
      "2000/2000 [==============================] - 164s 82ms/step - loss: 0.1012 - val_loss: 0.1823\n"
     ]
    },
    {
     "name": "stderr",
     "output_type": "stream",
     "text": [
      "100%|██████████| 10000/10000 [00:00<00:00, 71684.39it/s]\n"
     ]
    },
    {
     "name": "stdout",
     "output_type": "stream",
     "text": [
      "Epoch 1/1\n",
      "1999/2000 [============================>.] - ETA: 0s - loss: 0.0999"
     ]
    },
    {
     "name": "stderr",
     "output_type": "stream",
     "text": [
      "100%|██████████| 100000/100000 [00:02<00:00, 41685.76it/s]\n"
     ]
    },
    {
     "name": "stdout",
     "output_type": "stream",
     "text": [
      "\b\b\b\b\b\b\b\b\b\b\b\b\b\b\b\b\b\b\b\b\b\b\b\b\b\b\b\b\b\b\b\b\b\b\b\b\b\b\b\b\b\b\b\b\b\b\b\b\b\b\b\b\b\b\b\b\b\b\b\b\b\b\b\b\b\b\b\r",
      "2000/2000 [==============================] - 163s 82ms/step - loss: 0.0998 - val_loss: 0.1452\n"
     ]
    },
    {
     "name": "stderr",
     "output_type": "stream",
     "text": [
      "100%|██████████| 10000/10000 [00:00<00:00, 73163.78it/s]\n"
     ]
    },
    {
     "name": "stdout",
     "output_type": "stream",
     "text": [
      "Epoch 1/1\n",
      "1999/2000 [============================>.] - ETA: 0s - loss: 0.0973"
     ]
    },
    {
     "name": "stderr",
     "output_type": "stream",
     "text": [
      "100%|██████████| 100000/100000 [00:02<00:00, 43439.32it/s]\n"
     ]
    },
    {
     "name": "stdout",
     "output_type": "stream",
     "text": [
      "\b\b\b\b\b\b\b\b\b\b\b\b\b\b\b\b\b\b\b\b\b\b\b\b\b\b\b\b\b\b\b\b\b\b\b\b\b\b\b\b\b\b\b\b\b\b\b\b\b\b\b\b\b\b\b\b\b\b\b\b\b\b\b\b\b\b\b\r",
      "2000/2000 [==============================] - 163s 82ms/step - loss: 0.0974 - val_loss: 0.1361\n"
     ]
    },
    {
     "name": "stderr",
     "output_type": "stream",
     "text": [
      "100%|██████████| 10000/10000 [00:00<00:00, 71674.23it/s]\n"
     ]
    },
    {
     "name": "stdout",
     "output_type": "stream",
     "text": [
      "Epoch 1/1\n",
      "1999/2000 [============================>.] - ETA: 0s - loss: 0.0979"
     ]
    },
    {
     "name": "stderr",
     "output_type": "stream",
     "text": [
      "100%|██████████| 100000/100000 [00:02<00:00, 48083.60it/s]\n"
     ]
    },
    {
     "name": "stdout",
     "output_type": "stream",
     "text": [
      "2000/2000 [==============================] - 163s 81ms/step - loss: 0.0979 - val_loss: 0.1396\n",
      "Epoch 1/1\n",
      "1999/2000 [============================>.] - ETA: 0s - loss: 0.0948"
     ]
    },
    {
     "name": "stderr",
     "output_type": "stream",
     "text": [
      "100%|██████████| 100000/100000 [00:02<00:00, 42943.95it/s]\n"
     ]
    },
    {
     "name": "stdout",
     "output_type": "stream",
     "text": [
      "2000/2000 [==============================] - 163s 82ms/step - loss: 0.0947 - val_loss: 0.1227\n",
      "Epoch 1/1\n",
      "1999/2000 [============================>.] - ETA: 0s - loss: 0.0929"
     ]
    },
    {
     "name": "stderr",
     "output_type": "stream",
     "text": [
      "100%|██████████| 100000/100000 [00:02<00:00, 42902.90it/s]\n"
     ]
    },
    {
     "name": "stdout",
     "output_type": "stream",
     "text": [
      "\b\b\b\b\b\b\b\b\b\b\b\b\b\b\b\b\b\b\b\b\b\b\b\b\b\b\b\b\b\b\b\b\b\b\b\b\b\b\b\b\b\b\b\b\b\b\b\b\b\b\b\b\b\b\b\b\b\b\b\b\b\b\b\b\b\b\b\r",
      "2000/2000 [==============================] - 163s 81ms/step - loss: 0.0929 - val_loss: 0.1196\n"
     ]
    },
    {
     "name": "stderr",
     "output_type": "stream",
     "text": [
      "100%|██████████| 10000/10000 [00:00<00:00, 74428.85it/s]\n"
     ]
    },
    {
     "name": "stdout",
     "output_type": "stream",
     "text": [
      "Epoch 1/1\n",
      "1999/2000 [============================>.] - ETA: 0s - loss: 0.0931"
     ]
    },
    {
     "name": "stderr",
     "output_type": "stream",
     "text": [
      "100%|██████████| 100000/100000 [00:02<00:00, 42490.41it/s]\n"
     ]
    },
    {
     "name": "stdout",
     "output_type": "stream",
     "text": [
      "\b\b\b\b\b\b\b\b\b\b\b\b\b\b\b\b\b\b\b\b\b\b\b\b\b\b\b\b\b\b\b\b\b\b\b\b\b\b\b\b\b\b\b\b\b\b\b\b\b\b\b\b\b\b\b\b\b\b\b\b\b\b\b\b\b\b\b\r",
      "2000/2000 [==============================] - 163s 81ms/step - loss: 0.0931 - val_loss: 0.1398\n",
      "Epoch 1/1\n",
      "1999/2000 [============================>.] - ETA: 0s - loss: 0.0911"
     ]
    },
    {
     "name": "stderr",
     "output_type": "stream",
     "text": [
      "100%|██████████| 100000/100000 [00:02<00:00, 42630.16it/s]\n"
     ]
    },
    {
     "name": "stdout",
     "output_type": "stream",
     "text": [
      "\b\b\b\b\b\b\b\b\b\b\b\b\b\b\b\b\b\b\b\b\b\b\b\b\b\b\b\b\b\b\b\b\b\b\b\b\b\b\b\b\b\b\b\b\b\b\b\b\b\b\b\b\b\b\b\b\b\b\b\b\b\b\b\b\b\b\b\r",
      "2000/2000 [==============================] - 162s 81ms/step - loss: 0.0911 - val_loss: 0.1410\n"
     ]
    },
    {
     "name": "stderr",
     "output_type": "stream",
     "text": [
      "100%|██████████| 10000/10000 [00:00<00:00, 77083.18it/s]\n"
     ]
    },
    {
     "name": "stdout",
     "output_type": "stream",
     "text": [
      "Epoch 1/1\n",
      "1999/2000 [============================>.] - ETA: 0s - loss: 0.0900"
     ]
    },
    {
     "name": "stderr",
     "output_type": "stream",
     "text": [
      "100%|██████████| 100000/100000 [00:02<00:00, 42594.40it/s]\n"
     ]
    },
    {
     "name": "stdout",
     "output_type": "stream",
     "text": [
      "2000/2000 [==============================] - 162s 81ms/step - loss: 0.0900 - val_loss: 0.1245\n",
      "Epoch 1/1\n",
      "1999/2000 [============================>.] - ETA: 0s - loss: 0.0893"
     ]
    },
    {
     "name": "stderr",
     "output_type": "stream",
     "text": [
      "100%|██████████| 100000/100000 [00:02<00:00, 42709.14it/s]\n"
     ]
    },
    {
     "name": "stdout",
     "output_type": "stream",
     "text": [
      "\b\b\b\b\b\b\b\b\b\b\b\b\b\b\b\b\b\b\b\b\b\b\b\b\b\b\b\b\b\b\b\b\b\b\b\b\b\b\b\b\b\b\b\b\b\b\b\b\b\b\b\b\b\b\b\b\b\b\b\b\b\b\b\b\b\b\b\r",
      "2000/2000 [==============================] - 162s 81ms/step - loss: 0.0894 - val_loss: 0.1201\n"
     ]
    },
    {
     "name": "stderr",
     "output_type": "stream",
     "text": [
      "100%|██████████| 10000/10000 [00:00<00:00, 71090.86it/s]\n"
     ]
    },
    {
     "name": "stdout",
     "output_type": "stream",
     "text": [
      "Epoch 1/1\n",
      "1999/2000 [============================>.] - ETA: 0s - loss: 0.0873"
     ]
    },
    {
     "name": "stderr",
     "output_type": "stream",
     "text": [
      "100%|██████████| 100000/100000 [00:02<00:00, 41827.72it/s]\n"
     ]
    },
    {
     "name": "stdout",
     "output_type": "stream",
     "text": [
      "\b\b\b\b\b\b\b\b\b\b\b\b\b\b\b\b\b\b\b\b\b\b\b\b\b\b\b\b\b\b\b\b\b\b\b\b\b\b\b\b\b\b\b\b\b\b\b\b\b\b\b\b\b\b\b\b\b\b\b\b\b\b\b\b\b\b\b\r",
      "2000/2000 [==============================] - 162s 81ms/step - loss: 0.0873 - val_loss: 0.1090\n"
     ]
    },
    {
     "name": "stderr",
     "output_type": "stream",
     "text": [
      "100%|██████████| 10000/10000 [00:00<00:00, 73757.68it/s]\n"
     ]
    }
   ],
   "source": [
    "epochs = 20\n",
    "\n",
    "\n",
    "minimum = float('inf')\n",
    "for e in range(epochs):\n",
    "  descriptor_history = unet_baseline_descriptor_model_trip.fit_generator(generator=training_generator, epochs=1, verbose=1, validation_data=val_generator)\n",
    "  ### Saves optimizer and weights\n",
    "  \n",
    "  val_loss = descriptor_history.history['val_loss'][0]\n",
    "  if val_loss < minimum:\n",
    "    minimum = min(minimum, val_loss)\n",
    "    unet_baseline_descriptor_model_trip.save(f'unet_baseline_hardnet_opt.h5')\n",
    "#   baseline_descriptor_model_trip.save(f'baseline_descriptor_{e+1}.h5')"
   ]
  },
  {
   "cell_type": "markdown",
   "metadata": {
    "colab_type": "text",
    "id": "w_dY-6Uov7lR"
   },
   "source": [
    "## 4.2 Load optimal model"
   ]
  },
  {
   "cell_type": "code",
   "execution_count": 28,
   "metadata": {
    "colab": {
     "base_uri": "https://localhost:8080/",
     "height": 850
    },
    "colab_type": "code",
    "id": "t1-KYpM0v7ba",
    "outputId": "58ee6432-861e-4f1b-98e6-612821bd634a"
   },
   "outputs": [
    {
     "name": "stdout",
     "output_type": "stream",
     "text": [
      "_________________________________________________________________\n",
      "Layer (type)                 Output Shape              Param #   \n",
      "=================================================================\n",
      "conv2d_71 (Conv2D)           (None, 32, 32, 32)        320       \n",
      "_________________________________________________________________\n",
      "batch_normalization_62 (Batc (None, 32, 32, 32)        128       \n",
      "_________________________________________________________________\n",
      "activation_82 (Activation)   (None, 32, 32, 32)        0         \n",
      "_________________________________________________________________\n",
      "conv2d_72 (Conv2D)           (None, 32, 32, 32)        9248      \n",
      "_________________________________________________________________\n",
      "batch_normalization_63 (Batc (None, 32, 32, 32)        128       \n",
      "_________________________________________________________________\n",
      "activation_83 (Activation)   (None, 32, 32, 32)        0         \n",
      "_________________________________________________________________\n",
      "conv2d_73 (Conv2D)           (None, 16, 16, 64)        18496     \n",
      "_________________________________________________________________\n",
      "batch_normalization_64 (Batc (None, 16, 16, 64)        256       \n",
      "_________________________________________________________________\n",
      "activation_84 (Activation)   (None, 16, 16, 64)        0         \n",
      "_________________________________________________________________\n",
      "conv2d_74 (Conv2D)           (None, 16, 16, 64)        36928     \n",
      "_________________________________________________________________\n",
      "batch_normalization_65 (Batc (None, 16, 16, 64)        256       \n",
      "_________________________________________________________________\n",
      "activation_85 (Activation)   (None, 16, 16, 64)        0         \n",
      "_________________________________________________________________\n",
      "conv2d_75 (Conv2D)           (None, 8, 8, 128)         73856     \n",
      "_________________________________________________________________\n",
      "batch_normalization_66 (Batc (None, 8, 8, 128)         512       \n",
      "_________________________________________________________________\n",
      "activation_86 (Activation)   (None, 8, 8, 128)         0         \n",
      "_________________________________________________________________\n",
      "conv2d_76 (Conv2D)           (None, 8, 8, 128)         147584    \n",
      "_________________________________________________________________\n",
      "batch_normalization_67 (Batc (None, 8, 8, 128)         512       \n",
      "_________________________________________________________________\n",
      "activation_87 (Activation)   (None, 8, 8, 128)         0         \n",
      "_________________________________________________________________\n",
      "dropout_8 (Dropout)          (None, 8, 8, 128)         0         \n",
      "_________________________________________________________________\n",
      "conv2d_77 (Conv2D)           (None, 1, 1, 128)         1048704   \n",
      "_________________________________________________________________\n",
      "reshape_1 (Reshape)          (None, 128)               0         \n",
      "=================================================================\n",
      "Total params: 1,336,928\n",
      "Trainable params: 1,336,032\n",
      "Non-trainable params: 896\n",
      "_________________________________________________________________\n"
     ]
    }
   ],
   "source": [
    "unet_baseline_descriptor_model_trip, unet_baseline_descriptor_model = load_descriptor_model(get_baseline_descriptor_model, './unet_baseline_hardnet_opt.h5', optimizer=keras.optimizers.SGD(lr=0.1), )"
   ]
  },
  {
   "cell_type": "markdown",
   "metadata": {
    "colab_type": "text",
    "id": "-TlHPFMTLReO"
   },
   "source": [
    "# 5. Optimise Descriptor Model"
   ]
  },
  {
   "cell_type": "markdown",
   "metadata": {
    "colab_type": "text",
    "id": "WOi-argqHP_5"
   },
   "source": [
    "## 5.1 Deeper HardNet V1"
   ]
  },
  {
   "cell_type": "code",
   "execution_count": 0,
   "metadata": {
    "colab": {},
    "colab_type": "code",
    "id": "Hafb17liHUsL"
   },
   "outputs": [],
   "source": [
    "from keras.layers import Conv2D, BatchNormalization, LeakyReLU, add, Input, Activation, Flatten, MaxPooling2D, UpSampling2D, concatenate\n",
    "\n",
    "# V1 uses fully connected layer\n",
    "def get_deep_hardnet_v1_model(shape):\n",
    "  \n",
    "  '''Architecture adapts HardNet architecture'''\n",
    "  \n",
    "  init_weights = keras.initializers.he_normal()\n",
    "  descriptor_input = Input(shape)\n",
    "  \n",
    "  # 2 layers of 32x32x32 layers + BN + ReLU\n",
    "  descriptor_model = Conv2D(32, 3, padding='same', input_shape=shape, use_bias = True, kernel_initializer=init_weights)(descriptor_input)\n",
    "  descriptor_model = BatchNormalization(axis = -1)(descriptor_model)\n",
    "  descriptor_model = Activation('relu')(descriptor_model)\n",
    "\n",
    "  descriptor_model = Conv2D(32, 3, padding='same', use_bias = True, kernel_initializer=init_weights)(descriptor_model)\n",
    "  descriptor_model = BatchNormalization(axis = -1)(descriptor_model)\n",
    "  descriptor_model = Activation('relu')(descriptor_model)\n",
    "  \n",
    "  # Use Max Pooling to reduce image dimension\n",
    "  descriptor_model = MaxPooling2D(pool_size=(2, 2), strides=(2, 2), padding='same')(descriptor_model)\n",
    "  \n",
    "  # 2 layers of 16x16x64 + BN + ReLU\n",
    "  descriptor_model = Conv2D(64, 3, padding='same', use_bias = True, kernel_initializer=init_weights)(descriptor_model)\n",
    "  descriptor_model = BatchNormalization(axis = -1)(descriptor_model)\n",
    "  descriptor_model = Activation('relu')(descriptor_model)\n",
    "\n",
    "  descriptor_model = Conv2D(64, 3, padding='same', use_bias = True, kernel_initializer=init_weights)(descriptor_model)\n",
    "  descriptor_model = BatchNormalization(axis = -1)(descriptor_model)\n",
    "  descriptor_model = Activation('relu')(descriptor_model)\n",
    "  \n",
    "  # Use Max Pooling to reduce image dimension\n",
    "  descriptor_model = MaxPooling2D(pool_size=(2, 2), strides=(2, 2), padding='same')(descriptor_model)\n",
    "  \n",
    "  # 2 layers of 8x8x128 + BN + ReLU\n",
    "  descriptor_model = Conv2D(128, 3, padding='same', use_bias = True, kernel_initializer=init_weights)(descriptor_model)\n",
    "  descriptor_model = BatchNormalization(axis = -1)(descriptor_model)\n",
    "  descriptor_model = Activation('relu')(descriptor_model)\n",
    "\n",
    "  descriptor_model = Conv2D(128, 3, padding='same', use_bias = True, kernel_initializer=init_weights)(descriptor_model)\n",
    "  descriptor_model = BatchNormalization(axis = -1)(descriptor_model)\n",
    "  descriptor_model = Activation('relu')(descriptor_model)\n",
    "  \n",
    "  # Use Max Pooling to reduce image dimension\n",
    "  descriptor_model = MaxPooling2D(pool_size=(2, 2), strides=(2, 2), padding='same')(descriptor_model)\n",
    "  \n",
    "  # 2 layers of 4x4x256 + BN + ReLU\n",
    "  descriptor_model = Conv2D(256, 3, padding='same', use_bias = True, kernel_initializer=init_weights)(descriptor_model)\n",
    "  descriptor_model = BatchNormalization(axis = -1)(descriptor_model)\n",
    "  descriptor_model = Activation('relu')(descriptor_model)\n",
    "\n",
    "  descriptor_model = Conv2D(256, 3, padding='same', use_bias = True, kernel_initializer=init_weights)(descriptor_model)\n",
    "  descriptor_model = BatchNormalization(axis = -1)(descriptor_model)\n",
    "  descriptor_model = Activation('relu')(descriptor_model)\n",
    "  \n",
    "  # Add 2 residual network to reduce dimension further to 2 and back to 4\n",
    "  descriptor_model = residual_block(descriptor_model, 256, 256, _strides=(2,2))\n",
    "  descriptor_model = residual_block(descriptor_model, 256, 256, _strides=(2,2))\n",
    "  \n",
    "  # Passing to fully connected layer\n",
    "  # It will have 4x4x256 number of features\n",
    "  descriptor_model = Flatten()(descriptor_model)\n",
    "  # BN to normalise input\n",
    "  descriptor_model = BatchNormalization()(descriptor_model)\n",
    "  # Drop out to prevent overfitting\n",
    "  descriptor_model = Dropout(0.3)(descriptor_model)\n",
    "  \n",
    "  # Reduce to 512\n",
    "  descriptor_model = Dense(512, activation='relu')(descriptor_model)\n",
    "  # BN to normalise input\n",
    "  descriptor_model = BatchNormalization()(descriptor_model)\n",
    "  # Drop out to prevent overfitting\n",
    "  descriptor_model = Dropout(0.3)(descriptor_model)\n",
    "  \n",
    "  # Reduce to 256\n",
    "  descriptor_model = Dense(256, activation='relu')(descriptor_model)\n",
    "  # BN to normalise input\n",
    "  descriptor_model = BatchNormalization()(descriptor_model)\n",
    "  # Drop out to prevent overfitting\n",
    "  descriptor_model = Dropout(0.3)(descriptor_model)\n",
    "  \n",
    "  # Reduce to 128\n",
    "  descriptor_model = Dense(128, activation='relu')(descriptor_model)\n",
    "  # BN to normalise input\n",
    "#   descriptor_model = BatchNormalization()(descriptor_model)\n",
    "#   # Drop out to prevent overfitting\n",
    "#   descriptor_model = Dropout(0.3)(descriptor_model)\n",
    "  \n",
    "  # Output 128 features\n",
    "  return Model(descriptor_input, descriptor_model)\n",
    "\n",
    "\n",
    "def residual_block(y, nb_channels_in, nb_channels_out, _strides=(1, 1), _project_shortcut=False):\n",
    "\n",
    "    shortcut = y\n",
    "\n",
    "    y = Conv2D(nb_channels_in, kernel_size=(1, 1), strides=(1, 1), padding='same')(y)\n",
    "    y = BatchNormalization()(y)\n",
    "    y = LeakyReLU()(y)\n",
    "\n",
    "    y = Conv2D(nb_channels_in, kernel_size=(3, 3), strides=_strides, padding='same')(y)\n",
    "    y = BatchNormalization()(y)\n",
    "    y = LeakyReLU()(y)\n",
    "    \n",
    "#     up3 = Conv2D(64, 2, activation = 'relu', padding = 'same', kernel_initializer = 'he_normal')(UpSampling2D(size = (2,2))(conv2))\n",
    "    \n",
    "    y = Conv2D(nb_channels_out, kernel_size=(1, 1), strides=(1, 1), padding='same')(UpSampling2D(size=_strides)(y))\n",
    "    y = BatchNormalization()(y)\n",
    "\n",
    "    # identity shortcuts used directly when the input and output are of the same dimensions\n",
    "#     if _project_shortcut or _strides != (1, 1):\n",
    "#         # when the dimensions increase projection shortcut is used to match dimensions (done by 1×1 convolutions)\n",
    "#         # when the shortcuts go across feature maps of two sizes, they are performed with a stride of 2\n",
    "#         shortcut = Conv2D(nb_channels_out, kernel_size=(1, 1), strides=_strides, padding='same')(shortcut)\n",
    "#         shortcut = BatchNormalization()(shortcut)\n",
    "\n",
    "    y = concatenate([shortcut, y], axis = -1)\n",
    "    y = LeakyReLU()(y)\n",
    "\n",
    "    return y"
   ]
  },
  {
   "cell_type": "markdown",
   "metadata": {
    "colab_type": "text",
    "id": "kWFCzdw-HlO-"
   },
   "source": [
    "We add residual_block to HardNet to skip some layers"
   ]
  },
  {
   "cell_type": "code",
   "execution_count": 20,
   "metadata": {
    "colab": {
     "base_uri": "https://localhost:8080/",
     "height": 2210
    },
    "colab_type": "code",
    "id": "u3eiZQWPHkmE",
    "outputId": "43874768-54e9-485e-c832-d03d725e94bc"
   },
   "outputs": [
    {
     "name": "stdout",
     "output_type": "stream",
     "text": [
      "__________________________________________________________________________________________________\n",
      "Layer (type)                    Output Shape         Param #     Connected to                     \n",
      "==================================================================================================\n",
      "input_4 (InputLayer)            (None, 32, 32, 1)    0                                            \n",
      "__________________________________________________________________________________________________\n",
      "conv2d_43 (Conv2D)              (None, 32, 32, 32)   320         input_4[0][0]                    \n",
      "__________________________________________________________________________________________________\n",
      "batch_normalization_30 (BatchNo (None, 32, 32, 32)   128         conv2d_43[0][0]                  \n",
      "__________________________________________________________________________________________________\n",
      "activation_17 (Activation)      (None, 32, 32, 32)   0           batch_normalization_30[0][0]     \n",
      "__________________________________________________________________________________________________\n",
      "conv2d_44 (Conv2D)              (None, 32, 32, 32)   9248        activation_17[0][0]              \n",
      "__________________________________________________________________________________________________\n",
      "batch_normalization_31 (BatchNo (None, 32, 32, 32)   128         conv2d_44[0][0]                  \n",
      "__________________________________________________________________________________________________\n",
      "activation_18 (Activation)      (None, 32, 32, 32)   0           batch_normalization_31[0][0]     \n",
      "__________________________________________________________________________________________________\n",
      "max_pooling2d_11 (MaxPooling2D) (None, 16, 16, 32)   0           activation_18[0][0]              \n",
      "__________________________________________________________________________________________________\n",
      "conv2d_45 (Conv2D)              (None, 16, 16, 64)   18496       max_pooling2d_11[0][0]           \n",
      "__________________________________________________________________________________________________\n",
      "batch_normalization_32 (BatchNo (None, 16, 16, 64)   256         conv2d_45[0][0]                  \n",
      "__________________________________________________________________________________________________\n",
      "activation_19 (Activation)      (None, 16, 16, 64)   0           batch_normalization_32[0][0]     \n",
      "__________________________________________________________________________________________________\n",
      "conv2d_46 (Conv2D)              (None, 16, 16, 64)   36928       activation_19[0][0]              \n",
      "__________________________________________________________________________________________________\n",
      "batch_normalization_33 (BatchNo (None, 16, 16, 64)   256         conv2d_46[0][0]                  \n",
      "__________________________________________________________________________________________________\n",
      "activation_20 (Activation)      (None, 16, 16, 64)   0           batch_normalization_33[0][0]     \n",
      "__________________________________________________________________________________________________\n",
      "max_pooling2d_12 (MaxPooling2D) (None, 8, 8, 64)     0           activation_20[0][0]              \n",
      "__________________________________________________________________________________________________\n",
      "conv2d_47 (Conv2D)              (None, 8, 8, 128)    73856       max_pooling2d_12[0][0]           \n",
      "__________________________________________________________________________________________________\n",
      "batch_normalization_34 (BatchNo (None, 8, 8, 128)    512         conv2d_47[0][0]                  \n",
      "__________________________________________________________________________________________________\n",
      "activation_21 (Activation)      (None, 8, 8, 128)    0           batch_normalization_34[0][0]     \n",
      "__________________________________________________________________________________________________\n",
      "conv2d_48 (Conv2D)              (None, 8, 8, 128)    147584      activation_21[0][0]              \n",
      "__________________________________________________________________________________________________\n",
      "batch_normalization_35 (BatchNo (None, 8, 8, 128)    512         conv2d_48[0][0]                  \n",
      "__________________________________________________________________________________________________\n",
      "activation_22 (Activation)      (None, 8, 8, 128)    0           batch_normalization_35[0][0]     \n",
      "__________________________________________________________________________________________________\n",
      "max_pooling2d_13 (MaxPooling2D) (None, 4, 4, 128)    0           activation_22[0][0]              \n",
      "__________________________________________________________________________________________________\n",
      "conv2d_49 (Conv2D)              (None, 4, 4, 256)    295168      max_pooling2d_13[0][0]           \n",
      "__________________________________________________________________________________________________\n",
      "batch_normalization_36 (BatchNo (None, 4, 4, 256)    1024        conv2d_49[0][0]                  \n",
      "__________________________________________________________________________________________________\n",
      "activation_23 (Activation)      (None, 4, 4, 256)    0           batch_normalization_36[0][0]     \n",
      "__________________________________________________________________________________________________\n",
      "conv2d_50 (Conv2D)              (None, 4, 4, 256)    590080      activation_23[0][0]              \n",
      "__________________________________________________________________________________________________\n",
      "batch_normalization_37 (BatchNo (None, 4, 4, 256)    1024        conv2d_50[0][0]                  \n",
      "__________________________________________________________________________________________________\n",
      "activation_24 (Activation)      (None, 4, 4, 256)    0           batch_normalization_37[0][0]     \n",
      "__________________________________________________________________________________________________\n",
      "conv2d_51 (Conv2D)              (None, 4, 4, 256)    65792       activation_24[0][0]              \n",
      "__________________________________________________________________________________________________\n",
      "batch_normalization_38 (BatchNo (None, 4, 4, 256)    1024        conv2d_51[0][0]                  \n",
      "__________________________________________________________________________________________________\n",
      "leaky_re_lu_13 (LeakyReLU)      (None, 4, 4, 256)    0           batch_normalization_38[0][0]     \n",
      "__________________________________________________________________________________________________\n",
      "conv2d_52 (Conv2D)              (None, 2, 2, 256)    590080      leaky_re_lu_13[0][0]             \n",
      "__________________________________________________________________________________________________\n",
      "batch_normalization_39 (BatchNo (None, 2, 2, 256)    1024        conv2d_52[0][0]                  \n",
      "__________________________________________________________________________________________________\n",
      "leaky_re_lu_14 (LeakyReLU)      (None, 2, 2, 256)    0           batch_normalization_39[0][0]     \n",
      "__________________________________________________________________________________________________\n",
      "up_sampling2d_9 (UpSampling2D)  (None, 4, 4, 256)    0           leaky_re_lu_14[0][0]             \n",
      "__________________________________________________________________________________________________\n",
      "conv2d_53 (Conv2D)              (None, 4, 4, 256)    65792       up_sampling2d_9[0][0]            \n",
      "__________________________________________________________________________________________________\n",
      "batch_normalization_40 (BatchNo (None, 4, 4, 256)    1024        conv2d_53[0][0]                  \n",
      "__________________________________________________________________________________________________\n",
      "concatenate_9 (Concatenate)     (None, 4, 4, 512)    0           activation_24[0][0]              \n",
      "                                                                 batch_normalization_40[0][0]     \n",
      "__________________________________________________________________________________________________\n",
      "leaky_re_lu_15 (LeakyReLU)      (None, 4, 4, 512)    0           concatenate_9[0][0]              \n",
      "__________________________________________________________________________________________________\n",
      "conv2d_54 (Conv2D)              (None, 4, 4, 256)    131328      leaky_re_lu_15[0][0]             \n",
      "__________________________________________________________________________________________________\n",
      "batch_normalization_41 (BatchNo (None, 4, 4, 256)    1024        conv2d_54[0][0]                  \n",
      "__________________________________________________________________________________________________\n",
      "leaky_re_lu_16 (LeakyReLU)      (None, 4, 4, 256)    0           batch_normalization_41[0][0]     \n",
      "__________________________________________________________________________________________________\n",
      "conv2d_55 (Conv2D)              (None, 2, 2, 256)    590080      leaky_re_lu_16[0][0]             \n",
      "__________________________________________________________________________________________________\n",
      "batch_normalization_42 (BatchNo (None, 2, 2, 256)    1024        conv2d_55[0][0]                  \n",
      "__________________________________________________________________________________________________\n",
      "leaky_re_lu_17 (LeakyReLU)      (None, 2, 2, 256)    0           batch_normalization_42[0][0]     \n",
      "__________________________________________________________________________________________________\n",
      "up_sampling2d_10 (UpSampling2D) (None, 4, 4, 256)    0           leaky_re_lu_17[0][0]             \n",
      "__________________________________________________________________________________________________\n",
      "conv2d_56 (Conv2D)              (None, 4, 4, 256)    65792       up_sampling2d_10[0][0]           \n",
      "__________________________________________________________________________________________________\n",
      "batch_normalization_43 (BatchNo (None, 4, 4, 256)    1024        conv2d_56[0][0]                  \n",
      "__________________________________________________________________________________________________\n",
      "concatenate_10 (Concatenate)    (None, 4, 4, 768)    0           leaky_re_lu_15[0][0]             \n",
      "                                                                 batch_normalization_43[0][0]     \n",
      "__________________________________________________________________________________________________\n",
      "leaky_re_lu_18 (LeakyReLU)      (None, 4, 4, 768)    0           concatenate_10[0][0]             \n",
      "__________________________________________________________________________________________________\n",
      "flatten_1 (Flatten)             (None, 12288)        0           leaky_re_lu_18[0][0]             \n",
      "__________________________________________________________________________________________________\n",
      "batch_normalization_44 (BatchNo (None, 12288)        49152       flatten_1[0][0]                  \n",
      "__________________________________________________________________________________________________\n",
      "dropout_4 (Dropout)             (None, 12288)        0           batch_normalization_44[0][0]     \n",
      "__________________________________________________________________________________________________\n",
      "dense_5 (Dense)                 (None, 512)          6291968     dropout_4[0][0]                  \n",
      "__________________________________________________________________________________________________\n",
      "batch_normalization_45 (BatchNo (None, 512)          2048        dense_5[0][0]                    \n",
      "__________________________________________________________________________________________________\n",
      "dropout_5 (Dropout)             (None, 512)          0           batch_normalization_45[0][0]     \n",
      "__________________________________________________________________________________________________\n",
      "dense_6 (Dense)                 (None, 256)          131328      dropout_5[0][0]                  \n",
      "__________________________________________________________________________________________________\n",
      "batch_normalization_46 (BatchNo (None, 256)          1024        dense_6[0][0]                    \n",
      "__________________________________________________________________________________________________\n",
      "dropout_6 (Dropout)             (None, 256)          0           batch_normalization_46[0][0]     \n",
      "__________________________________________________________________________________________________\n",
      "dense_7 (Dense)                 (None, 128)          32896       dropout_6[0][0]                  \n",
      "==================================================================================================\n",
      "Total params: 9,198,944\n",
      "Trainable params: 9,167,840\n",
      "Non-trainable params: 31,104\n",
      "__________________________________________________________________________________________________\n"
     ]
    }
   ],
   "source": [
    "deeper_hardnet_fully_connected_model_trip, deeper_hardnet_fully_connected_model = load_descriptor_model(get_deep_hardnet_v1_model)"
   ]
  },
  {
   "cell_type": "code",
   "execution_count": 21,
   "metadata": {
    "colab": {
     "base_uri": "https://localhost:8080/",
     "height": 5824
    },
    "colab_type": "code",
    "id": "lTnUI8zX6FAV",
    "outputId": "c70f51d8-ee18-47e6-f301-769781f05e43"
   },
   "outputs": [
    {
     "data": {
      "image/svg+xml": [
       "<svg height=\"4352pt\" viewBox=\"0.00 0.00 371.00 4352.00\" width=\"371pt\" xmlns=\"http://www.w3.org/2000/svg\" xmlns:xlink=\"http://www.w3.org/1999/xlink\">\n",
       "<g class=\"graph\" id=\"graph0\" transform=\"scale(1 1) rotate(0) translate(4 4348)\">\n",
       "<title>G</title>\n",
       "<polygon fill=\"#ffffff\" points=\"-4,4 -4,-4348 367,-4348 367,4 -4,4\" stroke=\"transparent\"/>\n",
       "<!-- 139667651270304 -->\n",
       "<g class=\"node\" id=\"node1\">\n",
       "<title>139667651270304</title>\n",
       "<polygon fill=\"none\" points=\"157.5,-4307.5 157.5,-4343.5 290.5,-4343.5 290.5,-4307.5 157.5,-4307.5\" stroke=\"#000000\"/>\n",
       "<text fill=\"#000000\" font-family=\"Times,serif\" font-size=\"14.00\" text-anchor=\"middle\" x=\"224\" y=\"-4321.8\">input_4: InputLayer</text>\n",
       "</g>\n",
       "<!-- 139667651270416 -->\n",
       "<g class=\"node\" id=\"node2\">\n",
       "<title>139667651270416</title>\n",
       "<polygon fill=\"none\" points=\"154,-4234.5 154,-4270.5 294,-4270.5 294,-4234.5 154,-4234.5\" stroke=\"#000000\"/>\n",
       "<text fill=\"#000000\" font-family=\"Times,serif\" font-size=\"14.00\" text-anchor=\"middle\" x=\"224\" y=\"-4248.8\">conv2d_43: Conv2D</text>\n",
       "</g>\n",
       "<!-- 139667651270304&#45;&gt;139667651270416 -->\n",
       "<g class=\"edge\" id=\"edge1\">\n",
       "<title>139667651270304-&gt;139667651270416</title>\n",
       "<path d=\"M224,-4307.4551C224,-4299.3828 224,-4289.6764 224,-4280.6817\" fill=\"none\" stroke=\"#000000\"/>\n",
       "<polygon fill=\"#000000\" points=\"227.5001,-4280.5903 224,-4270.5904 220.5001,-4280.5904 227.5001,-4280.5903\" stroke=\"#000000\"/>\n",
       "</g>\n",
       "<!-- 139667651271816 -->\n",
       "<g class=\"node\" id=\"node3\">\n",
       "<title>139667651271816</title>\n",
       "<polygon fill=\"none\" points=\"85,-4161.5 85,-4197.5 363,-4197.5 363,-4161.5 85,-4161.5\" stroke=\"#000000\"/>\n",
       "<text fill=\"#000000\" font-family=\"Times,serif\" font-size=\"14.00\" text-anchor=\"middle\" x=\"224\" y=\"-4175.8\">batch_normalization_30: BatchNormalization</text>\n",
       "</g>\n",
       "<!-- 139667651270416&#45;&gt;139667651271816 -->\n",
       "<g class=\"edge\" id=\"edge2\">\n",
       "<title>139667651270416-&gt;139667651271816</title>\n",
       "<path d=\"M224,-4234.4551C224,-4226.3828 224,-4216.6764 224,-4207.6817\" fill=\"none\" stroke=\"#000000\"/>\n",
       "<polygon fill=\"#000000\" points=\"227.5001,-4207.5903 224,-4197.5904 220.5001,-4207.5904 227.5001,-4207.5903\" stroke=\"#000000\"/>\n",
       "</g>\n",
       "<!-- 139667651271088 -->\n",
       "<g class=\"node\" id=\"node4\">\n",
       "<title>139667651271088</title>\n",
       "<polygon fill=\"none\" points=\"143.5,-4088.5 143.5,-4124.5 304.5,-4124.5 304.5,-4088.5 143.5,-4088.5\" stroke=\"#000000\"/>\n",
       "<text fill=\"#000000\" font-family=\"Times,serif\" font-size=\"14.00\" text-anchor=\"middle\" x=\"224\" y=\"-4102.8\">activation_17: Activation</text>\n",
       "</g>\n",
       "<!-- 139667651271816&#45;&gt;139667651271088 -->\n",
       "<g class=\"edge\" id=\"edge3\">\n",
       "<title>139667651271816-&gt;139667651271088</title>\n",
       "<path d=\"M224,-4161.4551C224,-4153.3828 224,-4143.6764 224,-4134.6817\" fill=\"none\" stroke=\"#000000\"/>\n",
       "<polygon fill=\"#000000\" points=\"227.5001,-4134.5903 224,-4124.5904 220.5001,-4134.5904 227.5001,-4134.5903\" stroke=\"#000000\"/>\n",
       "</g>\n",
       "<!-- 139667649707200 -->\n",
       "<g class=\"node\" id=\"node5\">\n",
       "<title>139667649707200</title>\n",
       "<polygon fill=\"none\" points=\"154,-4015.5 154,-4051.5 294,-4051.5 294,-4015.5 154,-4015.5\" stroke=\"#000000\"/>\n",
       "<text fill=\"#000000\" font-family=\"Times,serif\" font-size=\"14.00\" text-anchor=\"middle\" x=\"224\" y=\"-4029.8\">conv2d_44: Conv2D</text>\n",
       "</g>\n",
       "<!-- 139667651271088&#45;&gt;139667649707200 -->\n",
       "<g class=\"edge\" id=\"edge4\">\n",
       "<title>139667651271088-&gt;139667649707200</title>\n",
       "<path d=\"M224,-4088.4551C224,-4080.3828 224,-4070.6764 224,-4061.6817\" fill=\"none\" stroke=\"#000000\"/>\n",
       "<polygon fill=\"#000000\" points=\"227.5001,-4061.5903 224,-4051.5904 220.5001,-4061.5904 227.5001,-4061.5903\" stroke=\"#000000\"/>\n",
       "</g>\n",
       "<!-- 139667776858040 -->\n",
       "<g class=\"node\" id=\"node6\">\n",
       "<title>139667776858040</title>\n",
       "<polygon fill=\"none\" points=\"85,-3942.5 85,-3978.5 363,-3978.5 363,-3942.5 85,-3942.5\" stroke=\"#000000\"/>\n",
       "<text fill=\"#000000\" font-family=\"Times,serif\" font-size=\"14.00\" text-anchor=\"middle\" x=\"224\" y=\"-3956.8\">batch_normalization_31: BatchNormalization</text>\n",
       "</g>\n",
       "<!-- 139667649707200&#45;&gt;139667776858040 -->\n",
       "<g class=\"edge\" id=\"edge5\">\n",
       "<title>139667649707200-&gt;139667776858040</title>\n",
       "<path d=\"M224,-4015.4551C224,-4007.3828 224,-3997.6764 224,-3988.6817\" fill=\"none\" stroke=\"#000000\"/>\n",
       "<polygon fill=\"#000000\" points=\"227.5001,-3988.5903 224,-3978.5904 220.5001,-3988.5904 227.5001,-3988.5903\" stroke=\"#000000\"/>\n",
       "</g>\n",
       "<!-- 139667637679888 -->\n",
       "<g class=\"node\" id=\"node7\">\n",
       "<title>139667637679888</title>\n",
       "<polygon fill=\"none\" points=\"143.5,-3869.5 143.5,-3905.5 304.5,-3905.5 304.5,-3869.5 143.5,-3869.5\" stroke=\"#000000\"/>\n",
       "<text fill=\"#000000\" font-family=\"Times,serif\" font-size=\"14.00\" text-anchor=\"middle\" x=\"224\" y=\"-3883.8\">activation_18: Activation</text>\n",
       "</g>\n",
       "<!-- 139667776858040&#45;&gt;139667637679888 -->\n",
       "<g class=\"edge\" id=\"edge6\">\n",
       "<title>139667776858040-&gt;139667637679888</title>\n",
       "<path d=\"M224,-3942.4551C224,-3934.3828 224,-3924.6764 224,-3915.6817\" fill=\"none\" stroke=\"#000000\"/>\n",
       "<polygon fill=\"#000000\" points=\"227.5001,-3915.5903 224,-3905.5904 220.5001,-3915.5904 227.5001,-3915.5903\" stroke=\"#000000\"/>\n",
       "</g>\n",
       "<!-- 139667507595248 -->\n",
       "<g class=\"node\" id=\"node8\">\n",
       "<title>139667507595248</title>\n",
       "<polygon fill=\"none\" points=\"110,-3796.5 110,-3832.5 338,-3832.5 338,-3796.5 110,-3796.5\" stroke=\"#000000\"/>\n",
       "<text fill=\"#000000\" font-family=\"Times,serif\" font-size=\"14.00\" text-anchor=\"middle\" x=\"224\" y=\"-3810.8\">max_pooling2d_11: MaxPooling2D</text>\n",
       "</g>\n",
       "<!-- 139667637679888&#45;&gt;139667507595248 -->\n",
       "<g class=\"edge\" id=\"edge7\">\n",
       "<title>139667637679888-&gt;139667507595248</title>\n",
       "<path d=\"M224,-3869.4551C224,-3861.3828 224,-3851.6764 224,-3842.6817\" fill=\"none\" stroke=\"#000000\"/>\n",
       "<polygon fill=\"#000000\" points=\"227.5001,-3842.5903 224,-3832.5904 220.5001,-3842.5904 227.5001,-3842.5903\" stroke=\"#000000\"/>\n",
       "</g>\n",
       "<!-- 139667558962456 -->\n",
       "<g class=\"node\" id=\"node9\">\n",
       "<title>139667558962456</title>\n",
       "<polygon fill=\"none\" points=\"154,-3723.5 154,-3759.5 294,-3759.5 294,-3723.5 154,-3723.5\" stroke=\"#000000\"/>\n",
       "<text fill=\"#000000\" font-family=\"Times,serif\" font-size=\"14.00\" text-anchor=\"middle\" x=\"224\" y=\"-3737.8\">conv2d_45: Conv2D</text>\n",
       "</g>\n",
       "<!-- 139667507595248&#45;&gt;139667558962456 -->\n",
       "<g class=\"edge\" id=\"edge8\">\n",
       "<title>139667507595248-&gt;139667558962456</title>\n",
       "<path d=\"M224,-3796.4551C224,-3788.3828 224,-3778.6764 224,-3769.6817\" fill=\"none\" stroke=\"#000000\"/>\n",
       "<polygon fill=\"#000000\" points=\"227.5001,-3769.5903 224,-3759.5904 220.5001,-3769.5904 227.5001,-3769.5903\" stroke=\"#000000\"/>\n",
       "</g>\n",
       "<!-- 139667507563600 -->\n",
       "<g class=\"node\" id=\"node10\">\n",
       "<title>139667507563600</title>\n",
       "<polygon fill=\"none\" points=\"85,-3650.5 85,-3686.5 363,-3686.5 363,-3650.5 85,-3650.5\" stroke=\"#000000\"/>\n",
       "<text fill=\"#000000\" font-family=\"Times,serif\" font-size=\"14.00\" text-anchor=\"middle\" x=\"224\" y=\"-3664.8\">batch_normalization_32: BatchNormalization</text>\n",
       "</g>\n",
       "<!-- 139667558962456&#45;&gt;139667507563600 -->\n",
       "<g class=\"edge\" id=\"edge9\">\n",
       "<title>139667558962456-&gt;139667507563600</title>\n",
       "<path d=\"M224,-3723.4551C224,-3715.3828 224,-3705.6764 224,-3696.6817\" fill=\"none\" stroke=\"#000000\"/>\n",
       "<polygon fill=\"#000000\" points=\"227.5001,-3696.5903 224,-3686.5904 220.5001,-3696.5904 227.5001,-3696.5903\" stroke=\"#000000\"/>\n",
       "</g>\n",
       "<!-- 139667527671088 -->\n",
       "<g class=\"node\" id=\"node11\">\n",
       "<title>139667527671088</title>\n",
       "<polygon fill=\"none\" points=\"143.5,-3577.5 143.5,-3613.5 304.5,-3613.5 304.5,-3577.5 143.5,-3577.5\" stroke=\"#000000\"/>\n",
       "<text fill=\"#000000\" font-family=\"Times,serif\" font-size=\"14.00\" text-anchor=\"middle\" x=\"224\" y=\"-3591.8\">activation_19: Activation</text>\n",
       "</g>\n",
       "<!-- 139667507563600&#45;&gt;139667527671088 -->\n",
       "<g class=\"edge\" id=\"edge10\">\n",
       "<title>139667507563600-&gt;139667527671088</title>\n",
       "<path d=\"M224,-3650.4551C224,-3642.3828 224,-3632.6764 224,-3623.6817\" fill=\"none\" stroke=\"#000000\"/>\n",
       "<polygon fill=\"#000000\" points=\"227.5001,-3623.5903 224,-3613.5904 220.5001,-3623.5904 227.5001,-3623.5903\" stroke=\"#000000\"/>\n",
       "</g>\n",
       "<!-- 139667763177624 -->\n",
       "<g class=\"node\" id=\"node12\">\n",
       "<title>139667763177624</title>\n",
       "<polygon fill=\"none\" points=\"154,-3504.5 154,-3540.5 294,-3540.5 294,-3504.5 154,-3504.5\" stroke=\"#000000\"/>\n",
       "<text fill=\"#000000\" font-family=\"Times,serif\" font-size=\"14.00\" text-anchor=\"middle\" x=\"224\" y=\"-3518.8\">conv2d_46: Conv2D</text>\n",
       "</g>\n",
       "<!-- 139667527671088&#45;&gt;139667763177624 -->\n",
       "<g class=\"edge\" id=\"edge11\">\n",
       "<title>139667527671088-&gt;139667763177624</title>\n",
       "<path d=\"M224,-3577.4551C224,-3569.3828 224,-3559.6764 224,-3550.6817\" fill=\"none\" stroke=\"#000000\"/>\n",
       "<polygon fill=\"#000000\" points=\"227.5001,-3550.5903 224,-3540.5904 220.5001,-3550.5904 227.5001,-3550.5903\" stroke=\"#000000\"/>\n",
       "</g>\n",
       "<!-- 139667527628840 -->\n",
       "<g class=\"node\" id=\"node13\">\n",
       "<title>139667527628840</title>\n",
       "<polygon fill=\"none\" points=\"85,-3431.5 85,-3467.5 363,-3467.5 363,-3431.5 85,-3431.5\" stroke=\"#000000\"/>\n",
       "<text fill=\"#000000\" font-family=\"Times,serif\" font-size=\"14.00\" text-anchor=\"middle\" x=\"224\" y=\"-3445.8\">batch_normalization_33: BatchNormalization</text>\n",
       "</g>\n",
       "<!-- 139667763177624&#45;&gt;139667527628840 -->\n",
       "<g class=\"edge\" id=\"edge12\">\n",
       "<title>139667763177624-&gt;139667527628840</title>\n",
       "<path d=\"M224,-3504.4551C224,-3496.3828 224,-3486.6764 224,-3477.6817\" fill=\"none\" stroke=\"#000000\"/>\n",
       "<polygon fill=\"#000000\" points=\"227.5001,-3477.5903 224,-3467.5904 220.5001,-3477.5904 227.5001,-3477.5903\" stroke=\"#000000\"/>\n",
       "</g>\n",
       "<!-- 139667524451856 -->\n",
       "<g class=\"node\" id=\"node14\">\n",
       "<title>139667524451856</title>\n",
       "<polygon fill=\"none\" points=\"143.5,-3358.5 143.5,-3394.5 304.5,-3394.5 304.5,-3358.5 143.5,-3358.5\" stroke=\"#000000\"/>\n",
       "<text fill=\"#000000\" font-family=\"Times,serif\" font-size=\"14.00\" text-anchor=\"middle\" x=\"224\" y=\"-3372.8\">activation_20: Activation</text>\n",
       "</g>\n",
       "<!-- 139667527628840&#45;&gt;139667524451856 -->\n",
       "<g class=\"edge\" id=\"edge13\">\n",
       "<title>139667527628840-&gt;139667524451856</title>\n",
       "<path d=\"M224,-3431.4551C224,-3423.3828 224,-3413.6764 224,-3404.6817\" fill=\"none\" stroke=\"#000000\"/>\n",
       "<polygon fill=\"#000000\" points=\"227.5001,-3404.5903 224,-3394.5904 220.5001,-3404.5904 227.5001,-3404.5903\" stroke=\"#000000\"/>\n",
       "</g>\n",
       "<!-- 139667652744864 -->\n",
       "<g class=\"node\" id=\"node15\">\n",
       "<title>139667652744864</title>\n",
       "<polygon fill=\"none\" points=\"109.5,-3285.5 109.5,-3321.5 338.5,-3321.5 338.5,-3285.5 109.5,-3285.5\" stroke=\"#000000\"/>\n",
       "<text fill=\"#000000\" font-family=\"Times,serif\" font-size=\"14.00\" text-anchor=\"middle\" x=\"224\" y=\"-3299.8\">max_pooling2d_12: MaxPooling2D</text>\n",
       "</g>\n",
       "<!-- 139667524451856&#45;&gt;139667652744864 -->\n",
       "<g class=\"edge\" id=\"edge14\">\n",
       "<title>139667524451856-&gt;139667652744864</title>\n",
       "<path d=\"M224,-3358.4551C224,-3350.3828 224,-3340.6764 224,-3331.6817\" fill=\"none\" stroke=\"#000000\"/>\n",
       "<polygon fill=\"#000000\" points=\"227.5001,-3331.5903 224,-3321.5904 220.5001,-3331.5904 227.5001,-3331.5903\" stroke=\"#000000\"/>\n",
       "</g>\n",
       "<!-- 139667652682304 -->\n",
       "<g class=\"node\" id=\"node16\">\n",
       "<title>139667652682304</title>\n",
       "<polygon fill=\"none\" points=\"154,-3212.5 154,-3248.5 294,-3248.5 294,-3212.5 154,-3212.5\" stroke=\"#000000\"/>\n",
       "<text fill=\"#000000\" font-family=\"Times,serif\" font-size=\"14.00\" text-anchor=\"middle\" x=\"224\" y=\"-3226.8\">conv2d_47: Conv2D</text>\n",
       "</g>\n",
       "<!-- 139667652744864&#45;&gt;139667652682304 -->\n",
       "<g class=\"edge\" id=\"edge15\">\n",
       "<title>139667652744864-&gt;139667652682304</title>\n",
       "<path d=\"M224,-3285.4551C224,-3277.3828 224,-3267.6764 224,-3258.6817\" fill=\"none\" stroke=\"#000000\"/>\n",
       "<polygon fill=\"#000000\" points=\"227.5001,-3258.5903 224,-3248.5904 220.5001,-3258.5904 227.5001,-3258.5903\" stroke=\"#000000\"/>\n",
       "</g>\n",
       "<!-- 139667652497816 -->\n",
       "<g class=\"node\" id=\"node17\">\n",
       "<title>139667652497816</title>\n",
       "<polygon fill=\"none\" points=\"85,-3139.5 85,-3175.5 363,-3175.5 363,-3139.5 85,-3139.5\" stroke=\"#000000\"/>\n",
       "<text fill=\"#000000\" font-family=\"Times,serif\" font-size=\"14.00\" text-anchor=\"middle\" x=\"224\" y=\"-3153.8\">batch_normalization_34: BatchNormalization</text>\n",
       "</g>\n",
       "<!-- 139667652682304&#45;&gt;139667652497816 -->\n",
       "<g class=\"edge\" id=\"edge16\">\n",
       "<title>139667652682304-&gt;139667652497816</title>\n",
       "<path d=\"M224,-3212.4551C224,-3204.3828 224,-3194.6764 224,-3185.6817\" fill=\"none\" stroke=\"#000000\"/>\n",
       "<polygon fill=\"#000000\" points=\"227.5001,-3185.5903 224,-3175.5904 220.5001,-3185.5904 227.5001,-3185.5903\" stroke=\"#000000\"/>\n",
       "</g>\n",
       "<!-- 139667654392744 -->\n",
       "<g class=\"node\" id=\"node18\">\n",
       "<title>139667654392744</title>\n",
       "<polygon fill=\"none\" points=\"143.5,-3066.5 143.5,-3102.5 304.5,-3102.5 304.5,-3066.5 143.5,-3066.5\" stroke=\"#000000\"/>\n",
       "<text fill=\"#000000\" font-family=\"Times,serif\" font-size=\"14.00\" text-anchor=\"middle\" x=\"224\" y=\"-3080.8\">activation_21: Activation</text>\n",
       "</g>\n",
       "<!-- 139667652497816&#45;&gt;139667654392744 -->\n",
       "<g class=\"edge\" id=\"edge17\">\n",
       "<title>139667652497816-&gt;139667654392744</title>\n",
       "<path d=\"M224,-3139.4551C224,-3131.3828 224,-3121.6764 224,-3112.6817\" fill=\"none\" stroke=\"#000000\"/>\n",
       "<polygon fill=\"#000000\" points=\"227.5001,-3112.5903 224,-3102.5904 220.5001,-3112.5904 227.5001,-3112.5903\" stroke=\"#000000\"/>\n",
       "</g>\n",
       "<!-- 139667650804648 -->\n",
       "<g class=\"node\" id=\"node19\">\n",
       "<title>139667650804648</title>\n",
       "<polygon fill=\"none\" points=\"154,-2993.5 154,-3029.5 294,-3029.5 294,-2993.5 154,-2993.5\" stroke=\"#000000\"/>\n",
       "<text fill=\"#000000\" font-family=\"Times,serif\" font-size=\"14.00\" text-anchor=\"middle\" x=\"224\" y=\"-3007.8\">conv2d_48: Conv2D</text>\n",
       "</g>\n",
       "<!-- 139667654392744&#45;&gt;139667650804648 -->\n",
       "<g class=\"edge\" id=\"edge18\">\n",
       "<title>139667654392744-&gt;139667650804648</title>\n",
       "<path d=\"M224,-3066.4551C224,-3058.3828 224,-3048.6764 224,-3039.6817\" fill=\"none\" stroke=\"#000000\"/>\n",
       "<polygon fill=\"#000000\" points=\"227.5001,-3039.5903 224,-3029.5904 220.5001,-3039.5904 227.5001,-3039.5903\" stroke=\"#000000\"/>\n",
       "</g>\n",
       "<!-- 139667651673952 -->\n",
       "<g class=\"node\" id=\"node20\">\n",
       "<title>139667651673952</title>\n",
       "<polygon fill=\"none\" points=\"85,-2920.5 85,-2956.5 363,-2956.5 363,-2920.5 85,-2920.5\" stroke=\"#000000\"/>\n",
       "<text fill=\"#000000\" font-family=\"Times,serif\" font-size=\"14.00\" text-anchor=\"middle\" x=\"224\" y=\"-2934.8\">batch_normalization_35: BatchNormalization</text>\n",
       "</g>\n",
       "<!-- 139667650804648&#45;&gt;139667651673952 -->\n",
       "<g class=\"edge\" id=\"edge19\">\n",
       "<title>139667650804648-&gt;139667651673952</title>\n",
       "<path d=\"M224,-2993.4551C224,-2985.3828 224,-2975.6764 224,-2966.6817\" fill=\"none\" stroke=\"#000000\"/>\n",
       "<polygon fill=\"#000000\" points=\"227.5001,-2966.5903 224,-2956.5904 220.5001,-2966.5904 227.5001,-2966.5903\" stroke=\"#000000\"/>\n",
       "</g>\n",
       "<!-- 139667651742072 -->\n",
       "<g class=\"node\" id=\"node21\">\n",
       "<title>139667651742072</title>\n",
       "<polygon fill=\"none\" points=\"143.5,-2847.5 143.5,-2883.5 304.5,-2883.5 304.5,-2847.5 143.5,-2847.5\" stroke=\"#000000\"/>\n",
       "<text fill=\"#000000\" font-family=\"Times,serif\" font-size=\"14.00\" text-anchor=\"middle\" x=\"224\" y=\"-2861.8\">activation_22: Activation</text>\n",
       "</g>\n",
       "<!-- 139667651673952&#45;&gt;139667651742072 -->\n",
       "<g class=\"edge\" id=\"edge20\">\n",
       "<title>139667651673952-&gt;139667651742072</title>\n",
       "<path d=\"M224,-2920.4551C224,-2912.3828 224,-2902.6764 224,-2893.6817\" fill=\"none\" stroke=\"#000000\"/>\n",
       "<polygon fill=\"#000000\" points=\"227.5001,-2893.5903 224,-2883.5904 220.5001,-2893.5904 227.5001,-2893.5903\" stroke=\"#000000\"/>\n",
       "</g>\n",
       "<!-- 139667649655808 -->\n",
       "<g class=\"node\" id=\"node22\">\n",
       "<title>139667649655808</title>\n",
       "<polygon fill=\"none\" points=\"109.5,-2774.5 109.5,-2810.5 338.5,-2810.5 338.5,-2774.5 109.5,-2774.5\" stroke=\"#000000\"/>\n",
       "<text fill=\"#000000\" font-family=\"Times,serif\" font-size=\"14.00\" text-anchor=\"middle\" x=\"224\" y=\"-2788.8\">max_pooling2d_13: MaxPooling2D</text>\n",
       "</g>\n",
       "<!-- 139667651742072&#45;&gt;139667649655808 -->\n",
       "<g class=\"edge\" id=\"edge21\">\n",
       "<title>139667651742072-&gt;139667649655808</title>\n",
       "<path d=\"M224,-2847.4551C224,-2839.3828 224,-2829.6764 224,-2820.6817\" fill=\"none\" stroke=\"#000000\"/>\n",
       "<polygon fill=\"#000000\" points=\"227.5001,-2820.5903 224,-2810.5904 220.5001,-2820.5904 227.5001,-2820.5903\" stroke=\"#000000\"/>\n",
       "</g>\n",
       "<!-- 139667651719464 -->\n",
       "<g class=\"node\" id=\"node23\">\n",
       "<title>139667651719464</title>\n",
       "<polygon fill=\"none\" points=\"154,-2701.5 154,-2737.5 294,-2737.5 294,-2701.5 154,-2701.5\" stroke=\"#000000\"/>\n",
       "<text fill=\"#000000\" font-family=\"Times,serif\" font-size=\"14.00\" text-anchor=\"middle\" x=\"224\" y=\"-2715.8\">conv2d_49: Conv2D</text>\n",
       "</g>\n",
       "<!-- 139667649655808&#45;&gt;139667651719464 -->\n",
       "<g class=\"edge\" id=\"edge22\">\n",
       "<title>139667649655808-&gt;139667651719464</title>\n",
       "<path d=\"M224,-2774.4551C224,-2766.3828 224,-2756.6764 224,-2747.6817\" fill=\"none\" stroke=\"#000000\"/>\n",
       "<polygon fill=\"#000000\" points=\"227.5001,-2747.5903 224,-2737.5904 220.5001,-2747.5904 227.5001,-2747.5903\" stroke=\"#000000\"/>\n",
       "</g>\n",
       "<!-- 139667651269296 -->\n",
       "<g class=\"node\" id=\"node24\">\n",
       "<title>139667651269296</title>\n",
       "<polygon fill=\"none\" points=\"85,-2628.5 85,-2664.5 363,-2664.5 363,-2628.5 85,-2628.5\" stroke=\"#000000\"/>\n",
       "<text fill=\"#000000\" font-family=\"Times,serif\" font-size=\"14.00\" text-anchor=\"middle\" x=\"224\" y=\"-2642.8\">batch_normalization_36: BatchNormalization</text>\n",
       "</g>\n",
       "<!-- 139667651719464&#45;&gt;139667651269296 -->\n",
       "<g class=\"edge\" id=\"edge23\">\n",
       "<title>139667651719464-&gt;139667651269296</title>\n",
       "<path d=\"M224,-2701.4551C224,-2693.3828 224,-2683.6764 224,-2674.6817\" fill=\"none\" stroke=\"#000000\"/>\n",
       "<polygon fill=\"#000000\" points=\"227.5001,-2674.5903 224,-2664.5904 220.5001,-2674.5904 227.5001,-2674.5903\" stroke=\"#000000\"/>\n",
       "</g>\n",
       "<!-- 139667526713752 -->\n",
       "<g class=\"node\" id=\"node25\">\n",
       "<title>139667526713752</title>\n",
       "<polygon fill=\"none\" points=\"143.5,-2555.5 143.5,-2591.5 304.5,-2591.5 304.5,-2555.5 143.5,-2555.5\" stroke=\"#000000\"/>\n",
       "<text fill=\"#000000\" font-family=\"Times,serif\" font-size=\"14.00\" text-anchor=\"middle\" x=\"224\" y=\"-2569.8\">activation_23: Activation</text>\n",
       "</g>\n",
       "<!-- 139667651269296&#45;&gt;139667526713752 -->\n",
       "<g class=\"edge\" id=\"edge24\">\n",
       "<title>139667651269296-&gt;139667526713752</title>\n",
       "<path d=\"M224,-2628.4551C224,-2620.3828 224,-2610.6764 224,-2601.6817\" fill=\"none\" stroke=\"#000000\"/>\n",
       "<polygon fill=\"#000000\" points=\"227.5001,-2601.5903 224,-2591.5904 220.5001,-2601.5904 227.5001,-2601.5903\" stroke=\"#000000\"/>\n",
       "</g>\n",
       "<!-- 139667523420680 -->\n",
       "<g class=\"node\" id=\"node26\">\n",
       "<title>139667523420680</title>\n",
       "<polygon fill=\"none\" points=\"154,-2482.5 154,-2518.5 294,-2518.5 294,-2482.5 154,-2482.5\" stroke=\"#000000\"/>\n",
       "<text fill=\"#000000\" font-family=\"Times,serif\" font-size=\"14.00\" text-anchor=\"middle\" x=\"224\" y=\"-2496.8\">conv2d_50: Conv2D</text>\n",
       "</g>\n",
       "<!-- 139667526713752&#45;&gt;139667523420680 -->\n",
       "<g class=\"edge\" id=\"edge25\">\n",
       "<title>139667526713752-&gt;139667523420680</title>\n",
       "<path d=\"M224,-2555.4551C224,-2547.3828 224,-2537.6764 224,-2528.6817\" fill=\"none\" stroke=\"#000000\"/>\n",
       "<polygon fill=\"#000000\" points=\"227.5001,-2528.5903 224,-2518.5904 220.5001,-2528.5904 227.5001,-2528.5903\" stroke=\"#000000\"/>\n",
       "</g>\n",
       "<!-- 139667523577952 -->\n",
       "<g class=\"node\" id=\"node27\">\n",
       "<title>139667523577952</title>\n",
       "<polygon fill=\"none\" points=\"85,-2409.5 85,-2445.5 363,-2445.5 363,-2409.5 85,-2409.5\" stroke=\"#000000\"/>\n",
       "<text fill=\"#000000\" font-family=\"Times,serif\" font-size=\"14.00\" text-anchor=\"middle\" x=\"224\" y=\"-2423.8\">batch_normalization_37: BatchNormalization</text>\n",
       "</g>\n",
       "<!-- 139667523420680&#45;&gt;139667523577952 -->\n",
       "<g class=\"edge\" id=\"edge26\">\n",
       "<title>139667523420680-&gt;139667523577952</title>\n",
       "<path d=\"M224,-2482.4551C224,-2474.3828 224,-2464.6764 224,-2455.6817\" fill=\"none\" stroke=\"#000000\"/>\n",
       "<polygon fill=\"#000000\" points=\"227.5001,-2455.5903 224,-2445.5904 220.5001,-2455.5904 227.5001,-2455.5903\" stroke=\"#000000\"/>\n",
       "</g>\n",
       "<!-- 139667728592064 -->\n",
       "<g class=\"node\" id=\"node28\">\n",
       "<title>139667728592064</title>\n",
       "<polygon fill=\"none\" points=\"143.5,-2336.5 143.5,-2372.5 304.5,-2372.5 304.5,-2336.5 143.5,-2336.5\" stroke=\"#000000\"/>\n",
       "<text fill=\"#000000\" font-family=\"Times,serif\" font-size=\"14.00\" text-anchor=\"middle\" x=\"224\" y=\"-2350.8\">activation_24: Activation</text>\n",
       "</g>\n",
       "<!-- 139667523577952&#45;&gt;139667728592064 -->\n",
       "<g class=\"edge\" id=\"edge27\">\n",
       "<title>139667523577952-&gt;139667728592064</title>\n",
       "<path d=\"M224,-2409.4551C224,-2401.3828 224,-2391.6764 224,-2382.6817\" fill=\"none\" stroke=\"#000000\"/>\n",
       "<polygon fill=\"#000000\" points=\"227.5001,-2382.5903 224,-2372.5904 220.5001,-2382.5904 227.5001,-2382.5903\" stroke=\"#000000\"/>\n",
       "</g>\n",
       "<!-- 139667538957144 -->\n",
       "<g class=\"node\" id=\"node29\">\n",
       "<title>139667538957144</title>\n",
       "<polygon fill=\"none\" points=\"105,-2263.5 105,-2299.5 245,-2299.5 245,-2263.5 105,-2263.5\" stroke=\"#000000\"/>\n",
       "<text fill=\"#000000\" font-family=\"Times,serif\" font-size=\"14.00\" text-anchor=\"middle\" x=\"175\" y=\"-2277.8\">conv2d_51: Conv2D</text>\n",
       "</g>\n",
       "<!-- 139667728592064&#45;&gt;139667538957144 -->\n",
       "<g class=\"edge\" id=\"edge28\">\n",
       "<title>139667728592064-&gt;139667538957144</title>\n",
       "<path d=\"M211.8876,-2336.4551C206.1159,-2327.8564 199.0995,-2317.4034 192.7418,-2307.9316\" fill=\"none\" stroke=\"#000000\"/>\n",
       "<polygon fill=\"#000000\" points=\"195.6222,-2305.9427 187.1428,-2299.5904 189.8101,-2309.844 195.6222,-2305.9427\" stroke=\"#000000\"/>\n",
       "</g>\n",
       "<!-- 139667560513376 -->\n",
       "<g class=\"node\" id=\"node38\">\n",
       "<title>139667560513376</title>\n",
       "<polygon fill=\"none\" points=\"135.5,-1606.5 135.5,-1642.5 310.5,-1642.5 310.5,-1606.5 135.5,-1606.5\" stroke=\"#000000\"/>\n",
       "<text fill=\"#000000\" font-family=\"Times,serif\" font-size=\"14.00\" text-anchor=\"middle\" x=\"223\" y=\"-1620.8\">concatenate_9: Concatenate</text>\n",
       "</g>\n",
       "<!-- 139667728592064&#45;&gt;139667560513376 -->\n",
       "<g class=\"edge\" id=\"edge37\">\n",
       "<title>139667728592064-&gt;139667560513376</title>\n",
       "<path d=\"M242.834,-2336.1141C267.3225,-2310.1458 307,-2260.1076 307,-2208.5 307,-2208.5 307,-2208.5 307,-1770.5 307,-1728.9658 309.3146,-1714.6479 288,-1679 281.1422,-1667.5307 270.9793,-1657.3447 260.7159,-1648.9733\" fill=\"none\" stroke=\"#000000\"/>\n",
       "<polygon fill=\"#000000\" points=\"262.5814,-1645.9921 252.5246,-1642.6587 258.3077,-1651.5361 262.5814,-1645.9921\" stroke=\"#000000\"/>\n",
       "</g>\n",
       "<!-- 139667645431704 -->\n",
       "<g class=\"node\" id=\"node30\">\n",
       "<title>139667645431704</title>\n",
       "<polygon fill=\"none\" points=\"1,-2190.5 1,-2226.5 279,-2226.5 279,-2190.5 1,-2190.5\" stroke=\"#000000\"/>\n",
       "<text fill=\"#000000\" font-family=\"Times,serif\" font-size=\"14.00\" text-anchor=\"middle\" x=\"140\" y=\"-2204.8\">batch_normalization_38: BatchNormalization</text>\n",
       "</g>\n",
       "<!-- 139667538957144&#45;&gt;139667645431704 -->\n",
       "<g class=\"edge\" id=\"edge29\">\n",
       "<title>139667538957144-&gt;139667645431704</title>\n",
       "<path d=\"M166.3483,-2263.4551C162.3519,-2255.1196 157.5199,-2245.0416 153.091,-2235.8042\" fill=\"none\" stroke=\"#000000\"/>\n",
       "<polygon fill=\"#000000\" points=\"156.1528,-2234.0944 148.6735,-2226.5904 149.8408,-2237.1207 156.1528,-2234.0944\" stroke=\"#000000\"/>\n",
       "</g>\n",
       "<!-- 139667645499824 -->\n",
       "<g class=\"node\" id=\"node31\">\n",
       "<title>139667645499824</title>\n",
       "<polygon fill=\"none\" points=\"47.5,-2117.5 47.5,-2153.5 232.5,-2153.5 232.5,-2117.5 47.5,-2117.5\" stroke=\"#000000\"/>\n",
       "<text fill=\"#000000\" font-family=\"Times,serif\" font-size=\"14.00\" text-anchor=\"middle\" x=\"140\" y=\"-2131.8\">leaky_re_lu_13: LeakyReLU</text>\n",
       "</g>\n",
       "<!-- 139667645431704&#45;&gt;139667645499824 -->\n",
       "<g class=\"edge\" id=\"edge30\">\n",
       "<title>139667645431704-&gt;139667645499824</title>\n",
       "<path d=\"M140,-2190.4551C140,-2182.3828 140,-2172.6764 140,-2163.6817\" fill=\"none\" stroke=\"#000000\"/>\n",
       "<polygon fill=\"#000000\" points=\"143.5001,-2163.5903 140,-2153.5904 136.5001,-2163.5904 143.5001,-2163.5903\" stroke=\"#000000\"/>\n",
       "</g>\n",
       "<!-- 139667525227296 -->\n",
       "<g class=\"node\" id=\"node32\">\n",
       "<title>139667525227296</title>\n",
       "<polygon fill=\"none\" points=\"70,-2044.5 70,-2080.5 210,-2080.5 210,-2044.5 70,-2044.5\" stroke=\"#000000\"/>\n",
       "<text fill=\"#000000\" font-family=\"Times,serif\" font-size=\"14.00\" text-anchor=\"middle\" x=\"140\" y=\"-2058.8\">conv2d_52: Conv2D</text>\n",
       "</g>\n",
       "<!-- 139667645499824&#45;&gt;139667525227296 -->\n",
       "<g class=\"edge\" id=\"edge31\">\n",
       "<title>139667645499824-&gt;139667525227296</title>\n",
       "<path d=\"M140,-2117.4551C140,-2109.3828 140,-2099.6764 140,-2090.6817\" fill=\"none\" stroke=\"#000000\"/>\n",
       "<polygon fill=\"#000000\" points=\"143.5001,-2090.5903 140,-2080.5904 136.5001,-2090.5904 143.5001,-2090.5903\" stroke=\"#000000\"/>\n",
       "</g>\n",
       "<!-- 139667745802784 -->\n",
       "<g class=\"node\" id=\"node33\">\n",
       "<title>139667745802784</title>\n",
       "<polygon fill=\"none\" points=\"1,-1971.5 1,-2007.5 279,-2007.5 279,-1971.5 1,-1971.5\" stroke=\"#000000\"/>\n",
       "<text fill=\"#000000\" font-family=\"Times,serif\" font-size=\"14.00\" text-anchor=\"middle\" x=\"140\" y=\"-1985.8\">batch_normalization_39: BatchNormalization</text>\n",
       "</g>\n",
       "<!-- 139667525227296&#45;&gt;139667745802784 -->\n",
       "<g class=\"edge\" id=\"edge32\">\n",
       "<title>139667525227296-&gt;139667745802784</title>\n",
       "<path d=\"M140,-2044.4551C140,-2036.3828 140,-2026.6764 140,-2017.6817\" fill=\"none\" stroke=\"#000000\"/>\n",
       "<polygon fill=\"#000000\" points=\"143.5001,-2017.5903 140,-2007.5904 136.5001,-2017.5904 143.5001,-2017.5903\" stroke=\"#000000\"/>\n",
       "</g>\n",
       "<!-- 139667525106992 -->\n",
       "<g class=\"node\" id=\"node34\">\n",
       "<title>139667525106992</title>\n",
       "<polygon fill=\"none\" points=\"47.5,-1898.5 47.5,-1934.5 232.5,-1934.5 232.5,-1898.5 47.5,-1898.5\" stroke=\"#000000\"/>\n",
       "<text fill=\"#000000\" font-family=\"Times,serif\" font-size=\"14.00\" text-anchor=\"middle\" x=\"140\" y=\"-1912.8\">leaky_re_lu_14: LeakyReLU</text>\n",
       "</g>\n",
       "<!-- 139667745802784&#45;&gt;139667525106992 -->\n",
       "<g class=\"edge\" id=\"edge33\">\n",
       "<title>139667745802784-&gt;139667525106992</title>\n",
       "<path d=\"M140,-1971.4551C140,-1963.3828 140,-1953.6764 140,-1944.6817\" fill=\"none\" stroke=\"#000000\"/>\n",
       "<polygon fill=\"#000000\" points=\"143.5001,-1944.5903 140,-1934.5904 136.5001,-1944.5904 143.5001,-1944.5903\" stroke=\"#000000\"/>\n",
       "</g>\n",
       "<!-- 139667560558544 -->\n",
       "<g class=\"node\" id=\"node35\">\n",
       "<title>139667560558544</title>\n",
       "<polygon fill=\"none\" points=\"29.5,-1825.5 29.5,-1861.5 250.5,-1861.5 250.5,-1825.5 29.5,-1825.5\" stroke=\"#000000\"/>\n",
       "<text fill=\"#000000\" font-family=\"Times,serif\" font-size=\"14.00\" text-anchor=\"middle\" x=\"140\" y=\"-1839.8\">up_sampling2d_9: UpSampling2D</text>\n",
       "</g>\n",
       "<!-- 139667525106992&#45;&gt;139667560558544 -->\n",
       "<g class=\"edge\" id=\"edge34\">\n",
       "<title>139667525106992-&gt;139667560558544</title>\n",
       "<path d=\"M140,-1898.4551C140,-1890.3828 140,-1880.6764 140,-1871.6817\" fill=\"none\" stroke=\"#000000\"/>\n",
       "<polygon fill=\"#000000\" points=\"143.5001,-1871.5903 140,-1861.5904 136.5001,-1871.5904 143.5001,-1871.5903\" stroke=\"#000000\"/>\n",
       "</g>\n",
       "<!-- 139667642421544 -->\n",
       "<g class=\"node\" id=\"node36\">\n",
       "<title>139667642421544</title>\n",
       "<polygon fill=\"none\" points=\"70,-1752.5 70,-1788.5 210,-1788.5 210,-1752.5 70,-1752.5\" stroke=\"#000000\"/>\n",
       "<text fill=\"#000000\" font-family=\"Times,serif\" font-size=\"14.00\" text-anchor=\"middle\" x=\"140\" y=\"-1766.8\">conv2d_53: Conv2D</text>\n",
       "</g>\n",
       "<!-- 139667560558544&#45;&gt;139667642421544 -->\n",
       "<g class=\"edge\" id=\"edge35\">\n",
       "<title>139667560558544-&gt;139667642421544</title>\n",
       "<path d=\"M140,-1825.4551C140,-1817.3828 140,-1807.6764 140,-1798.6817\" fill=\"none\" stroke=\"#000000\"/>\n",
       "<polygon fill=\"#000000\" points=\"143.5001,-1798.5903 140,-1788.5904 136.5001,-1798.5904 143.5001,-1798.5903\" stroke=\"#000000\"/>\n",
       "</g>\n",
       "<!-- 139667560558152 -->\n",
       "<g class=\"node\" id=\"node37\">\n",
       "<title>139667560558152</title>\n",
       "<polygon fill=\"none\" points=\"1,-1679.5 1,-1715.5 279,-1715.5 279,-1679.5 1,-1679.5\" stroke=\"#000000\"/>\n",
       "<text fill=\"#000000\" font-family=\"Times,serif\" font-size=\"14.00\" text-anchor=\"middle\" x=\"140\" y=\"-1693.8\">batch_normalization_40: BatchNormalization</text>\n",
       "</g>\n",
       "<!-- 139667642421544&#45;&gt;139667560558152 -->\n",
       "<g class=\"edge\" id=\"edge36\">\n",
       "<title>139667642421544-&gt;139667560558152</title>\n",
       "<path d=\"M140,-1752.4551C140,-1744.3828 140,-1734.6764 140,-1725.6817\" fill=\"none\" stroke=\"#000000\"/>\n",
       "<polygon fill=\"#000000\" points=\"143.5001,-1725.5903 140,-1715.5904 136.5001,-1725.5904 143.5001,-1725.5903\" stroke=\"#000000\"/>\n",
       "</g>\n",
       "<!-- 139667560558152&#45;&gt;139667560513376 -->\n",
       "<g class=\"edge\" id=\"edge38\">\n",
       "<title>139667560558152-&gt;139667560513376</title>\n",
       "<path d=\"M160.5169,-1679.4551C170.892,-1670.3299 183.6416,-1659.1165 194.9123,-1649.2036\" fill=\"none\" stroke=\"#000000\"/>\n",
       "<polygon fill=\"#000000\" points=\"197.2341,-1651.8228 202.4315,-1642.5904 192.6111,-1646.5665 197.2341,-1651.8228\" stroke=\"#000000\"/>\n",
       "</g>\n",
       "<!-- 139667730531384 -->\n",
       "<g class=\"node\" id=\"node39\">\n",
       "<title>139667730531384</title>\n",
       "<polygon fill=\"none\" points=\"130.5,-1533.5 130.5,-1569.5 315.5,-1569.5 315.5,-1533.5 130.5,-1533.5\" stroke=\"#000000\"/>\n",
       "<text fill=\"#000000\" font-family=\"Times,serif\" font-size=\"14.00\" text-anchor=\"middle\" x=\"223\" y=\"-1547.8\">leaky_re_lu_15: LeakyReLU</text>\n",
       "</g>\n",
       "<!-- 139667560513376&#45;&gt;139667730531384 -->\n",
       "<g class=\"edge\" id=\"edge39\">\n",
       "<title>139667560513376-&gt;139667730531384</title>\n",
       "<path d=\"M223,-1606.4551C223,-1598.3828 223,-1588.6764 223,-1579.6817\" fill=\"none\" stroke=\"#000000\"/>\n",
       "<polygon fill=\"#000000\" points=\"226.5001,-1579.5903 223,-1569.5904 219.5001,-1579.5904 226.5001,-1579.5903\" stroke=\"#000000\"/>\n",
       "</g>\n",
       "<!-- 139667730347904 -->\n",
       "<g class=\"node\" id=\"node40\">\n",
       "<title>139667730347904</title>\n",
       "<polygon fill=\"none\" points=\"104,-1460.5 104,-1496.5 244,-1496.5 244,-1460.5 104,-1460.5\" stroke=\"#000000\"/>\n",
       "<text fill=\"#000000\" font-family=\"Times,serif\" font-size=\"14.00\" text-anchor=\"middle\" x=\"174\" y=\"-1474.8\">conv2d_54: Conv2D</text>\n",
       "</g>\n",
       "<!-- 139667730531384&#45;&gt;139667730347904 -->\n",
       "<g class=\"edge\" id=\"edge40\">\n",
       "<title>139667730531384-&gt;139667730347904</title>\n",
       "<path d=\"M210.8876,-1533.4551C205.1159,-1524.8564 198.0995,-1514.4034 191.7418,-1504.9316\" fill=\"none\" stroke=\"#000000\"/>\n",
       "<polygon fill=\"#000000\" points=\"194.6222,-1502.9427 186.1428,-1496.5904 188.8101,-1506.844 194.6222,-1502.9427\" stroke=\"#000000\"/>\n",
       "</g>\n",
       "<!-- 139667507000488 -->\n",
       "<g class=\"node\" id=\"node49\">\n",
       "<title>139667507000488</title>\n",
       "<polygon fill=\"none\" points=\"131,-803.5 131,-839.5 313,-839.5 313,-803.5 131,-803.5\" stroke=\"#000000\"/>\n",
       "<text fill=\"#000000\" font-family=\"Times,serif\" font-size=\"14.00\" text-anchor=\"middle\" x=\"222\" y=\"-817.8\">concatenate_10: Concatenate</text>\n",
       "</g>\n",
       "<!-- 139667730531384&#45;&gt;139667507000488 -->\n",
       "<g class=\"edge\" id=\"edge49\">\n",
       "<title>139667730531384-&gt;139667507000488</title>\n",
       "<path d=\"M241.834,-1533.1141C266.3225,-1507.1458 306,-1457.1076 306,-1405.5 306,-1405.5 306,-1405.5 306,-967.5 306,-925.9658 308.3146,-911.6479 287,-876 280.1422,-864.5307 269.9793,-854.3447 259.7159,-845.9733\" fill=\"none\" stroke=\"#000000\"/>\n",
       "<polygon fill=\"#000000\" points=\"261.5814,-842.9921 251.5246,-839.6587 257.3077,-848.5361 261.5814,-842.9921\" stroke=\"#000000\"/>\n",
       "</g>\n",
       "<!-- 139667529040840 -->\n",
       "<g class=\"node\" id=\"node41\">\n",
       "<title>139667529040840</title>\n",
       "<polygon fill=\"none\" points=\"0,-1387.5 0,-1423.5 278,-1423.5 278,-1387.5 0,-1387.5\" stroke=\"#000000\"/>\n",
       "<text fill=\"#000000\" font-family=\"Times,serif\" font-size=\"14.00\" text-anchor=\"middle\" x=\"139\" y=\"-1401.8\">batch_normalization_41: BatchNormalization</text>\n",
       "</g>\n",
       "<!-- 139667730347904&#45;&gt;139667529040840 -->\n",
       "<g class=\"edge\" id=\"edge41\">\n",
       "<title>139667730347904-&gt;139667529040840</title>\n",
       "<path d=\"M165.3483,-1460.4551C161.3519,-1452.1196 156.5199,-1442.0416 152.091,-1432.8042\" fill=\"none\" stroke=\"#000000\"/>\n",
       "<polygon fill=\"#000000\" points=\"155.1528,-1431.0944 147.6735,-1423.5904 148.8408,-1434.1207 155.1528,-1431.0944\" stroke=\"#000000\"/>\n",
       "</g>\n",
       "<!-- 139667645729480 -->\n",
       "<g class=\"node\" id=\"node42\">\n",
       "<title>139667645729480</title>\n",
       "<polygon fill=\"none\" points=\"46.5,-1314.5 46.5,-1350.5 231.5,-1350.5 231.5,-1314.5 46.5,-1314.5\" stroke=\"#000000\"/>\n",
       "<text fill=\"#000000\" font-family=\"Times,serif\" font-size=\"14.00\" text-anchor=\"middle\" x=\"139\" y=\"-1328.8\">leaky_re_lu_16: LeakyReLU</text>\n",
       "</g>\n",
       "<!-- 139667529040840&#45;&gt;139667645729480 -->\n",
       "<g class=\"edge\" id=\"edge42\">\n",
       "<title>139667529040840-&gt;139667645729480</title>\n",
       "<path d=\"M139,-1387.4551C139,-1379.3828 139,-1369.6764 139,-1360.6817\" fill=\"none\" stroke=\"#000000\"/>\n",
       "<polygon fill=\"#000000\" points=\"142.5001,-1360.5903 139,-1350.5904 135.5001,-1360.5904 142.5001,-1360.5903\" stroke=\"#000000\"/>\n",
       "</g>\n",
       "<!-- 139667762209680 -->\n",
       "<g class=\"node\" id=\"node43\">\n",
       "<title>139667762209680</title>\n",
       "<polygon fill=\"none\" points=\"69,-1241.5 69,-1277.5 209,-1277.5 209,-1241.5 69,-1241.5\" stroke=\"#000000\"/>\n",
       "<text fill=\"#000000\" font-family=\"Times,serif\" font-size=\"14.00\" text-anchor=\"middle\" x=\"139\" y=\"-1255.8\">conv2d_55: Conv2D</text>\n",
       "</g>\n",
       "<!-- 139667645729480&#45;&gt;139667762209680 -->\n",
       "<g class=\"edge\" id=\"edge43\">\n",
       "<title>139667645729480-&gt;139667762209680</title>\n",
       "<path d=\"M139,-1314.4551C139,-1306.3828 139,-1296.6764 139,-1287.6817\" fill=\"none\" stroke=\"#000000\"/>\n",
       "<polygon fill=\"#000000\" points=\"142.5001,-1287.5903 139,-1277.5904 135.5001,-1287.5904 142.5001,-1287.5903\" stroke=\"#000000\"/>\n",
       "</g>\n",
       "<!-- 139667529675104 -->\n",
       "<g class=\"node\" id=\"node44\">\n",
       "<title>139667529675104</title>\n",
       "<polygon fill=\"none\" points=\"0,-1168.5 0,-1204.5 278,-1204.5 278,-1168.5 0,-1168.5\" stroke=\"#000000\"/>\n",
       "<text fill=\"#000000\" font-family=\"Times,serif\" font-size=\"14.00\" text-anchor=\"middle\" x=\"139\" y=\"-1182.8\">batch_normalization_42: BatchNormalization</text>\n",
       "</g>\n",
       "<!-- 139667762209680&#45;&gt;139667529675104 -->\n",
       "<g class=\"edge\" id=\"edge44\">\n",
       "<title>139667762209680-&gt;139667529675104</title>\n",
       "<path d=\"M139,-1241.4551C139,-1233.3828 139,-1223.6764 139,-1214.6817\" fill=\"none\" stroke=\"#000000\"/>\n",
       "<polygon fill=\"#000000\" points=\"142.5001,-1214.5903 139,-1204.5904 135.5001,-1214.5904 142.5001,-1214.5903\" stroke=\"#000000\"/>\n",
       "</g>\n",
       "<!-- 139667511966296 -->\n",
       "<g class=\"node\" id=\"node45\">\n",
       "<title>139667511966296</title>\n",
       "<polygon fill=\"none\" points=\"46.5,-1095.5 46.5,-1131.5 231.5,-1131.5 231.5,-1095.5 46.5,-1095.5\" stroke=\"#000000\"/>\n",
       "<text fill=\"#000000\" font-family=\"Times,serif\" font-size=\"14.00\" text-anchor=\"middle\" x=\"139\" y=\"-1109.8\">leaky_re_lu_17: LeakyReLU</text>\n",
       "</g>\n",
       "<!-- 139667529675104&#45;&gt;139667511966296 -->\n",
       "<g class=\"edge\" id=\"edge45\">\n",
       "<title>139667529675104-&gt;139667511966296</title>\n",
       "<path d=\"M139,-1168.4551C139,-1160.3828 139,-1150.6764 139,-1141.6817\" fill=\"none\" stroke=\"#000000\"/>\n",
       "<polygon fill=\"#000000\" points=\"142.5001,-1141.5903 139,-1131.5904 135.5001,-1141.5904 142.5001,-1141.5903\" stroke=\"#000000\"/>\n",
       "</g>\n",
       "<!-- 139667747116592 -->\n",
       "<g class=\"node\" id=\"node46\">\n",
       "<title>139667747116592</title>\n",
       "<polygon fill=\"none\" points=\"25,-1022.5 25,-1058.5 253,-1058.5 253,-1022.5 25,-1022.5\" stroke=\"#000000\"/>\n",
       "<text fill=\"#000000\" font-family=\"Times,serif\" font-size=\"14.00\" text-anchor=\"middle\" x=\"139\" y=\"-1036.8\">up_sampling2d_10: UpSampling2D</text>\n",
       "</g>\n",
       "<!-- 139667511966296&#45;&gt;139667747116592 -->\n",
       "<g class=\"edge\" id=\"edge46\">\n",
       "<title>139667511966296-&gt;139667747116592</title>\n",
       "<path d=\"M139,-1095.4551C139,-1087.3828 139,-1077.6764 139,-1068.6817\" fill=\"none\" stroke=\"#000000\"/>\n",
       "<polygon fill=\"#000000\" points=\"142.5001,-1068.5903 139,-1058.5904 135.5001,-1068.5904 142.5001,-1068.5903\" stroke=\"#000000\"/>\n",
       "</g>\n",
       "<!-- 139667729416712 -->\n",
       "<g class=\"node\" id=\"node47\">\n",
       "<title>139667729416712</title>\n",
       "<polygon fill=\"none\" points=\"69,-949.5 69,-985.5 209,-985.5 209,-949.5 69,-949.5\" stroke=\"#000000\"/>\n",
       "<text fill=\"#000000\" font-family=\"Times,serif\" font-size=\"14.00\" text-anchor=\"middle\" x=\"139\" y=\"-963.8\">conv2d_56: Conv2D</text>\n",
       "</g>\n",
       "<!-- 139667747116592&#45;&gt;139667729416712 -->\n",
       "<g class=\"edge\" id=\"edge47\">\n",
       "<title>139667747116592-&gt;139667729416712</title>\n",
       "<path d=\"M139,-1022.4551C139,-1014.3828 139,-1004.6764 139,-995.6817\" fill=\"none\" stroke=\"#000000\"/>\n",
       "<polygon fill=\"#000000\" points=\"142.5001,-995.5903 139,-985.5904 135.5001,-995.5904 142.5001,-995.5903\" stroke=\"#000000\"/>\n",
       "</g>\n",
       "<!-- 139667747118272 -->\n",
       "<g class=\"node\" id=\"node48\">\n",
       "<title>139667747118272</title>\n",
       "<polygon fill=\"none\" points=\"0,-876.5 0,-912.5 278,-912.5 278,-876.5 0,-876.5\" stroke=\"#000000\"/>\n",
       "<text fill=\"#000000\" font-family=\"Times,serif\" font-size=\"14.00\" text-anchor=\"middle\" x=\"139\" y=\"-890.8\">batch_normalization_43: BatchNormalization</text>\n",
       "</g>\n",
       "<!-- 139667729416712&#45;&gt;139667747118272 -->\n",
       "<g class=\"edge\" id=\"edge48\">\n",
       "<title>139667729416712-&gt;139667747118272</title>\n",
       "<path d=\"M139,-949.4551C139,-941.3828 139,-931.6764 139,-922.6817\" fill=\"none\" stroke=\"#000000\"/>\n",
       "<polygon fill=\"#000000\" points=\"142.5001,-922.5903 139,-912.5904 135.5001,-922.5904 142.5001,-922.5903\" stroke=\"#000000\"/>\n",
       "</g>\n",
       "<!-- 139667747118272&#45;&gt;139667507000488 -->\n",
       "<g class=\"edge\" id=\"edge50\">\n",
       "<title>139667747118272-&gt;139667507000488</title>\n",
       "<path d=\"M159.5169,-876.4551C169.892,-867.3299 182.6416,-856.1165 193.9123,-846.2036\" fill=\"none\" stroke=\"#000000\"/>\n",
       "<polygon fill=\"#000000\" points=\"196.2341,-848.8228 201.4315,-839.5904 191.6111,-843.5665 196.2341,-848.8228\" stroke=\"#000000\"/>\n",
       "</g>\n",
       "<!-- 139667743049152 -->\n",
       "<g class=\"node\" id=\"node50\">\n",
       "<title>139667743049152</title>\n",
       "<polygon fill=\"none\" points=\"129.5,-730.5 129.5,-766.5 314.5,-766.5 314.5,-730.5 129.5,-730.5\" stroke=\"#000000\"/>\n",
       "<text fill=\"#000000\" font-family=\"Times,serif\" font-size=\"14.00\" text-anchor=\"middle\" x=\"222\" y=\"-744.8\">leaky_re_lu_18: LeakyReLU</text>\n",
       "</g>\n",
       "<!-- 139667507000488&#45;&gt;139667743049152 -->\n",
       "<g class=\"edge\" id=\"edge51\">\n",
       "<title>139667507000488-&gt;139667743049152</title>\n",
       "<path d=\"M222,-803.4551C222,-795.3828 222,-785.6764 222,-776.6817\" fill=\"none\" stroke=\"#000000\"/>\n",
       "<polygon fill=\"#000000\" points=\"225.5001,-776.5903 222,-766.5904 218.5001,-776.5904 225.5001,-776.5903\" stroke=\"#000000\"/>\n",
       "</g>\n",
       "<!-- 139667742905288 -->\n",
       "<g class=\"node\" id=\"node51\">\n",
       "<title>139667742905288</title>\n",
       "<polygon fill=\"none\" points=\"165.5,-657.5 165.5,-693.5 278.5,-693.5 278.5,-657.5 165.5,-657.5\" stroke=\"#000000\"/>\n",
       "<text fill=\"#000000\" font-family=\"Times,serif\" font-size=\"14.00\" text-anchor=\"middle\" x=\"222\" y=\"-671.8\">flatten_1: Flatten</text>\n",
       "</g>\n",
       "<!-- 139667743049152&#45;&gt;139667742905288 -->\n",
       "<g class=\"edge\" id=\"edge52\">\n",
       "<title>139667743049152-&gt;139667742905288</title>\n",
       "<path d=\"M222,-730.4551C222,-722.3828 222,-712.6764 222,-703.6817\" fill=\"none\" stroke=\"#000000\"/>\n",
       "<polygon fill=\"#000000\" points=\"225.5001,-703.5903 222,-693.5904 218.5001,-703.5904 225.5001,-703.5903\" stroke=\"#000000\"/>\n",
       "</g>\n",
       "<!-- 139667743048704 -->\n",
       "<g class=\"node\" id=\"node52\">\n",
       "<title>139667743048704</title>\n",
       "<polygon fill=\"none\" points=\"83,-584.5 83,-620.5 361,-620.5 361,-584.5 83,-584.5\" stroke=\"#000000\"/>\n",
       "<text fill=\"#000000\" font-family=\"Times,serif\" font-size=\"14.00\" text-anchor=\"middle\" x=\"222\" y=\"-598.8\">batch_normalization_44: BatchNormalization</text>\n",
       "</g>\n",
       "<!-- 139667742905288&#45;&gt;139667743048704 -->\n",
       "<g class=\"edge\" id=\"edge53\">\n",
       "<title>139667742905288-&gt;139667743048704</title>\n",
       "<path d=\"M222,-657.4551C222,-649.3828 222,-639.6764 222,-630.6817\" fill=\"none\" stroke=\"#000000\"/>\n",
       "<polygon fill=\"#000000\" points=\"225.5001,-630.5903 222,-620.5904 218.5001,-630.5904 225.5001,-630.5903\" stroke=\"#000000\"/>\n",
       "</g>\n",
       "<!-- 139667639417432 -->\n",
       "<g class=\"node\" id=\"node53\">\n",
       "<title>139667639417432</title>\n",
       "<polygon fill=\"none\" points=\"155,-511.5 155,-547.5 289,-547.5 289,-511.5 155,-511.5\" stroke=\"#000000\"/>\n",
       "<text fill=\"#000000\" font-family=\"Times,serif\" font-size=\"14.00\" text-anchor=\"middle\" x=\"222\" y=\"-525.8\">dropout_4: Dropout</text>\n",
       "</g>\n",
       "<!-- 139667743048704&#45;&gt;139667639417432 -->\n",
       "<g class=\"edge\" id=\"edge54\">\n",
       "<title>139667743048704-&gt;139667639417432</title>\n",
       "<path d=\"M222,-584.4551C222,-576.3828 222,-566.6764 222,-557.6817\" fill=\"none\" stroke=\"#000000\"/>\n",
       "<polygon fill=\"#000000\" points=\"225.5001,-557.5903 222,-547.5904 218.5001,-557.5904 225.5001,-557.5903\" stroke=\"#000000\"/>\n",
       "</g>\n",
       "<!-- 139667512967008 -->\n",
       "<g class=\"node\" id=\"node54\">\n",
       "<title>139667512967008</title>\n",
       "<polygon fill=\"none\" points=\"168.5,-438.5 168.5,-474.5 275.5,-474.5 275.5,-438.5 168.5,-438.5\" stroke=\"#000000\"/>\n",
       "<text fill=\"#000000\" font-family=\"Times,serif\" font-size=\"14.00\" text-anchor=\"middle\" x=\"222\" y=\"-452.8\">dense_5: Dense</text>\n",
       "</g>\n",
       "<!-- 139667639417432&#45;&gt;139667512967008 -->\n",
       "<g class=\"edge\" id=\"edge55\">\n",
       "<title>139667639417432-&gt;139667512967008</title>\n",
       "<path d=\"M222,-511.4551C222,-503.3828 222,-493.6764 222,-484.6817\" fill=\"none\" stroke=\"#000000\"/>\n",
       "<polygon fill=\"#000000\" points=\"225.5001,-484.5903 222,-474.5904 218.5001,-484.5904 225.5001,-484.5903\" stroke=\"#000000\"/>\n",
       "</g>\n",
       "<!-- 139667634840968 -->\n",
       "<g class=\"node\" id=\"node55\">\n",
       "<title>139667634840968</title>\n",
       "<polygon fill=\"none\" points=\"83,-365.5 83,-401.5 361,-401.5 361,-365.5 83,-365.5\" stroke=\"#000000\"/>\n",
       "<text fill=\"#000000\" font-family=\"Times,serif\" font-size=\"14.00\" text-anchor=\"middle\" x=\"222\" y=\"-379.8\">batch_normalization_45: BatchNormalization</text>\n",
       "</g>\n",
       "<!-- 139667512967008&#45;&gt;139667634840968 -->\n",
       "<g class=\"edge\" id=\"edge56\">\n",
       "<title>139667512967008-&gt;139667634840968</title>\n",
       "<path d=\"M222,-438.4551C222,-430.3828 222,-420.6764 222,-411.6817\" fill=\"none\" stroke=\"#000000\"/>\n",
       "<polygon fill=\"#000000\" points=\"225.5001,-411.5903 222,-401.5904 218.5001,-411.5904 225.5001,-411.5903\" stroke=\"#000000\"/>\n",
       "</g>\n",
       "<!-- 139667749198480 -->\n",
       "<g class=\"node\" id=\"node56\">\n",
       "<title>139667749198480</title>\n",
       "<polygon fill=\"none\" points=\"155,-292.5 155,-328.5 289,-328.5 289,-292.5 155,-292.5\" stroke=\"#000000\"/>\n",
       "<text fill=\"#000000\" font-family=\"Times,serif\" font-size=\"14.00\" text-anchor=\"middle\" x=\"222\" y=\"-306.8\">dropout_5: Dropout</text>\n",
       "</g>\n",
       "<!-- 139667634840968&#45;&gt;139667749198480 -->\n",
       "<g class=\"edge\" id=\"edge57\">\n",
       "<title>139667634840968-&gt;139667749198480</title>\n",
       "<path d=\"M222,-365.4551C222,-357.3828 222,-347.6764 222,-338.6817\" fill=\"none\" stroke=\"#000000\"/>\n",
       "<polygon fill=\"#000000\" points=\"225.5001,-338.5903 222,-328.5904 218.5001,-338.5904 225.5001,-338.5903\" stroke=\"#000000\"/>\n",
       "</g>\n",
       "<!-- 139667534039696 -->\n",
       "<g class=\"node\" id=\"node57\">\n",
       "<title>139667534039696</title>\n",
       "<polygon fill=\"none\" points=\"168.5,-219.5 168.5,-255.5 275.5,-255.5 275.5,-219.5 168.5,-219.5\" stroke=\"#000000\"/>\n",
       "<text fill=\"#000000\" font-family=\"Times,serif\" font-size=\"14.00\" text-anchor=\"middle\" x=\"222\" y=\"-233.8\">dense_6: Dense</text>\n",
       "</g>\n",
       "<!-- 139667749198480&#45;&gt;139667534039696 -->\n",
       "<g class=\"edge\" id=\"edge58\">\n",
       "<title>139667749198480-&gt;139667534039696</title>\n",
       "<path d=\"M222,-292.4551C222,-284.3828 222,-274.6764 222,-265.6817\" fill=\"none\" stroke=\"#000000\"/>\n",
       "<polygon fill=\"#000000\" points=\"225.5001,-265.5903 222,-255.5904 218.5001,-265.5904 225.5001,-265.5903\" stroke=\"#000000\"/>\n",
       "</g>\n",
       "<!-- 139667641000960 -->\n",
       "<g class=\"node\" id=\"node58\">\n",
       "<title>139667641000960</title>\n",
       "<polygon fill=\"none\" points=\"83,-146.5 83,-182.5 361,-182.5 361,-146.5 83,-146.5\" stroke=\"#000000\"/>\n",
       "<text fill=\"#000000\" font-family=\"Times,serif\" font-size=\"14.00\" text-anchor=\"middle\" x=\"222\" y=\"-160.8\">batch_normalization_46: BatchNormalization</text>\n",
       "</g>\n",
       "<!-- 139667534039696&#45;&gt;139667641000960 -->\n",
       "<g class=\"edge\" id=\"edge59\">\n",
       "<title>139667534039696-&gt;139667641000960</title>\n",
       "<path d=\"M222,-219.4551C222,-211.3828 222,-201.6764 222,-192.6817\" fill=\"none\" stroke=\"#000000\"/>\n",
       "<polygon fill=\"#000000\" points=\"225.5001,-192.5903 222,-182.5904 218.5001,-192.5904 225.5001,-192.5903\" stroke=\"#000000\"/>\n",
       "</g>\n",
       "<!-- 139667533254384 -->\n",
       "<g class=\"node\" id=\"node59\">\n",
       "<title>139667533254384</title>\n",
       "<polygon fill=\"none\" points=\"155,-73.5 155,-109.5 289,-109.5 289,-73.5 155,-73.5\" stroke=\"#000000\"/>\n",
       "<text fill=\"#000000\" font-family=\"Times,serif\" font-size=\"14.00\" text-anchor=\"middle\" x=\"222\" y=\"-87.8\">dropout_6: Dropout</text>\n",
       "</g>\n",
       "<!-- 139667641000960&#45;&gt;139667533254384 -->\n",
       "<g class=\"edge\" id=\"edge60\">\n",
       "<title>139667641000960-&gt;139667533254384</title>\n",
       "<path d=\"M222,-146.4551C222,-138.3828 222,-128.6764 222,-119.6817\" fill=\"none\" stroke=\"#000000\"/>\n",
       "<polygon fill=\"#000000\" points=\"225.5001,-119.5903 222,-109.5904 218.5001,-119.5904 225.5001,-119.5903\" stroke=\"#000000\"/>\n",
       "</g>\n",
       "<!-- 139667539486200 -->\n",
       "<g class=\"node\" id=\"node60\">\n",
       "<title>139667539486200</title>\n",
       "<polygon fill=\"none\" points=\"168.5,-.5 168.5,-36.5 275.5,-36.5 275.5,-.5 168.5,-.5\" stroke=\"#000000\"/>\n",
       "<text fill=\"#000000\" font-family=\"Times,serif\" font-size=\"14.00\" text-anchor=\"middle\" x=\"222\" y=\"-14.8\">dense_7: Dense</text>\n",
       "</g>\n",
       "<!-- 139667533254384&#45;&gt;139667539486200 -->\n",
       "<g class=\"edge\" id=\"edge61\">\n",
       "<title>139667533254384-&gt;139667539486200</title>\n",
       "<path d=\"M222,-73.4551C222,-65.3828 222,-55.6764 222,-46.6817\" fill=\"none\" stroke=\"#000000\"/>\n",
       "<polygon fill=\"#000000\" points=\"225.5001,-46.5903 222,-36.5904 218.5001,-46.5904 225.5001,-46.5903\" stroke=\"#000000\"/>\n",
       "</g>\n",
       "</g>\n",
       "</svg>"
      ],
      "text/plain": [
       "<IPython.core.display.SVG object>"
      ]
     },
     "execution_count": 21,
     "metadata": {
      "tags": []
     },
     "output_type": "execute_result"
    }
   ],
   "source": [
    "visualise_model(deeper_hardnet_fully_connected_model, 'deep_hardnet_fully_connected')"
   ]
  },
  {
   "cell_type": "code",
   "execution_count": 22,
   "metadata": {
    "colab": {
     "base_uri": "https://localhost:8080/",
     "height": 1224
    },
    "colab_type": "code",
    "id": "vE-9B31c6U64",
    "outputId": "e98db8a8-a2df-48a7-d1e3-beff08d559b5"
   },
   "outputs": [
    {
     "name": "stdout",
     "output_type": "stream",
     "text": [
      "Epoch 1/1\n",
      "1999/2000 [============================>.] - ETA: 0s - loss: 0.2717"
     ]
    },
    {
     "name": "stderr",
     "output_type": "stream",
     "text": [
      "100%|██████████| 100000/100000 [00:02<00:00, 39841.49it/s]\n"
     ]
    },
    {
     "name": "stdout",
     "output_type": "stream",
     "text": [
      "\b\b\b\b\b\b\b\b\b\b\b\b\b\b\b\b\b\b\b\b\b\b\b\b\b\b\b\b\b\b\b\b\b\b\b\b\b\b\b\b\b\b\b\b\b\b\b\b\b\b\b\b\b\b\b\b\b\b\b\b\b\b\b\b\b\b\b\r",
      "2000/2000 [==============================] - 398s 199ms/step - loss: 0.2717 - val_loss: 0.2622\n"
     ]
    },
    {
     "name": "stderr",
     "output_type": "stream",
     "text": [
      "100%|██████████| 10000/10000 [00:00<00:00, 70266.47it/s]\n"
     ]
    },
    {
     "name": "stdout",
     "output_type": "stream",
     "text": [
      "Epoch 1/1\n",
      "1999/2000 [============================>.] - ETA: 0s - loss: 0.2246"
     ]
    },
    {
     "name": "stderr",
     "output_type": "stream",
     "text": [
      "100%|██████████| 100000/100000 [00:02<00:00, 40675.15it/s]\n"
     ]
    },
    {
     "name": "stdout",
     "output_type": "stream",
     "text": [
      "\b\b\b\b\b\b\b\b\b\b\b\b\b\b\b\b\b\b\b\b\b\b\b\b\b\b\b\b\b\b\b\b\b\b\b\b\b\b\b\b\b\b\b\b\b\b\b\b\b\b\b\b\b\b\b\b\b\b\b\b\b\b\b\b\b\b\b\r",
      "2000/2000 [==============================] - 384s 192ms/step - loss: 0.2245 - val_loss: 0.3139\n"
     ]
    },
    {
     "name": "stderr",
     "output_type": "stream",
     "text": [
      "100%|██████████| 10000/10000 [00:00<00:00, 69421.66it/s]\n"
     ]
    },
    {
     "name": "stdout",
     "output_type": "stream",
     "text": [
      "Epoch 1/1\n",
      "1999/2000 [============================>.] - ETA: 0s - loss: 0.2150"
     ]
    },
    {
     "name": "stderr",
     "output_type": "stream",
     "text": [
      "100%|██████████| 100000/100000 [00:02<00:00, 34210.53it/s]\n"
     ]
    },
    {
     "name": "stdout",
     "output_type": "stream",
     "text": [
      "\b\b\b\b\b\b\b\b\b\b\b\b\b\b\b\b\b\b\b\b\b\b\b\b\b\b\b\b\b\b\b\b\b\b\b\b\b\b\b\b\b\b\b\b\b\b\b\b\b\b\b\b\b\b\b\b\b\b\b\b\b\b\b\b\b\b\b\r",
      "2000/2000 [==============================] - 385s 193ms/step - loss: 0.2150 - val_loss: 0.2508\n",
      "Epoch 1/1\n",
      "1999/2000 [============================>.] - ETA: 0s - loss: 0.2038"
     ]
    },
    {
     "name": "stderr",
     "output_type": "stream",
     "text": [
      "100%|██████████| 100000/100000 [00:02<00:00, 40608.68it/s]\n"
     ]
    },
    {
     "name": "stdout",
     "output_type": "stream",
     "text": [
      "2000/2000 [==============================] - 385s 193ms/step - loss: 0.2038 - val_loss: 0.2381\n",
      "Epoch 1/1\n",
      "1999/2000 [============================>.] - ETA: 0s - loss: 0.1956"
     ]
    },
    {
     "name": "stderr",
     "output_type": "stream",
     "text": [
      "100%|██████████| 100000/100000 [00:02<00:00, 42535.79it/s]\n"
     ]
    },
    {
     "name": "stdout",
     "output_type": "stream",
     "text": [
      "\b\b\b\b\b\b\b\b\b\b\b\b\b\b\b\b\b\b\b\b\b\b\b\b\b\b\b\b\b\b\b\b\b\b\b\b\b\b\b\b\b\b\b\b\b\b\b\b\b\b\b\b\b\b\b\b\b\b\b\b\b\b\b\b\b\b\b\r",
      "2000/2000 [==============================] - 385s 192ms/step - loss: 0.1956 - val_loss: 0.2311\n"
     ]
    },
    {
     "name": "stderr",
     "output_type": "stream",
     "text": [
      "100%|██████████| 10000/10000 [00:00<00:00, 68497.56it/s]\n"
     ]
    },
    {
     "name": "stdout",
     "output_type": "stream",
     "text": [
      "Epoch 1/1\n",
      "1999/2000 [============================>.] - ETA: 0s - loss: 0.1776"
     ]
    },
    {
     "name": "stderr",
     "output_type": "stream",
     "text": [
      "100%|██████████| 100000/100000 [00:02<00:00, 41502.34it/s]\n"
     ]
    },
    {
     "name": "stdout",
     "output_type": "stream",
     "text": [
      "2000/2000 [==============================] - 385s 193ms/step - loss: 0.1776 - val_loss: 0.2156\n",
      "Epoch 1/1\n",
      "1999/2000 [============================>.] - ETA: 0s - loss: 0.1697"
     ]
    },
    {
     "name": "stderr",
     "output_type": "stream",
     "text": [
      "100%|██████████| 100000/100000 [00:02<00:00, 44001.34it/s]\n"
     ]
    },
    {
     "name": "stdout",
     "output_type": "stream",
     "text": [
      "\b\b\b\b\b\b\b\b\b\b\b\b\b\b\b\b\b\b\b\b\b\b\b\b\b\b\b\b\b\b\b\b\b\b\b\b\b\b\b\b\b\b\b\b\b\b\b\b\b\b\b\b\b\b\b\b\b\b\b\b\b\b\b\b\b\b\b\r",
      "2000/2000 [==============================] - 386s 193ms/step - loss: 0.1697 - val_loss: 0.2068\n",
      "Epoch 1/1\n",
      "1999/2000 [============================>.] - ETA: 0s - loss: 0.1640"
     ]
    },
    {
     "name": "stderr",
     "output_type": "stream",
     "text": [
      "100%|██████████| 100000/100000 [00:02<00:00, 39529.06it/s]\n"
     ]
    },
    {
     "name": "stdout",
     "output_type": "stream",
     "text": [
      "\b\b\b\b\b\b\b\b\b\b\b\b\b\b\b\b\b\b\b\b\b\b\b\b\b\b\b\b\b\b\b\b\b\b\b\b\b\b\b\b\b\b\b\b\b\b\b\b\b\b\b\b\b\b\b\b\b\b\b\b\b\b\b\b\b\b\b\r",
      "2000/2000 [==============================] - 385s 192ms/step - loss: 0.1640 - val_loss: 0.1915\n",
      "Epoch 1/1\n",
      "1999/2000 [============================>.] - ETA: 0s - loss: 0.1596"
     ]
    },
    {
     "name": "stderr",
     "output_type": "stream",
     "text": [
      "100%|██████████| 100000/100000 [00:02<00:00, 43016.55it/s]\n"
     ]
    },
    {
     "name": "stdout",
     "output_type": "stream",
     "text": [
      "\b\b\b\b\b\b\b\b\b\b\b\b\b\b\b\b\b\b\b\b\b\b\b\b\b\b\b\b\b\b\b\b\b\b\b\b\b\b\b\b\b\b\b\b\b\b\b\b\b\b\b\b\b\b\b\b\b\b\b\b\b\b\b\b\b\b\b\r",
      "2000/2000 [==============================] - 385s 192ms/step - loss: 0.1596 - val_loss: 0.1979\n"
     ]
    },
    {
     "name": "stderr",
     "output_type": "stream",
     "text": [
      "100%|██████████| 10000/10000 [00:00<00:00, 71912.13it/s]\n"
     ]
    },
    {
     "name": "stdout",
     "output_type": "stream",
     "text": [
      "Epoch 1/1\n",
      "1999/2000 [============================>.] - ETA: 0s - loss: 0.1555"
     ]
    },
    {
     "name": "stderr",
     "output_type": "stream",
     "text": [
      "100%|██████████| 100000/100000 [00:02<00:00, 39763.20it/s]\n"
     ]
    },
    {
     "name": "stdout",
     "output_type": "stream",
     "text": [
      "\b\b\b\b\b\b\b\b\b\b\b\b\b\b\b\b\b\b\b\b\b\b\b\b\b\b\b\b\b\b\b\b\b\b\b\b\b\b\b\b\b\b\b\b\b\b\b\b\b\b\b\b\b\b\b\b\b\b\b\b\b\b\b\b\b\b\b\r",
      "2000/2000 [==============================] - 388s 194ms/step - loss: 0.1555 - val_loss: 0.2059\n"
     ]
    },
    {
     "name": "stderr",
     "output_type": "stream",
     "text": [
      "100%|██████████| 10000/10000 [00:00<00:00, 70293.32it/s]\n"
     ]
    },
    {
     "name": "stdout",
     "output_type": "stream",
     "text": [
      "Epoch 1/1\n",
      "1999/2000 [============================>.] - ETA: 0s - loss: 0.1540"
     ]
    },
    {
     "name": "stderr",
     "output_type": "stream",
     "text": [
      "100%|██████████| 100000/100000 [00:02<00:00, 40160.63it/s]\n"
     ]
    },
    {
     "name": "stdout",
     "output_type": "stream",
     "text": [
      "2000/2000 [==============================] - 389s 194ms/step - loss: 0.1540 - val_loss: 0.1712\n",
      "Epoch 1/1\n",
      "1999/2000 [============================>.] - ETA: 0s - loss: 0.1508"
     ]
    },
    {
     "name": "stderr",
     "output_type": "stream",
     "text": [
      "100%|██████████| 100000/100000 [00:03<00:00, 32501.56it/s]\n"
     ]
    },
    {
     "name": "stdout",
     "output_type": "stream",
     "text": [
      "\b\b\b\b\b\b\b\b\b\b\b\b\b\b\b\b\b\b\b\b\b\b\b\b\b\b\b\b\b\b\b\b\b\b\b\b\b\b\b\b\b\b\b\b\b\b\b\b\b\b\b\b\b\b\b\b\b\b\b\b\b\b\b\b\b\b\b\r",
      "2000/2000 [==============================] - 388s 194ms/step - loss: 0.1509 - val_loss: 0.1751\n"
     ]
    },
    {
     "name": "stderr",
     "output_type": "stream",
     "text": [
      "100%|██████████| 10000/10000 [00:00<00:00, 69053.29it/s]\n"
     ]
    },
    {
     "name": "stdout",
     "output_type": "stream",
     "text": [
      "Epoch 1/1\n",
      "1999/2000 [============================>.] - ETA: 0s - loss: 0.1465"
     ]
    },
    {
     "name": "stderr",
     "output_type": "stream",
     "text": [
      "100%|██████████| 100000/100000 [00:02<00:00, 39875.12it/s]\n"
     ]
    },
    {
     "name": "stdout",
     "output_type": "stream",
     "text": [
      "\b\b\b\b\b\b\b\b\b\b\b\b\b\b\b\b\b\b\b\b\b\b\b\b\b\b\b\b\b\b\b\b\b\b\b\b\b\b\b\b\b\b\b\b\b\b\b\b\b\b\b\b\b\b\b\b\b\b\b\b\b\b\b\b\b\b\b\r",
      "2000/2000 [==============================] - 388s 194ms/step - loss: 0.1466 - val_loss: 0.1880\n"
     ]
    },
    {
     "name": "stderr",
     "output_type": "stream",
     "text": [
      "100%|██████████| 10000/10000 [00:00<00:00, 67988.69it/s]\n"
     ]
    },
    {
     "name": "stdout",
     "output_type": "stream",
     "text": [
      "Epoch 1/1\n",
      "1999/2000 [============================>.] - ETA: 0s - loss: 0.1452"
     ]
    },
    {
     "name": "stderr",
     "output_type": "stream",
     "text": [
      "100%|██████████| 100000/100000 [00:02<00:00, 40059.72it/s]\n"
     ]
    },
    {
     "name": "stdout",
     "output_type": "stream",
     "text": [
      "\b\b\b\b\b\b\b\b\b\b\b\b\b\b\b\b\b\b\b\b\b\b\b\b\b\b\b\b\b\b\b\b\b\b\b\b\b\b\b\b\b\b\b\b\b\b\b\b\b\b\b\b\b\b\b\b\b\b\b\b\b\b\b\b\b\b\b\r",
      "2000/2000 [==============================] - 388s 194ms/step - loss: 0.1452 - val_loss: 0.1764\n",
      "Epoch 1/1\n",
      "1999/2000 [============================>.] - ETA: 0s - loss: 0.1422"
     ]
    },
    {
     "name": "stderr",
     "output_type": "stream",
     "text": [
      "100%|██████████| 100000/100000 [00:03<00:00, 32265.13it/s]\n"
     ]
    },
    {
     "name": "stdout",
     "output_type": "stream",
     "text": [
      "\b\b\b\b\b\b\b\b\b\b\b\b\b\b\b\b\b\b\b\b\b\b\b\b\b\b\b\b\b\b\b\b\b\b\b\b\b\b\b\b\b\b\b\b\b\b\b\b\b\b\b\b\b\b\b\b\b\b\b\b\b\b\b\b\b\b\b\r",
      "2000/2000 [==============================] - 388s 194ms/step - loss: 0.1422 - val_loss: 0.1734\n"
     ]
    },
    {
     "name": "stderr",
     "output_type": "stream",
     "text": [
      "100%|██████████| 10000/10000 [00:00<00:00, 68214.37it/s]\n"
     ]
    },
    {
     "name": "stdout",
     "output_type": "stream",
     "text": [
      "Epoch 1/1\n",
      "1999/2000 [============================>.] - ETA: 0s - loss: 0.1421"
     ]
    },
    {
     "name": "stderr",
     "output_type": "stream",
     "text": [
      "100%|██████████| 100000/100000 [00:02<00:00, 40838.33it/s]\n"
     ]
    },
    {
     "name": "stdout",
     "output_type": "stream",
     "text": [
      "\b\b\b\b\b\b\b\b\b\b\b\b\b\b\b\b\b\b\b\b\b\b\b\b\b\b\b\b\b\b\b\b\b\b\b\b\b\b\b\b\b\b\b\b\b\b\b\b\b\b\b\b\b\b\b\b\b\b\b\b\b\b\b\b\b\b\b\r",
      "2000/2000 [==============================] - 388s 194ms/step - loss: 0.1421 - val_loss: 0.1783\n"
     ]
    },
    {
     "name": "stderr",
     "output_type": "stream",
     "text": [
      "100%|██████████| 10000/10000 [00:00<00:00, 69852.21it/s]\n"
     ]
    },
    {
     "name": "stdout",
     "output_type": "stream",
     "text": [
      "Epoch 1/1\n",
      "1999/2000 [============================>.] - ETA: 0s - loss: 0.1401"
     ]
    },
    {
     "name": "stderr",
     "output_type": "stream",
     "text": [
      "100%|██████████| 100000/100000 [00:02<00:00, 40624.99it/s]\n"
     ]
    },
    {
     "name": "stdout",
     "output_type": "stream",
     "text": [
      "2000/2000 [==============================] - 389s 194ms/step - loss: 0.1401 - val_loss: 0.1710\n",
      "Epoch 1/1\n",
      "1999/2000 [============================>.] - ETA: 0s - loss: 0.1392"
     ]
    },
    {
     "name": "stderr",
     "output_type": "stream",
     "text": [
      "100%|██████████| 100000/100000 [00:03<00:00, 31878.66it/s]\n"
     ]
    },
    {
     "name": "stdout",
     "output_type": "stream",
     "text": [
      "\b\b\b\b\b\b\b\b\b\b\b\b\b\b\b\b\b\b\b\b\b\b\b\b\b\b\b\b\b\b\b\b\b\b\b\b\b\b\b\b\b\b\b\b\b\b\b\b\b\b\b\b\b\b\b\b\b\b\b\b\b\b\b\b\b\b\b\r",
      "2000/2000 [==============================] - 388s 194ms/step - loss: 0.1392 - val_loss: 0.1685\n"
     ]
    },
    {
     "name": "stderr",
     "output_type": "stream",
     "text": [
      "100%|██████████| 10000/10000 [00:00<00:00, 69147.21it/s]\n"
     ]
    },
    {
     "name": "stdout",
     "output_type": "stream",
     "text": [
      "Epoch 1/1\n",
      "1999/2000 [============================>.] - ETA: 0s - loss: 0.1337"
     ]
    },
    {
     "name": "stderr",
     "output_type": "stream",
     "text": [
      "100%|██████████| 100000/100000 [00:02<00:00, 39939.35it/s]\n"
     ]
    },
    {
     "name": "stdout",
     "output_type": "stream",
     "text": [
      "\b\b\b\b\b\b\b\b\b\b\b\b\b\b\b\b\b\b\b\b\b\b\b\b\b\b\b\b\b\b\b\b\b\b\b\b\b\b\b\b\b\b\b\b\b\b\b\b\b\b\b\b\b\b\b\b\b\b\b\b\b\b\b\b\b\b\b\r",
      "2000/2000 [==============================] - 390s 195ms/step - loss: 0.1337 - val_loss: 0.2008\n"
     ]
    },
    {
     "name": "stderr",
     "output_type": "stream",
     "text": [
      "100%|██████████| 10000/10000 [00:00<00:00, 62721.66it/s]\n"
     ]
    },
    {
     "name": "stdout",
     "output_type": "stream",
     "text": [
      "Epoch 1/1\n",
      "1999/2000 [============================>.] - ETA: 0s - loss: 0.1383"
     ]
    },
    {
     "name": "stderr",
     "output_type": "stream",
     "text": [
      "100%|██████████| 100000/100000 [00:02<00:00, 40851.15it/s]\n"
     ]
    },
    {
     "name": "stdout",
     "output_type": "stream",
     "text": [
      "\b\b\b\b\b\b\b\b\b\b\b\b\b\b\b\b\b\b\b\b\b\b\b\b\b\b\b\b\b\b\b\b\b\b\b\b\b\b\b\b\b\b\b\b\b\b\b\b\b\b\b\b\b\b\b\b\b\b\b\b\b\b\b\b\b\b\b\r",
      "2000/2000 [==============================] - 387s 194ms/step - loss: 0.1382 - val_loss: 0.1718\n"
     ]
    }
   ],
   "source": [
    "epochs = 20\n",
    "\n",
    "\n",
    "minimum = float('inf')\n",
    "for e in range(epochs):\n",
    "  descriptor_history = deeper_hardnet_fully_connected_model_trip.fit_generator(generator=training_generator, epochs=1, verbose=1, validation_data=val_generator)\n",
    "  ### Saves optimizer and weights\n",
    "  \n",
    "  val_loss = descriptor_history.history['val_loss'][0]\n",
    "  if val_loss < minimum:\n",
    "    minimum = min(minimum, val_loss)\n",
    "    deeper_hardnet_fully_connected_model_trip.save(f'deep_hardnet_v1_opt.h5')"
   ]
  },
  {
   "cell_type": "markdown",
   "metadata": {
    "colab_type": "text",
    "id": "XOviVe0_vqrF"
   },
   "source": [
    "## 5.1.1 Load optimal model"
   ]
  },
  {
   "cell_type": "code",
   "execution_count": 29,
   "metadata": {
    "colab": {
     "base_uri": "https://localhost:8080/",
     "height": 2210
    },
    "colab_type": "code",
    "id": "ziieXrzLvpxN",
    "outputId": "89762d1b-bb5c-4258-8bc7-6fc403fac363"
   },
   "outputs": [
    {
     "name": "stdout",
     "output_type": "stream",
     "text": [
      "__________________________________________________________________________________________________\n",
      "Layer (type)                    Output Shape         Param #     Connected to                     \n",
      "==================================================================================================\n",
      "input_8 (InputLayer)            (None, 32, 32, 1)    0                                            \n",
      "__________________________________________________________________________________________________\n",
      "conv2d_78 (Conv2D)              (None, 32, 32, 32)   320         input_8[0][0]                    \n",
      "__________________________________________________________________________________________________\n",
      "batch_normalization_68 (BatchNo (None, 32, 32, 32)   128         conv2d_78[0][0]                  \n",
      "__________________________________________________________________________________________________\n",
      "activation_88 (Activation)      (None, 32, 32, 32)   0           batch_normalization_68[0][0]     \n",
      "__________________________________________________________________________________________________\n",
      "conv2d_79 (Conv2D)              (None, 32, 32, 32)   9248        activation_88[0][0]              \n",
      "__________________________________________________________________________________________________\n",
      "batch_normalization_69 (BatchNo (None, 32, 32, 32)   128         conv2d_79[0][0]                  \n",
      "__________________________________________________________________________________________________\n",
      "activation_89 (Activation)      (None, 32, 32, 32)   0           batch_normalization_69[0][0]     \n",
      "__________________________________________________________________________________________________\n",
      "max_pooling2d_18 (MaxPooling2D) (None, 16, 16, 32)   0           activation_89[0][0]              \n",
      "__________________________________________________________________________________________________\n",
      "conv2d_80 (Conv2D)              (None, 16, 16, 64)   18496       max_pooling2d_18[0][0]           \n",
      "__________________________________________________________________________________________________\n",
      "batch_normalization_70 (BatchNo (None, 16, 16, 64)   256         conv2d_80[0][0]                  \n",
      "__________________________________________________________________________________________________\n",
      "activation_90 (Activation)      (None, 16, 16, 64)   0           batch_normalization_70[0][0]     \n",
      "__________________________________________________________________________________________________\n",
      "conv2d_81 (Conv2D)              (None, 16, 16, 64)   36928       activation_90[0][0]              \n",
      "__________________________________________________________________________________________________\n",
      "batch_normalization_71 (BatchNo (None, 16, 16, 64)   256         conv2d_81[0][0]                  \n",
      "__________________________________________________________________________________________________\n",
      "activation_91 (Activation)      (None, 16, 16, 64)   0           batch_normalization_71[0][0]     \n",
      "__________________________________________________________________________________________________\n",
      "max_pooling2d_19 (MaxPooling2D) (None, 8, 8, 64)     0           activation_91[0][0]              \n",
      "__________________________________________________________________________________________________\n",
      "conv2d_82 (Conv2D)              (None, 8, 8, 128)    73856       max_pooling2d_19[0][0]           \n",
      "__________________________________________________________________________________________________\n",
      "batch_normalization_72 (BatchNo (None, 8, 8, 128)    512         conv2d_82[0][0]                  \n",
      "__________________________________________________________________________________________________\n",
      "activation_92 (Activation)      (None, 8, 8, 128)    0           batch_normalization_72[0][0]     \n",
      "__________________________________________________________________________________________________\n",
      "conv2d_83 (Conv2D)              (None, 8, 8, 128)    147584      activation_92[0][0]              \n",
      "__________________________________________________________________________________________________\n",
      "batch_normalization_73 (BatchNo (None, 8, 8, 128)    512         conv2d_83[0][0]                  \n",
      "__________________________________________________________________________________________________\n",
      "activation_93 (Activation)      (None, 8, 8, 128)    0           batch_normalization_73[0][0]     \n",
      "__________________________________________________________________________________________________\n",
      "max_pooling2d_20 (MaxPooling2D) (None, 4, 4, 128)    0           activation_93[0][0]              \n",
      "__________________________________________________________________________________________________\n",
      "conv2d_84 (Conv2D)              (None, 4, 4, 256)    295168      max_pooling2d_20[0][0]           \n",
      "__________________________________________________________________________________________________\n",
      "batch_normalization_74 (BatchNo (None, 4, 4, 256)    1024        conv2d_84[0][0]                  \n",
      "__________________________________________________________________________________________________\n",
      "activation_94 (Activation)      (None, 4, 4, 256)    0           batch_normalization_74[0][0]     \n",
      "__________________________________________________________________________________________________\n",
      "conv2d_85 (Conv2D)              (None, 4, 4, 256)    590080      activation_94[0][0]              \n",
      "__________________________________________________________________________________________________\n",
      "batch_normalization_75 (BatchNo (None, 4, 4, 256)    1024        conv2d_85[0][0]                  \n",
      "__________________________________________________________________________________________________\n",
      "activation_95 (Activation)      (None, 4, 4, 256)    0           batch_normalization_75[0][0]     \n",
      "__________________________________________________________________________________________________\n",
      "conv2d_86 (Conv2D)              (None, 4, 4, 256)    65792       activation_95[0][0]              \n",
      "__________________________________________________________________________________________________\n",
      "batch_normalization_76 (BatchNo (None, 4, 4, 256)    1024        conv2d_86[0][0]                  \n",
      "__________________________________________________________________________________________________\n",
      "leaky_re_lu_25 (LeakyReLU)      (None, 4, 4, 256)    0           batch_normalization_76[0][0]     \n",
      "__________________________________________________________________________________________________\n",
      "conv2d_87 (Conv2D)              (None, 2, 2, 256)    590080      leaky_re_lu_25[0][0]             \n",
      "__________________________________________________________________________________________________\n",
      "batch_normalization_77 (BatchNo (None, 2, 2, 256)    1024        conv2d_87[0][0]                  \n",
      "__________________________________________________________________________________________________\n",
      "leaky_re_lu_26 (LeakyReLU)      (None, 2, 2, 256)    0           batch_normalization_77[0][0]     \n",
      "__________________________________________________________________________________________________\n",
      "up_sampling2d_13 (UpSampling2D) (None, 4, 4, 256)    0           leaky_re_lu_26[0][0]             \n",
      "__________________________________________________________________________________________________\n",
      "conv2d_88 (Conv2D)              (None, 4, 4, 256)    65792       up_sampling2d_13[0][0]           \n",
      "__________________________________________________________________________________________________\n",
      "batch_normalization_78 (BatchNo (None, 4, 4, 256)    1024        conv2d_88[0][0]                  \n",
      "__________________________________________________________________________________________________\n",
      "concatenate_13 (Concatenate)    (None, 4, 4, 512)    0           activation_95[0][0]              \n",
      "                                                                 batch_normalization_78[0][0]     \n",
      "__________________________________________________________________________________________________\n",
      "leaky_re_lu_27 (LeakyReLU)      (None, 4, 4, 512)    0           concatenate_13[0][0]             \n",
      "__________________________________________________________________________________________________\n",
      "conv2d_89 (Conv2D)              (None, 4, 4, 256)    131328      leaky_re_lu_27[0][0]             \n",
      "__________________________________________________________________________________________________\n",
      "batch_normalization_79 (BatchNo (None, 4, 4, 256)    1024        conv2d_89[0][0]                  \n",
      "__________________________________________________________________________________________________\n",
      "leaky_re_lu_28 (LeakyReLU)      (None, 4, 4, 256)    0           batch_normalization_79[0][0]     \n",
      "__________________________________________________________________________________________________\n",
      "conv2d_90 (Conv2D)              (None, 2, 2, 256)    590080      leaky_re_lu_28[0][0]             \n",
      "__________________________________________________________________________________________________\n",
      "batch_normalization_80 (BatchNo (None, 2, 2, 256)    1024        conv2d_90[0][0]                  \n",
      "__________________________________________________________________________________________________\n",
      "leaky_re_lu_29 (LeakyReLU)      (None, 2, 2, 256)    0           batch_normalization_80[0][0]     \n",
      "__________________________________________________________________________________________________\n",
      "up_sampling2d_14 (UpSampling2D) (None, 4, 4, 256)    0           leaky_re_lu_29[0][0]             \n",
      "__________________________________________________________________________________________________\n",
      "conv2d_91 (Conv2D)              (None, 4, 4, 256)    65792       up_sampling2d_14[0][0]           \n",
      "__________________________________________________________________________________________________\n",
      "batch_normalization_81 (BatchNo (None, 4, 4, 256)    1024        conv2d_91[0][0]                  \n",
      "__________________________________________________________________________________________________\n",
      "concatenate_14 (Concatenate)    (None, 4, 4, 768)    0           leaky_re_lu_27[0][0]             \n",
      "                                                                 batch_normalization_81[0][0]     \n",
      "__________________________________________________________________________________________________\n",
      "leaky_re_lu_30 (LeakyReLU)      (None, 4, 4, 768)    0           concatenate_14[0][0]             \n",
      "__________________________________________________________________________________________________\n",
      "flatten_2 (Flatten)             (None, 12288)        0           leaky_re_lu_30[0][0]             \n",
      "__________________________________________________________________________________________________\n",
      "batch_normalization_82 (BatchNo (None, 12288)        49152       flatten_2[0][0]                  \n",
      "__________________________________________________________________________________________________\n",
      "dropout_9 (Dropout)             (None, 12288)        0           batch_normalization_82[0][0]     \n",
      "__________________________________________________________________________________________________\n",
      "dense_12 (Dense)                (None, 512)          6291968     dropout_9[0][0]                  \n",
      "__________________________________________________________________________________________________\n",
      "batch_normalization_83 (BatchNo (None, 512)          2048        dense_12[0][0]                   \n",
      "__________________________________________________________________________________________________\n",
      "dropout_10 (Dropout)            (None, 512)          0           batch_normalization_83[0][0]     \n",
      "__________________________________________________________________________________________________\n",
      "dense_13 (Dense)                (None, 256)          131328      dropout_10[0][0]                 \n",
      "__________________________________________________________________________________________________\n",
      "batch_normalization_84 (BatchNo (None, 256)          1024        dense_13[0][0]                   \n",
      "__________________________________________________________________________________________________\n",
      "dropout_11 (Dropout)            (None, 256)          0           batch_normalization_84[0][0]     \n",
      "__________________________________________________________________________________________________\n",
      "dense_14 (Dense)                (None, 128)          32896       dropout_11[0][0]                 \n",
      "==================================================================================================\n",
      "Total params: 9,198,944\n",
      "Trainable params: 9,167,840\n",
      "Non-trainable params: 31,104\n",
      "__________________________________________________________________________________________________\n"
     ]
    }
   ],
   "source": [
    "deeper_hardnet_fully_connected_model_trip, deeper_hardnet_fully_connected_model = load_descriptor_model(get_deep_hardnet_v1_model, './deep_hardnet_v1_opt.h5')"
   ]
  },
  {
   "cell_type": "markdown",
   "metadata": {
    "colab_type": "text",
    "id": "AJW9t1GKN92g"
   },
   "source": [
    "## 5.2 Deep HardNet V2"
   ]
  },
  {
   "cell_type": "code",
   "execution_count": 0,
   "metadata": {
    "colab": {},
    "colab_type": "code",
    "id": "64wlj02lN9Rf"
   },
   "outputs": [],
   "source": [
    "from keras.layers import Conv2D, BatchNormalization, LeakyReLU, add, Input, Activation, Flatten, MaxPooling2D, GlobalAveragePooling2D\n",
    "\n",
    "# V1 uses fully connected layer\n",
    "def get_deep_hardnet_v2_model(shape):\n",
    "  \n",
    "  '''Architecture adapts HardNet architecture'''\n",
    "  \n",
    "  init_weights = keras.initializers.he_normal()\n",
    "  descriptor_input = Input(shape)\n",
    "  \n",
    "  # 2 layers of 32x32x32 layers + BN + ReLU\n",
    "  descriptor_model = Conv2D(32, 3, padding='same', input_shape=shape, use_bias = True, kernel_initializer=init_weights)(descriptor_input)\n",
    "  descriptor_model = BatchNormalization(axis = -1)(descriptor_model)\n",
    "  descriptor_model = Activation('relu')(descriptor_model)\n",
    "\n",
    "  descriptor_model = Conv2D(32, 3, padding='same', use_bias = True, kernel_initializer=init_weights)(descriptor_model)\n",
    "  descriptor_model = BatchNormalization(axis = -1)(descriptor_model)\n",
    "  descriptor_model = Activation('relu')(descriptor_model)\n",
    "  \n",
    "  # Use Max Pooling to reduce image dimension\n",
    "  descriptor_model = MaxPooling2D(pool_size=(2, 2), strides=(2, 2), padding='same')(descriptor_model)\n",
    "  \n",
    "  # 2 layers of 16x16x64 + BN + ReLU\n",
    "  descriptor_model = Conv2D(64, 3, padding='same', use_bias = True, kernel_initializer=init_weights)(descriptor_model)\n",
    "  descriptor_model = BatchNormalization(axis = -1)(descriptor_model)\n",
    "  descriptor_model = Activation('relu')(descriptor_model)\n",
    "\n",
    "  descriptor_model = Conv2D(64, 3, padding='same', use_bias = True, kernel_initializer=init_weights)(descriptor_model)\n",
    "  descriptor_model = BatchNormalization(axis = -1)(descriptor_model)\n",
    "  descriptor_model = Activation('relu')(descriptor_model)\n",
    "  \n",
    "  # Use Max Pooling to reduce image dimension\n",
    "  descriptor_model = MaxPooling2D(pool_size=(2, 2), strides=(2, 2), padding='same')(descriptor_model)\n",
    "  \n",
    "  # 2 layers of 8x8x128 + BN + ReLU\n",
    "  descriptor_model = Conv2D(128, 3, padding='same', use_bias = True, kernel_initializer=init_weights)(descriptor_model)\n",
    "  descriptor_model = BatchNormalization(axis = -1)(descriptor_model)\n",
    "  descriptor_model = Activation('relu')(descriptor_model)\n",
    "\n",
    "  descriptor_model = Conv2D(128, 3, padding='same', use_bias = True, kernel_initializer=init_weights)(descriptor_model)\n",
    "  descriptor_model = BatchNormalization(axis = -1)(descriptor_model)\n",
    "  descriptor_model = Activation('relu')(descriptor_model)\n",
    "  \n",
    "  # Use Max Pooling to reduce image dimension\n",
    "  descriptor_model = MaxPooling2D(pool_size=(2, 2), strides=(2, 2), padding='same')(descriptor_model)\n",
    "  \n",
    "  # 2 layers of 4x4x256 + BN + ReLU\n",
    "#   descriptor_model = Conv2D(256, 3, padding='same', use_bias = True, kernel_initializer=init_weights)(descriptor_model)\n",
    "#   descriptor_model = BatchNormalization(axis = -1)(descriptor_model)\n",
    "#   descriptor_model = Activation('relu')(descriptor_model)\n",
    "\n",
    "#   descriptor_model = Conv2D(256, 3, padding='same', use_bias = True, kernel_initializer=init_weights)(descriptor_model)\n",
    "#   descriptor_model = BatchNormalization(axis = -1)(descriptor_model)\n",
    "#   descriptor_model = Activation('relu')(descriptor_model)\n",
    "  \n",
    "  # Add 2 residual network to reduce dimension further to 2 and back to 4\n",
    "  descriptor_model = residual_block(descriptor_model, 128, 128, _strides=(2,2))\n",
    "  descriptor_model = residual_block(descriptor_model, 128, 128, _strides=(2,2))\n",
    "\n",
    "  # Instead of fully connected layer, we use GlobalAverage2D \n",
    "  descriptor_model = GlobalAveragePooling2D()(descriptor_model)\n",
    "#   # let's add a fully-connected layer\n",
    "#   descriptor_model = Flatten()(descriptor_model)\n",
    "  descriptor_model = Dense(256, activation='relu')(descriptor_model)\n",
    "  descriptor_model = BatchNormalization()(descriptor_model)\n",
    "  # Drop out to prevent overfitting\n",
    "  descriptor_model = Dropout(0.3)(descriptor_model)\n",
    "  \n",
    "  descriptor_model = Dense(128, activation='relu')(descriptor_model)\n",
    "\n",
    "#   # and a logistic layer -- let's say we have 200 classes\n",
    "#   descriptor_model = Dense(128, activation='sigmoid')(descriptor_model)\n",
    "  \n",
    "  # Output 128 features\n",
    "  return Model(descriptor_input, descriptor_model)\n",
    "\n",
    "\n",
    "def residual_block(y, nb_channels_in, nb_channels_out, _strides=(1, 1)):\n",
    "\n",
    "    shortcut = y\n",
    "\n",
    "    y = Conv2D(nb_channels_in, kernel_size=(1, 1), strides=(1, 1), padding='same')(y)\n",
    "    y = BatchNormalization()(y)\n",
    "    y = LeakyReLU()(y)\n",
    "\n",
    "    y = Conv2D(nb_channels_in, kernel_size=(3, 3), strides=_strides, padding='same')(y)\n",
    "    y = BatchNormalization()(y)\n",
    "    y = LeakyReLU()(y)\n",
    "    \n",
    "#     up3 = Conv2D(64, 2, activation = 'relu', padding = 'same', kernel_initializer = 'he_normal')(UpSampling2D(size = (2,2))(conv2))\n",
    "    \n",
    "    y = Conv2D(nb_channels_out, kernel_size=(1, 1), strides=(1, 1), padding='same')(UpSampling2D(size=_strides)(y))\n",
    "    y = BatchNormalization()(y)\n",
    "\n",
    "    y = concatenate([shortcut, y], axis = -1)\n",
    "    y = LeakyReLU()(y)\n",
    "\n",
    "    return y"
   ]
  },
  {
   "cell_type": "code",
   "execution_count": 14,
   "metadata": {
    "colab": {
     "base_uri": "https://localhost:8080/",
     "height": 1836
    },
    "colab_type": "code",
    "id": "uZ2g-vDiO9Xy",
    "outputId": "eee7422d-4334-4281-f09c-7a75a47b552f"
   },
   "outputs": [
    {
     "name": "stdout",
     "output_type": "stream",
     "text": [
      "__________________________________________________________________________________________________\n",
      "Layer (type)                    Output Shape         Param #     Connected to                     \n",
      "==================================================================================================\n",
      "input_2 (InputLayer)            (None, 32, 32, 1)    0                                            \n",
      "__________________________________________________________________________________________________\n",
      "conv2d_15 (Conv2D)              (None, 32, 32, 32)   320         input_2[0][0]                    \n",
      "__________________________________________________________________________________________________\n",
      "batch_normalization_1 (BatchNor (None, 32, 32, 32)   128         conv2d_15[0][0]                  \n",
      "__________________________________________________________________________________________________\n",
      "activation_1 (Activation)       (None, 32, 32, 32)   0           batch_normalization_1[0][0]      \n",
      "__________________________________________________________________________________________________\n",
      "conv2d_16 (Conv2D)              (None, 32, 32, 32)   9248        activation_1[0][0]               \n",
      "__________________________________________________________________________________________________\n",
      "batch_normalization_2 (BatchNor (None, 32, 32, 32)   128         conv2d_16[0][0]                  \n",
      "__________________________________________________________________________________________________\n",
      "activation_2 (Activation)       (None, 32, 32, 32)   0           batch_normalization_2[0][0]      \n",
      "__________________________________________________________________________________________________\n",
      "max_pooling2d_5 (MaxPooling2D)  (None, 16, 16, 32)   0           activation_2[0][0]               \n",
      "__________________________________________________________________________________________________\n",
      "conv2d_17 (Conv2D)              (None, 16, 16, 64)   18496       max_pooling2d_5[0][0]            \n",
      "__________________________________________________________________________________________________\n",
      "batch_normalization_3 (BatchNor (None, 16, 16, 64)   256         conv2d_17[0][0]                  \n",
      "__________________________________________________________________________________________________\n",
      "activation_3 (Activation)       (None, 16, 16, 64)   0           batch_normalization_3[0][0]      \n",
      "__________________________________________________________________________________________________\n",
      "conv2d_18 (Conv2D)              (None, 16, 16, 64)   36928       activation_3[0][0]               \n",
      "__________________________________________________________________________________________________\n",
      "batch_normalization_4 (BatchNor (None, 16, 16, 64)   256         conv2d_18[0][0]                  \n",
      "__________________________________________________________________________________________________\n",
      "activation_4 (Activation)       (None, 16, 16, 64)   0           batch_normalization_4[0][0]      \n",
      "__________________________________________________________________________________________________\n",
      "max_pooling2d_6 (MaxPooling2D)  (None, 8, 8, 64)     0           activation_4[0][0]               \n",
      "__________________________________________________________________________________________________\n",
      "conv2d_19 (Conv2D)              (None, 8, 8, 128)    73856       max_pooling2d_6[0][0]            \n",
      "__________________________________________________________________________________________________\n",
      "batch_normalization_5 (BatchNor (None, 8, 8, 128)    512         conv2d_19[0][0]                  \n",
      "__________________________________________________________________________________________________\n",
      "activation_5 (Activation)       (None, 8, 8, 128)    0           batch_normalization_5[0][0]      \n",
      "__________________________________________________________________________________________________\n",
      "conv2d_20 (Conv2D)              (None, 8, 8, 128)    147584      activation_5[0][0]               \n",
      "__________________________________________________________________________________________________\n",
      "batch_normalization_6 (BatchNor (None, 8, 8, 128)    512         conv2d_20[0][0]                  \n",
      "__________________________________________________________________________________________________\n",
      "activation_6 (Activation)       (None, 8, 8, 128)    0           batch_normalization_6[0][0]      \n",
      "__________________________________________________________________________________________________\n",
      "max_pooling2d_7 (MaxPooling2D)  (None, 4, 4, 128)    0           activation_6[0][0]               \n",
      "__________________________________________________________________________________________________\n",
      "conv2d_21 (Conv2D)              (None, 4, 4, 128)    16512       max_pooling2d_7[0][0]            \n",
      "__________________________________________________________________________________________________\n",
      "batch_normalization_7 (BatchNor (None, 4, 4, 128)    512         conv2d_21[0][0]                  \n",
      "__________________________________________________________________________________________________\n",
      "leaky_re_lu_1 (LeakyReLU)       (None, 4, 4, 128)    0           batch_normalization_7[0][0]      \n",
      "__________________________________________________________________________________________________\n",
      "conv2d_22 (Conv2D)              (None, 2, 2, 128)    147584      leaky_re_lu_1[0][0]              \n",
      "__________________________________________________________________________________________________\n",
      "batch_normalization_8 (BatchNor (None, 2, 2, 128)    512         conv2d_22[0][0]                  \n",
      "__________________________________________________________________________________________________\n",
      "leaky_re_lu_2 (LeakyReLU)       (None, 2, 2, 128)    0           batch_normalization_8[0][0]      \n",
      "__________________________________________________________________________________________________\n",
      "up_sampling2d_5 (UpSampling2D)  (None, 4, 4, 128)    0           leaky_re_lu_2[0][0]              \n",
      "__________________________________________________________________________________________________\n",
      "conv2d_23 (Conv2D)              (None, 4, 4, 128)    16512       up_sampling2d_5[0][0]            \n",
      "__________________________________________________________________________________________________\n",
      "batch_normalization_9 (BatchNor (None, 4, 4, 128)    512         conv2d_23[0][0]                  \n",
      "__________________________________________________________________________________________________\n",
      "concatenate_5 (Concatenate)     (None, 4, 4, 256)    0           max_pooling2d_7[0][0]            \n",
      "                                                                 batch_normalization_9[0][0]      \n",
      "__________________________________________________________________________________________________\n",
      "leaky_re_lu_3 (LeakyReLU)       (None, 4, 4, 256)    0           concatenate_5[0][0]              \n",
      "__________________________________________________________________________________________________\n",
      "conv2d_24 (Conv2D)              (None, 4, 4, 128)    32896       leaky_re_lu_3[0][0]              \n",
      "__________________________________________________________________________________________________\n",
      "batch_normalization_10 (BatchNo (None, 4, 4, 128)    512         conv2d_24[0][0]                  \n",
      "__________________________________________________________________________________________________\n",
      "leaky_re_lu_4 (LeakyReLU)       (None, 4, 4, 128)    0           batch_normalization_10[0][0]     \n",
      "__________________________________________________________________________________________________\n",
      "conv2d_25 (Conv2D)              (None, 2, 2, 128)    147584      leaky_re_lu_4[0][0]              \n",
      "__________________________________________________________________________________________________\n",
      "batch_normalization_11 (BatchNo (None, 2, 2, 128)    512         conv2d_25[0][0]                  \n",
      "__________________________________________________________________________________________________\n",
      "leaky_re_lu_5 (LeakyReLU)       (None, 2, 2, 128)    0           batch_normalization_11[0][0]     \n",
      "__________________________________________________________________________________________________\n",
      "up_sampling2d_6 (UpSampling2D)  (None, 4, 4, 128)    0           leaky_re_lu_5[0][0]              \n",
      "__________________________________________________________________________________________________\n",
      "conv2d_26 (Conv2D)              (None, 4, 4, 128)    16512       up_sampling2d_6[0][0]            \n",
      "__________________________________________________________________________________________________\n",
      "batch_normalization_12 (BatchNo (None, 4, 4, 128)    512         conv2d_26[0][0]                  \n",
      "__________________________________________________________________________________________________\n",
      "concatenate_6 (Concatenate)     (None, 4, 4, 384)    0           leaky_re_lu_3[0][0]              \n",
      "                                                                 batch_normalization_12[0][0]     \n",
      "__________________________________________________________________________________________________\n",
      "leaky_re_lu_6 (LeakyReLU)       (None, 4, 4, 384)    0           concatenate_6[0][0]              \n",
      "__________________________________________________________________________________________________\n",
      "global_average_pooling2d_1 (Glo (None, 384)          0           leaky_re_lu_6[0][0]              \n",
      "__________________________________________________________________________________________________\n",
      "dense_1 (Dense)                 (None, 256)          98560       global_average_pooling2d_1[0][0] \n",
      "__________________________________________________________________________________________________\n",
      "batch_normalization_13 (BatchNo (None, 256)          1024        dense_1[0][0]                    \n",
      "__________________________________________________________________________________________________\n",
      "dropout_3 (Dropout)             (None, 256)          0           batch_normalization_13[0][0]     \n",
      "__________________________________________________________________________________________________\n",
      "dense_2 (Dense)                 (None, 128)          32896       dropout_3[0][0]                  \n",
      "==================================================================================================\n",
      "Total params: 801,376\n",
      "Trainable params: 798,432\n",
      "Non-trainable params: 2,944\n",
      "__________________________________________________________________________________________________\n"
     ]
    }
   ],
   "source": [
    "deeper_hardnet_v2_trip, deeper_hardnet_v2_model = load_descriptor_model(get_deep_hardnet_v2_model)"
   ]
  },
  {
   "cell_type": "code",
   "execution_count": 15,
   "metadata": {
    "colab": {
     "base_uri": "https://localhost:8080/",
     "height": 1275
    },
    "colab_type": "code",
    "id": "U700LrhIStL8",
    "outputId": "f310eaab-ee63-42eb-e8c1-6fb345dd8bfb"
   },
   "outputs": [
    {
     "name": "stdout",
     "output_type": "stream",
     "text": [
      "Epoch 1/1\n",
      "1999/2000 [============================>.] - ETA: 0s - loss: 0.2422"
     ]
    },
    {
     "name": "stderr",
     "output_type": "stream",
     "text": [
      "100%|██████████| 100000/100000 [00:02<00:00, 48526.53it/s]\n"
     ]
    },
    {
     "name": "stdout",
     "output_type": "stream",
     "text": [
      "\b\b\b\b\b\b\b\b\b\b\b\b\b\b\b\b\b\b\b\b\b\b\b\b\b\b\b\b\b\b\b\b\b\b\b\b\b\b\b\b\b\b\b\b\b\b\b\b\b\b\b\b\b\b\b\b\b\b\b\b\b\b\b\b\b\b\b\r",
      "2000/2000 [==============================] - 237s 119ms/step - loss: 0.2422 - val_loss: 0.2510\n"
     ]
    },
    {
     "name": "stderr",
     "output_type": "stream",
     "text": [
      "100%|██████████| 10000/10000 [00:00<00:00, 73600.16it/s]\n"
     ]
    },
    {
     "name": "stdout",
     "output_type": "stream",
     "text": [
      "Epoch 1/1\n",
      "1999/2000 [============================>.] - ETA: 0s - loss: 0.1878"
     ]
    },
    {
     "name": "stderr",
     "output_type": "stream",
     "text": [
      "100%|██████████| 100000/100000 [00:02<00:00, 47196.61it/s]\n"
     ]
    },
    {
     "name": "stdout",
     "output_type": "stream",
     "text": [
      "2000/2000 [==============================] - 225s 112ms/step - loss: 0.1878 - val_loss: 0.2397\n",
      "Epoch 1/1\n",
      "1999/2000 [============================>.] - ETA: 0s - loss: 0.1725"
     ]
    },
    {
     "name": "stderr",
     "output_type": "stream",
     "text": [
      "100%|██████████| 100000/100000 [00:02<00:00, 48957.02it/s]\n"
     ]
    },
    {
     "name": "stdout",
     "output_type": "stream",
     "text": [
      "\b\b\b\b\b\b\b\b\b\b\b\b\b\b\b\b\b\b\b\b\b\b\b\b\b\b\b\b\b\b\b\b\b\b\b\b\b\b\b\b\b\b\b\b\b\b\b\b\b\b\b\b\b\b\b\b\b\b\b\b\b\b\b\b\b\b\b\r",
      "2000/2000 [==============================] - 225s 112ms/step - loss: 0.1725 - val_loss: 0.2105\n"
     ]
    },
    {
     "name": "stderr",
     "output_type": "stream",
     "text": [
      "100%|██████████| 10000/10000 [00:00<00:00, 74499.18it/s]\n"
     ]
    },
    {
     "name": "stdout",
     "output_type": "stream",
     "text": [
      "Epoch 1/1\n",
      "1999/2000 [============================>.] - ETA: 0s - loss: 0.1632"
     ]
    },
    {
     "name": "stderr",
     "output_type": "stream",
     "text": [
      "100%|██████████| 100000/100000 [00:02<00:00, 49863.94it/s]\n"
     ]
    },
    {
     "name": "stdout",
     "output_type": "stream",
     "text": [
      "2000/2000 [==============================] - 224s 112ms/step - loss: 0.1632 - val_loss: 0.2078\n",
      "Epoch 1/1\n",
      "1999/2000 [============================>.] - ETA: 0s - loss: 0.1507"
     ]
    },
    {
     "name": "stderr",
     "output_type": "stream",
     "text": [
      "100%|██████████| 100000/100000 [00:02<00:00, 45009.54it/s]\n"
     ]
    },
    {
     "name": "stdout",
     "output_type": "stream",
     "text": [
      "\b\b\b\b\b\b\b\b\b\b\b\b\b\b\b\b\b\b\b\b\b\b\b\b\b\b\b\b\b\b\b\b\b\b\b\b\b\b\b\b\b\b\b\b\b\b\b\b\b\b\b\b\b\b\b\b\b\b\b\b\b\b\b\b\b\b\b\r",
      "2000/2000 [==============================] - 225s 112ms/step - loss: 0.1507 - val_loss: 0.2166\n",
      "Epoch 1/1\n",
      "1999/2000 [============================>.] - ETA: 0s - loss: 0.1485"
     ]
    },
    {
     "name": "stderr",
     "output_type": "stream",
     "text": [
      "100%|██████████| 100000/100000 [00:02<00:00, 42215.10it/s]\n"
     ]
    },
    {
     "name": "stdout",
     "output_type": "stream",
     "text": [
      "\b\b\b\b\b\b\b\b\b\b\b\b\b\b\b\b\b\b\b\b\b\b\b\b\b\b\b\b\b\b\b\b\b\b\b\b\b\b\b\b\b\b\b\b\b\b\b\b\b\b\b\b\b\b\b\b\b\b\b\b\b\b\b\b\b\b\b\r",
      "2000/2000 [==============================] - 223s 112ms/step - loss: 0.1486 - val_loss: 0.2001\n"
     ]
    },
    {
     "name": "stderr",
     "output_type": "stream",
     "text": [
      "100%|██████████| 10000/10000 [00:00<00:00, 72339.53it/s]\n"
     ]
    },
    {
     "name": "stdout",
     "output_type": "stream",
     "text": [
      "Epoch 1/1\n",
      "1999/2000 [============================>.] - ETA: 0s - loss: 0.1456"
     ]
    },
    {
     "name": "stderr",
     "output_type": "stream",
     "text": [
      "100%|██████████| 100000/100000 [00:02<00:00, 41336.07it/s]\n"
     ]
    },
    {
     "name": "stdout",
     "output_type": "stream",
     "text": [
      "\b\b\b\b\b\b\b\b\b\b\b\b\b\b\b\b\b\b\b\b\b\b\b\b\b\b\b\b\b\b\b\b\b\b\b\b\b\b\b\b\b\b\b\b\b\b\b\b\b\b\b\b\b\b\b\b\b\b\b\b\b\b\b\b\b\b\b\r",
      "2000/2000 [==============================] - 221s 110ms/step - loss: 0.1456 - val_loss: 0.1792\n"
     ]
    },
    {
     "name": "stderr",
     "output_type": "stream",
     "text": [
      "100%|██████████| 10000/10000 [00:00<00:00, 74603.34it/s]\n"
     ]
    },
    {
     "name": "stdout",
     "output_type": "stream",
     "text": [
      "Epoch 1/1\n",
      "1999/2000 [============================>.] - ETA: 0s - loss: 0.1416"
     ]
    },
    {
     "name": "stderr",
     "output_type": "stream",
     "text": [
      "100%|██████████| 100000/100000 [00:02<00:00, 39829.93it/s]\n"
     ]
    },
    {
     "name": "stdout",
     "output_type": "stream",
     "text": [
      "\b\b\b\b\b\b\b\b\b\b\b\b\b\b\b\b\b\b\b\b\b\b\b\b\b\b\b\b\b\b\b\b\b\b\b\b\b\b\b\b\b\b\b\b\b\b\b\b\b\b\b\b\b\b\b\b\b\b\b\b\b\b\b\b\b\b\b\r",
      "2000/2000 [==============================] - 222s 111ms/step - loss: 0.1417 - val_loss: 0.1706\n"
     ]
    },
    {
     "name": "stderr",
     "output_type": "stream",
     "text": [
      "100%|██████████| 10000/10000 [00:00<00:00, 74011.47it/s]\n"
     ]
    },
    {
     "name": "stdout",
     "output_type": "stream",
     "text": [
      "Epoch 1/1\n",
      "1999/2000 [============================>.] - ETA: 0s - loss: 0.1364"
     ]
    },
    {
     "name": "stderr",
     "output_type": "stream",
     "text": [
      "100%|██████████| 100000/100000 [00:02<00:00, 40045.15it/s]\n"
     ]
    },
    {
     "name": "stdout",
     "output_type": "stream",
     "text": [
      "\b\b\b\b\b\b\b\b\b\b\b\b\b\b\b\b\b\b\b\b\b\b\b\b\b\b\b\b\b\b\b\b\b\b\b\b\b\b\b\b\b\b\b\b\b\b\b\b\b\b\b\b\b\b\b\b\b\b\b\b\b\b\b\b\b\b\b\r",
      "2000/2000 [==============================] - 223s 111ms/step - loss: 0.1364 - val_loss: 0.2286\n"
     ]
    },
    {
     "name": "stderr",
     "output_type": "stream",
     "text": [
      "100%|██████████| 10000/10000 [00:00<00:00, 66012.11it/s]\n"
     ]
    },
    {
     "name": "stdout",
     "output_type": "stream",
     "text": [
      "Epoch 1/1\n",
      "1999/2000 [============================>.] - ETA: 0s - loss: 0.1334"
     ]
    },
    {
     "name": "stderr",
     "output_type": "stream",
     "text": [
      "100%|██████████| 100000/100000 [00:02<00:00, 41210.68it/s]\n"
     ]
    },
    {
     "name": "stdout",
     "output_type": "stream",
     "text": [
      "\b\b\b\b\b\b\b\b\b\b\b\b\b\b\b\b\b\b\b\b\b\b\b\b\b\b\b\b\b\b\b\b\b\b\b\b\b\b\b\b\b\b\b\b\b\b\b\b\b\b\b\b\b\b\b\b\b\b\b\b\b\b\b\b\b\b\b\r",
      "2000/2000 [==============================] - 224s 112ms/step - loss: 0.1334 - val_loss: 0.1737\n"
     ]
    },
    {
     "name": "stderr",
     "output_type": "stream",
     "text": [
      "100%|██████████| 10000/10000 [00:00<00:00, 72070.17it/s]\n"
     ]
    },
    {
     "name": "stdout",
     "output_type": "stream",
     "text": [
      "Epoch 1/1\n",
      "1999/2000 [============================>.] - ETA: 0s - loss: 0.1313"
     ]
    },
    {
     "name": "stderr",
     "output_type": "stream",
     "text": [
      "100%|██████████| 100000/100000 [00:02<00:00, 48416.50it/s]\n"
     ]
    },
    {
     "name": "stdout",
     "output_type": "stream",
     "text": [
      "\b\b\b\b\b\b\b\b\b\b\b\b\b\b\b\b\b\b\b\b\b\b\b\b\b\b\b\b\b\b\b\b\b\b\b\b\b\b\b\b\b\b\b\b\b\b\b\b\b\b\b\b\b\b\b\b\b\b\b\b\b\b\b\b\b\b\b\r",
      "2000/2000 [==============================] - 222s 111ms/step - loss: 0.1314 - val_loss: 0.1641\n"
     ]
    },
    {
     "name": "stderr",
     "output_type": "stream",
     "text": [
      "100%|██████████| 10000/10000 [00:00<00:00, 74142.43it/s]\n"
     ]
    },
    {
     "name": "stdout",
     "output_type": "stream",
     "text": [
      "Epoch 1/1\n",
      "1999/2000 [============================>.] - ETA: 0s - loss: 0.1293"
     ]
    },
    {
     "name": "stderr",
     "output_type": "stream",
     "text": [
      "100%|██████████| 100000/100000 [00:02<00:00, 41448.63it/s]\n"
     ]
    },
    {
     "name": "stdout",
     "output_type": "stream",
     "text": [
      "2000/2000 [==============================] - 223s 112ms/step - loss: 0.1293 - val_loss: 0.1611\n",
      "Epoch 1/1\n",
      "1999/2000 [============================>.] - ETA: 0s - loss: 0.1282"
     ]
    },
    {
     "name": "stderr",
     "output_type": "stream",
     "text": [
      "100%|██████████| 100000/100000 [00:02<00:00, 47506.05it/s]\n"
     ]
    },
    {
     "name": "stdout",
     "output_type": "stream",
     "text": [
      "\b\b\b\b\b\b\b\b\b\b\b\b\b\b\b\b\b\b\b\b\b\b\b\b\b\b\b\b\b\b\b\b\b\b\b\b\b\b\b\b\b\b\b\b\b\b\b\b\b\b\b\b\b\b\b\b\b\b\b\b\b\b\b\b\b\b\b\r",
      "2000/2000 [==============================] - 222s 111ms/step - loss: 0.1282 - val_loss: 0.1687\n"
     ]
    },
    {
     "name": "stderr",
     "output_type": "stream",
     "text": [
      "100%|██████████| 10000/10000 [00:00<00:00, 73907.40it/s]\n"
     ]
    },
    {
     "name": "stdout",
     "output_type": "stream",
     "text": [
      "Epoch 1/1\n",
      "1999/2000 [============================>.] - ETA: 0s - loss: 0.1218"
     ]
    },
    {
     "name": "stderr",
     "output_type": "stream",
     "text": [
      "100%|██████████| 100000/100000 [00:02<00:00, 47850.82it/s]\n"
     ]
    },
    {
     "name": "stdout",
     "output_type": "stream",
     "text": [
      "\b\b\b\b\b\b\b\b\b\b\b\b\b\b\b\b\b\b\b\b\b\b\b\b\b\b\b\b\b\b\b\b\b\b\b\b\b\b\b\b\b\b\b\b\b\b\b\b\b\b\b\b\b\b\b\b\b\b\b\b\b\b\b\b\b\b\b\r",
      "2000/2000 [==============================] - 223s 111ms/step - loss: 0.1218 - val_loss: 0.1602\n"
     ]
    },
    {
     "name": "stderr",
     "output_type": "stream",
     "text": [
      "100%|██████████| 10000/10000 [00:00<00:00, 67831.02it/s]\n"
     ]
    },
    {
     "name": "stdout",
     "output_type": "stream",
     "text": [
      "Epoch 1/1\n",
      "1999/2000 [============================>.] - ETA: 0s - loss: 0.1249"
     ]
    },
    {
     "name": "stderr",
     "output_type": "stream",
     "text": [
      "100%|██████████| 100000/100000 [00:02<00:00, 47909.09it/s]\n"
     ]
    },
    {
     "name": "stdout",
     "output_type": "stream",
     "text": [
      "2000/2000 [==============================] - 222s 111ms/step - loss: 0.1249 - val_loss: 0.1584\n",
      "Epoch 1/1\n",
      "1999/2000 [============================>.] - ETA: 0s - loss: 0.1226"
     ]
    },
    {
     "name": "stderr",
     "output_type": "stream",
     "text": [
      "100%|██████████| 100000/100000 [00:02<00:00, 46612.23it/s]\n"
     ]
    },
    {
     "name": "stdout",
     "output_type": "stream",
     "text": [
      "\b\b\b\b\b\b\b\b\b\b\b\b\b\b\b\b\b\b\b\b\b\b\b\b\b\b\b\b\b\b\b\b\b\b\b\b\b\b\b\b\b\b\b\b\b\b\b\b\b\b\b\b\b\b\b\b\b\b\b\b\b\b\b\b\b\b\b\r",
      "2000/2000 [==============================] - 222s 111ms/step - loss: 0.1226 - val_loss: 0.1628\n"
     ]
    },
    {
     "name": "stderr",
     "output_type": "stream",
     "text": [
      "100%|██████████| 10000/10000 [00:00<00:00, 70514.67it/s]\n"
     ]
    },
    {
     "name": "stdout",
     "output_type": "stream",
     "text": [
      "Epoch 1/1\n",
      "1999/2000 [============================>.] - ETA: 0s - loss: 0.1197"
     ]
    },
    {
     "name": "stderr",
     "output_type": "stream",
     "text": [
      "100%|██████████| 100000/100000 [00:02<00:00, 47040.94it/s]\n"
     ]
    },
    {
     "name": "stdout",
     "output_type": "stream",
     "text": [
      "2000/2000 [==============================] - 228s 114ms/step - loss: 0.1197 - val_loss: 0.1539\n",
      "Epoch 1/1\n",
      "1999/2000 [============================>.] - ETA: 0s - loss: 0.1192"
     ]
    },
    {
     "name": "stderr",
     "output_type": "stream",
     "text": [
      "100%|██████████| 100000/100000 [00:02<00:00, 41334.64it/s]\n"
     ]
    },
    {
     "name": "stdout",
     "output_type": "stream",
     "text": [
      "\b\b\b\b\b\b\b\b\b\b\b\b\b\b\b\b\b\b\b\b\b\b\b\b\b\b\b\b\b\b\b\b\b\b\b\b\b\b\b\b\b\b\b\b\b\b\b\b\b\b\b\b\b\b\b\b\b\b\b\b\b\b\b\b\b\b\b\r",
      "2000/2000 [==============================] - 224s 112ms/step - loss: 0.1192 - val_loss: 0.1533\n"
     ]
    },
    {
     "name": "stderr",
     "output_type": "stream",
     "text": [
      "100%|██████████| 10000/10000 [00:00<00:00, 74174.42it/s]\n"
     ]
    },
    {
     "name": "stdout",
     "output_type": "stream",
     "text": [
      "Epoch 1/1\n",
      "1999/2000 [============================>.] - ETA: 0s - loss: 0.1160"
     ]
    },
    {
     "name": "stderr",
     "output_type": "stream",
     "text": [
      "100%|██████████| 100000/100000 [00:02<00:00, 40231.48it/s]\n"
     ]
    },
    {
     "name": "stdout",
     "output_type": "stream",
     "text": [
      "\b\b\b\b\b\b\b\b\b\b\b\b\b\b\b\b\b\b\b\b\b\b\b\b\b\b\b\b\b\b\b\b\b\b\b\b\b\b\b\b\b\b\b\b\b\b\b\b\b\b\b\b\b\b\b\b\b\b\b\b\b\b\b\b\b\b\b\r",
      "2000/2000 [==============================] - 224s 112ms/step - loss: 0.1161 - val_loss: 0.1377\n"
     ]
    },
    {
     "name": "stderr",
     "output_type": "stream",
     "text": [
      "100%|██████████| 10000/10000 [00:00<00:00, 72886.24it/s]\n"
     ]
    },
    {
     "name": "stdout",
     "output_type": "stream",
     "text": [
      "Epoch 1/1\n",
      "1999/2000 [============================>.] - ETA: 0s - loss: 0.1159"
     ]
    },
    {
     "name": "stderr",
     "output_type": "stream",
     "text": [
      "100%|██████████| 100000/100000 [00:02<00:00, 40751.84it/s]\n"
     ]
    },
    {
     "name": "stdout",
     "output_type": "stream",
     "text": [
      "\b\b\b\b\b\b\b\b\b\b\b\b\b\b\b\b\b\b\b\b\b\b\b\b\b\b\b\b\b\b\b\b\b\b\b\b\b\b\b\b\b\b\b\b\b\b\b\b\b\b\b\b\b\b\b\b\b\b\b\b\b\b\b\b\b\b\b\r",
      "2000/2000 [==============================] - 224s 112ms/step - loss: 0.1159 - val_loss: 0.1429\n"
     ]
    },
    {
     "name": "stderr",
     "output_type": "stream",
     "text": [
      "100%|██████████| 10000/10000 [00:00<00:00, 66134.41it/s]\n"
     ]
    }
   ],
   "source": [
    "epochs = 20\n",
    "\n",
    "minimum = float('inf')\n",
    "for e in range(epochs):\n",
    "  descriptor_history = deeper_hardnet_v2_trip.fit_generator(generator=training_generator, epochs=1, verbose=1, validation_data=val_generator)\n",
    "  ### Saves optimizer and weights\n",
    "  \n",
    "  val_loss = descriptor_history.history['val_loss'][0]\n",
    "  if val_loss < minimum:\n",
    "    minimum = min(minimum, val_loss)\n",
    "    deeper_hardnet_v2_trip.save(f'deep_hardnet_v2_opt.h5')"
   ]
  },
  {
   "cell_type": "markdown",
   "metadata": {
    "colab_type": "text",
    "id": "2jxn7Y9QvAtt"
   },
   "source": [
    "### 5.2.1 Load optimal model"
   ]
  },
  {
   "cell_type": "code",
   "execution_count": 16,
   "metadata": {
    "colab": {
     "base_uri": "https://localhost:8080/",
     "height": 1836
    },
    "colab_type": "code",
    "id": "KErtMN8uvAQX",
    "outputId": "d81d3374-7d3e-4f8e-b3f5-a825f35b3848"
   },
   "outputs": [
    {
     "name": "stdout",
     "output_type": "stream",
     "text": [
      "__________________________________________________________________________________________________\n",
      "Layer (type)                    Output Shape         Param #     Connected to                     \n",
      "==================================================================================================\n",
      "input_3 (InputLayer)            (None, 32, 32, 1)    0                                            \n",
      "__________________________________________________________________________________________________\n",
      "conv2d_27 (Conv2D)              (None, 32, 32, 32)   320         input_3[0][0]                    \n",
      "__________________________________________________________________________________________________\n",
      "batch_normalization_14 (BatchNo (None, 32, 32, 32)   128         conv2d_27[0][0]                  \n",
      "__________________________________________________________________________________________________\n",
      "activation_7 (Activation)       (None, 32, 32, 32)   0           batch_normalization_14[0][0]     \n",
      "__________________________________________________________________________________________________\n",
      "conv2d_28 (Conv2D)              (None, 32, 32, 32)   9248        activation_7[0][0]               \n",
      "__________________________________________________________________________________________________\n",
      "batch_normalization_15 (BatchNo (None, 32, 32, 32)   128         conv2d_28[0][0]                  \n",
      "__________________________________________________________________________________________________\n",
      "activation_8 (Activation)       (None, 32, 32, 32)   0           batch_normalization_15[0][0]     \n",
      "__________________________________________________________________________________________________\n",
      "max_pooling2d_8 (MaxPooling2D)  (None, 16, 16, 32)   0           activation_8[0][0]               \n",
      "__________________________________________________________________________________________________\n",
      "conv2d_29 (Conv2D)              (None, 16, 16, 64)   18496       max_pooling2d_8[0][0]            \n",
      "__________________________________________________________________________________________________\n",
      "batch_normalization_16 (BatchNo (None, 16, 16, 64)   256         conv2d_29[0][0]                  \n",
      "__________________________________________________________________________________________________\n",
      "activation_9 (Activation)       (None, 16, 16, 64)   0           batch_normalization_16[0][0]     \n",
      "__________________________________________________________________________________________________\n",
      "conv2d_30 (Conv2D)              (None, 16, 16, 64)   36928       activation_9[0][0]               \n",
      "__________________________________________________________________________________________________\n",
      "batch_normalization_17 (BatchNo (None, 16, 16, 64)   256         conv2d_30[0][0]                  \n",
      "__________________________________________________________________________________________________\n",
      "activation_10 (Activation)      (None, 16, 16, 64)   0           batch_normalization_17[0][0]     \n",
      "__________________________________________________________________________________________________\n",
      "max_pooling2d_9 (MaxPooling2D)  (None, 8, 8, 64)     0           activation_10[0][0]              \n",
      "__________________________________________________________________________________________________\n",
      "conv2d_31 (Conv2D)              (None, 8, 8, 128)    73856       max_pooling2d_9[0][0]            \n",
      "__________________________________________________________________________________________________\n",
      "batch_normalization_18 (BatchNo (None, 8, 8, 128)    512         conv2d_31[0][0]                  \n",
      "__________________________________________________________________________________________________\n",
      "activation_11 (Activation)      (None, 8, 8, 128)    0           batch_normalization_18[0][0]     \n",
      "__________________________________________________________________________________________________\n",
      "conv2d_32 (Conv2D)              (None, 8, 8, 128)    147584      activation_11[0][0]              \n",
      "__________________________________________________________________________________________________\n",
      "batch_normalization_19 (BatchNo (None, 8, 8, 128)    512         conv2d_32[0][0]                  \n",
      "__________________________________________________________________________________________________\n",
      "activation_12 (Activation)      (None, 8, 8, 128)    0           batch_normalization_19[0][0]     \n",
      "__________________________________________________________________________________________________\n",
      "max_pooling2d_10 (MaxPooling2D) (None, 4, 4, 128)    0           activation_12[0][0]              \n",
      "__________________________________________________________________________________________________\n",
      "conv2d_33 (Conv2D)              (None, 4, 4, 128)    16512       max_pooling2d_10[0][0]           \n",
      "__________________________________________________________________________________________________\n",
      "batch_normalization_20 (BatchNo (None, 4, 4, 128)    512         conv2d_33[0][0]                  \n",
      "__________________________________________________________________________________________________\n",
      "leaky_re_lu_7 (LeakyReLU)       (None, 4, 4, 128)    0           batch_normalization_20[0][0]     \n",
      "__________________________________________________________________________________________________\n",
      "conv2d_34 (Conv2D)              (None, 2, 2, 128)    147584      leaky_re_lu_7[0][0]              \n",
      "__________________________________________________________________________________________________\n",
      "batch_normalization_21 (BatchNo (None, 2, 2, 128)    512         conv2d_34[0][0]                  \n",
      "__________________________________________________________________________________________________\n",
      "leaky_re_lu_8 (LeakyReLU)       (None, 2, 2, 128)    0           batch_normalization_21[0][0]     \n",
      "__________________________________________________________________________________________________\n",
      "up_sampling2d_7 (UpSampling2D)  (None, 4, 4, 128)    0           leaky_re_lu_8[0][0]              \n",
      "__________________________________________________________________________________________________\n",
      "conv2d_35 (Conv2D)              (None, 4, 4, 128)    16512       up_sampling2d_7[0][0]            \n",
      "__________________________________________________________________________________________________\n",
      "batch_normalization_22 (BatchNo (None, 4, 4, 128)    512         conv2d_35[0][0]                  \n",
      "__________________________________________________________________________________________________\n",
      "concatenate_7 (Concatenate)     (None, 4, 4, 256)    0           max_pooling2d_10[0][0]           \n",
      "                                                                 batch_normalization_22[0][0]     \n",
      "__________________________________________________________________________________________________\n",
      "leaky_re_lu_9 (LeakyReLU)       (None, 4, 4, 256)    0           concatenate_7[0][0]              \n",
      "__________________________________________________________________________________________________\n",
      "conv2d_36 (Conv2D)              (None, 4, 4, 128)    32896       leaky_re_lu_9[0][0]              \n",
      "__________________________________________________________________________________________________\n",
      "batch_normalization_23 (BatchNo (None, 4, 4, 128)    512         conv2d_36[0][0]                  \n",
      "__________________________________________________________________________________________________\n",
      "leaky_re_lu_10 (LeakyReLU)      (None, 4, 4, 128)    0           batch_normalization_23[0][0]     \n",
      "__________________________________________________________________________________________________\n",
      "conv2d_37 (Conv2D)              (None, 2, 2, 128)    147584      leaky_re_lu_10[0][0]             \n",
      "__________________________________________________________________________________________________\n",
      "batch_normalization_24 (BatchNo (None, 2, 2, 128)    512         conv2d_37[0][0]                  \n",
      "__________________________________________________________________________________________________\n",
      "leaky_re_lu_11 (LeakyReLU)      (None, 2, 2, 128)    0           batch_normalization_24[0][0]     \n",
      "__________________________________________________________________________________________________\n",
      "up_sampling2d_8 (UpSampling2D)  (None, 4, 4, 128)    0           leaky_re_lu_11[0][0]             \n",
      "__________________________________________________________________________________________________\n",
      "conv2d_38 (Conv2D)              (None, 4, 4, 128)    16512       up_sampling2d_8[0][0]            \n",
      "__________________________________________________________________________________________________\n",
      "batch_normalization_25 (BatchNo (None, 4, 4, 128)    512         conv2d_38[0][0]                  \n",
      "__________________________________________________________________________________________________\n",
      "concatenate_8 (Concatenate)     (None, 4, 4, 384)    0           leaky_re_lu_9[0][0]              \n",
      "                                                                 batch_normalization_25[0][0]     \n",
      "__________________________________________________________________________________________________\n",
      "leaky_re_lu_12 (LeakyReLU)      (None, 4, 4, 384)    0           concatenate_8[0][0]              \n",
      "__________________________________________________________________________________________________\n",
      "global_average_pooling2d_2 (Glo (None, 384)          0           leaky_re_lu_12[0][0]             \n",
      "__________________________________________________________________________________________________\n",
      "dense_3 (Dense)                 (None, 256)          98560       global_average_pooling2d_2[0][0] \n",
      "__________________________________________________________________________________________________\n",
      "batch_normalization_26 (BatchNo (None, 256)          1024        dense_3[0][0]                    \n",
      "__________________________________________________________________________________________________\n",
      "dropout_4 (Dropout)             (None, 256)          0           batch_normalization_26[0][0]     \n",
      "__________________________________________________________________________________________________\n",
      "dense_4 (Dense)                 (None, 128)          32896       dropout_4[0][0]                  \n",
      "==================================================================================================\n",
      "Total params: 801,376\n",
      "Trainable params: 798,432\n",
      "Non-trainable params: 2,944\n",
      "__________________________________________________________________________________________________\n"
     ]
    }
   ],
   "source": [
    "deeper_hardnet_v2_trip, deeper_hardnet_v2_model = load_descriptor_model(get_deep_hardnet_v2_model, './deep_hardnet_v2_opt.h5')"
   ]
  },
  {
   "cell_type": "markdown",
   "metadata": {
    "colab_type": "text",
    "id": "QIk9tKON6Vuc"
   },
   "source": [
    "# 6. ResNet"
   ]
  },
  {
   "cell_type": "code",
   "execution_count": 0,
   "metadata": {
    "colab": {},
    "colab_type": "code",
    "id": "9izl_jlWv3LG"
   },
   "outputs": [],
   "source": [
    "from keras.models import Model\n",
    "from keras.layers import Dense, GlobalAveragePooling2D\n",
    "from keras.applications.resnet50 import ResNet50\n",
    "from keras.backend import tf as ktf\n",
    "from keras.layers import Lambda, Input\n",
    "\n",
    "def get_resnet_50_descriptor_model(shape):\n",
    "  model = ResNet50(include_top=False, input_shape=(32,32,3), weights='imagenet')\n",
    "\n",
    "  # Resize Input images to 75x75\n",
    "  newInput = Input(batch_shape=(None, shape[0], shape[1], shape[2]))\n",
    "# #   resizedImg = Lambda(lambda image: ktf.image.resize_images(image, (75, 75)))(newInput)\n",
    "  if shape[2] == 1:\n",
    "    resizedImg = Lambda(lambda image: ktf.image.grayscale_to_rgb(image))(newInput)\n",
    "  newOutputs = model(resizedImg)\n",
    "  model = Model(newInput, newOutputs)\n",
    "\n",
    "  for layer in model.layers[:]:\n",
    "      layer.trainable = False\n",
    "  \n",
    "  output = model.output\n",
    "\n",
    "  output = GlobalAveragePooling2D()(output)\n",
    "  # let's add a fully-connected layer\n",
    "  output = Dense(256, activation='relu')(output)\n",
    "  # and a logistic layer -- let's say we have 200 classes\n",
    "  output = Dense(128, activation='relu')(output)\n",
    "\n",
    "  return Model(model.input, output)"
   ]
  },
  {
   "cell_type": "code",
   "execution_count": 24,
   "metadata": {
    "colab": {
     "base_uri": "https://localhost:8080/",
     "height": 374
    },
    "colab_type": "code",
    "id": "vTTbw_gWVoFn",
    "outputId": "77974f69-0594-4709-8d94-08f8c4958b6e"
   },
   "outputs": [
    {
     "name": "stdout",
     "output_type": "stream",
     "text": [
      "Downloading data from https://github.com/fchollet/deep-learning-models/releases/download/v0.2/resnet50_weights_tf_dim_ordering_tf_kernels_notop.h5\n",
      "94658560/94653016 [==============================] - 1s 0us/step\n",
      "_________________________________________________________________\n",
      "Layer (type)                 Output Shape              Param #   \n",
      "=================================================================\n",
      "input_6 (InputLayer)         (None, 32, 32, 1)         0         \n",
      "_________________________________________________________________\n",
      "lambda_4 (Lambda)            (None, 32, 32, 3)         0         \n",
      "_________________________________________________________________\n",
      "resnet50 (Model)             (None, 1, 1, 2048)        23587712  \n",
      "_________________________________________________________________\n",
      "global_average_pooling2d_3 ( (None, 2048)              0         \n",
      "_________________________________________________________________\n",
      "dense_8 (Dense)              (None, 256)               524544    \n",
      "_________________________________________________________________\n",
      "dense_9 (Dense)              (None, 128)               32896     \n",
      "=================================================================\n",
      "Total params: 24,145,152\n",
      "Trainable params: 557,440\n",
      "Non-trainable params: 23,587,712\n",
      "_________________________________________________________________\n"
     ]
    }
   ],
   "source": [
    "resnet_model_trip, resnet_model = load_descriptor_model(get_resnet_50_descriptor_model)"
   ]
  },
  {
   "cell_type": "code",
   "execution_count": 25,
   "metadata": {
    "colab": {
     "base_uri": "https://localhost:8080/",
     "height": 1377
    },
    "colab_type": "code",
    "id": "txSmieL2V53s",
    "outputId": "2a815114-b406-4e73-9194-e86df8dd82d8"
   },
   "outputs": [
    {
     "name": "stdout",
     "output_type": "stream",
     "text": [
      "Epoch 1/1\n",
      "1999/2000 [============================>.] - ETA: 0s - loss: 0.4363"
     ]
    },
    {
     "name": "stderr",
     "output_type": "stream",
     "text": [
      "100%|██████████| 100000/100000 [00:02<00:00, 38264.52it/s]\n"
     ]
    },
    {
     "name": "stdout",
     "output_type": "stream",
     "text": [
      "\b\b\b\b\b\b\b\b\b\b\b\b\b\b\b\b\b\b\b\b\b\b\b\b\b\b\b\b\b\b\b\b\b\b\b\b\b\b\b\b\b\b\b\b\b\b\b\b\b\b\b\b\b\b\b\b\b\b\b\b\b\b\b\b\b\b\b\r",
      "2000/2000 [==============================] - 249s 124ms/step - loss: 0.4362 - val_loss: 0.4644\n"
     ]
    },
    {
     "name": "stderr",
     "output_type": "stream",
     "text": [
      "100%|██████████| 10000/10000 [00:00<00:00, 73528.42it/s]\n"
     ]
    },
    {
     "name": "stdout",
     "output_type": "stream",
     "text": [
      "Epoch 1/1\n",
      "1999/2000 [============================>.] - ETA: 0s - loss: 0.3590"
     ]
    },
    {
     "name": "stderr",
     "output_type": "stream",
     "text": [
      "100%|██████████| 100000/100000 [00:02<00:00, 34165.88it/s]\n"
     ]
    },
    {
     "name": "stdout",
     "output_type": "stream",
     "text": [
      "\b\b\b\b\b\b\b\b\b\b\b\b\b\b\b\b\b\b\b\b\b\b\b\b\b\b\b\b\b\b\b\b\b\b\b\b\b\b\b\b\b\b\b\b\b\b\b\b\b\b\b\b\b\b\b\b\b\b\b\b\b\b\b\b\b\b\b\r",
      "2000/2000 [==============================] - 231s 115ms/step - loss: 0.3590 - val_loss: 0.4609\n"
     ]
    },
    {
     "name": "stderr",
     "output_type": "stream",
     "text": [
      "100%|██████████| 10000/10000 [00:00<00:00, 69765.30it/s]\n"
     ]
    },
    {
     "name": "stdout",
     "output_type": "stream",
     "text": [
      "Epoch 1/1\n",
      "1999/2000 [============================>.] - ETA: 0s - loss: 0.3347"
     ]
    },
    {
     "name": "stderr",
     "output_type": "stream",
     "text": [
      "100%|██████████| 100000/100000 [00:02<00:00, 36778.75it/s]\n"
     ]
    },
    {
     "name": "stdout",
     "output_type": "stream",
     "text": [
      "\b\b\b\b\b\b\b\b\b\b\b\b\b\b\b\b\b\b\b\b\b\b\b\b\b\b\b\b\b\b\b\b\b\b\b\b\b\b\b\b\b\b\b\b\b\b\b\b\b\b\b\b\b\b\b\b\b\b\b\b\b\b\b\b\b\b\b\r",
      "2000/2000 [==============================] - 231s 115ms/step - loss: 0.3347 - val_loss: 0.4306\n"
     ]
    },
    {
     "name": "stderr",
     "output_type": "stream",
     "text": [
      "100%|██████████| 10000/10000 [00:00<00:00, 69691.00it/s]\n"
     ]
    },
    {
     "name": "stdout",
     "output_type": "stream",
     "text": [
      "Epoch 1/1\n",
      "1999/2000 [============================>.] - ETA: 0s - loss: 0.3205"
     ]
    },
    {
     "name": "stderr",
     "output_type": "stream",
     "text": [
      "100%|██████████| 100000/100000 [00:02<00:00, 36670.00it/s]\n"
     ]
    },
    {
     "name": "stdout",
     "output_type": "stream",
     "text": [
      "\b\b\b\b\b\b\b\b\b\b\b\b\b\b\b\b\b\b\b\b\b\b\b\b\b\b\b\b\b\b\b\b\b\b\b\b\b\b\b\b\b\b\b\b\b\b\b\b\b\b\b\b\b\b\b\b\b\b\b\b\b\b\b\b\b\b\b\r",
      "2000/2000 [==============================] - 230s 115ms/step - loss: 0.3205 - val_loss: 0.4856\n"
     ]
    },
    {
     "name": "stderr",
     "output_type": "stream",
     "text": [
      "100%|██████████| 10000/10000 [00:00<00:00, 72773.68it/s]\n"
     ]
    },
    {
     "name": "stdout",
     "output_type": "stream",
     "text": [
      "Epoch 1/1\n",
      "1999/2000 [============================>.] - ETA: 0s - loss: 0.3147"
     ]
    },
    {
     "name": "stderr",
     "output_type": "stream",
     "text": [
      "100%|██████████| 100000/100000 [00:02<00:00, 35761.52it/s]\n"
     ]
    },
    {
     "name": "stdout",
     "output_type": "stream",
     "text": [
      "\b\b\b\b\b\b\b\b\b\b\b\b\b\b\b\b\b\b\b\b\b\b\b\b\b\b\b\b\b\b\b\b\b\b\b\b\b\b\b\b\b\b\b\b\b\b\b\b\b\b\b\b\b\b\b\b\b\b\b\b\b\b\b\b\b\b\b\r",
      "2000/2000 [==============================] - 230s 115ms/step - loss: 0.3147 - val_loss: 0.4291\n"
     ]
    },
    {
     "name": "stderr",
     "output_type": "stream",
     "text": [
      "100%|██████████| 10000/10000 [00:00<00:00, 64002.64it/s]\n"
     ]
    },
    {
     "name": "stdout",
     "output_type": "stream",
     "text": [
      "Epoch 1/1\n",
      "1999/2000 [============================>.] - ETA: 0s - loss: 0.3078"
     ]
    },
    {
     "name": "stderr",
     "output_type": "stream",
     "text": [
      "100%|██████████| 100000/100000 [00:02<00:00, 38078.27it/s]\n"
     ]
    },
    {
     "name": "stdout",
     "output_type": "stream",
     "text": [
      "\b\b\b\b\b\b\b\b\b\b\b\b\b\b\b\b\b\b\b\b\b\b\b\b\b\b\b\b\b\b\b\b\b\b\b\b\b\b\b\b\b\b\b\b\b\b\b\b\b\b\b\b\b\b\b\b\b\b\b\b\b\b\b\b\b\b\b\r",
      "2000/2000 [==============================] - 230s 115ms/step - loss: 0.3078 - val_loss: 0.4815\n"
     ]
    },
    {
     "name": "stderr",
     "output_type": "stream",
     "text": [
      "100%|██████████| 10000/10000 [00:00<00:00, 70160.69it/s]\n"
     ]
    },
    {
     "name": "stdout",
     "output_type": "stream",
     "text": [
      "Epoch 1/1\n",
      "1999/2000 [============================>.] - ETA: 0s - loss: 0.2996"
     ]
    },
    {
     "name": "stderr",
     "output_type": "stream",
     "text": [
      "100%|██████████| 100000/100000 [00:03<00:00, 27779.15it/s]\n"
     ]
    },
    {
     "name": "stdout",
     "output_type": "stream",
     "text": [
      "\b\b\b\b\b\b\b\b\b\b\b\b\b\b\b\b\b\b\b\b\b\b\b\b\b\b\b\b\b\b\b\b\b\b\b\b\b\b\b\b\b\b\b\b\b\b\b\b\b\b\b\b\b\b\b\b\b\b\b\b\b\b\b\b\b\b\b\r",
      "2000/2000 [==============================] - 231s 116ms/step - loss: 0.2995 - val_loss: 0.4680\n"
     ]
    },
    {
     "name": "stderr",
     "output_type": "stream",
     "text": [
      "100%|██████████| 10000/10000 [00:00<00:00, 71309.02it/s]\n"
     ]
    },
    {
     "name": "stdout",
     "output_type": "stream",
     "text": [
      "Epoch 1/1\n",
      "1999/2000 [============================>.] - ETA: 0s - loss: 0.3012"
     ]
    },
    {
     "name": "stderr",
     "output_type": "stream",
     "text": [
      "100%|██████████| 100000/100000 [00:02<00:00, 35039.28it/s]\n"
     ]
    },
    {
     "name": "stdout",
     "output_type": "stream",
     "text": [
      "\b\b\b\b\b\b\b\b\b\b\b\b\b\b\b\b\b\b\b\b\b\b\b\b\b\b\b\b\b\b\b\b\b\b\b\b\b\b\b\b\b\b\b\b\b\b\b\b\b\b\b\b\b\b\b\b\b\b\b\b\b\b\b\b\b\b\b\r",
      "2000/2000 [==============================] - 230s 115ms/step - loss: 0.3013 - val_loss: 0.4551\n"
     ]
    },
    {
     "name": "stderr",
     "output_type": "stream",
     "text": [
      "100%|██████████| 10000/10000 [00:00<00:00, 72120.98it/s]\n"
     ]
    },
    {
     "name": "stdout",
     "output_type": "stream",
     "text": [
      "Epoch 1/1\n",
      "1999/2000 [============================>.] - ETA: 0s - loss: 0.3002"
     ]
    },
    {
     "name": "stderr",
     "output_type": "stream",
     "text": [
      "100%|██████████| 100000/100000 [00:02<00:00, 35651.37it/s]\n"
     ]
    },
    {
     "name": "stdout",
     "output_type": "stream",
     "text": [
      "\b\b\b\b\b\b\b\b\b\b\b\b\b\b\b\b\b\b\b\b\b\b\b\b\b\b\b\b\b\b\b\b\b\b\b\b\b\b\b\b\b\b\b\b\b\b\b\b\b\b\b\b\b\b\b\b\b\b\b\b\b\b\b\b\b\b\b\r",
      "2000/2000 [==============================] - 230s 115ms/step - loss: 0.3002 - val_loss: 0.4484\n"
     ]
    },
    {
     "name": "stderr",
     "output_type": "stream",
     "text": [
      "100%|██████████| 10000/10000 [00:00<00:00, 71344.32it/s]\n"
     ]
    },
    {
     "name": "stdout",
     "output_type": "stream",
     "text": [
      "Epoch 1/1\n",
      "1999/2000 [============================>.] - ETA: 0s - loss: 0.2948"
     ]
    },
    {
     "name": "stderr",
     "output_type": "stream",
     "text": [
      "100%|██████████| 100000/100000 [00:02<00:00, 36853.27it/s]\n"
     ]
    },
    {
     "name": "stdout",
     "output_type": "stream",
     "text": [
      "\b\b\b\b\b\b\b\b\b\b\b\b\b\b\b\b\b\b\b\b\b\b\b\b\b\b\b\b\b\b\b\b\b\b\b\b\b\b\b\b\b\b\b\b\b\b\b\b\b\b\b\b\b\b\b\b\b\b\b\b\b\b\b\b\b\b\b\r",
      "2000/2000 [==============================] - 229s 115ms/step - loss: 0.2948 - val_loss: 0.4311\n"
     ]
    },
    {
     "name": "stderr",
     "output_type": "stream",
     "text": [
      "100%|██████████| 10000/10000 [00:00<00:00, 71002.65it/s]\n"
     ]
    },
    {
     "name": "stdout",
     "output_type": "stream",
     "text": [
      "Epoch 1/1\n",
      "1999/2000 [============================>.] - ETA: 0s - loss: 0.2946"
     ]
    },
    {
     "name": "stderr",
     "output_type": "stream",
     "text": [
      "100%|██████████| 100000/100000 [00:02<00:00, 37298.20it/s]\n"
     ]
    },
    {
     "name": "stdout",
     "output_type": "stream",
     "text": [
      "\b\b\b\b\b\b\b\b\b\b\b\b\b\b\b\b\b\b\b\b\b\b\b\b\b\b\b\b\b\b\b\b\b\b\b\b\b\b\b\b\b\b\b\b\b\b\b\b\b\b\b\b\b\b\b\b\b\b\b\b\b\b\b\b\b\b\b\r",
      "2000/2000 [==============================] - 229s 115ms/step - loss: 0.2946 - val_loss: 0.4573\n"
     ]
    },
    {
     "name": "stderr",
     "output_type": "stream",
     "text": [
      "100%|██████████| 10000/10000 [00:00<00:00, 73790.77it/s]\n"
     ]
    },
    {
     "name": "stdout",
     "output_type": "stream",
     "text": [
      "Epoch 1/1\n",
      "1999/2000 [============================>.] - ETA: 0s - loss: 0.2897"
     ]
    },
    {
     "name": "stderr",
     "output_type": "stream",
     "text": [
      "100%|██████████| 100000/100000 [00:02<00:00, 34806.44it/s]\n"
     ]
    },
    {
     "name": "stdout",
     "output_type": "stream",
     "text": [
      "\b\b\b\b\b\b\b\b\b\b\b\b\b\b\b\b\b\b\b\b\b\b\b\b\b\b\b\b\b\b\b\b\b\b\b\b\b\b\b\b\b\b\b\b\b\b\b\b\b\b\b\b\b\b\b\b\b\b\b\b\b\b\b\b\b\b\b\r",
      "2000/2000 [==============================] - 229s 115ms/step - loss: 0.2897 - val_loss: 0.4622\n"
     ]
    },
    {
     "name": "stderr",
     "output_type": "stream",
     "text": [
      "100%|██████████| 10000/10000 [00:00<00:00, 69213.17it/s]\n"
     ]
    },
    {
     "name": "stdout",
     "output_type": "stream",
     "text": [
      "Epoch 1/1\n",
      "1999/2000 [============================>.] - ETA: 0s - loss: 0.2876"
     ]
    },
    {
     "name": "stderr",
     "output_type": "stream",
     "text": [
      "100%|██████████| 100000/100000 [00:02<00:00, 35541.84it/s]\n"
     ]
    },
    {
     "name": "stdout",
     "output_type": "stream",
     "text": [
      "\b\b\b\b\b\b\b\b\b\b\b\b\b\b\b\b\b\b\b\b\b\b\b\b\b\b\b\b\b\b\b\b\b\b\b\b\b\b\b\b\b\b\b\b\b\b\b\b\b\b\b\b\b\b\b\b\b\b\b\b\b\b\b\b\b\b\b\r",
      "2000/2000 [==============================] - 229s 115ms/step - loss: 0.2876 - val_loss: 0.4465\n"
     ]
    },
    {
     "name": "stderr",
     "output_type": "stream",
     "text": [
      "100%|██████████| 10000/10000 [00:00<00:00, 70834.65it/s]\n"
     ]
    },
    {
     "name": "stdout",
     "output_type": "stream",
     "text": [
      "Epoch 1/1\n",
      "1999/2000 [============================>.] - ETA: 0s - loss: 0.2892"
     ]
    },
    {
     "name": "stderr",
     "output_type": "stream",
     "text": [
      "100%|██████████| 100000/100000 [00:02<00:00, 36045.60it/s]\n"
     ]
    },
    {
     "name": "stdout",
     "output_type": "stream",
     "text": [
      "\b\b\b\b\b\b\b\b\b\b\b\b\b\b\b\b\b\b\b\b\b\b\b\b\b\b\b\b\b\b\b\b\b\b\b\b\b\b\b\b\b\b\b\b\b\b\b\b\b\b\b\b\b\b\b\b\b\b\b\b\b\b\b\b\b\b\b\r",
      "2000/2000 [==============================] - 229s 115ms/step - loss: 0.2892 - val_loss: 0.4313\n"
     ]
    },
    {
     "name": "stderr",
     "output_type": "stream",
     "text": [
      "100%|██████████| 10000/10000 [00:00<00:00, 70550.84it/s]\n"
     ]
    },
    {
     "name": "stdout",
     "output_type": "stream",
     "text": [
      "Epoch 1/1\n",
      "1999/2000 [============================>.] - ETA: 0s - loss: 0.2870"
     ]
    },
    {
     "name": "stderr",
     "output_type": "stream",
     "text": [
      "100%|██████████| 100000/100000 [00:02<00:00, 35660.54it/s]\n"
     ]
    },
    {
     "name": "stdout",
     "output_type": "stream",
     "text": [
      "\b\b\b\b\b\b\b\b\b\b\b\b\b\b\b\b\b\b\b\b\b\b\b\b\b\b\b\b\b\b\b\b\b\b\b\b\b\b\b\b\b\b\b\b\b\b\b\b\b\b\b\b\b\b\b\b\b\b\b\b\b\b\b\b\b\b\b\r",
      "2000/2000 [==============================] - 230s 115ms/step - loss: 0.2870 - val_loss: 0.4284\n"
     ]
    },
    {
     "name": "stderr",
     "output_type": "stream",
     "text": [
      "100%|██████████| 10000/10000 [00:00<00:00, 70106.04it/s]\n"
     ]
    },
    {
     "name": "stdout",
     "output_type": "stream",
     "text": [
      "Epoch 1/1\n",
      "1999/2000 [============================>.] - ETA: 0s - loss: 0.2854"
     ]
    },
    {
     "name": "stderr",
     "output_type": "stream",
     "text": [
      "100%|██████████| 100000/100000 [00:02<00:00, 36387.82it/s]\n"
     ]
    },
    {
     "name": "stdout",
     "output_type": "stream",
     "text": [
      "\b\b\b\b\b\b\b\b\b\b\b\b\b\b\b\b\b\b\b\b\b\b\b\b\b\b\b\b\b\b\b\b\b\b\b\b\b\b\b\b\b\b\b\b\b\b\b\b\b\b\b\b\b\b\b\b\b\b\b\b\b\b\b\b\b\b\b\r",
      "2000/2000 [==============================] - 230s 115ms/step - loss: 0.2853 - val_loss: 0.4198\n"
     ]
    },
    {
     "name": "stderr",
     "output_type": "stream",
     "text": [
      "100%|██████████| 10000/10000 [00:00<00:00, 70890.80it/s]\n"
     ]
    },
    {
     "name": "stdout",
     "output_type": "stream",
     "text": [
      "Epoch 1/1\n",
      "1999/2000 [============================>.] - ETA: 0s - loss: 0.2798"
     ]
    },
    {
     "name": "stderr",
     "output_type": "stream",
     "text": [
      "100%|██████████| 100000/100000 [00:02<00:00, 35961.89it/s]\n"
     ]
    },
    {
     "name": "stdout",
     "output_type": "stream",
     "text": [
      "\b\b\b\b\b\b\b\b\b\b\b\b\b\b\b\b\b\b\b\b\b\b\b\b\b\b\b\b\b\b\b\b\b\b\b\b\b\b\b\b\b\b\b\b\b\b\b\b\b\b\b\b\b\b\b\b\b\b\b\b\b\b\b\b\b\b\b\r",
      "2000/2000 [==============================] - 229s 114ms/step - loss: 0.2798 - val_loss: 0.4457\n"
     ]
    },
    {
     "name": "stderr",
     "output_type": "stream",
     "text": [
      "100%|██████████| 10000/10000 [00:00<00:00, 70135.46it/s]\n"
     ]
    },
    {
     "name": "stdout",
     "output_type": "stream",
     "text": [
      "Epoch 1/1\n",
      "1999/2000 [============================>.] - ETA: 0s - loss: 0.2859"
     ]
    },
    {
     "name": "stderr",
     "output_type": "stream",
     "text": [
      "100%|██████████| 100000/100000 [00:02<00:00, 37998.78it/s]\n"
     ]
    },
    {
     "name": "stdout",
     "output_type": "stream",
     "text": [
      "\b\b\b\b\b\b\b\b\b\b\b\b\b\b\b\b\b\b\b\b\b\b\b\b\b\b\b\b\b\b\b\b\b\b\b\b\b\b\b\b\b\b\b\b\b\b\b\b\b\b\b\b\b\b\b\b\b\b\b\b\b\b\b\b\b\b\b\r",
      "2000/2000 [==============================] - 228s 114ms/step - loss: 0.2859 - val_loss: 0.4476\n"
     ]
    },
    {
     "name": "stderr",
     "output_type": "stream",
     "text": [
      "100%|██████████| 10000/10000 [00:00<00:00, 70627.82it/s]\n"
     ]
    },
    {
     "name": "stdout",
     "output_type": "stream",
     "text": [
      "Epoch 1/1\n",
      "1999/2000 [============================>.] - ETA: 0s - loss: 0.2852"
     ]
    },
    {
     "name": "stderr",
     "output_type": "stream",
     "text": [
      "100%|██████████| 100000/100000 [00:02<00:00, 37552.36it/s]\n"
     ]
    },
    {
     "name": "stdout",
     "output_type": "stream",
     "text": [
      "\b\b\b\b\b\b\b\b\b\b\b\b\b\b\b\b\b\b\b\b\b\b\b\b\b\b\b\b\b\b\b\b\b\b\b\b\b\b\b\b\b\b\b\b\b\b\b\b\b\b\b\b\b\b\b\b\b\b\b\b\b\b\b\b\b\b\b\r",
      "2000/2000 [==============================] - 229s 115ms/step - loss: 0.2853 - val_loss: 0.4701\n"
     ]
    },
    {
     "name": "stderr",
     "output_type": "stream",
     "text": [
      "100%|██████████| 10000/10000 [00:00<00:00, 66323.38it/s]\n"
     ]
    },
    {
     "name": "stdout",
     "output_type": "stream",
     "text": [
      "Epoch 1/1\n",
      "1999/2000 [============================>.] - ETA: 0s - loss: 0.2840"
     ]
    },
    {
     "name": "stderr",
     "output_type": "stream",
     "text": [
      "100%|██████████| 100000/100000 [00:03<00:00, 26737.81it/s]\n"
     ]
    },
    {
     "name": "stdout",
     "output_type": "stream",
     "text": [
      "\b\b\b\b\b\b\b\b\b\b\b\b\b\b\b\b\b\b\b\b\b\b\b\b\b\b\b\b\b\b\b\b\b\b\b\b\b\b\b\b\b\b\b\b\b\b\b\b\b\b\b\b\b\b\b\b\b\b\b\b\b\b\b\b\b\b\b\r",
      "2000/2000 [==============================] - 229s 115ms/step - loss: 0.2840 - val_loss: 0.4386\n"
     ]
    },
    {
     "name": "stderr",
     "output_type": "stream",
     "text": [
      "100%|██████████| 10000/10000 [00:00<00:00, 73254.00it/s]\n"
     ]
    }
   ],
   "source": [
    "epochs = 20\n",
    "\n",
    "minimum = float('inf')\n",
    "for e in range(epochs):\n",
    "  descriptor_history = resnet_model_trip.fit_generator(generator=training_generator, epochs=1, verbose=1, validation_data=val_generator)\n",
    "  ### Saves optimizer and weights\n",
    "  \n",
    "  val_loss = descriptor_history.history['val_loss'][0]\n",
    "  if val_loss < minimum:\n",
    "    minimum = min(minimum, val_loss)\n",
    "    resnet_model_trip.save(f'resnet_opt.h5')"
   ]
  },
  {
   "cell_type": "markdown",
   "metadata": {
    "colab_type": "text",
    "id": "xaY5c7DNLul-"
   },
   "source": [
    "## 6.1 Load optimal model"
   ]
  },
  {
   "cell_type": "code",
   "execution_count": 0,
   "metadata": {
    "colab": {},
    "colab_type": "code",
    "id": "N2FSNos8LuO6"
   },
   "outputs": [],
   "source": [
    "resnet_model_trip, resnet_model = load_descriptor_model(get_resnet_50_descriptor_model, './resnet_opt.h5')"
   ]
  },
  {
   "cell_type": "markdown",
   "metadata": {
    "colab_type": "text",
    "id": "3-Mc-nmDVot_"
   },
   "source": [
    "# 7. Evaluation"
   ]
  },
  {
   "cell_type": "code",
   "execution_count": 34,
   "metadata": {
    "colab": {
     "base_uri": "https://localhost:8080/",
     "height": 646
    },
    "colab_type": "code",
    "id": "s7_-tat0umK7",
    "outputId": "82f544ef-5312-4830-ac96-e2849a44c746"
   },
   "outputs": [
    {
     "name": "stdout",
     "output_type": "stream",
     "text": [
      "Output: \n",
      "\n",
      ">> Running HPatch evaluation for \u001b[34munet_baseline_hardnet\u001b[0m\n",
      ">> Please wait, loading the descriptor files...\n",
      ">> Descriptor files loaded.\n",
      ">> Evaluating \u001b[32mverification\u001b[0m task\n",
      ">> \u001b[32mVerification\u001b[0m task finished in 287 secs  \n",
      "\u001b[32mVerification\u001b[0m task results:\n",
      "Mean Average Precision is 0.824511\n",
      "\n",
      "========================================\n",
      "Output: \n",
      "\n",
      ">> Running HPatch evaluation for \u001b[34munet_baseline_hardnet\u001b[0m\n",
      ">> Please wait, loading the descriptor files...\n",
      ">> Descriptor files loaded.\n",
      ">> Evaluating \u001b[32mmatching\u001b[0m task\n",
      ">> \u001b[32mMatching\u001b[0m task finished in 132 secs  \n",
      "\u001b[32mMatching\u001b[0m task results:\n",
      "Mean Average Precision is 0.235052\n",
      "\n",
      "\n",
      "\n",
      "========================================\n",
      "Output: \n",
      "\n",
      ">> Running HPatch evaluation for \u001b[34munet_baseline_hardnet\u001b[0m\n",
      ">> Please wait, loading the descriptor files...\n",
      ">> Descriptor files loaded.\n",
      ">> Evaluating \u001b[32mretrieval\u001b[0m task\n",
      ">> Please wait, computing distance matrix...\n",
      ">> Distance matrix done.\n",
      ">> \u001b[32mRetrieval\u001b[0m task finished in 252 secs  \n",
      "\u001b[32mRetrieval\u001b[0m task results:\n",
      "Mean Average Precision is 0.537885\n",
      "\n",
      "========================================\n"
     ]
    }
   ],
   "source": [
    "run_vmr('unet_baseline_hardnet', unet_baseline_descriptor_model, denoise_unet_model)"
   ]
  },
  {
   "cell_type": "code",
   "execution_count": 35,
   "metadata": {
    "colab": {
     "base_uri": "https://localhost:8080/",
     "height": 663
    },
    "colab_type": "code",
    "id": "GrjSTT7PxDD9",
    "outputId": "ebda0365-7d4b-4203-af58-4a4f073f20d7"
   },
   "outputs": [
    {
     "name": "stderr",
     "output_type": "stream",
     "text": [
      "100%|██████████| 40/40 [24:03<00:00, 36.86s/it]\n"
     ]
    },
    {
     "name": "stdout",
     "output_type": "stream",
     "text": [
      "Output: \n",
      "\n",
      ">> Running HPatch evaluation for \u001b[34munet_hardnet_v1\u001b[0m\n",
      ">> Please wait, loading the descriptor files...\n",
      ">> Descriptor files loaded.\n",
      ">> Evaluating \u001b[32mverification\u001b[0m task\n",
      ">> \u001b[32mVerification\u001b[0m task finished in 292 secs  \n",
      "\u001b[32mVerification\u001b[0m task results:\n",
      "Mean Average Precision is 0.748667\n",
      "\n",
      "========================================\n",
      "Output: \n",
      "\n",
      ">> Running HPatch evaluation for \u001b[34munet_hardnet_v1\u001b[0m\n",
      ">> Please wait, loading the descriptor files...\n",
      ">> Descriptor files loaded.\n",
      ">> Evaluating \u001b[32mmatching\u001b[0m task\n",
      ">> \u001b[32mMatching\u001b[0m task finished in 132 secs  \n",
      "\u001b[32mMatching\u001b[0m task results:\n",
      "Mean Average Precision is 0.035623\n",
      "\n",
      "\n",
      "\n",
      "========================================\n",
      "Output: \n",
      "\n",
      ">> Running HPatch evaluation for \u001b[34munet_hardnet_v1\u001b[0m\n",
      ">> Please wait, loading the descriptor files...\n",
      ">> Descriptor files loaded.\n",
      ">> Evaluating \u001b[32mretrieval\u001b[0m task\n",
      ">> Please wait, computing distance matrix...\n",
      ">> Distance matrix done.\n",
      ">> \u001b[32mRetrieval\u001b[0m task finished in 253 secs  \n",
      "\u001b[32mRetrieval\u001b[0m task results:\n",
      "Mean Average Precision is 0.305305\n",
      "\n",
      "========================================\n"
     ]
    }
   ],
   "source": [
    "run_vmr('unet_hardnet_v1', deeper_hardnet_fully_connected_model, denoise_unet_model)"
   ]
  },
  {
   "cell_type": "code",
   "execution_count": 17,
   "metadata": {
    "colab": {
     "base_uri": "https://localhost:8080/",
     "height": 663
    },
    "colab_type": "code",
    "id": "xJ0NobOGxMY1",
    "outputId": "24c3c7b6-56f9-405a-b9cb-1954e2369c26"
   },
   "outputs": [
    {
     "name": "stderr",
     "output_type": "stream",
     "text": [
      "100%|██████████| 40/40 [18:18<00:00, 28.60s/it]\n"
     ]
    },
    {
     "name": "stdout",
     "output_type": "stream",
     "text": [
      "Output: \n",
      "\n",
      ">> Running HPatch evaluation for \u001b[34munet_hardnet_v2\u001b[0m\n",
      ">> Please wait, loading the descriptor files...\n",
      ">> Descriptor files loaded.\n",
      ">> Evaluating \u001b[32mverification\u001b[0m task\n",
      ">> \u001b[32mVerification\u001b[0m task finished in 293 secs  \n",
      "\u001b[32mVerification\u001b[0m task results:\n",
      "Mean Average Precision is 0.783372\n",
      "\n",
      "========================================\n",
      "Output: \n",
      "\n",
      ">> Running HPatch evaluation for \u001b[34munet_hardnet_v2\u001b[0m\n",
      ">> Please wait, loading the descriptor files...\n",
      ">> Descriptor files loaded.\n",
      ">> Evaluating \u001b[32mmatching\u001b[0m task\n",
      ">> \u001b[32mMatching\u001b[0m task finished in 129 secs  \n",
      "\u001b[32mMatching\u001b[0m task results:\n",
      "Mean Average Precision is 0.079709\n",
      "\n",
      "\n",
      "\n",
      "========================================\n",
      "Output: \n",
      "\n",
      ">> Running HPatch evaluation for \u001b[34munet_hardnet_v2\u001b[0m\n",
      ">> Please wait, loading the descriptor files...\n",
      ">> Descriptor files loaded.\n",
      ">> Evaluating \u001b[32mretrieval\u001b[0m task\n",
      ">> Please wait, computing distance matrix...\n",
      ">> Distance matrix done.\n",
      ">> \u001b[32mRetrieval\u001b[0m task finished in 250 secs  \n",
      "\u001b[32mRetrieval\u001b[0m task results:\n",
      "Mean Average Precision is 0.387180\n",
      "\n",
      "========================================\n"
     ]
    }
   ],
   "source": [
    "run_vmr('unet_hardnet_v2', deeper_hardnet_v2_model, denoise_unet_model)"
   ]
  },
  {
   "cell_type": "code",
   "execution_count": 38,
   "metadata": {
    "colab": {
     "base_uri": "https://localhost:8080/",
     "height": 1360
    },
    "colab_type": "code",
    "id": "GV-5S35zLp2P",
    "outputId": "05614e09-a3f3-47f9-cd43-7b7abd4f8f07"
   },
   "outputs": [
    {
     "name": "stderr",
     "output_type": "stream",
     "text": [
      "\n",
      "  0%|          | 0/40 [00:00<?, ?it/s]\u001b[A\n",
      "  2%|▎         | 1/40 [00:36<23:41, 36.44s/it]\u001b[A\n",
      "  5%|▌         | 2/40 [01:03<21:20, 33.70s/it]\u001b[A\n",
      "  8%|▊         | 3/40 [02:16<28:05, 45.54s/it]\u001b[A\n",
      " 10%|█         | 4/40 [03:19<30:27, 50.75s/it]\u001b[A\n",
      " 12%|█▎        | 5/40 [03:37<23:53, 40.95s/it]\u001b[A\n",
      " 15%|█▌        | 6/40 [04:52<28:52, 50.96s/it]\u001b[A\n",
      " 18%|█▊        | 7/40 [06:04<31:36, 57.47s/it]\u001b[A\n",
      " 20%|██        | 8/40 [07:17<33:01, 61.92s/it]\u001b[A\n",
      " 22%|██▎       | 9/40 [07:49<27:19, 52.90s/it]\u001b[A\n",
      " 25%|██▌       | 10/40 [08:29<24:37, 49.26s/it]\u001b[A\n",
      " 28%|██▊       | 11/40 [09:43<27:18, 56.50s/it]\u001b[A\n",
      " 30%|███       | 12/40 [10:57<28:48, 61.73s/it]\u001b[A\n",
      " 32%|███▎      | 13/40 [11:52<26:58, 59.96s/it]\u001b[A\n",
      " 35%|███▌      | 14/40 [12:31<23:09, 53.44s/it]\u001b[A\n",
      " 38%|███▊      | 15/40 [13:44<24:44, 59.39s/it]\u001b[A\n",
      " 40%|████      | 16/40 [13:57<18:10, 45.45s/it]\u001b[A\n",
      " 42%|████▎     | 17/40 [14:38<16:53, 44.09s/it]\u001b[A\n",
      " 45%|████▌     | 18/40 [15:47<18:58, 51.74s/it]\u001b[A\n",
      " 48%|████▊     | 19/40 [16:25<16:36, 47.47s/it]\u001b[A\n",
      " 50%|█████     | 20/40 [17:39<18:27, 55.39s/it]\u001b[A\n",
      " 52%|█████▎    | 21/40 [18:52<19:12, 60.64s/it]\u001b[A\n",
      " 55%|█████▌    | 22/40 [19:52<18:09, 60.54s/it]\u001b[A\n",
      " 57%|█████▊    | 23/40 [21:05<18:12, 64.24s/it]\u001b[A\n",
      " 60%|██████    | 24/40 [22:04<16:41, 62.58s/it]\u001b[A\n",
      " 62%|██████▎   | 25/40 [22:15<11:48, 47.25s/it]\u001b[A\n",
      " 65%|██████▌   | 26/40 [23:11<11:38, 49.86s/it]\u001b[A\n",
      " 68%|██████▊   | 27/40 [23:39<09:21, 43.23s/it]\u001b[A\n",
      " 70%|███████   | 28/40 [24:39<09:39, 48.29s/it]\u001b[A\n",
      " 72%|███████▎  | 29/40 [25:51<10:11, 55.59s/it]\u001b[A\n",
      " 75%|███████▌  | 30/40 [27:04<10:06, 60.68s/it]\u001b[A\n",
      " 78%|███████▊  | 31/40 [28:17<09:39, 64.41s/it]\u001b[A\n",
      " 80%|████████  | 32/40 [29:30<08:55, 66.95s/it]\u001b[A\n",
      " 82%|████████▎ | 33/40 [30:33<07:39, 65.64s/it]\u001b[A\n",
      " 85%|████████▌ | 34/40 [31:39<06:34, 65.77s/it]\u001b[A\n",
      " 88%|████████▊ | 35/40 [31:57<04:17, 51.44s/it]\u001b[A\n",
      " 90%|█████████ | 36/40 [32:56<03:35, 53.82s/it]\u001b[A\n",
      " 92%|█████████▎| 37/40 [34:02<02:52, 57.50s/it]\u001b[A\n",
      " 95%|█████████▌| 38/40 [35:15<02:04, 62.10s/it]\u001b[A\n",
      " 98%|█████████▊| 39/40 [35:39<00:50, 50.64s/it]\u001b[A\n",
      "100%|██████████| 40/40 [36:51<00:00, 57.16s/it]\u001b[A\n",
      "\u001b[A"
     ]
    },
    {
     "name": "stdout",
     "output_type": "stream",
     "text": [
      "Output: \n",
      "\n",
      ">> Running HPatch evaluation for \u001b[34mresnet\u001b[0m\n",
      ">> Please wait, loading the descriptor files...\n",
      ">> Descriptor files loaded.\n",
      ">> Evaluating \u001b[32mverification\u001b[0m task\n",
      ">> \u001b[32mVerification\u001b[0m task finished in 326 secs  \n",
      "\u001b[32mVerification\u001b[0m task results:\n",
      "Mean Average Precision is 0.490459\n",
      "\n",
      "========================================\n",
      "Output: \n",
      "\n",
      ">> Running HPatch evaluation for \u001b[34mresnet\u001b[0m\n",
      ">> Please wait, loading the descriptor files...\n",
      ">> Descriptor files loaded.\n",
      ">> Evaluating \u001b[32mmatching\u001b[0m task\n",
      ">> \u001b[32mMatching\u001b[0m task finished in 133 secs  \n",
      "\u001b[32mMatching\u001b[0m task results:\n",
      "Mean Average Precision is 0.002654\n",
      "\n",
      "\n",
      "\n",
      "========================================\n",
      "Output: \n",
      "\n",
      ">> Running HPatch evaluation for \u001b[34mresnet\u001b[0m\n",
      ">> Please wait, loading the descriptor files...\n",
      ">> Descriptor files loaded.\n",
      ">> Evaluating \u001b[32mretrieval\u001b[0m task\n",
      ">> Please wait, computing distance matrix...\n",
      ">> Distance matrix done.\n",
      ">> \u001b[32mRetrieval\u001b[0m task finished in 255 secs  \n",
      "\u001b[32mRetrieval\u001b[0m task results:\n",
      "Mean Average Precision is 0.136337\n",
      "\n",
      "========================================\n"
     ]
    }
   ],
   "source": [
    "run_vmr('resnet', resnet_model, denoise_unet_model)"
   ]
  },
  {
   "cell_type": "markdown",
   "metadata": {
    "colab_type": "text",
    "id": "3FtcEn_xOsCe"
   },
   "source": [
    "# 8. Miscellaneous\n",
    "Plan\n",
    "1. Use full unet to denoise \n",
    " * Describe Unet as autoencoder and skipping neurones\n",
    " * Check loss and val loss\n",
    " * Check image quality, show figures \n",
    "2. Comment on the use of MAE, why MAE instead of MSE\n",
    "3. Use other models, such as ResNet, InceptionV3, 1 custom net"
   ]
  },
  {
   "cell_type": "markdown",
   "metadata": {
    "colab_type": "text",
    "id": "JbxLGG18Kjj5"
   },
   "source": [
    "You will also notice that the beginning of the name of each of those variables corresponds to the name of one of the BatchNormalization layers and that each layer has a moving_mean and a moving_variance. Indeed, fchollet is stating himself in a conversation on an issue in the keras-team repository that this is the normal behavior for the BatchNormalization layers:\n",
    "```\n",
    "batchnorm also maintains non-trainable weights, which are updated via layer updates (i.e. not through backprop): the mean and variance vectors.\n",
    "```\n",
    "TLTR: The number of none trainable weights of the model comes from the BatchNormalization layers whose mean and variance vectors are updated via layer updates instead of backpropagation and therefore are considered as none trainable parameters."
   ]
  },
  {
   "cell_type": "markdown",
   "metadata": {
    "colab_type": "text",
    "id": "M4pd4sJaZEDR"
   },
   "source": [
    "Not learning, with loss stagnant at 1.0"
   ]
  },
  {
   "cell_type": "markdown",
   "metadata": {
    "colab_type": "text",
    "id": "I43hnC6zAb3x"
   },
   "source": [
    "## 8.1 Old Deeper HardNet"
   ]
  },
  {
   "cell_type": "code",
   "execution_count": 0,
   "metadata": {
    "colab": {},
    "colab_type": "code",
    "id": "IdgNMJkrAbm6"
   },
   "outputs": [],
   "source": [
    "from keras.layers import Conv2D, BatchNormalization, LeakyReLU, add, Input, Activation\n",
    "\n",
    "def get_my_descriptor_model(shape):\n",
    "  \n",
    "  '''Architecture copies HardNet architecture'''\n",
    "  \n",
    "  init_weights = keras.initializers.he_normal()\n",
    "  descriptor_input = Input(shape)\n",
    "  \n",
    "#   descriptor_model = Sequential()\n",
    "  descriptor_model = Conv2D(32, 3, padding='same', input_shape=shape, use_bias = True, kernel_initializer=init_weights)(descriptor_input)\n",
    "  descriptor_model = BatchNormalization(axis = -1)(descriptor_model)\n",
    "  descriptor_model = Activation('relu')(descriptor_model)\n",
    "\n",
    "  descriptor_model = Conv2D(32, 3, padding='same', use_bias = True, kernel_initializer=init_weights)(descriptor_model)\n",
    "  descriptor_model = BatchNormalization(axis = -1)(descriptor_model)\n",
    "  descriptor_model = Activation('relu')(descriptor_model)\n",
    "\n",
    "  descriptor_model = Conv2D(64, 3, padding='same', strides=2, use_bias = True, kernel_initializer=init_weights)(descriptor_model)\n",
    "  descriptor_model = BatchNormalization(axis = -1)(descriptor_model)\n",
    "  descriptor_model = Activation('relu')(descriptor_model)\n",
    "\n",
    "  descriptor_model = Conv2D(64, 3, padding='same', use_bias = True, kernel_initializer=init_weights)(descriptor_model)\n",
    "  descriptor_model = BatchNormalization(axis = -1)(descriptor_model)\n",
    "  descriptor_model = Activation('relu')(descriptor_model)\n",
    "\n",
    "  descriptor_model = Conv2D(128, 3, padding='same', strides=2,  use_bias = True, kernel_initializer=init_weights)(descriptor_model)\n",
    "  descriptor_model = BatchNormalization(axis = -1)(descriptor_model)\n",
    "  descriptor_model = Activation('relu')(descriptor_model)\n",
    "\n",
    "  descriptor_model = Conv2D(128, 3, padding='same', use_bias = True, kernel_initializer=init_weights)(descriptor_model)\n",
    "  descriptor_model = BatchNormalization(axis = -1)(descriptor_model)\n",
    "  descriptor_model = Activation('relu')(descriptor_model)\n",
    "  descriptor_model = Dropout(0.3)(descriptor_model)\n",
    "  \n",
    "  descriptor_model = Conv2D(256, 3, padding='same', use_bias = True, kernel_initializer=init_weights)(descriptor_model)\n",
    "  descriptor_model = BatchNormalization(axis = -1)(descriptor_model)\n",
    "  descriptor_model = Activation('relu')(descriptor_model)\n",
    "  \n",
    "  descriptor_model = residual_block(descriptor_model, 256, 256)\n",
    "  \n",
    "  descriptor_model = Conv2D(128, 8, padding='valid', use_bias = True, kernel_initializer=init_weights)(descriptor_model)\n",
    "  \n",
    "  # Final descriptor reshape\n",
    "  descriptor_model = Reshape((128,))(descriptor_model)\n",
    "  \n",
    "#   descriptor_model.output\n",
    "  \n",
    "  return Model(descriptor_input, descriptor_model)\n",
    "\n",
    "\n",
    "def residual_block(y, nb_channels_in, nb_channels_out, _strides=(1, 1), _project_shortcut=False):\n",
    "\n",
    "    shortcut = y\n",
    "\n",
    "    y = Conv2D(nb_channels_in, kernel_size=(1, 1), strides=(1, 1), padding='same')(y)\n",
    "    y = BatchNormalization()(y)\n",
    "    y = LeakyReLU()(y)\n",
    "\n",
    "    y = Conv2D(nb_channels_in, kernel_size=(3, 3), strides=_strides, padding='same')(y)\n",
    "    y = BatchNormalization()(y)\n",
    "    y = LeakyReLU()(y)\n",
    "\n",
    "    y = Conv2D(nb_channels_out, kernel_size=(1, 1), strides=(1, 1), padding='same')(y)\n",
    "    y = BatchNormalization()(y)\n",
    "\n",
    "    # identity shortcuts used directly when the input and output are of the same dimensions\n",
    "    if _project_shortcut or _strides != (1, 1):\n",
    "        # when the dimensions increase projection shortcut is used to match dimensions (done by 1×1 convolutions)\n",
    "        # when the shortcuts go across feature maps of two sizes, they are performed with a stride of 2\n",
    "        shortcut = Conv2D(nb_channels_out, kernel_size=(1, 1), strides=_strides, padding='same')(shortcut)\n",
    "        shortcut = BatchNormalization()(shortcut)\n",
    "\n",
    "    y = add([shortcut, y])\n",
    "    y = LeakyReLU()(y)\n",
    "\n",
    "    return y"
   ]
  },
  {
   "cell_type": "code",
   "execution_count": 0,
   "metadata": {
    "colab": {
     "base_uri": "https://localhost:8080/",
     "height": 1343
    },
    "colab_type": "code",
    "id": "02HBPd85BUoW",
    "outputId": "2eca8481-a432-40d3-a0a5-179268d0552d"
   },
   "outputs": [
    {
     "name": "stdout",
     "output_type": "stream",
     "text": [
      "__________________________________________________________________________________________________\n",
      "Layer (type)                    Output Shape         Param #     Connected to                     \n",
      "==================================================================================================\n",
      "input_16 (InputLayer)           (None, 32, 32, 1)    0                                            \n",
      "__________________________________________________________________________________________________\n",
      "conv2d_696 (Conv2D)             (None, 32, 32, 32)   320         input_16[0][0]                   \n",
      "__________________________________________________________________________________________________\n",
      "batch_normalization_677 (BatchN (None, 32, 32, 32)   128         conv2d_696[0][0]                 \n",
      "__________________________________________________________________________________________________\n",
      "activation_647 (Activation)     (None, 32, 32, 32)   0           batch_normalization_677[0][0]    \n",
      "__________________________________________________________________________________________________\n",
      "conv2d_697 (Conv2D)             (None, 32, 32, 32)   9248        activation_647[0][0]             \n",
      "__________________________________________________________________________________________________\n",
      "batch_normalization_678 (BatchN (None, 32, 32, 32)   128         conv2d_697[0][0]                 \n",
      "__________________________________________________________________________________________________\n",
      "activation_648 (Activation)     (None, 32, 32, 32)   0           batch_normalization_678[0][0]    \n",
      "__________________________________________________________________________________________________\n",
      "conv2d_698 (Conv2D)             (None, 16, 16, 64)   18496       activation_648[0][0]             \n",
      "__________________________________________________________________________________________________\n",
      "batch_normalization_679 (BatchN (None, 16, 16, 64)   256         conv2d_698[0][0]                 \n",
      "__________________________________________________________________________________________________\n",
      "activation_649 (Activation)     (None, 16, 16, 64)   0           batch_normalization_679[0][0]    \n",
      "__________________________________________________________________________________________________\n",
      "conv2d_699 (Conv2D)             (None, 16, 16, 64)   36928       activation_649[0][0]             \n",
      "__________________________________________________________________________________________________\n",
      "batch_normalization_680 (BatchN (None, 16, 16, 64)   256         conv2d_699[0][0]                 \n",
      "__________________________________________________________________________________________________\n",
      "activation_650 (Activation)     (None, 16, 16, 64)   0           batch_normalization_680[0][0]    \n",
      "__________________________________________________________________________________________________\n",
      "conv2d_700 (Conv2D)             (None, 8, 8, 128)    73856       activation_650[0][0]             \n",
      "__________________________________________________________________________________________________\n",
      "batch_normalization_681 (BatchN (None, 8, 8, 128)    512         conv2d_700[0][0]                 \n",
      "__________________________________________________________________________________________________\n",
      "activation_651 (Activation)     (None, 8, 8, 128)    0           batch_normalization_681[0][0]    \n",
      "__________________________________________________________________________________________________\n",
      "conv2d_701 (Conv2D)             (None, 8, 8, 128)    147584      activation_651[0][0]             \n",
      "__________________________________________________________________________________________________\n",
      "batch_normalization_682 (BatchN (None, 8, 8, 128)    512         conv2d_701[0][0]                 \n",
      "__________________________________________________________________________________________________\n",
      "activation_652 (Activation)     (None, 8, 8, 128)    0           batch_normalization_682[0][0]    \n",
      "__________________________________________________________________________________________________\n",
      "dropout_15 (Dropout)            (None, 8, 8, 128)    0           activation_652[0][0]             \n",
      "__________________________________________________________________________________________________\n",
      "conv2d_702 (Conv2D)             (None, 8, 8, 256)    295168      dropout_15[0][0]                 \n",
      "__________________________________________________________________________________________________\n",
      "batch_normalization_683 (BatchN (None, 8, 8, 256)    1024        conv2d_702[0][0]                 \n",
      "__________________________________________________________________________________________________\n",
      "activation_653 (Activation)     (None, 8, 8, 256)    0           batch_normalization_683[0][0]    \n",
      "__________________________________________________________________________________________________\n",
      "conv2d_703 (Conv2D)             (None, 8, 8, 256)    65792       activation_653[0][0]             \n",
      "__________________________________________________________________________________________________\n",
      "batch_normalization_684 (BatchN (None, 8, 8, 256)    1024        conv2d_703[0][0]                 \n",
      "__________________________________________________________________________________________________\n",
      "leaky_re_lu_30 (LeakyReLU)      (None, 8, 8, 256)    0           batch_normalization_684[0][0]    \n",
      "__________________________________________________________________________________________________\n",
      "conv2d_704 (Conv2D)             (None, 8, 8, 256)    590080      leaky_re_lu_30[0][0]             \n",
      "__________________________________________________________________________________________________\n",
      "batch_normalization_685 (BatchN (None, 8, 8, 256)    1024        conv2d_704[0][0]                 \n",
      "__________________________________________________________________________________________________\n",
      "leaky_re_lu_31 (LeakyReLU)      (None, 8, 8, 256)    0           batch_normalization_685[0][0]    \n",
      "__________________________________________________________________________________________________\n",
      "conv2d_705 (Conv2D)             (None, 8, 8, 256)    65792       leaky_re_lu_31[0][0]             \n",
      "__________________________________________________________________________________________________\n",
      "batch_normalization_686 (BatchN (None, 8, 8, 256)    1024        conv2d_705[0][0]                 \n",
      "__________________________________________________________________________________________________\n",
      "add_11 (Add)                    (None, 8, 8, 256)    0           activation_653[0][0]             \n",
      "                                                                 batch_normalization_686[0][0]    \n",
      "__________________________________________________________________________________________________\n",
      "leaky_re_lu_32 (LeakyReLU)      (None, 8, 8, 256)    0           add_11[0][0]                     \n",
      "__________________________________________________________________________________________________\n",
      "conv2d_706 (Conv2D)             (None, 1, 1, 128)    2097280     leaky_re_lu_32[0][0]             \n",
      "__________________________________________________________________________________________________\n",
      "reshape_5 (Reshape)             (None, 128)          0           conv2d_706[0][0]                 \n",
      "==================================================================================================\n",
      "Total params: 3,406,432\n",
      "Trainable params: 3,403,488\n",
      "Non-trainable params: 2,944\n",
      "__________________________________________________________________________________________________\n"
     ]
    }
   ],
   "source": [
    "from keras.layers import Lambda\n",
    "shape = (32, 32, 1)\n",
    "\n",
    "xa = Input(shape=shape, name='a')\n",
    "xp = Input(shape=shape, name='p')\n",
    "xn = Input(shape=shape, name='n')\n",
    "my_descriptor_model = get_my_descriptor_model(shape)\n",
    "ea = my_descriptor_model(xa)\n",
    "ep = my_descriptor_model(xp)\n",
    "en = my_descriptor_model(xn)\n",
    "my_descriptor_model.summary()\n",
    "loss = Lambda(triplet_loss)([ea, ep, en])\n",
    "\n",
    "\n",
    "my_descriptor_model_trip = Model(inputs = [xa, xp, xn], outputs = loss)\n",
    "# sgd = keras.optimizers.SGD(lr = 0.1)\n",
    "my_descriptor_model_trip.compile(loss='mean_absolute_error', optimizer='adam')"
   ]
  },
  {
   "cell_type": "code",
   "execution_count": 0,
   "metadata": {
    "colab": {
     "base_uri": "https://localhost:8080/",
     "height": 3390
    },
    "colab_type": "code",
    "id": "3SkOJQrhBxfD",
    "outputId": "a04c42fb-5164-400a-f6b3-180c526fe829"
   },
   "outputs": [
    {
     "data": {
      "image/svg+xml": [
       "<svg height=\"2527pt\" viewBox=\"0.00 0.00 413.00 2527.00\" width=\"413pt\" xmlns=\"http://www.w3.org/2000/svg\" xmlns:xlink=\"http://www.w3.org/1999/xlink\">\n",
       "<g class=\"graph\" id=\"graph0\" transform=\"scale(1 1) rotate(0) translate(4 2523)\">\n",
       "<title>G</title>\n",
       "<polygon fill=\"#ffffff\" points=\"-4,4 -4,-2523 409,-2523 409,4 -4,4\" stroke=\"transparent\"/>\n",
       "<!-- 140698831542480 -->\n",
       "<g class=\"node\" id=\"node1\">\n",
       "<title>140698831542480</title>\n",
       "<polygon fill=\"none\" points=\"192,-2482.5 192,-2518.5 332,-2518.5 332,-2482.5 192,-2482.5\" stroke=\"#000000\"/>\n",
       "<text fill=\"#000000\" font-family=\"Times,serif\" font-size=\"14.00\" text-anchor=\"middle\" x=\"262\" y=\"-2496.8\">input_16: InputLayer</text>\n",
       "</g>\n",
       "<!-- 140698831543376 -->\n",
       "<g class=\"node\" id=\"node2\">\n",
       "<title>140698831543376</title>\n",
       "<polygon fill=\"none\" points=\"188,-2409.5 188,-2445.5 336,-2445.5 336,-2409.5 188,-2409.5\" stroke=\"#000000\"/>\n",
       "<text fill=\"#000000\" font-family=\"Times,serif\" font-size=\"14.00\" text-anchor=\"middle\" x=\"262\" y=\"-2423.8\">conv2d_696: Conv2D</text>\n",
       "</g>\n",
       "<!-- 140698831542480&#45;&gt;140698831543376 -->\n",
       "<g class=\"edge\" id=\"edge1\">\n",
       "<title>140698831542480-&gt;140698831543376</title>\n",
       "<path d=\"M262,-2482.4551C262,-2474.3828 262,-2464.6764 262,-2455.6817\" fill=\"none\" stroke=\"#000000\"/>\n",
       "<polygon fill=\"#000000\" points=\"265.5001,-2455.5903 262,-2445.5904 258.5001,-2455.5904 265.5001,-2455.5903\" stroke=\"#000000\"/>\n",
       "</g>\n",
       "<!-- 140698831541640 -->\n",
       "<g class=\"node\" id=\"node3\">\n",
       "<title>140698831541640</title>\n",
       "<polygon fill=\"none\" points=\"119,-2336.5 119,-2372.5 405,-2372.5 405,-2336.5 119,-2336.5\" stroke=\"#000000\"/>\n",
       "<text fill=\"#000000\" font-family=\"Times,serif\" font-size=\"14.00\" text-anchor=\"middle\" x=\"262\" y=\"-2350.8\">batch_normalization_677: BatchNormalization</text>\n",
       "</g>\n",
       "<!-- 140698831543376&#45;&gt;140698831541640 -->\n",
       "<g class=\"edge\" id=\"edge2\">\n",
       "<title>140698831543376-&gt;140698831541640</title>\n",
       "<path d=\"M262,-2409.4551C262,-2401.3828 262,-2391.6764 262,-2382.6817\" fill=\"none\" stroke=\"#000000\"/>\n",
       "<polygon fill=\"#000000\" points=\"265.5001,-2382.5903 262,-2372.5904 258.5001,-2382.5904 265.5001,-2382.5903\" stroke=\"#000000\"/>\n",
       "</g>\n",
       "<!-- 140698831541696 -->\n",
       "<g class=\"node\" id=\"node4\">\n",
       "<title>140698831541696</title>\n",
       "<polygon fill=\"none\" points=\"177.5,-2263.5 177.5,-2299.5 346.5,-2299.5 346.5,-2263.5 177.5,-2263.5\" stroke=\"#000000\"/>\n",
       "<text fill=\"#000000\" font-family=\"Times,serif\" font-size=\"14.00\" text-anchor=\"middle\" x=\"262\" y=\"-2277.8\">activation_647: Activation</text>\n",
       "</g>\n",
       "<!-- 140698831541640&#45;&gt;140698831541696 -->\n",
       "<g class=\"edge\" id=\"edge3\">\n",
       "<title>140698831541640-&gt;140698831541696</title>\n",
       "<path d=\"M262,-2336.4551C262,-2328.3828 262,-2318.6764 262,-2309.6817\" fill=\"none\" stroke=\"#000000\"/>\n",
       "<polygon fill=\"#000000\" points=\"265.5001,-2309.5903 262,-2299.5904 258.5001,-2309.5904 265.5001,-2309.5903\" stroke=\"#000000\"/>\n",
       "</g>\n",
       "<!-- 140698810822840 -->\n",
       "<g class=\"node\" id=\"node5\">\n",
       "<title>140698810822840</title>\n",
       "<polygon fill=\"none\" points=\"188,-2190.5 188,-2226.5 336,-2226.5 336,-2190.5 188,-2190.5\" stroke=\"#000000\"/>\n",
       "<text fill=\"#000000\" font-family=\"Times,serif\" font-size=\"14.00\" text-anchor=\"middle\" x=\"262\" y=\"-2204.8\">conv2d_697: Conv2D</text>\n",
       "</g>\n",
       "<!-- 140698831541696&#45;&gt;140698810822840 -->\n",
       "<g class=\"edge\" id=\"edge4\">\n",
       "<title>140698831541696-&gt;140698810822840</title>\n",
       "<path d=\"M262,-2263.4551C262,-2255.3828 262,-2245.6764 262,-2236.6817\" fill=\"none\" stroke=\"#000000\"/>\n",
       "<polygon fill=\"#000000\" points=\"265.5001,-2236.5903 262,-2226.5904 258.5001,-2236.5904 265.5001,-2236.5903\" stroke=\"#000000\"/>\n",
       "</g>\n",
       "<!-- 140698810641600 -->\n",
       "<g class=\"node\" id=\"node6\">\n",
       "<title>140698810641600</title>\n",
       "<polygon fill=\"none\" points=\"119,-2117.5 119,-2153.5 405,-2153.5 405,-2117.5 119,-2117.5\" stroke=\"#000000\"/>\n",
       "<text fill=\"#000000\" font-family=\"Times,serif\" font-size=\"14.00\" text-anchor=\"middle\" x=\"262\" y=\"-2131.8\">batch_normalization_678: BatchNormalization</text>\n",
       "</g>\n",
       "<!-- 140698810822840&#45;&gt;140698810641600 -->\n",
       "<g class=\"edge\" id=\"edge5\">\n",
       "<title>140698810822840-&gt;140698810641600</title>\n",
       "<path d=\"M262,-2190.4551C262,-2182.3828 262,-2172.6764 262,-2163.6817\" fill=\"none\" stroke=\"#000000\"/>\n",
       "<polygon fill=\"#000000\" points=\"265.5001,-2163.5903 262,-2153.5904 258.5001,-2163.5904 265.5001,-2163.5903\" stroke=\"#000000\"/>\n",
       "</g>\n",
       "<!-- 140698810531736 -->\n",
       "<g class=\"node\" id=\"node7\">\n",
       "<title>140698810531736</title>\n",
       "<polygon fill=\"none\" points=\"177.5,-2044.5 177.5,-2080.5 346.5,-2080.5 346.5,-2044.5 177.5,-2044.5\" stroke=\"#000000\"/>\n",
       "<text fill=\"#000000\" font-family=\"Times,serif\" font-size=\"14.00\" text-anchor=\"middle\" x=\"262\" y=\"-2058.8\">activation_648: Activation</text>\n",
       "</g>\n",
       "<!-- 140698810641600&#45;&gt;140698810531736 -->\n",
       "<g class=\"edge\" id=\"edge6\">\n",
       "<title>140698810641600-&gt;140698810531736</title>\n",
       "<path d=\"M262,-2117.4551C262,-2109.3828 262,-2099.6764 262,-2090.6817\" fill=\"none\" stroke=\"#000000\"/>\n",
       "<polygon fill=\"#000000\" points=\"265.5001,-2090.5903 262,-2080.5904 258.5001,-2090.5904 265.5001,-2090.5903\" stroke=\"#000000\"/>\n",
       "</g>\n",
       "<!-- 140698809344184 -->\n",
       "<g class=\"node\" id=\"node8\">\n",
       "<title>140698809344184</title>\n",
       "<polygon fill=\"none\" points=\"188,-1971.5 188,-2007.5 336,-2007.5 336,-1971.5 188,-1971.5\" stroke=\"#000000\"/>\n",
       "<text fill=\"#000000\" font-family=\"Times,serif\" font-size=\"14.00\" text-anchor=\"middle\" x=\"262\" y=\"-1985.8\">conv2d_698: Conv2D</text>\n",
       "</g>\n",
       "<!-- 140698810531736&#45;&gt;140698809344184 -->\n",
       "<g class=\"edge\" id=\"edge7\">\n",
       "<title>140698810531736-&gt;140698809344184</title>\n",
       "<path d=\"M262,-2044.4551C262,-2036.3828 262,-2026.6764 262,-2017.6817\" fill=\"none\" stroke=\"#000000\"/>\n",
       "<polygon fill=\"#000000\" points=\"265.5001,-2017.5903 262,-2007.5904 258.5001,-2017.5904 265.5001,-2017.5903\" stroke=\"#000000\"/>\n",
       "</g>\n",
       "<!-- 140698809674664 -->\n",
       "<g class=\"node\" id=\"node9\">\n",
       "<title>140698809674664</title>\n",
       "<polygon fill=\"none\" points=\"119,-1898.5 119,-1934.5 405,-1934.5 405,-1898.5 119,-1898.5\" stroke=\"#000000\"/>\n",
       "<text fill=\"#000000\" font-family=\"Times,serif\" font-size=\"14.00\" text-anchor=\"middle\" x=\"262\" y=\"-1912.8\">batch_normalization_679: BatchNormalization</text>\n",
       "</g>\n",
       "<!-- 140698809344184&#45;&gt;140698809674664 -->\n",
       "<g class=\"edge\" id=\"edge8\">\n",
       "<title>140698809344184-&gt;140698809674664</title>\n",
       "<path d=\"M262,-1971.4551C262,-1963.3828 262,-1953.6764 262,-1944.6817\" fill=\"none\" stroke=\"#000000\"/>\n",
       "<polygon fill=\"#000000\" points=\"265.5001,-1944.5903 262,-1934.5904 258.5001,-1944.5904 265.5001,-1944.5903\" stroke=\"#000000\"/>\n",
       "</g>\n",
       "<!-- 140698809063128 -->\n",
       "<g class=\"node\" id=\"node10\">\n",
       "<title>140698809063128</title>\n",
       "<polygon fill=\"none\" points=\"177.5,-1825.5 177.5,-1861.5 346.5,-1861.5 346.5,-1825.5 177.5,-1825.5\" stroke=\"#000000\"/>\n",
       "<text fill=\"#000000\" font-family=\"Times,serif\" font-size=\"14.00\" text-anchor=\"middle\" x=\"262\" y=\"-1839.8\">activation_649: Activation</text>\n",
       "</g>\n",
       "<!-- 140698809674664&#45;&gt;140698809063128 -->\n",
       "<g class=\"edge\" id=\"edge9\">\n",
       "<title>140698809674664-&gt;140698809063128</title>\n",
       "<path d=\"M262,-1898.4551C262,-1890.3828 262,-1880.6764 262,-1871.6817\" fill=\"none\" stroke=\"#000000\"/>\n",
       "<polygon fill=\"#000000\" points=\"265.5001,-1871.5903 262,-1861.5904 258.5001,-1871.5904 265.5001,-1871.5903\" stroke=\"#000000\"/>\n",
       "</g>\n",
       "<!-- 140698808398008 -->\n",
       "<g class=\"node\" id=\"node11\">\n",
       "<title>140698808398008</title>\n",
       "<polygon fill=\"none\" points=\"188,-1752.5 188,-1788.5 336,-1788.5 336,-1752.5 188,-1752.5\" stroke=\"#000000\"/>\n",
       "<text fill=\"#000000\" font-family=\"Times,serif\" font-size=\"14.00\" text-anchor=\"middle\" x=\"262\" y=\"-1766.8\">conv2d_699: Conv2D</text>\n",
       "</g>\n",
       "<!-- 140698809063128&#45;&gt;140698808398008 -->\n",
       "<g class=\"edge\" id=\"edge10\">\n",
       "<title>140698809063128-&gt;140698808398008</title>\n",
       "<path d=\"M262,-1825.4551C262,-1817.3828 262,-1807.6764 262,-1798.6817\" fill=\"none\" stroke=\"#000000\"/>\n",
       "<polygon fill=\"#000000\" points=\"265.5001,-1798.5903 262,-1788.5904 258.5001,-1798.5904 265.5001,-1798.5903\" stroke=\"#000000\"/>\n",
       "</g>\n",
       "<!-- 140698808720520 -->\n",
       "<g class=\"node\" id=\"node12\">\n",
       "<title>140698808720520</title>\n",
       "<polygon fill=\"none\" points=\"119,-1679.5 119,-1715.5 405,-1715.5 405,-1679.5 119,-1679.5\" stroke=\"#000000\"/>\n",
       "<text fill=\"#000000\" font-family=\"Times,serif\" font-size=\"14.00\" text-anchor=\"middle\" x=\"262\" y=\"-1693.8\">batch_normalization_680: BatchNormalization</text>\n",
       "</g>\n",
       "<!-- 140698808398008&#45;&gt;140698808720520 -->\n",
       "<g class=\"edge\" id=\"edge11\">\n",
       "<title>140698808398008-&gt;140698808720520</title>\n",
       "<path d=\"M262,-1752.4551C262,-1744.3828 262,-1734.6764 262,-1725.6817\" fill=\"none\" stroke=\"#000000\"/>\n",
       "<polygon fill=\"#000000\" points=\"265.5001,-1725.5903 262,-1715.5904 258.5001,-1725.5904 265.5001,-1725.5903\" stroke=\"#000000\"/>\n",
       "</g>\n",
       "<!-- 140698808109040 -->\n",
       "<g class=\"node\" id=\"node13\">\n",
       "<title>140698808109040</title>\n",
       "<polygon fill=\"none\" points=\"177.5,-1606.5 177.5,-1642.5 346.5,-1642.5 346.5,-1606.5 177.5,-1606.5\" stroke=\"#000000\"/>\n",
       "<text fill=\"#000000\" font-family=\"Times,serif\" font-size=\"14.00\" text-anchor=\"middle\" x=\"262\" y=\"-1620.8\">activation_650: Activation</text>\n",
       "</g>\n",
       "<!-- 140698808720520&#45;&gt;140698808109040 -->\n",
       "<g class=\"edge\" id=\"edge12\">\n",
       "<title>140698808720520-&gt;140698808109040</title>\n",
       "<path d=\"M262,-1679.4551C262,-1671.3828 262,-1661.6764 262,-1652.6817\" fill=\"none\" stroke=\"#000000\"/>\n",
       "<polygon fill=\"#000000\" points=\"265.5001,-1652.5903 262,-1642.5904 258.5001,-1652.5904 265.5001,-1652.5903\" stroke=\"#000000\"/>\n",
       "</g>\n",
       "<!-- 140698807358184 -->\n",
       "<g class=\"node\" id=\"node14\">\n",
       "<title>140698807358184</title>\n",
       "<polygon fill=\"none\" points=\"188,-1533.5 188,-1569.5 336,-1569.5 336,-1533.5 188,-1533.5\" stroke=\"#000000\"/>\n",
       "<text fill=\"#000000\" font-family=\"Times,serif\" font-size=\"14.00\" text-anchor=\"middle\" x=\"262\" y=\"-1547.8\">conv2d_700: Conv2D</text>\n",
       "</g>\n",
       "<!-- 140698808109040&#45;&gt;140698807358184 -->\n",
       "<g class=\"edge\" id=\"edge13\">\n",
       "<title>140698808109040-&gt;140698807358184</title>\n",
       "<path d=\"M262,-1606.4551C262,-1598.3828 262,-1588.6764 262,-1579.6817\" fill=\"none\" stroke=\"#000000\"/>\n",
       "<polygon fill=\"#000000\" points=\"265.5001,-1579.5903 262,-1569.5904 258.5001,-1579.5904 265.5001,-1579.5903\" stroke=\"#000000\"/>\n",
       "</g>\n",
       "<!-- 140698807246240 -->\n",
       "<g class=\"node\" id=\"node15\">\n",
       "<title>140698807246240</title>\n",
       "<polygon fill=\"none\" points=\"119,-1460.5 119,-1496.5 405,-1496.5 405,-1460.5 119,-1460.5\" stroke=\"#000000\"/>\n",
       "<text fill=\"#000000\" font-family=\"Times,serif\" font-size=\"14.00\" text-anchor=\"middle\" x=\"262\" y=\"-1474.8\">batch_normalization_681: BatchNormalization</text>\n",
       "</g>\n",
       "<!-- 140698807358184&#45;&gt;140698807246240 -->\n",
       "<g class=\"edge\" id=\"edge14\">\n",
       "<title>140698807358184-&gt;140698807246240</title>\n",
       "<path d=\"M262,-1533.4551C262,-1525.3828 262,-1515.6764 262,-1506.6817\" fill=\"none\" stroke=\"#000000\"/>\n",
       "<polygon fill=\"#000000\" points=\"265.5001,-1506.5903 262,-1496.5904 258.5001,-1506.5904 265.5001,-1506.5903\" stroke=\"#000000\"/>\n",
       "</g>\n",
       "<!-- 140698806304216 -->\n",
       "<g class=\"node\" id=\"node16\">\n",
       "<title>140698806304216</title>\n",
       "<polygon fill=\"none\" points=\"177.5,-1387.5 177.5,-1423.5 346.5,-1423.5 346.5,-1387.5 177.5,-1387.5\" stroke=\"#000000\"/>\n",
       "<text fill=\"#000000\" font-family=\"Times,serif\" font-size=\"14.00\" text-anchor=\"middle\" x=\"262\" y=\"-1401.8\">activation_651: Activation</text>\n",
       "</g>\n",
       "<!-- 140698807246240&#45;&gt;140698806304216 -->\n",
       "<g class=\"edge\" id=\"edge15\">\n",
       "<title>140698807246240-&gt;140698806304216</title>\n",
       "<path d=\"M262,-1460.4551C262,-1452.3828 262,-1442.6764 262,-1433.6817\" fill=\"none\" stroke=\"#000000\"/>\n",
       "<polygon fill=\"#000000\" points=\"265.5001,-1433.5903 262,-1423.5904 258.5001,-1433.5904 265.5001,-1433.5903\" stroke=\"#000000\"/>\n",
       "</g>\n",
       "<!-- 140698805975416 -->\n",
       "<g class=\"node\" id=\"node17\">\n",
       "<title>140698805975416</title>\n",
       "<polygon fill=\"none\" points=\"188,-1314.5 188,-1350.5 336,-1350.5 336,-1314.5 188,-1314.5\" stroke=\"#000000\"/>\n",
       "<text fill=\"#000000\" font-family=\"Times,serif\" font-size=\"14.00\" text-anchor=\"middle\" x=\"262\" y=\"-1328.8\">conv2d_701: Conv2D</text>\n",
       "</g>\n",
       "<!-- 140698806304216&#45;&gt;140698805975416 -->\n",
       "<g class=\"edge\" id=\"edge16\">\n",
       "<title>140698806304216-&gt;140698805975416</title>\n",
       "<path d=\"M262,-1387.4551C262,-1379.3828 262,-1369.6764 262,-1360.6817\" fill=\"none\" stroke=\"#000000\"/>\n",
       "<polygon fill=\"#000000\" points=\"265.5001,-1360.5903 262,-1350.5904 258.5001,-1360.5904 265.5001,-1360.5903\" stroke=\"#000000\"/>\n",
       "</g>\n",
       "<!-- 140698806396184 -->\n",
       "<g class=\"node\" id=\"node18\">\n",
       "<title>140698806396184</title>\n",
       "<polygon fill=\"none\" points=\"119,-1241.5 119,-1277.5 405,-1277.5 405,-1241.5 119,-1241.5\" stroke=\"#000000\"/>\n",
       "<text fill=\"#000000\" font-family=\"Times,serif\" font-size=\"14.00\" text-anchor=\"middle\" x=\"262\" y=\"-1255.8\">batch_normalization_682: BatchNormalization</text>\n",
       "</g>\n",
       "<!-- 140698805975416&#45;&gt;140698806396184 -->\n",
       "<g class=\"edge\" id=\"edge17\">\n",
       "<title>140698805975416-&gt;140698806396184</title>\n",
       "<path d=\"M262,-1314.4551C262,-1306.3828 262,-1296.6764 262,-1287.6817\" fill=\"none\" stroke=\"#000000\"/>\n",
       "<polygon fill=\"#000000\" points=\"265.5001,-1287.5903 262,-1277.5904 258.5001,-1287.5904 265.5001,-1287.5903\" stroke=\"#000000\"/>\n",
       "</g>\n",
       "<!-- 140698805677640 -->\n",
       "<g class=\"node\" id=\"node19\">\n",
       "<title>140698805677640</title>\n",
       "<polygon fill=\"none\" points=\"177.5,-1168.5 177.5,-1204.5 346.5,-1204.5 346.5,-1168.5 177.5,-1168.5\" stroke=\"#000000\"/>\n",
       "<text fill=\"#000000\" font-family=\"Times,serif\" font-size=\"14.00\" text-anchor=\"middle\" x=\"262\" y=\"-1182.8\">activation_652: Activation</text>\n",
       "</g>\n",
       "<!-- 140698806396184&#45;&gt;140698805677640 -->\n",
       "<g class=\"edge\" id=\"edge18\">\n",
       "<title>140698806396184-&gt;140698805677640</title>\n",
       "<path d=\"M262,-1241.4551C262,-1233.3828 262,-1223.6764 262,-1214.6817\" fill=\"none\" stroke=\"#000000\"/>\n",
       "<polygon fill=\"#000000\" points=\"265.5001,-1214.5903 262,-1204.5904 258.5001,-1214.5904 265.5001,-1214.5903\" stroke=\"#000000\"/>\n",
       "</g>\n",
       "<!-- 140698805040128 -->\n",
       "<g class=\"node\" id=\"node20\">\n",
       "<title>140698805040128</title>\n",
       "<polygon fill=\"none\" points=\"191.5,-1095.5 191.5,-1131.5 332.5,-1131.5 332.5,-1095.5 191.5,-1095.5\" stroke=\"#000000\"/>\n",
       "<text fill=\"#000000\" font-family=\"Times,serif\" font-size=\"14.00\" text-anchor=\"middle\" x=\"262\" y=\"-1109.8\">dropout_15: Dropout</text>\n",
       "</g>\n",
       "<!-- 140698805677640&#45;&gt;140698805040128 -->\n",
       "<g class=\"edge\" id=\"edge19\">\n",
       "<title>140698805677640-&gt;140698805040128</title>\n",
       "<path d=\"M262,-1168.4551C262,-1160.3828 262,-1150.6764 262,-1141.6817\" fill=\"none\" stroke=\"#000000\"/>\n",
       "<polygon fill=\"#000000\" points=\"265.5001,-1141.5903 262,-1131.5904 258.5001,-1141.5904 265.5001,-1141.5903\" stroke=\"#000000\"/>\n",
       "</g>\n",
       "<!-- 140698804937056 -->\n",
       "<g class=\"node\" id=\"node21\">\n",
       "<title>140698804937056</title>\n",
       "<polygon fill=\"none\" points=\"188,-1022.5 188,-1058.5 336,-1058.5 336,-1022.5 188,-1022.5\" stroke=\"#000000\"/>\n",
       "<text fill=\"#000000\" font-family=\"Times,serif\" font-size=\"14.00\" text-anchor=\"middle\" x=\"262\" y=\"-1036.8\">conv2d_702: Conv2D</text>\n",
       "</g>\n",
       "<!-- 140698805040128&#45;&gt;140698804937056 -->\n",
       "<g class=\"edge\" id=\"edge20\">\n",
       "<title>140698805040128-&gt;140698804937056</title>\n",
       "<path d=\"M262,-1095.4551C262,-1087.3828 262,-1077.6764 262,-1068.6817\" fill=\"none\" stroke=\"#000000\"/>\n",
       "<polygon fill=\"#000000\" points=\"265.5001,-1068.5903 262,-1058.5904 258.5001,-1068.5904 265.5001,-1068.5903\" stroke=\"#000000\"/>\n",
       "</g>\n",
       "<!-- 140698804738872 -->\n",
       "<g class=\"node\" id=\"node22\">\n",
       "<title>140698804738872</title>\n",
       "<polygon fill=\"none\" points=\"119,-949.5 119,-985.5 405,-985.5 405,-949.5 119,-949.5\" stroke=\"#000000\"/>\n",
       "<text fill=\"#000000\" font-family=\"Times,serif\" font-size=\"14.00\" text-anchor=\"middle\" x=\"262\" y=\"-963.8\">batch_normalization_683: BatchNormalization</text>\n",
       "</g>\n",
       "<!-- 140698804937056&#45;&gt;140698804738872 -->\n",
       "<g class=\"edge\" id=\"edge21\">\n",
       "<title>140698804937056-&gt;140698804738872</title>\n",
       "<path d=\"M262,-1022.4551C262,-1014.3828 262,-1004.6764 262,-995.6817\" fill=\"none\" stroke=\"#000000\"/>\n",
       "<polygon fill=\"#000000\" points=\"265.5001,-995.5903 262,-985.5904 258.5001,-995.5904 265.5001,-995.5903\" stroke=\"#000000\"/>\n",
       "</g>\n",
       "<!-- 140698804335728 -->\n",
       "<g class=\"node\" id=\"node23\">\n",
       "<title>140698804335728</title>\n",
       "<polygon fill=\"none\" points=\"177.5,-876.5 177.5,-912.5 346.5,-912.5 346.5,-876.5 177.5,-876.5\" stroke=\"#000000\"/>\n",
       "<text fill=\"#000000\" font-family=\"Times,serif\" font-size=\"14.00\" text-anchor=\"middle\" x=\"262\" y=\"-890.8\">activation_653: Activation</text>\n",
       "</g>\n",
       "<!-- 140698804738872&#45;&gt;140698804335728 -->\n",
       "<g class=\"edge\" id=\"edge22\">\n",
       "<title>140698804738872-&gt;140698804335728</title>\n",
       "<path d=\"M262,-949.4551C262,-941.3828 262,-931.6764 262,-922.6817\" fill=\"none\" stroke=\"#000000\"/>\n",
       "<polygon fill=\"#000000\" points=\"265.5001,-922.5903 262,-912.5904 258.5001,-922.5904 265.5001,-922.5903\" stroke=\"#000000\"/>\n",
       "</g>\n",
       "<!-- 140698803282664 -->\n",
       "<g class=\"node\" id=\"node24\">\n",
       "<title>140698803282664</title>\n",
       "<polygon fill=\"none\" points=\"103,-803.5 103,-839.5 251,-839.5 251,-803.5 103,-803.5\" stroke=\"#000000\"/>\n",
       "<text fill=\"#000000\" font-family=\"Times,serif\" font-size=\"14.00\" text-anchor=\"middle\" x=\"177\" y=\"-817.8\">conv2d_703: Conv2D</text>\n",
       "</g>\n",
       "<!-- 140698804335728&#45;&gt;140698803282664 -->\n",
       "<g class=\"edge\" id=\"edge23\">\n",
       "<title>140698804335728-&gt;140698803282664</title>\n",
       "<path d=\"M240.9888,-876.4551C230.3636,-867.3299 217.3068,-856.1165 205.7645,-846.2036\" fill=\"none\" stroke=\"#000000\"/>\n",
       "<polygon fill=\"#000000\" points=\"207.9308,-843.4505 198.0641,-839.5904 203.3701,-848.7609 207.9308,-843.4505\" stroke=\"#000000\"/>\n",
       "</g>\n",
       "<!-- 140698800732536 -->\n",
       "<g class=\"node\" id=\"node32\">\n",
       "<title>140698800732536</title>\n",
       "<polygon fill=\"none\" points=\"182,-219.5 182,-255.5 274,-255.5 274,-219.5 182,-219.5\" stroke=\"#000000\"/>\n",
       "<text fill=\"#000000\" font-family=\"Times,serif\" font-size=\"14.00\" text-anchor=\"middle\" x=\"228\" y=\"-233.8\">add_11: Add</text>\n",
       "</g>\n",
       "<!-- 140698804335728&#45;&gt;140698800732536 -->\n",
       "<g class=\"edge\" id=\"edge31\">\n",
       "<title>140698804335728-&gt;140698800732536</title>\n",
       "<path d=\"M273.0279,-876.3429C288.292,-849.4369 314,-796.9325 314,-748.5 314,-748.5 314,-748.5 314,-383.5 314,-341.9658 316.5793,-327.4883 295,-292 287.923,-280.3614 277.4317,-270.12 266.8405,-261.7498\" fill=\"none\" stroke=\"#000000\"/>\n",
       "<polygon fill=\"#000000\" points=\"268.8817,-258.9059 258.7767,-255.7217 264.6905,-264.5125 268.8817,-258.9059\" stroke=\"#000000\"/>\n",
       "</g>\n",
       "<!-- 140698803522864 -->\n",
       "<g class=\"node\" id=\"node25\">\n",
       "<title>140698803522864</title>\n",
       "<polygon fill=\"none\" points=\"0,-730.5 0,-766.5 286,-766.5 286,-730.5 0,-730.5\" stroke=\"#000000\"/>\n",
       "<text fill=\"#000000\" font-family=\"Times,serif\" font-size=\"14.00\" text-anchor=\"middle\" x=\"143\" y=\"-744.8\">batch_normalization_684: BatchNormalization</text>\n",
       "</g>\n",
       "<!-- 140698803282664&#45;&gt;140698803522864 -->\n",
       "<g class=\"edge\" id=\"edge24\">\n",
       "<title>140698803282664-&gt;140698803522864</title>\n",
       "<path d=\"M168.5955,-803.4551C164.7132,-795.1196 160.0194,-785.0416 155.717,-775.8042\" fill=\"none\" stroke=\"#000000\"/>\n",
       "<polygon fill=\"#000000\" points=\"158.8205,-774.1776 151.4256,-766.5904 152.475,-777.1331 158.8205,-774.1776\" stroke=\"#000000\"/>\n",
       "</g>\n",
       "<!-- 140698803115288 -->\n",
       "<g class=\"node\" id=\"node26\">\n",
       "<title>140698803115288</title>\n",
       "<polygon fill=\"none\" points=\"50.5,-657.5 50.5,-693.5 235.5,-693.5 235.5,-657.5 50.5,-657.5\" stroke=\"#000000\"/>\n",
       "<text fill=\"#000000\" font-family=\"Times,serif\" font-size=\"14.00\" text-anchor=\"middle\" x=\"143\" y=\"-671.8\">leaky_re_lu_30: LeakyReLU</text>\n",
       "</g>\n",
       "<!-- 140698803522864&#45;&gt;140698803115288 -->\n",
       "<g class=\"edge\" id=\"edge25\">\n",
       "<title>140698803522864-&gt;140698803115288</title>\n",
       "<path d=\"M143,-730.4551C143,-722.3828 143,-712.6764 143,-703.6817\" fill=\"none\" stroke=\"#000000\"/>\n",
       "<polygon fill=\"#000000\" points=\"146.5001,-703.5903 143,-693.5904 139.5001,-703.5904 146.5001,-703.5903\" stroke=\"#000000\"/>\n",
       "</g>\n",
       "<!-- 140698802332840 -->\n",
       "<g class=\"node\" id=\"node27\">\n",
       "<title>140698802332840</title>\n",
       "<polygon fill=\"none\" points=\"69,-584.5 69,-620.5 217,-620.5 217,-584.5 69,-584.5\" stroke=\"#000000\"/>\n",
       "<text fill=\"#000000\" font-family=\"Times,serif\" font-size=\"14.00\" text-anchor=\"middle\" x=\"143\" y=\"-598.8\">conv2d_704: Conv2D</text>\n",
       "</g>\n",
       "<!-- 140698803115288&#45;&gt;140698802332840 -->\n",
       "<g class=\"edge\" id=\"edge26\">\n",
       "<title>140698803115288-&gt;140698802332840</title>\n",
       "<path d=\"M143,-657.4551C143,-649.3828 143,-639.6764 143,-630.6817\" fill=\"none\" stroke=\"#000000\"/>\n",
       "<polygon fill=\"#000000\" points=\"146.5001,-630.5903 143,-620.5904 139.5001,-630.5904 146.5001,-630.5903\" stroke=\"#000000\"/>\n",
       "</g>\n",
       "<!-- 140698802055488 -->\n",
       "<g class=\"node\" id=\"node28\">\n",
       "<title>140698802055488</title>\n",
       "<polygon fill=\"none\" points=\"0,-511.5 0,-547.5 286,-547.5 286,-511.5 0,-511.5\" stroke=\"#000000\"/>\n",
       "<text fill=\"#000000\" font-family=\"Times,serif\" font-size=\"14.00\" text-anchor=\"middle\" x=\"143\" y=\"-525.8\">batch_normalization_685: BatchNormalization</text>\n",
       "</g>\n",
       "<!-- 140698802332840&#45;&gt;140698802055488 -->\n",
       "<g class=\"edge\" id=\"edge27\">\n",
       "<title>140698802332840-&gt;140698802055488</title>\n",
       "<path d=\"M143,-584.4551C143,-576.3828 143,-566.6764 143,-557.6817\" fill=\"none\" stroke=\"#000000\"/>\n",
       "<polygon fill=\"#000000\" points=\"146.5001,-557.5903 143,-547.5904 139.5001,-557.5904 146.5001,-557.5903\" stroke=\"#000000\"/>\n",
       "</g>\n",
       "<!-- 140698802182800 -->\n",
       "<g class=\"node\" id=\"node29\">\n",
       "<title>140698802182800</title>\n",
       "<polygon fill=\"none\" points=\"50.5,-438.5 50.5,-474.5 235.5,-474.5 235.5,-438.5 50.5,-438.5\" stroke=\"#000000\"/>\n",
       "<text fill=\"#000000\" font-family=\"Times,serif\" font-size=\"14.00\" text-anchor=\"middle\" x=\"143\" y=\"-452.8\">leaky_re_lu_31: LeakyReLU</text>\n",
       "</g>\n",
       "<!-- 140698802055488&#45;&gt;140698802182800 -->\n",
       "<g class=\"edge\" id=\"edge28\">\n",
       "<title>140698802055488-&gt;140698802182800</title>\n",
       "<path d=\"M143,-511.4551C143,-503.3828 143,-493.6764 143,-484.6817\" fill=\"none\" stroke=\"#000000\"/>\n",
       "<polygon fill=\"#000000\" points=\"146.5001,-484.5903 143,-474.5904 139.5001,-484.5904 146.5001,-484.5903\" stroke=\"#000000\"/>\n",
       "</g>\n",
       "<!-- 140698801196560 -->\n",
       "<g class=\"node\" id=\"node30\">\n",
       "<title>140698801196560</title>\n",
       "<polygon fill=\"none\" points=\"69,-365.5 69,-401.5 217,-401.5 217,-365.5 69,-365.5\" stroke=\"#000000\"/>\n",
       "<text fill=\"#000000\" font-family=\"Times,serif\" font-size=\"14.00\" text-anchor=\"middle\" x=\"143\" y=\"-379.8\">conv2d_705: Conv2D</text>\n",
       "</g>\n",
       "<!-- 140698802182800&#45;&gt;140698801196560 -->\n",
       "<g class=\"edge\" id=\"edge29\">\n",
       "<title>140698802182800-&gt;140698801196560</title>\n",
       "<path d=\"M143,-438.4551C143,-430.3828 143,-420.6764 143,-411.6817\" fill=\"none\" stroke=\"#000000\"/>\n",
       "<polygon fill=\"#000000\" points=\"146.5001,-411.5903 143,-401.5904 139.5001,-411.5904 146.5001,-411.5903\" stroke=\"#000000\"/>\n",
       "</g>\n",
       "<!-- 140698801113856 -->\n",
       "<g class=\"node\" id=\"node31\">\n",
       "<title>140698801113856</title>\n",
       "<polygon fill=\"none\" points=\"0,-292.5 0,-328.5 286,-328.5 286,-292.5 0,-292.5\" stroke=\"#000000\"/>\n",
       "<text fill=\"#000000\" font-family=\"Times,serif\" font-size=\"14.00\" text-anchor=\"middle\" x=\"143\" y=\"-306.8\">batch_normalization_686: BatchNormalization</text>\n",
       "</g>\n",
       "<!-- 140698801196560&#45;&gt;140698801113856 -->\n",
       "<g class=\"edge\" id=\"edge30\">\n",
       "<title>140698801196560-&gt;140698801113856</title>\n",
       "<path d=\"M143,-365.4551C143,-357.3828 143,-347.6764 143,-338.6817\" fill=\"none\" stroke=\"#000000\"/>\n",
       "<polygon fill=\"#000000\" points=\"146.5001,-338.5903 143,-328.5904 139.5001,-338.5904 146.5001,-338.5903\" stroke=\"#000000\"/>\n",
       "</g>\n",
       "<!-- 140698801113856&#45;&gt;140698800732536 -->\n",
       "<g class=\"edge\" id=\"edge32\">\n",
       "<title>140698801113856-&gt;140698800732536</title>\n",
       "<path d=\"M164.0112,-292.4551C174.6364,-283.3299 187.6932,-272.1165 199.2355,-262.2036\" fill=\"none\" stroke=\"#000000\"/>\n",
       "<polygon fill=\"#000000\" points=\"201.6299,-264.7609 206.9359,-255.5904 197.0692,-259.4505 201.6299,-264.7609\" stroke=\"#000000\"/>\n",
       "</g>\n",
       "<!-- 140698800048448 -->\n",
       "<g class=\"node\" id=\"node33\">\n",
       "<title>140698800048448</title>\n",
       "<polygon fill=\"none\" points=\"135.5,-146.5 135.5,-182.5 320.5,-182.5 320.5,-146.5 135.5,-146.5\" stroke=\"#000000\"/>\n",
       "<text fill=\"#000000\" font-family=\"Times,serif\" font-size=\"14.00\" text-anchor=\"middle\" x=\"228\" y=\"-160.8\">leaky_re_lu_32: LeakyReLU</text>\n",
       "</g>\n",
       "<!-- 140698800732536&#45;&gt;140698800048448 -->\n",
       "<g class=\"edge\" id=\"edge33\">\n",
       "<title>140698800732536-&gt;140698800048448</title>\n",
       "<path d=\"M228,-219.4551C228,-211.3828 228,-201.6764 228,-192.6817\" fill=\"none\" stroke=\"#000000\"/>\n",
       "<polygon fill=\"#000000\" points=\"231.5001,-192.5903 228,-182.5904 224.5001,-192.5904 231.5001,-192.5903\" stroke=\"#000000\"/>\n",
       "</g>\n",
       "<!-- 140698799643672 -->\n",
       "<g class=\"node\" id=\"node34\">\n",
       "<title>140698799643672</title>\n",
       "<polygon fill=\"none\" points=\"154,-73.5 154,-109.5 302,-109.5 302,-73.5 154,-73.5\" stroke=\"#000000\"/>\n",
       "<text fill=\"#000000\" font-family=\"Times,serif\" font-size=\"14.00\" text-anchor=\"middle\" x=\"228\" y=\"-87.8\">conv2d_706: Conv2D</text>\n",
       "</g>\n",
       "<!-- 140698800048448&#45;&gt;140698799643672 -->\n",
       "<g class=\"edge\" id=\"edge34\">\n",
       "<title>140698800048448-&gt;140698799643672</title>\n",
       "<path d=\"M228,-146.4551C228,-138.3828 228,-128.6764 228,-119.6817\" fill=\"none\" stroke=\"#000000\"/>\n",
       "<polygon fill=\"#000000\" points=\"231.5001,-119.5903 228,-109.5904 224.5001,-119.5904 231.5001,-119.5903\" stroke=\"#000000\"/>\n",
       "</g>\n",
       "<!-- 140698799940832 -->\n",
       "<g class=\"node\" id=\"node35\">\n",
       "<title>140698799940832</title>\n",
       "<polygon fill=\"none\" points=\"163,-.5 163,-36.5 293,-36.5 293,-.5 163,-.5\" stroke=\"#000000\"/>\n",
       "<text fill=\"#000000\" font-family=\"Times,serif\" font-size=\"14.00\" text-anchor=\"middle\" x=\"228\" y=\"-14.8\">reshape_5: Reshape</text>\n",
       "</g>\n",
       "<!-- 140698799643672&#45;&gt;140698799940832 -->\n",
       "<g class=\"edge\" id=\"edge35\">\n",
       "<title>140698799643672-&gt;140698799940832</title>\n",
       "<path d=\"M228,-73.4551C228,-65.3828 228,-55.6764 228,-46.6817\" fill=\"none\" stroke=\"#000000\"/>\n",
       "<polygon fill=\"#000000\" points=\"231.5001,-46.5903 228,-36.5904 224.5001,-46.5904 231.5001,-46.5903\" stroke=\"#000000\"/>\n",
       "</g>\n",
       "</g>\n",
       "</svg>"
      ],
      "text/plain": [
       "<IPython.core.display.SVG object>"
      ]
     },
     "execution_count": 54,
     "metadata": {
      "tags": []
     },
     "output_type": "execute_result"
    }
   ],
   "source": [
    "from keras.utils import plot_model\n",
    "from IPython.display import SVG\n",
    "from keras.utils.vis_utils import model_to_dot\n",
    " \n",
    "plot_model(my_descriptor_model, to_file='my_descriptor_model.png', show_shapes=True, show_layer_names=True)\n",
    " \n",
    "SVG(model_to_dot(my_descriptor_model).create(prog='dot', format='svg'))"
   ]
  },
  {
   "cell_type": "code",
   "execution_count": 0,
   "metadata": {
    "colab": {
     "base_uri": "https://localhost:8080/",
     "height": 459
    },
    "colab_type": "code",
    "id": "7VO0NKA2BbIc",
    "outputId": "2e3c64c3-5007-4c41-ff6e-d62b97e91b7f"
   },
   "outputs": [
    {
     "name": "stdout",
     "output_type": "stream",
     "text": [
      "Epoch 1/1\n",
      "1999/2000 [============================>.] - ETA: 0s - loss: 0.1035"
     ]
    },
    {
     "name": "stderr",
     "output_type": "stream",
     "text": [
      "100%|██████████| 100000/100000 [00:02<00:00, 34327.70it/s]\n"
     ]
    },
    {
     "name": "stdout",
     "output_type": "stream",
     "text": [
      "\b\b\b\b\b\b\b\b\b\b\b\b\b\b\b\b\b\b\b\b\b\b\b\b\b\b\b\b\b\b\b\b\b\b\b\b\b\b\b\b\b\b\b\b\b\b\b\b\b\b\b\b\b\b\b\b\b\b\b\b\b\b\b\b\b\b\b\r",
      "2000/2000 [==============================] - 342s 171ms/step - loss: 0.1036 - val_loss: 0.1555\n"
     ]
    },
    {
     "name": "stderr",
     "output_type": "stream",
     "text": [
      "100%|██████████| 10000/10000 [00:00<00:00, 66609.03it/s]\n"
     ]
    },
    {
     "name": "stdout",
     "output_type": "stream",
     "text": [
      "Epoch 1/1\n",
      "1999/2000 [============================>.] - ETA: 0s - loss: 0.0992"
     ]
    },
    {
     "name": "stderr",
     "output_type": "stream",
     "text": [
      "100%|██████████| 100000/100000 [00:03<00:00, 33147.85it/s]\n"
     ]
    },
    {
     "name": "stdout",
     "output_type": "stream",
     "text": [
      "\b\b\b\b\b\b\b\b\b\b\b\b\b\b\b\b\b\b\b\b\b\b\b\b\b\b\b\b\b\b\b\b\b\b\b\b\b\b\b\b\b\b\b\b\b\b\b\b\b\b\b\b\b\b\b\b\b\b\b\b\b\b\b\b\b\b\b\r",
      "2000/2000 [==============================] - 342s 171ms/step - loss: 0.0992 - val_loss: 0.1510\n"
     ]
    },
    {
     "name": "stderr",
     "output_type": "stream",
     "text": [
      "100%|██████████| 10000/10000 [00:00<00:00, 67796.37it/s]\n"
     ]
    },
    {
     "name": "stdout",
     "output_type": "stream",
     "text": [
      "Epoch 1/1\n",
      "1999/2000 [============================>.] - ETA: 0s - loss: 0.0976"
     ]
    },
    {
     "name": "stderr",
     "output_type": "stream",
     "text": [
      "100%|██████████| 100000/100000 [00:02<00:00, 37631.12it/s]\n"
     ]
    },
    {
     "name": "stdout",
     "output_type": "stream",
     "text": [
      "\b\b\b\b\b\b\b\b\b\b\b\b\b\b\b\b\b\b\b\b\b\b\b\b\b\b\b\b\b\b\b\b\b\b\b\b\b\b\b\b\b\b\b\b\b\b\b\b\b\b\b\b\b\b\b\b\b\b\b\b\b\b\b\b\b\b\b\r",
      "2000/2000 [==============================] - 340s 170ms/step - loss: 0.0975 - val_loss: 0.1402\n"
     ]
    },
    {
     "name": "stderr",
     "output_type": "stream",
     "text": [
      "100%|██████████| 10000/10000 [00:00<00:00, 68198.62it/s]\n"
     ]
    },
    {
     "name": "stdout",
     "output_type": "stream",
     "text": [
      "Epoch 1/1\n",
      "1999/2000 [============================>.] - ETA: 0s - loss: 0.0978"
     ]
    },
    {
     "name": "stderr",
     "output_type": "stream",
     "text": [
      "100%|██████████| 100000/100000 [00:02<00:00, 35881.72it/s]\n"
     ]
    },
    {
     "name": "stdout",
     "output_type": "stream",
     "text": [
      "\b\b\b\b\b\b\b\b\b\b\b\b\b\b\b\b\b\b\b\b\b\b\b\b\b\b\b\b\b\b\b\b\b\b\b\b\b\b\b\b\b\b\b\b\b\b\b\b\b\b\b\b\b\b\b\b\b\b\b\b\b\b\b\b\b\b\b\r",
      "2000/2000 [==============================] - 332s 166ms/step - loss: 0.0978 - val_loss: 0.1297\n"
     ]
    },
    {
     "name": "stderr",
     "output_type": "stream",
     "text": [
      "100%|██████████| 10000/10000 [00:00<00:00, 62243.97it/s]\n"
     ]
    },
    {
     "name": "stdout",
     "output_type": "stream",
     "text": [
      "Epoch 1/1\n",
      "1999/2000 [============================>.] - ETA: 0s - loss: 0.0945"
     ]
    },
    {
     "name": "stderr",
     "output_type": "stream",
     "text": [
      "100%|██████████| 100000/100000 [00:02<00:00, 35903.06it/s]\n"
     ]
    },
    {
     "name": "stdout",
     "output_type": "stream",
     "text": [
      "\b\b\b\b\b\b\b\b\b\b\b\b\b\b\b\b\b\b\b\b\b\b\b\b\b\b\b\b\b\b\b\b\b\b\b\b\b\b\b\b\b\b\b\b\b\b\b\b\b\b\b\b\b\b\b\b\b\b\b\b\b\b\b\b\b\b\b\r",
      "2000/2000 [==============================] - 332s 166ms/step - loss: 0.0945 - val_loss: 0.1339\n"
     ]
    },
    {
     "name": "stderr",
     "output_type": "stream",
     "text": [
      "100%|██████████| 10000/10000 [00:00<00:00, 68962.35it/s]\n"
     ]
    },
    {
     "name": "stdout",
     "output_type": "stream",
     "text": [
      "Epoch 1/1\n",
      "1999/2000 [============================>.] - ETA: 0s - loss: 0.0939"
     ]
    },
    {
     "name": "stderr",
     "output_type": "stream",
     "text": [
      "100%|██████████| 100000/100000 [00:02<00:00, 36996.24it/s]\n"
     ]
    },
    {
     "name": "stdout",
     "output_type": "stream",
     "text": [
      "\b\b\b\b\b\b\b\b\b\b\b\b\b\b\b\b\b\b\b\b\b\b\b\b\b\b\b\b\b\b\b\b\b\b\b\b\b\b\b\b\b\b\b\b\b\b\b\b\b\b\b\b\b\b\b\b\b\b\b\b\b\b\b\b\b\b\b\r",
      "2000/2000 [==============================] - 331s 166ms/step - loss: 0.0939 - val_loss: 0.1243\n"
     ]
    },
    {
     "name": "stderr",
     "output_type": "stream",
     "text": [
      "100%|██████████| 10000/10000 [00:00<00:00, 68251.45it/s]\n"
     ]
    },
    {
     "name": "stdout",
     "output_type": "stream",
     "text": [
      "Epoch 1/1\n",
      "1473/2000 [=====================>........] - ETA: 1:27 - loss: 0.0924"
     ]
    }
   ],
   "source": [
    "epochs = 10\n",
    "for e in range(epochs):\n",
    "  descriptor_history = my_descriptor_model_trip.fit_generator(generator=training_generator, epochs=1, verbose=1, validation_data=val_generator)\n",
    "  ### Saves optimizer and weights\n",
    "  my_descriptor_model_trip.save(f'my_descriptor_{e+10}.h5')"
   ]
  },
  {
   "cell_type": "code",
   "execution_count": 0,
   "metadata": {
    "colab": {},
    "colab_type": "code",
    "id": "tnvr-_6qOIvW"
   },
   "outputs": [],
   "source": []
  },
  {
   "cell_type": "markdown",
   "metadata": {
    "colab_type": "text",
    "id": "U3BYm-UgS_am"
   },
   "source": [
    "## 8.2 HardNet V2"
   ]
  },
  {
   "cell_type": "code",
   "execution_count": 0,
   "metadata": {
    "colab": {},
    "colab_type": "code",
    "id": "FEBp3DZaTB9M"
   },
   "outputs": [],
   "source": [
    "from keras.layers import Conv2D, BatchNormalization, LeakyReLU, add, Input, Activation\n",
    "\n",
    "def get_my_descriptor_model(shape):\n",
    "  \n",
    "  '''Architecture copies HardNet architecture'''\n",
    "  \n",
    "  init_weights = keras.initializers.he_normal()\n",
    "  descriptor_input = Input(shape)\n",
    "  \n",
    "#   descriptor_model = Sequential()\n",
    "  descriptor_model = Conv2D(32, 3, padding='same', input_shape=shape, use_bias = True, kernel_initializer=init_weights)(descriptor_input)\n",
    "  descriptor_model = BatchNormalization(axis = -1)(descriptor_model)\n",
    "  descriptor_model = Activation('relu')(descriptor_model)\n",
    "\n",
    "  descriptor_model = Conv2D(32, 3, padding='same', use_bias = True, kernel_initializer=init_weights)(descriptor_model)\n",
    "  descriptor_model = BatchNormalization(axis = -1)(descriptor_model)\n",
    "  descriptor_model = Activation('relu')(descriptor_model)\n",
    "\n",
    "  descriptor_model = Conv2D(64, 3, padding='same', strides=2, use_bias = True, kernel_initializer=init_weights)(descriptor_model)\n",
    "  descriptor_model = BatchNormalization(axis = -1)(descriptor_model)\n",
    "  descriptor_model = Activation('relu')(descriptor_model)\n",
    "\n",
    "  descriptor_model = Conv2D(64, 3, padding='same', use_bias = True, kernel_initializer=init_weights)(descriptor_model)\n",
    "  descriptor_model = BatchNormalization(axis = -1)(descriptor_model)\n",
    "  descriptor_model = Activation('relu')(descriptor_model)\n",
    "\n",
    "  descriptor_model = Conv2D(128, 3, padding='same', strides=2,  use_bias = True, kernel_initializer=init_weights)(descriptor_model)\n",
    "  descriptor_model = BatchNormalization(axis = -1)(descriptor_model)\n",
    "  descriptor_model = Activation('relu')(descriptor_model)\n",
    "\n",
    "  descriptor_model = Conv2D(128, 3, padding='same', use_bias = True, kernel_initializer=init_weights)(descriptor_model)\n",
    "  descriptor_model = BatchNormalization(axis = -1)(descriptor_model)\n",
    "  descriptor_model = Activation('relu')(descriptor_model)\n",
    "  \n",
    "  descriptor_model = Conv2D(256, 3, padding='same', use_bias = True, kernel_initializer=init_weights)(descriptor_model)\n",
    "  descriptor_model = BatchNormalization(axis = -1)(descriptor_model)\n",
    "  descriptor_model = Activation('relu')(descriptor_model)\n",
    "  \n",
    "  descriptor_model = residual_block(descriptor_model, 256, 256)\n",
    "  \n",
    "  descriptor_model = Conv2D(512, 3, padding='same', use_bias = True, kernel_initializer=init_weights)(descriptor_model)\n",
    "  descriptor_model = BatchNormalization(axis = -1)(descriptor_model)\n",
    "  descriptor_model = Activation('relu')(descriptor_model)\n",
    "  \n",
    "  descriptor_model = residual_block(descriptor_model, 512, 512)\n",
    "  \n",
    "  descriptor_model = Conv2D(256, 3, padding='same', use_bias = True, kernel_initializer=init_weights)(descriptor_model)\n",
    "  descriptor_model = BatchNormalization(axis = -1)(descriptor_model)\n",
    "  descriptor_model = Activation('relu')(descriptor_model)\n",
    "  \n",
    "  descriptor_model = Dropout(0.3)(descriptor_model)\n",
    "  \n",
    "  descriptor_model = Conv2D(128, 8, padding='valid', use_bias = True, kernel_initializer=init_weights)(descriptor_model)\n",
    "  \n",
    "  # Final descriptor reshape\n",
    "  descriptor_model = Reshape((128,))(descriptor_model)\n",
    "  \n",
    "#   descriptor_model.output\n",
    "  \n",
    "  return Model(descriptor_input, descriptor_model)\n",
    "\n",
    "\n",
    "def residual_block(y, nb_channels_in, nb_channels_out, _strides=(1, 1), _project_shortcut=False):\n",
    "\n",
    "    shortcut = y\n",
    "\n",
    "    y = Conv2D(nb_channels_in, kernel_size=(1, 1), strides=(1, 1), padding='same')(y)\n",
    "    y = BatchNormalization()(y)\n",
    "    y = LeakyReLU()(y)\n",
    "\n",
    "    y = Conv2D(nb_channels_in, kernel_size=(3, 3), strides=_strides, padding='same')(y)\n",
    "    y = BatchNormalization()(y)\n",
    "    y = LeakyReLU()(y)\n",
    "\n",
    "    y = Conv2D(nb_channels_out, kernel_size=(1, 1), strides=(1, 1), padding='same')(y)\n",
    "    y = BatchNormalization()(y)\n",
    "\n",
    "    # identity shortcuts used directly when the input and output are of the same dimensions\n",
    "    if _project_shortcut or _strides != (1, 1):\n",
    "        # when the dimensions increase projection shortcut is used to match dimensions (done by 1×1 convolutions)\n",
    "        # when the shortcuts go across feature maps of two sizes, they are performed with a stride of 2\n",
    "        shortcut = Conv2D(nb_channels_out, kernel_size=(1, 1), strides=_strides, padding='same')(shortcut)\n",
    "        shortcut = BatchNormalization()(shortcut)\n",
    "\n",
    "    y = add([shortcut, y])\n",
    "    y = LeakyReLU()(y)\n",
    "\n",
    "    return y"
   ]
  },
  {
   "cell_type": "code",
   "execution_count": 0,
   "metadata": {
    "colab": {
     "base_uri": "https://localhost:8080/",
     "height": 1904
    },
    "colab_type": "code",
    "id": "X_GWdz_rTuEN",
    "outputId": "8fa48908-962e-40a5-f366-25a8af367656"
   },
   "outputs": [
    {
     "name": "stdout",
     "output_type": "stream",
     "text": [
      "__________________________________________________________________________________________________\n",
      "Layer (type)                    Output Shape         Param #     Connected to                     \n",
      "==================================================================================================\n",
      "input_2 (InputLayer)            (None, 32, 32, 1)    0                                            \n",
      "__________________________________________________________________________________________________\n",
      "conv2d_15 (Conv2D)              (None, 32, 32, 32)   320         input_2[0][0]                    \n",
      "__________________________________________________________________________________________________\n",
      "batch_normalization_1 (BatchNor (None, 32, 32, 32)   128         conv2d_15[0][0]                  \n",
      "__________________________________________________________________________________________________\n",
      "activation_1 (Activation)       (None, 32, 32, 32)   0           batch_normalization_1[0][0]      \n",
      "__________________________________________________________________________________________________\n",
      "conv2d_16 (Conv2D)              (None, 32, 32, 32)   9248        activation_1[0][0]               \n",
      "__________________________________________________________________________________________________\n",
      "batch_normalization_2 (BatchNor (None, 32, 32, 32)   128         conv2d_16[0][0]                  \n",
      "__________________________________________________________________________________________________\n",
      "activation_2 (Activation)       (None, 32, 32, 32)   0           batch_normalization_2[0][0]      \n",
      "__________________________________________________________________________________________________\n",
      "conv2d_17 (Conv2D)              (None, 16, 16, 64)   18496       activation_2[0][0]               \n",
      "__________________________________________________________________________________________________\n",
      "batch_normalization_3 (BatchNor (None, 16, 16, 64)   256         conv2d_17[0][0]                  \n",
      "__________________________________________________________________________________________________\n",
      "activation_3 (Activation)       (None, 16, 16, 64)   0           batch_normalization_3[0][0]      \n",
      "__________________________________________________________________________________________________\n",
      "conv2d_18 (Conv2D)              (None, 16, 16, 64)   36928       activation_3[0][0]               \n",
      "__________________________________________________________________________________________________\n",
      "batch_normalization_4 (BatchNor (None, 16, 16, 64)   256         conv2d_18[0][0]                  \n",
      "__________________________________________________________________________________________________\n",
      "activation_4 (Activation)       (None, 16, 16, 64)   0           batch_normalization_4[0][0]      \n",
      "__________________________________________________________________________________________________\n",
      "conv2d_19 (Conv2D)              (None, 8, 8, 128)    73856       activation_4[0][0]               \n",
      "__________________________________________________________________________________________________\n",
      "batch_normalization_5 (BatchNor (None, 8, 8, 128)    512         conv2d_19[0][0]                  \n",
      "__________________________________________________________________________________________________\n",
      "activation_5 (Activation)       (None, 8, 8, 128)    0           batch_normalization_5[0][0]      \n",
      "__________________________________________________________________________________________________\n",
      "conv2d_20 (Conv2D)              (None, 8, 8, 128)    147584      activation_5[0][0]               \n",
      "__________________________________________________________________________________________________\n",
      "batch_normalization_6 (BatchNor (None, 8, 8, 128)    512         conv2d_20[0][0]                  \n",
      "__________________________________________________________________________________________________\n",
      "activation_6 (Activation)       (None, 8, 8, 128)    0           batch_normalization_6[0][0]      \n",
      "__________________________________________________________________________________________________\n",
      "conv2d_21 (Conv2D)              (None, 8, 8, 256)    295168      activation_6[0][0]               \n",
      "__________________________________________________________________________________________________\n",
      "batch_normalization_7 (BatchNor (None, 8, 8, 256)    1024        conv2d_21[0][0]                  \n",
      "__________________________________________________________________________________________________\n",
      "activation_7 (Activation)       (None, 8, 8, 256)    0           batch_normalization_7[0][0]      \n",
      "__________________________________________________________________________________________________\n",
      "conv2d_22 (Conv2D)              (None, 8, 8, 256)    65792       activation_7[0][0]               \n",
      "__________________________________________________________________________________________________\n",
      "batch_normalization_8 (BatchNor (None, 8, 8, 256)    1024        conv2d_22[0][0]                  \n",
      "__________________________________________________________________________________________________\n",
      "leaky_re_lu_1 (LeakyReLU)       (None, 8, 8, 256)    0           batch_normalization_8[0][0]      \n",
      "__________________________________________________________________________________________________\n",
      "conv2d_23 (Conv2D)              (None, 8, 8, 256)    590080      leaky_re_lu_1[0][0]              \n",
      "__________________________________________________________________________________________________\n",
      "batch_normalization_9 (BatchNor (None, 8, 8, 256)    1024        conv2d_23[0][0]                  \n",
      "__________________________________________________________________________________________________\n",
      "leaky_re_lu_2 (LeakyReLU)       (None, 8, 8, 256)    0           batch_normalization_9[0][0]      \n",
      "__________________________________________________________________________________________________\n",
      "conv2d_24 (Conv2D)              (None, 8, 8, 256)    65792       leaky_re_lu_2[0][0]              \n",
      "__________________________________________________________________________________________________\n",
      "batch_normalization_10 (BatchNo (None, 8, 8, 256)    1024        conv2d_24[0][0]                  \n",
      "__________________________________________________________________________________________________\n",
      "add_1 (Add)                     (None, 8, 8, 256)    0           activation_7[0][0]               \n",
      "                                                                 batch_normalization_10[0][0]     \n",
      "__________________________________________________________________________________________________\n",
      "leaky_re_lu_3 (LeakyReLU)       (None, 8, 8, 256)    0           add_1[0][0]                      \n",
      "__________________________________________________________________________________________________\n",
      "conv2d_25 (Conv2D)              (None, 8, 8, 512)    1180160     leaky_re_lu_3[0][0]              \n",
      "__________________________________________________________________________________________________\n",
      "batch_normalization_11 (BatchNo (None, 8, 8, 512)    2048        conv2d_25[0][0]                  \n",
      "__________________________________________________________________________________________________\n",
      "activation_8 (Activation)       (None, 8, 8, 512)    0           batch_normalization_11[0][0]     \n",
      "__________________________________________________________________________________________________\n",
      "conv2d_26 (Conv2D)              (None, 8, 8, 512)    262656      activation_8[0][0]               \n",
      "__________________________________________________________________________________________________\n",
      "batch_normalization_12 (BatchNo (None, 8, 8, 512)    2048        conv2d_26[0][0]                  \n",
      "__________________________________________________________________________________________________\n",
      "leaky_re_lu_4 (LeakyReLU)       (None, 8, 8, 512)    0           batch_normalization_12[0][0]     \n",
      "__________________________________________________________________________________________________\n",
      "conv2d_27 (Conv2D)              (None, 8, 8, 512)    2359808     leaky_re_lu_4[0][0]              \n",
      "__________________________________________________________________________________________________\n",
      "batch_normalization_13 (BatchNo (None, 8, 8, 512)    2048        conv2d_27[0][0]                  \n",
      "__________________________________________________________________________________________________\n",
      "leaky_re_lu_5 (LeakyReLU)       (None, 8, 8, 512)    0           batch_normalization_13[0][0]     \n",
      "__________________________________________________________________________________________________\n",
      "conv2d_28 (Conv2D)              (None, 8, 8, 512)    262656      leaky_re_lu_5[0][0]              \n",
      "__________________________________________________________________________________________________\n",
      "batch_normalization_14 (BatchNo (None, 8, 8, 512)    2048        conv2d_28[0][0]                  \n",
      "__________________________________________________________________________________________________\n",
      "add_2 (Add)                     (None, 8, 8, 512)    0           activation_8[0][0]               \n",
      "                                                                 batch_normalization_14[0][0]     \n",
      "__________________________________________________________________________________________________\n",
      "leaky_re_lu_6 (LeakyReLU)       (None, 8, 8, 512)    0           add_2[0][0]                      \n",
      "__________________________________________________________________________________________________\n",
      "conv2d_29 (Conv2D)              (None, 8, 8, 256)    1179904     leaky_re_lu_6[0][0]              \n",
      "__________________________________________________________________________________________________\n",
      "batch_normalization_15 (BatchNo (None, 8, 8, 256)    1024        conv2d_29[0][0]                  \n",
      "__________________________________________________________________________________________________\n",
      "activation_9 (Activation)       (None, 8, 8, 256)    0           batch_normalization_15[0][0]     \n",
      "__________________________________________________________________________________________________\n",
      "dropout_3 (Dropout)             (None, 8, 8, 256)    0           activation_9[0][0]               \n",
      "__________________________________________________________________________________________________\n",
      "conv2d_30 (Conv2D)              (None, 1, 1, 128)    2097280     dropout_3[0][0]                  \n",
      "__________________________________________________________________________________________________\n",
      "reshape_1 (Reshape)             (None, 128)          0           conv2d_30[0][0]                  \n",
      "==================================================================================================\n",
      "Total params: 8,660,832\n",
      "Trainable params: 8,653,280\n",
      "Non-trainable params: 7,552\n",
      "__________________________________________________________________________________________________\n"
     ]
    }
   ],
   "source": [
    "from keras.layers import Lambda\n",
    "shape = (32, 32, 1)\n",
    "\n",
    "xa = Input(shape=shape, name='a')\n",
    "xp = Input(shape=shape, name='p')\n",
    "xn = Input(shape=shape, name='n')\n",
    "my_descriptor_model = get_my_descriptor_model(shape)\n",
    "ea = my_descriptor_model(xa)\n",
    "ep = my_descriptor_model(xp)\n",
    "en = my_descriptor_model(xn)\n",
    "my_descriptor_model.summary()\n",
    "loss = Lambda(triplet_loss)([ea, ep, en])\n",
    "\n",
    "\n",
    "my_descriptor_model_trip = Model(inputs = [xa, xp, xn], outputs = loss)\n",
    "# sgd = keras.optimizers.SGD(lr = 0.1)\n",
    "my_descriptor_model_trip.compile(loss='mean_absolute_error', optimizer='adam')"
   ]
  },
  {
   "cell_type": "code",
   "execution_count": 0,
   "metadata": {
    "colab": {
     "base_uri": "https://localhost:8080/",
     "height": 663
    },
    "colab_type": "code",
    "id": "tlELp-hsacNb",
    "outputId": "f32d8d73-f5e7-4570-d3f7-3c2c439c6836"
   },
   "outputs": [
    {
     "name": "stdout",
     "output_type": "stream",
     "text": [
      "Epoch 1/1\n",
      "1999/2000 [============================>.] - ETA: 0s - loss: 0.1016"
     ]
    },
    {
     "name": "stderr",
     "output_type": "stream",
     "text": [
      "100%|██████████| 100000/100000 [00:02<00:00, 38295.05it/s]\n"
     ]
    },
    {
     "name": "stdout",
     "output_type": "stream",
     "text": [
      "\b\b\b\b\b\b\b\b\b\b\b\b\b\b\b\b\b\b\b\b\b\b\b\b\b\b\b\b\b\b\b\b\b\b\b\b\b\b\b\b\b\b\b\b\b\b\b\b\b\b\b\b\b\b\b\b\b\b\b\b\b\b\b\b\b\b\b\r",
      "2000/2000 [==============================] - 594s 297ms/step - loss: 0.1015 - val_loss: 0.1604\n"
     ]
    },
    {
     "name": "stderr",
     "output_type": "stream",
     "text": [
      "100%|██████████| 10000/10000 [00:00<00:00, 70720.59it/s]\n"
     ]
    },
    {
     "name": "stdout",
     "output_type": "stream",
     "text": [
      "Epoch 1/1\n",
      "1999/2000 [============================>.] - ETA: 0s - loss: 0.0968"
     ]
    },
    {
     "name": "stderr",
     "output_type": "stream",
     "text": [
      "100%|██████████| 100000/100000 [00:02<00:00, 37123.02it/s]\n"
     ]
    },
    {
     "name": "stdout",
     "output_type": "stream",
     "text": [
      "\b\b\b\b\b\b\b\b\b\b\b\b\b\b\b\b\b\b\b\b\b\b\b\b\b\b\b\b\b\b\b\b\b\b\b\b\b\b\b\b\b\b\b\b\b\b\b\b\b\b\b\b\b\b\b\b\b\b\b\b\b\b\b\b\b\b\b\r",
      "2000/2000 [==============================] - 595s 297ms/step - loss: 0.0967 - val_loss: 0.1492\n"
     ]
    },
    {
     "name": "stderr",
     "output_type": "stream",
     "text": [
      "100%|██████████| 10000/10000 [00:00<00:00, 24766.85it/s]\n"
     ]
    },
    {
     "name": "stdout",
     "output_type": "stream",
     "text": [
      "Epoch 1/1\n",
      "1999/2000 [============================>.] - ETA: 0s - loss: 0.0955"
     ]
    },
    {
     "name": "stderr",
     "output_type": "stream",
     "text": [
      "100%|██████████| 100000/100000 [00:02<00:00, 36491.05it/s]\n"
     ]
    },
    {
     "name": "stdout",
     "output_type": "stream",
     "text": [
      "\b\b\b\b\b\b\b\b\b\b\b\b\b\b\b\b\b\b\b\b\b\b\b\b\b\b\b\b\b\b\b\b\b\b\b\b\b\b\b\b\b\b\b\b\b\b\b\b\b\b\b\b\b\b\b\b\b\b\b\b\b\b\b\b\b\b\b\r",
      "2000/2000 [==============================] - 595s 297ms/step - loss: 0.0955 - val_loss: 0.1556\n"
     ]
    },
    {
     "name": "stderr",
     "output_type": "stream",
     "text": [
      "100%|██████████| 10000/10000 [00:00<00:00, 75387.63it/s]\n"
     ]
    },
    {
     "name": "stdout",
     "output_type": "stream",
     "text": [
      "Epoch 1/1\n",
      "1999/2000 [============================>.] - ETA: 0s - loss: 0.0889"
     ]
    },
    {
     "name": "stderr",
     "output_type": "stream",
     "text": [
      "100%|██████████| 100000/100000 [00:02<00:00, 39130.91it/s]\n"
     ]
    },
    {
     "name": "stdout",
     "output_type": "stream",
     "text": [
      "\b\b\b\b\b\b\b\b\b\b\b\b\b\b\b\b\b\b\b\b\b\b\b\b\b\b\b\b\b\b\b\b\b\b\b\b\b\b\b\b\b\b\b\b\b\b\b\b\b\b\b\b\b\b\b\b\b\b\b\b\b\b\b\b\b\b\b\r",
      "2000/2000 [==============================] - 596s 298ms/step - loss: 0.0889 - val_loss: 0.1559\n"
     ]
    },
    {
     "name": "stderr",
     "output_type": "stream",
     "text": [
      "100%|██████████| 10000/10000 [00:00<00:00, 74679.32it/s]\n"
     ]
    },
    {
     "name": "stdout",
     "output_type": "stream",
     "text": [
      "Epoch 1/1\n",
      "1999/2000 [============================>.] - ETA: 0s - loss: 0.0859"
     ]
    },
    {
     "name": "stderr",
     "output_type": "stream",
     "text": [
      "100%|██████████| 100000/100000 [00:02<00:00, 38134.42it/s]\n"
     ]
    },
    {
     "name": "stdout",
     "output_type": "stream",
     "text": [
      "\b\b\b\b\b\b\b\b\b\b\b\b\b\b\b\b\b\b\b\b\b\b\b\b\b\b\b\b\b\b\b\b\b\b\b\b\b\b\b\b\b\b\b\b\b\b\b\b\b\b\b\b\b\b\b\b\b\b\b\b\b\b\b\b\b\b\b\r",
      "2000/2000 [==============================] - 597s 299ms/step - loss: 0.0859 - val_loss: 0.1529\n"
     ]
    },
    {
     "name": "stderr",
     "output_type": "stream",
     "text": [
      "100%|██████████| 10000/10000 [00:00<00:00, 72604.63it/s]\n"
     ]
    },
    {
     "name": "stdout",
     "output_type": "stream",
     "text": [
      "Epoch 1/1\n",
      "1999/2000 [============================>.] - ETA: 0s - loss: 0.0846"
     ]
    },
    {
     "name": "stderr",
     "output_type": "stream",
     "text": [
      "100%|██████████| 100000/100000 [00:02<00:00, 39444.43it/s]\n"
     ]
    },
    {
     "name": "stdout",
     "output_type": "stream",
     "text": [
      "\b\b\b\b\b\b\b\b\b\b\b\b\b\b\b\b\b\b\b\b\b\b\b\b\b\b\b\b\b\b\b\b\b\b\b\b\b\b\b\b\b\b\b\b\b\b\b\b\b\b\b\b\b\b\b\b\b\b\b\b\b\b\b\b\b\b\b\r",
      "2000/2000 [==============================] - 596s 298ms/step - loss: 0.0846 - val_loss: 0.2176\n"
     ]
    },
    {
     "name": "stderr",
     "output_type": "stream",
     "text": [
      "100%|██████████| 10000/10000 [00:00<00:00, 72597.34it/s]\n"
     ]
    },
    {
     "name": "stdout",
     "output_type": "stream",
     "text": [
      "Epoch 1/1\n",
      "1999/2000 [============================>.] - ETA: 0s - loss: 0.0869"
     ]
    },
    {
     "name": "stderr",
     "output_type": "stream",
     "text": [
      "100%|██████████| 100000/100000 [00:02<00:00, 36641.33it/s]\n"
     ]
    },
    {
     "name": "stdout",
     "output_type": "stream",
     "text": [
      "\b\b\b\b\b\b\b\b\b\b\b\b\b\b\b\b\b\b\b\b\b\b\b\b\b\b\b\b\b\b\b\b\b\b\b\b\b\b\b\b\b\b\b\b\b\b\b\b\b\b\b\b\b\b\b\b\b\b\b\b\b\b\b\b\b\b\b\r",
      "2000/2000 [==============================] - 596s 298ms/step - loss: 0.0869 - val_loss: 0.1657\n"
     ]
    },
    {
     "name": "stderr",
     "output_type": "stream",
     "text": [
      "100%|██████████| 10000/10000 [00:00<00:00, 72468.64it/s]\n"
     ]
    },
    {
     "name": "stdout",
     "output_type": "stream",
     "text": [
      "Epoch 1/1\n",
      "1999/2000 [============================>.] - ETA: 0s - loss: 0.0810"
     ]
    },
    {
     "name": "stderr",
     "output_type": "stream",
     "text": [
      "100%|██████████| 100000/100000 [00:02<00:00, 36595.91it/s]\n"
     ]
    },
    {
     "name": "stdout",
     "output_type": "stream",
     "text": [
      "\b\b\b\b\b\b\b\b\b\b\b\b\b\b\b\b\b\b\b\b\b\b\b\b\b\b\b\b\b\b\b\b\b\b\b\b\b\b\b\b\b\b\b\b\b\b\b\b\b\b\b\b\b\b\b\b\b\b\b\b\b\b\b\b\b\b\b\r",
      "2000/2000 [==============================] - 596s 298ms/step - loss: 0.0810 - val_loss: 0.1772\n"
     ]
    },
    {
     "name": "stderr",
     "output_type": "stream",
     "text": [
      "100%|██████████| 10000/10000 [00:00<00:00, 73028.37it/s]\n"
     ]
    },
    {
     "name": "stdout",
     "output_type": "stream",
     "text": [
      "Epoch 1/1\n",
      "1999/2000 [============================>.] - ETA: 0s - loss: 0.0774"
     ]
    },
    {
     "name": "stderr",
     "output_type": "stream",
     "text": [
      "100%|██████████| 100000/100000 [00:02<00:00, 40107.94it/s]\n"
     ]
    },
    {
     "name": "stdout",
     "output_type": "stream",
     "text": [
      "\b\b\b\b\b\b\b\b\b\b\b\b\b\b\b\b\b\b\b\b\b\b\b\b\b\b\b\b\b\b\b\b\b\b\b\b\b\b\b\b\b\b\b\b\b\b\b\b\b\b\b\b\b\b\b\b\b\b\b\b\b\b\b\b\b\b\b\r",
      "2000/2000 [==============================] - 596s 298ms/step - loss: 0.0774 - val_loss: 0.1426\n"
     ]
    },
    {
     "name": "stderr",
     "output_type": "stream",
     "text": [
      "100%|██████████| 10000/10000 [00:00<00:00, 72921.08it/s]\n"
     ]
    },
    {
     "name": "stdout",
     "output_type": "stream",
     "text": [
      "Epoch 1/1\n",
      "1118/2000 [===============>..............] - ETA: 4:14 - loss: 0.0835"
     ]
    }
   ],
   "source": [
    "epochs = 10\n",
    "for e in range(epochs):\n",
    "  descriptor_history = my_descriptor_model_trip.fit_generator(generator=training_generator, epochs=1, verbose=1, validation_data=val_generator)\n",
    "  ### Saves optimizer and weights\n",
    "  my_descriptor_model_trip.save(f'my_descriptor_v2_{e+10}.h5')"
   ]
  },
  {
   "cell_type": "markdown",
   "metadata": {
    "colab_type": "text",
    "id": "tgsABTDzR7kl"
   },
   "source": [
    "## 8.3 HardNet V3"
   ]
  },
  {
   "cell_type": "code",
   "execution_count": 0,
   "metadata": {
    "colab": {},
    "colab_type": "code",
    "id": "mV_oGeWhR67l"
   },
   "outputs": [],
   "source": [
    "from keras.layers import Conv2D, BatchNormalization, LeakyReLU, add, Input, Activation, Flatten\n",
    "\n",
    "def get_my_descriptor_model(shape):\n",
    "  \n",
    "  '''Architecture copies HardNet architecture'''\n",
    "  \n",
    "  init_weights = keras.initializers.he_normal()\n",
    "  descriptor_input = Input(shape)\n",
    "  \n",
    "#   descriptor_model = Sequential()\n",
    "  descriptor_model = Conv2D(32, 3, padding='same', input_shape=shape, use_bias = True, kernel_initializer=init_weights)(descriptor_input)\n",
    "  descriptor_model = BatchNormalization(axis = -1)(descriptor_model)\n",
    "  descriptor_model = Activation('relu')(descriptor_model)\n",
    "\n",
    "  descriptor_model = Conv2D(32, 3, padding='same', use_bias = True, kernel_initializer=init_weights)(descriptor_model)\n",
    "  descriptor_model = BatchNormalization(axis = -1)(descriptor_model)\n",
    "  descriptor_model = Activation('relu')(descriptor_model)\n",
    "\n",
    "  descriptor_model = Conv2D(64, 3, padding='same', strides=2, use_bias = True, kernel_initializer=init_weights)(descriptor_model)\n",
    "  descriptor_model = BatchNormalization(axis = -1)(descriptor_model)\n",
    "  descriptor_model = Activation('relu')(descriptor_model)\n",
    "\n",
    "  descriptor_model = Conv2D(64, 3, padding='same', use_bias = True, kernel_initializer=init_weights)(descriptor_model)\n",
    "  descriptor_model = BatchNormalization(axis = -1)(descriptor_model)\n",
    "  descriptor_model = Activation('relu')(descriptor_model)\n",
    "\n",
    "  descriptor_model = Conv2D(128, 3, padding='same', strides=2,  use_bias = True, kernel_initializer=init_weights)(descriptor_model)\n",
    "  descriptor_model = BatchNormalization(axis = -1)(descriptor_model)\n",
    "  descriptor_model = Activation('relu')(descriptor_model)\n",
    "\n",
    "  descriptor_model = Conv2D(128, 3, padding='same', use_bias = True, kernel_initializer=init_weights)(descriptor_model)\n",
    "  descriptor_model = BatchNormalization(axis = -1)(descriptor_model)\n",
    "  descriptor_model = Activation('relu')(descriptor_model)\n",
    "  \n",
    "  descriptor_model = Conv2D(256, 3, padding='same', use_bias = True, kernel_initializer=init_weights)(descriptor_model)\n",
    "  descriptor_model = BatchNormalization(axis = -1)(descriptor_model)\n",
    "  descriptor_model = Activation('relu')(descriptor_model)\n",
    "  \n",
    "  descriptor_model = residual_block(descriptor_model, 256, 256)\n",
    "  \n",
    "  descriptor_model = Conv2D(512, 3, padding='same', use_bias = True, kernel_initializer=init_weights)(descriptor_model)\n",
    "  descriptor_model = BatchNormalization(axis = -1)(descriptor_model)\n",
    "  descriptor_model = Activation('relu')(descriptor_model)\n",
    "  \n",
    "  descriptor_model = residual_block(descriptor_model, 512, 512)\n",
    "  \n",
    "  #descriptor_model = Conv2D(256, 3, padding='same', use_bias = True, kernel_initializer=init_weights)(descriptor_model)\n",
    "  #descriptor_model = BatchNormalization(axis = -1)(descriptor_model)\n",
    "  #descriptor_model = Activation('relu')(descriptor_model)\n",
    "  # Passing to fully connected layer\n",
    "  descriptor_model = Flatten()(descriptor_model)\n",
    "  \n",
    "  descriptor_model = Dense()\n",
    "  # Drop out to prevent overfitting\n",
    "  descriptor_model = Dropout(0.3)(descriptor_model)\n",
    "  \n",
    "#   descriptor_model = Conv2D(128, 8, padding='valid', use_bias = True, kernel_initializer=init_weights)(descriptor_model)\n",
    "  \n",
    "  # Final descriptor reshape\n",
    "  descriptor_model = Reshape((128,))(descriptor_model)\n",
    "  \n",
    "#   descriptor_model.output\n",
    "  \n",
    "  return Model(descriptor_input, descriptor_model)\n",
    "\n",
    "\n",
    "def residual_block(y, nb_channels_in, nb_channels_out, _strides=(1, 1), _project_shortcut=False):\n",
    "\n",
    "    shortcut = y\n",
    "\n",
    "    y = Conv2D(nb_channels_in, kernel_size=(1, 1), strides=(1, 1), padding='same')(y)\n",
    "    y = BatchNormalization()(y)\n",
    "    y = LeakyReLU()(y)\n",
    "\n",
    "    y = Conv2D(nb_channels_in, kernel_size=(3, 3), strides=_strides, padding='same')(y)\n",
    "    y = BatchNormalization()(y)\n",
    "    y = LeakyReLU()(y)\n",
    "\n",
    "    y = Conv2D(nb_channels_out, kernel_size=(1, 1), strides=(1, 1), padding='same')(y)\n",
    "    y = BatchNormalization()(y)\n",
    "\n",
    "    # identity shortcuts used directly when the input and output are of the same dimensions\n",
    "    if _project_shortcut or _strides != (1, 1):\n",
    "        # when the dimensions increase projection shortcut is used to match dimensions (done by 1×1 convolutions)\n",
    "        # when the shortcuts go across feature maps of two sizes, they are performed with a stride of 2\n",
    "        shortcut = Conv2D(nb_channels_out, kernel_size=(1, 1), strides=_strides, padding='same')(shortcut)\n",
    "        shortcut = BatchNormalization()(shortcut)\n",
    "\n",
    "    y = add([shortcut, y])\n",
    "    y = LeakyReLU()(y)\n",
    "\n",
    "    return y"
   ]
  }
 ],
 "metadata": {
  "accelerator": "GPU",
  "colab": {
   "collapsed_sections": [],
   "name": "For Report.ipynb",
   "provenance": [],
   "toc_visible": true,
   "version": "0.3.2"
  },
  "kernelspec": {
   "display_name": "Python 3",
   "language": "python",
   "name": "python3"
  },
  "language_info": {
   "codemirror_mode": {
    "name": "ipython",
    "version": 3
   },
   "file_extension": ".py",
   "mimetype": "text/x-python",
   "name": "python",
   "nbconvert_exporter": "python",
   "pygments_lexer": "ipython3",
   "version": "3.7.2"
  }
 },
 "nbformat": 4,
 "nbformat_minor": 1
}
